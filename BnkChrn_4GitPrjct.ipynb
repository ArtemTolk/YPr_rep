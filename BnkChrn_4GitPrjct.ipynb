{
 "cells": [
  {
   "cell_type": "markdown",
   "metadata": {
    "toc": true
   },
   "source": [
    "<h1>Содержание<span class=\"tocSkip\"></span></h1>\n",
    "<div class=\"toc\"><ul class=\"toc-item\"><li><ul class=\"toc-item\"><li><span><a href=\"#Общее-впечатление\" data-toc-modified-id=\"Общее-впечатление-0.1\"><span class=\"toc-item-num\">0.1&nbsp;&nbsp;</span><font color=\"orange\">Общее впечатление</font></a></span></li><li><span><a href=\"#Общее-впечатление-(ревью-2)\" data-toc-modified-id=\"Общее-впечатление-(ревью-2)-0.2\"><span class=\"toc-item-num\">0.2&nbsp;&nbsp;</span><font color=\"orange\">Общее впечатление (ревью 2)</font></a></span></li></ul></li><li><span><a href=\"#Подготовка-данных\" data-toc-modified-id=\"Подготовка-данных-1\"><span class=\"toc-item-num\">1&nbsp;&nbsp;</span>Подготовка данных</a></span><ul class=\"toc-item\"><li><span><a href=\"#Импорт-библиотек,-установка-параметров\" data-toc-modified-id=\"Импорт-библиотек,-установка-параметров-1.1\"><span class=\"toc-item-num\">1.1&nbsp;&nbsp;</span>Импорт библиотек, установка параметров</a></span></li><li><span><a href=\"#Чтение-данных,-перевод-строковых-в-числовые\" data-toc-modified-id=\"Чтение-данных,-перевод-строковых-в-числовые-1.2\"><span class=\"toc-item-num\">1.2&nbsp;&nbsp;</span>Чтение данных, перевод строковых в числовые</a></span></li><li><span><a href=\"#Восстановление-пропусков\" data-toc-modified-id=\"Восстановление-пропусков-1.3\"><span class=\"toc-item-num\">1.3&nbsp;&nbsp;</span>Восстановление пропусков</a></span></li><li><span><a href=\"#Масштабирование-признаков\" data-toc-modified-id=\"Масштабирование-признаков-1.4\"><span class=\"toc-item-num\">1.4&nbsp;&nbsp;</span>Масштабирование признаков</a></span></li><li><span><a href=\"#Вывод\" data-toc-modified-id=\"Вывод-1.5\"><span class=\"toc-item-num\">1.5&nbsp;&nbsp;</span>Вывод</a></span></li></ul></li><li><span><a href=\"#Исследование-задачи\" data-toc-modified-id=\"Исследование-задачи-2\"><span class=\"toc-item-num\">2&nbsp;&nbsp;</span>Исследование задачи</a></span><ul class=\"toc-item\"><li><span><a href=\"#Баланс-классов\" data-toc-modified-id=\"Баланс-классов-2.1\"><span class=\"toc-item-num\">2.1&nbsp;&nbsp;</span>Баланс классов</a></span></li><li><span><a href=\"#Исследование-моделей\" data-toc-modified-id=\"Исследование-моделей-2.2\"><span class=\"toc-item-num\">2.2&nbsp;&nbsp;</span>Исследование моделей</a></span></li><li><span><a href=\"#Вывод\" data-toc-modified-id=\"Вывод-2.3\"><span class=\"toc-item-num\">2.3&nbsp;&nbsp;</span>Вывод</a></span></li></ul></li><li><span><a href=\"#Борьба-с-дисбалансом\" data-toc-modified-id=\"Борьба-с-дисбалансом-3\"><span class=\"toc-item-num\">3&nbsp;&nbsp;</span>Борьба с дисбалансом</a></span><ul class=\"toc-item\"><li><span><a href=\"#Взвешивание-классов\" data-toc-modified-id=\"Взвешивание-классов-3.1\"><span class=\"toc-item-num\">3.1&nbsp;&nbsp;</span>Взвешивание классов</a></span></li><li><span><a href=\"#Upsampling-/-Downsampling\" data-toc-modified-id=\"Upsampling-/-Downsampling-3.2\"><span class=\"toc-item-num\">3.2&nbsp;&nbsp;</span>Upsampling / Downsampling</a></span></li><li><span><a href=\"#Вывод\" data-toc-modified-id=\"Вывод-3.3\"><span class=\"toc-item-num\">3.3&nbsp;&nbsp;</span>Вывод</a></span></li></ul></li><li><span><a href=\"#Тестирование-модели\" data-toc-modified-id=\"Тестирование-модели-4\"><span class=\"toc-item-num\">4&nbsp;&nbsp;</span>Тестирование модели</a></span><ul class=\"toc-item\"><li><span><a href=\"#Вывод\" data-toc-modified-id=\"Вывод-4.1\"><span class=\"toc-item-num\">4.1&nbsp;&nbsp;</span>Вывод</a></span></li></ul></li><li><span><a href=\"#Чек-лист-готовности-проекта\" data-toc-modified-id=\"Чек-лист-готовности-проекта-5\"><span class=\"toc-item-num\">5&nbsp;&nbsp;</span>Чек-лист готовности проекта</a></span></li></ul></div>"
   ]
  },
  {
   "cell_type": "markdown",
   "metadata": {},
   "source": [
    "<div class=\"alert alert-warning\">\n",
    "<b>⚠️ ВНИМАНИЕ! </b> \n",
    "Может потребоваться обновление seaborn + перезапуск ядра (для обновления см. след. строку, закомментировано)\n",
    "</div>"
   ]
  },
  {
   "cell_type": "code",
   "execution_count": 153,
   "metadata": {},
   "outputs": [],
   "source": [
    "#!pip install seaborn --upgrade"
   ]
  },
  {
   "cell_type": "markdown",
   "metadata": {},
   "source": [
    "<div class=\"alert alert-warning\">\n",
    "<b>⚠️ ВНИМАНИЕ! </b> \n",
    "Время работы GridSearchCV в разделе 4 составляет Wall time: 2min 6s\n",
    "</div>\n",
    "\n"
   ]
  },
  {
   "cell_type": "markdown",
   "metadata": {},
   "source": [
    "# Отток клиентов"
   ]
  },
  {
   "cell_type": "markdown",
   "metadata": {},
   "source": [
    "**Описание задачи**\n",
    "\n",
    "Из «Бета-Банка» стали уходить клиенты. Каждый месяц. Немного, но заметно. Банковские маркетологи посчитали: сохранять текущих клиентов дешевле, чем привлекать новых.\n",
    "\n",
    "Нужно спрогнозировать, уйдёт клиент из банка в ближайшее время или нет. Вам предоставлены исторические данные о поведении клиентов и расторжении договоров с банком. \n",
    "\n",
    "Необходимо построить модель классификации с предельно большим значением *F1*-меры. Чтобы сдать проект успешно, нужно довести метрику до 0.59. Проверить *F1*-меру необходимо на тестовой выборке самостоятельно.\n",
    "\n",
    "Дополнительно измеряйте *AUC-ROC*, сравнивайте её значение с *F1*-мерой.\n",
    "\n",
    "Источник данных: [https://www.kaggle.com/barelydedicated/bank-customer-churn-modeling](https://www.kaggle.com/barelydedicated/bank-customer-churn-modeling)"
   ]
  },
  {
   "cell_type": "markdown",
   "metadata": {},
   "source": [
    "## Подготовка данных"
   ]
  },
  {
   "cell_type": "markdown",
   "metadata": {},
   "source": [
    "### Импорт библиотек, установка параметров"
   ]
  },
  {
   "cell_type": "code",
   "execution_count": 154,
   "metadata": {},
   "outputs": [],
   "source": [
    "import pandas as pd\n",
    "import matplotlib.pyplot as plt\n",
    "import matplotlib.ticker as ticker\n",
    "import seaborn as sns\n",
    "from math import ceil\n",
    "\n",
    "from sklearn.experimental import enable_iterative_imputer\n",
    "from sklearn.impute import IterativeImputer\n",
    "from sklearn.linear_model import BayesianRidge\n",
    "\n",
    "from sklearn.preprocessing import StandardScaler\n",
    "\n",
    "from sklearn.neighbors import KNeighborsClassifier\n",
    "from sklearn.tree import DecisionTreeClassifier\n",
    "from sklearn.linear_model import LogisticRegression\n",
    "from sklearn.ensemble import RandomForestClassifier\n",
    "from sklearn.linear_model import SGDClassifier          # добавлено\n",
    "\n",
    "from sklearn.model_selection import train_test_split\n",
    "from sklearn.model_selection import KFold\n",
    "from sklearn.model_selection import cross_val_score\n",
    "from sklearn.model_selection import GridSearchCV\n",
    "\n",
    "from sklearn.metrics import f1_score\n",
    "from sklearn.metrics import roc_auc_score\n",
    "from sklearn.metrics import SCORERS\n",
    "from sklearn.metrics import roc_curve\n",
    "\n",
    "from sklearn.utils import shuffle\n",
    "\n",
    "import warnings     # добавлено"
   ]
  },
  {
   "cell_type": "markdown",
   "metadata": {},
   "source": [
    "устанавливаем параметры отображения данных `float` (4 знака в дробной части), отключение предупреждения `SettingWithCopy`, задаем стиль графики для `seaborn`"
   ]
  },
  {
   "cell_type": "code",
   "execution_count": 155,
   "metadata": {},
   "outputs": [],
   "source": [
    "pd.set_option('display.float_format', '{:.4f}'.format)\n",
    "pd.options.mode.chained_assignment = None\n",
    "sns.set_theme(style='darkgrid')\n",
    "warnings.filterwarnings(\"ignore\")          # добавлено"
   ]
  },
  {
   "cell_type": "markdown",
   "metadata": {},
   "source": [
    "зададим константное random_state для использования в проекте"
   ]
  },
  {
   "cell_type": "code",
   "execution_count": 156,
   "metadata": {},
   "outputs": [],
   "source": [
    "RND_ST = 7777"
   ]
  },
  {
   "cell_type": "markdown",
   "metadata": {},
   "source": [
    "### Чтение данных, перевод строковых в числовые"
   ]
  },
  {
   "cell_type": "markdown",
   "metadata": {},
   "source": [
    "Сохраняем данные в переменную, выводим случайные 7 строк:"
   ]
  },
  {
   "cell_type": "code",
   "execution_count": 157,
   "metadata": {},
   "outputs": [
    {
     "data": {
      "text/html": [
       "<div>\n",
       "<style scoped>\n",
       "    .dataframe tbody tr th:only-of-type {\n",
       "        vertical-align: middle;\n",
       "    }\n",
       "\n",
       "    .dataframe tbody tr th {\n",
       "        vertical-align: top;\n",
       "    }\n",
       "\n",
       "    .dataframe thead th {\n",
       "        text-align: right;\n",
       "    }\n",
       "</style>\n",
       "<table border=\"1\" class=\"dataframe\">\n",
       "  <thead>\n",
       "    <tr style=\"text-align: right;\">\n",
       "      <th></th>\n",
       "      <th>RowNumber</th>\n",
       "      <th>CustomerId</th>\n",
       "      <th>Surname</th>\n",
       "      <th>CreditScore</th>\n",
       "      <th>Geography</th>\n",
       "      <th>Gender</th>\n",
       "      <th>Age</th>\n",
       "      <th>Tenure</th>\n",
       "      <th>Balance</th>\n",
       "      <th>NumOfProducts</th>\n",
       "      <th>HasCrCard</th>\n",
       "      <th>IsActiveMember</th>\n",
       "      <th>EstimatedSalary</th>\n",
       "      <th>Exited</th>\n",
       "    </tr>\n",
       "  </thead>\n",
       "  <tbody>\n",
       "    <tr>\n",
       "      <td>5481</td>\n",
       "      <td>5482</td>\n",
       "      <td>15606397</td>\n",
       "      <td>Cameron</td>\n",
       "      <td>577</td>\n",
       "      <td>Germany</td>\n",
       "      <td>Female</td>\n",
       "      <td>44</td>\n",
       "      <td>1.0000</td>\n",
       "      <td>152086.1500</td>\n",
       "      <td>1</td>\n",
       "      <td>0</td>\n",
       "      <td>1</td>\n",
       "      <td>44719.5000</td>\n",
       "      <td>1</td>\n",
       "    </tr>\n",
       "    <tr>\n",
       "      <td>3391</td>\n",
       "      <td>3392</td>\n",
       "      <td>15780411</td>\n",
       "      <td>Norris</td>\n",
       "      <td>570</td>\n",
       "      <td>France</td>\n",
       "      <td>Female</td>\n",
       "      <td>46</td>\n",
       "      <td>3.0000</td>\n",
       "      <td>0.0000</td>\n",
       "      <td>2</td>\n",
       "      <td>0</td>\n",
       "      <td>0</td>\n",
       "      <td>820.4600</td>\n",
       "      <td>0</td>\n",
       "    </tr>\n",
       "    <tr>\n",
       "      <td>7053</td>\n",
       "      <td>7054</td>\n",
       "      <td>15815271</td>\n",
       "      <td>Ritchie</td>\n",
       "      <td>755</td>\n",
       "      <td>Germany</td>\n",
       "      <td>Male</td>\n",
       "      <td>43</td>\n",
       "      <td>nan</td>\n",
       "      <td>165048.5000</td>\n",
       "      <td>3</td>\n",
       "      <td>1</td>\n",
       "      <td>0</td>\n",
       "      <td>16929.4100</td>\n",
       "      <td>1</td>\n",
       "    </tr>\n",
       "    <tr>\n",
       "      <td>9140</td>\n",
       "      <td>9141</td>\n",
       "      <td>15784323</td>\n",
       "      <td>Gallo</td>\n",
       "      <td>449</td>\n",
       "      <td>France</td>\n",
       "      <td>Female</td>\n",
       "      <td>21</td>\n",
       "      <td>7.0000</td>\n",
       "      <td>0.0000</td>\n",
       "      <td>2</td>\n",
       "      <td>0</td>\n",
       "      <td>0</td>\n",
       "      <td>175743.9200</td>\n",
       "      <td>0</td>\n",
       "    </tr>\n",
       "    <tr>\n",
       "      <td>364</td>\n",
       "      <td>365</td>\n",
       "      <td>15676715</td>\n",
       "      <td>Madukaego</td>\n",
       "      <td>640</td>\n",
       "      <td>France</td>\n",
       "      <td>Male</td>\n",
       "      <td>68</td>\n",
       "      <td>9.0000</td>\n",
       "      <td>0.0000</td>\n",
       "      <td>2</td>\n",
       "      <td>1</td>\n",
       "      <td>1</td>\n",
       "      <td>199493.3800</td>\n",
       "      <td>0</td>\n",
       "    </tr>\n",
       "    <tr>\n",
       "      <td>9182</td>\n",
       "      <td>9183</td>\n",
       "      <td>15665579</td>\n",
       "      <td>Cartwright</td>\n",
       "      <td>597</td>\n",
       "      <td>France</td>\n",
       "      <td>Female</td>\n",
       "      <td>28</td>\n",
       "      <td>0.0000</td>\n",
       "      <td>142705.9500</td>\n",
       "      <td>1</td>\n",
       "      <td>1</td>\n",
       "      <td>0</td>\n",
       "      <td>127233.3900</td>\n",
       "      <td>0</td>\n",
       "    </tr>\n",
       "    <tr>\n",
       "      <td>3836</td>\n",
       "      <td>3837</td>\n",
       "      <td>15602797</td>\n",
       "      <td>Okwudilichukwu</td>\n",
       "      <td>645</td>\n",
       "      <td>Spain</td>\n",
       "      <td>Female</td>\n",
       "      <td>49</td>\n",
       "      <td>5.0000</td>\n",
       "      <td>110132.5500</td>\n",
       "      <td>3</td>\n",
       "      <td>0</td>\n",
       "      <td>1</td>\n",
       "      <td>187689.9100</td>\n",
       "      <td>1</td>\n",
       "    </tr>\n",
       "  </tbody>\n",
       "</table>\n",
       "</div>"
      ],
      "text/plain": [
       "      RowNumber  CustomerId         Surname  CreditScore Geography  Gender  \\\n",
       "5481       5482    15606397         Cameron          577   Germany  Female   \n",
       "3391       3392    15780411          Norris          570    France  Female   \n",
       "7053       7054    15815271         Ritchie          755   Germany    Male   \n",
       "9140       9141    15784323           Gallo          449    France  Female   \n",
       "364         365    15676715       Madukaego          640    France    Male   \n",
       "9182       9183    15665579      Cartwright          597    France  Female   \n",
       "3836       3837    15602797  Okwudilichukwu          645     Spain  Female   \n",
       "\n",
       "      Age  Tenure     Balance  NumOfProducts  HasCrCard  IsActiveMember  \\\n",
       "5481   44  1.0000 152086.1500              1          0               1   \n",
       "3391   46  3.0000      0.0000              2          0               0   \n",
       "7053   43     nan 165048.5000              3          1               0   \n",
       "9140   21  7.0000      0.0000              2          0               0   \n",
       "364    68  9.0000      0.0000              2          1               1   \n",
       "9182   28  0.0000 142705.9500              1          1               0   \n",
       "3836   49  5.0000 110132.5500              3          0               1   \n",
       "\n",
       "      EstimatedSalary  Exited  \n",
       "5481       44719.5000       1  \n",
       "3391         820.4600       0  \n",
       "7053       16929.4100       1  \n",
       "9140      175743.9200       0  \n",
       "364       199493.3800       0  \n",
       "9182      127233.3900       0  \n",
       "3836      187689.9100       1  "
      ]
     },
     "metadata": {},
     "output_type": "display_data"
    }
   ],
   "source": [
    "df = pd.read_csv('Bank_churn.csv')\n",
    "display(df.sample(7, random_state=RND_ST))"
   ]
  },
  {
   "cell_type": "markdown",
   "metadata": {},
   "source": [
    "Данные в столбцах `RowNumber`, `CustomerId` и `Surname` для целеей проекта нам не нужны. Убираем."
   ]
  },
  {
   "cell_type": "code",
   "execution_count": 158,
   "metadata": {},
   "outputs": [],
   "source": [
    "df = df.drop(['RowNumber', 'CustomerId', 'Surname'], axis=1)"
   ]
  },
  {
   "cell_type": "markdown",
   "metadata": {},
   "source": [
    "Приведем названия столбцов к строчным буквам"
   ]
  },
  {
   "cell_type": "code",
   "execution_count": 159,
   "metadata": {},
   "outputs": [],
   "source": [
    "df.columns = df.columns.str.lower()"
   ]
  },
  {
   "cell_type": "markdown",
   "metadata": {},
   "source": [
    "Посмотрим на общие сведения о данных:"
   ]
  },
  {
   "cell_type": "code",
   "execution_count": 160,
   "metadata": {},
   "outputs": [
    {
     "name": "stdout",
     "output_type": "stream",
     "text": [
      "<class 'pandas.core.frame.DataFrame'>\n",
      "RangeIndex: 10000 entries, 0 to 9999\n",
      "Data columns (total 11 columns):\n",
      "creditscore        10000 non-null int64\n",
      "geography          10000 non-null object\n",
      "gender             10000 non-null object\n",
      "age                10000 non-null int64\n",
      "tenure             9091 non-null float64\n",
      "balance            10000 non-null float64\n",
      "numofproducts      10000 non-null int64\n",
      "hascrcard          10000 non-null int64\n",
      "isactivemember     10000 non-null int64\n",
      "estimatedsalary    10000 non-null float64\n",
      "exited             10000 non-null int64\n",
      "dtypes: float64(3), int64(6), object(2)\n",
      "memory usage: 859.5+ KB\n"
     ]
    }
   ],
   "source": [
    "df.info()"
   ]
  },
  {
   "cell_type": "markdown",
   "metadata": {},
   "source": [
    "В столбце `tenure` пропуски (909)"
   ]
  },
  {
   "cell_type": "markdown",
   "metadata": {},
   "source": [
    "Посмотрим на строковые данные:"
   ]
  },
  {
   "cell_type": "code",
   "execution_count": 161,
   "metadata": {
    "scrolled": true
   },
   "outputs": [
    {
     "data": {
      "text/html": [
       "<div>\n",
       "<style scoped>\n",
       "    .dataframe tbody tr th:only-of-type {\n",
       "        vertical-align: middle;\n",
       "    }\n",
       "\n",
       "    .dataframe tbody tr th {\n",
       "        vertical-align: top;\n",
       "    }\n",
       "\n",
       "    .dataframe thead th {\n",
       "        text-align: right;\n",
       "    }\n",
       "</style>\n",
       "<table border=\"1\" class=\"dataframe\">\n",
       "  <thead>\n",
       "    <tr style=\"text-align: right;\">\n",
       "      <th></th>\n",
       "      <th>geography</th>\n",
       "      <th>gender</th>\n",
       "    </tr>\n",
       "  </thead>\n",
       "  <tbody>\n",
       "    <tr>\n",
       "      <td>count</td>\n",
       "      <td>10000</td>\n",
       "      <td>10000</td>\n",
       "    </tr>\n",
       "    <tr>\n",
       "      <td>unique</td>\n",
       "      <td>3</td>\n",
       "      <td>2</td>\n",
       "    </tr>\n",
       "    <tr>\n",
       "      <td>top</td>\n",
       "      <td>France</td>\n",
       "      <td>Male</td>\n",
       "    </tr>\n",
       "    <tr>\n",
       "      <td>freq</td>\n",
       "      <td>5014</td>\n",
       "      <td>5457</td>\n",
       "    </tr>\n",
       "  </tbody>\n",
       "</table>\n",
       "</div>"
      ],
      "text/plain": [
       "       geography gender\n",
       "count      10000  10000\n",
       "unique         3      2\n",
       "top       France   Male\n",
       "freq        5014   5457"
      ]
     },
     "execution_count": 161,
     "metadata": {},
     "output_type": "execute_result"
    }
   ],
   "source": [
    "df.describe(include='object')"
   ]
  },
  {
   "cell_type": "markdown",
   "metadata": {},
   "source": [
    "Заменим значения в столбце `gender` на дискретные, а столбец `geography` преобразуем методом **OHE** (должны появится 2 новых столбца)"
   ]
  },
  {
   "cell_type": "code",
   "execution_count": 162,
   "metadata": {},
   "outputs": [],
   "source": [
    "df['gender'] = df['gender'].map({'Male': 1, 'Female':0})"
   ]
  },
  {
   "cell_type": "markdown",
   "metadata": {},
   "source": [
    "Проверяем результат в `gender`"
   ]
  },
  {
   "cell_type": "code",
   "execution_count": 163,
   "metadata": {},
   "outputs": [
    {
     "data": {
      "text/plain": [
       "(1    5457\n",
       " 0    4543\n",
       " Name: gender, dtype: int64, 10000)"
      ]
     },
     "execution_count": 163,
     "metadata": {},
     "output_type": "execute_result"
    }
   ],
   "source": [
    "(df['gender'].value_counts(), df['gender'].shape[0]) "
   ]
  },
  {
   "cell_type": "code",
   "execution_count": 164,
   "metadata": {},
   "outputs": [],
   "source": [
    "df = pd.get_dummies(df, columns=['geography'], drop_first=True)"
   ]
  },
  {
   "cell_type": "markdown",
   "metadata": {},
   "source": [
    "Проверяем результат: видим 2 новых столбца `geography_Germany` и `geography_Spain`"
   ]
  },
  {
   "cell_type": "code",
   "execution_count": 165,
   "metadata": {},
   "outputs": [
    {
     "name": "stdout",
     "output_type": "stream",
     "text": [
      "<class 'pandas.core.frame.DataFrame'>\n",
      "RangeIndex: 10000 entries, 0 to 9999\n",
      "Data columns (total 12 columns):\n",
      "creditscore          10000 non-null int64\n",
      "gender               10000 non-null int64\n",
      "age                  10000 non-null int64\n",
      "tenure               9091 non-null float64\n",
      "balance              10000 non-null float64\n",
      "numofproducts        10000 non-null int64\n",
      "hascrcard            10000 non-null int64\n",
      "isactivemember       10000 non-null int64\n",
      "estimatedsalary      10000 non-null float64\n",
      "exited               10000 non-null int64\n",
      "geography_Germany    10000 non-null uint8\n",
      "geography_Spain      10000 non-null uint8\n",
      "dtypes: float64(3), int64(7), uint8(2)\n",
      "memory usage: 800.9 KB\n"
     ]
    }
   ],
   "source": [
    "df.info()"
   ]
  },
  {
   "cell_type": "markdown",
   "metadata": {},
   "source": [
    "После преобразования строковых столбцов, все столбцы стали цифровыми. Применим метод `describe`"
   ]
  },
  {
   "cell_type": "code",
   "execution_count": 166,
   "metadata": {},
   "outputs": [
    {
     "data": {
      "text/html": [
       "<div>\n",
       "<style scoped>\n",
       "    .dataframe tbody tr th:only-of-type {\n",
       "        vertical-align: middle;\n",
       "    }\n",
       "\n",
       "    .dataframe tbody tr th {\n",
       "        vertical-align: top;\n",
       "    }\n",
       "\n",
       "    .dataframe thead th {\n",
       "        text-align: right;\n",
       "    }\n",
       "</style>\n",
       "<table border=\"1\" class=\"dataframe\">\n",
       "  <thead>\n",
       "    <tr style=\"text-align: right;\">\n",
       "      <th></th>\n",
       "      <th>creditscore</th>\n",
       "      <th>gender</th>\n",
       "      <th>age</th>\n",
       "      <th>tenure</th>\n",
       "      <th>balance</th>\n",
       "      <th>numofproducts</th>\n",
       "      <th>hascrcard</th>\n",
       "      <th>isactivemember</th>\n",
       "      <th>estimatedsalary</th>\n",
       "      <th>exited</th>\n",
       "      <th>geography_Germany</th>\n",
       "      <th>geography_Spain</th>\n",
       "    </tr>\n",
       "  </thead>\n",
       "  <tbody>\n",
       "    <tr>\n",
       "      <td>count</td>\n",
       "      <td>10000.0000</td>\n",
       "      <td>10000.0000</td>\n",
       "      <td>10000.0000</td>\n",
       "      <td>9091.0000</td>\n",
       "      <td>10000.0000</td>\n",
       "      <td>10000.0000</td>\n",
       "      <td>10000.0000</td>\n",
       "      <td>10000.0000</td>\n",
       "      <td>10000.0000</td>\n",
       "      <td>10000.0000</td>\n",
       "      <td>10000.0000</td>\n",
       "      <td>10000.0000</td>\n",
       "    </tr>\n",
       "    <tr>\n",
       "      <td>mean</td>\n",
       "      <td>650.5288</td>\n",
       "      <td>0.5457</td>\n",
       "      <td>38.9218</td>\n",
       "      <td>4.9977</td>\n",
       "      <td>76485.8893</td>\n",
       "      <td>1.5302</td>\n",
       "      <td>0.7055</td>\n",
       "      <td>0.5151</td>\n",
       "      <td>100090.2399</td>\n",
       "      <td>0.2037</td>\n",
       "      <td>0.2509</td>\n",
       "      <td>0.2477</td>\n",
       "    </tr>\n",
       "    <tr>\n",
       "      <td>std</td>\n",
       "      <td>96.6533</td>\n",
       "      <td>0.4979</td>\n",
       "      <td>10.4878</td>\n",
       "      <td>2.8947</td>\n",
       "      <td>62397.4052</td>\n",
       "      <td>0.5817</td>\n",
       "      <td>0.4558</td>\n",
       "      <td>0.4998</td>\n",
       "      <td>57510.4928</td>\n",
       "      <td>0.4028</td>\n",
       "      <td>0.4336</td>\n",
       "      <td>0.4317</td>\n",
       "    </tr>\n",
       "    <tr>\n",
       "      <td>min</td>\n",
       "      <td>350.0000</td>\n",
       "      <td>0.0000</td>\n",
       "      <td>18.0000</td>\n",
       "      <td>0.0000</td>\n",
       "      <td>0.0000</td>\n",
       "      <td>1.0000</td>\n",
       "      <td>0.0000</td>\n",
       "      <td>0.0000</td>\n",
       "      <td>11.5800</td>\n",
       "      <td>0.0000</td>\n",
       "      <td>0.0000</td>\n",
       "      <td>0.0000</td>\n",
       "    </tr>\n",
       "    <tr>\n",
       "      <td>25%</td>\n",
       "      <td>584.0000</td>\n",
       "      <td>0.0000</td>\n",
       "      <td>32.0000</td>\n",
       "      <td>2.0000</td>\n",
       "      <td>0.0000</td>\n",
       "      <td>1.0000</td>\n",
       "      <td>0.0000</td>\n",
       "      <td>0.0000</td>\n",
       "      <td>51002.1100</td>\n",
       "      <td>0.0000</td>\n",
       "      <td>0.0000</td>\n",
       "      <td>0.0000</td>\n",
       "    </tr>\n",
       "    <tr>\n",
       "      <td>50%</td>\n",
       "      <td>652.0000</td>\n",
       "      <td>1.0000</td>\n",
       "      <td>37.0000</td>\n",
       "      <td>5.0000</td>\n",
       "      <td>97198.5400</td>\n",
       "      <td>1.0000</td>\n",
       "      <td>1.0000</td>\n",
       "      <td>1.0000</td>\n",
       "      <td>100193.9150</td>\n",
       "      <td>0.0000</td>\n",
       "      <td>0.0000</td>\n",
       "      <td>0.0000</td>\n",
       "    </tr>\n",
       "    <tr>\n",
       "      <td>75%</td>\n",
       "      <td>718.0000</td>\n",
       "      <td>1.0000</td>\n",
       "      <td>44.0000</td>\n",
       "      <td>7.0000</td>\n",
       "      <td>127644.2400</td>\n",
       "      <td>2.0000</td>\n",
       "      <td>1.0000</td>\n",
       "      <td>1.0000</td>\n",
       "      <td>149388.2475</td>\n",
       "      <td>0.0000</td>\n",
       "      <td>1.0000</td>\n",
       "      <td>0.0000</td>\n",
       "    </tr>\n",
       "    <tr>\n",
       "      <td>max</td>\n",
       "      <td>850.0000</td>\n",
       "      <td>1.0000</td>\n",
       "      <td>92.0000</td>\n",
       "      <td>10.0000</td>\n",
       "      <td>250898.0900</td>\n",
       "      <td>4.0000</td>\n",
       "      <td>1.0000</td>\n",
       "      <td>1.0000</td>\n",
       "      <td>199992.4800</td>\n",
       "      <td>1.0000</td>\n",
       "      <td>1.0000</td>\n",
       "      <td>1.0000</td>\n",
       "    </tr>\n",
       "  </tbody>\n",
       "</table>\n",
       "</div>"
      ],
      "text/plain": [
       "       creditscore     gender        age    tenure     balance  numofproducts  \\\n",
       "count   10000.0000 10000.0000 10000.0000 9091.0000  10000.0000     10000.0000   \n",
       "mean      650.5288     0.5457    38.9218    4.9977  76485.8893         1.5302   \n",
       "std        96.6533     0.4979    10.4878    2.8947  62397.4052         0.5817   \n",
       "min       350.0000     0.0000    18.0000    0.0000      0.0000         1.0000   \n",
       "25%       584.0000     0.0000    32.0000    2.0000      0.0000         1.0000   \n",
       "50%       652.0000     1.0000    37.0000    5.0000  97198.5400         1.0000   \n",
       "75%       718.0000     1.0000    44.0000    7.0000 127644.2400         2.0000   \n",
       "max       850.0000     1.0000    92.0000   10.0000 250898.0900         4.0000   \n",
       "\n",
       "       hascrcard  isactivemember  estimatedsalary     exited  \\\n",
       "count 10000.0000      10000.0000       10000.0000 10000.0000   \n",
       "mean      0.7055          0.5151      100090.2399     0.2037   \n",
       "std       0.4558          0.4998       57510.4928     0.4028   \n",
       "min       0.0000          0.0000          11.5800     0.0000   \n",
       "25%       0.0000          0.0000       51002.1100     0.0000   \n",
       "50%       1.0000          1.0000      100193.9150     0.0000   \n",
       "75%       1.0000          1.0000      149388.2475     0.0000   \n",
       "max       1.0000          1.0000      199992.4800     1.0000   \n",
       "\n",
       "       geography_Germany  geography_Spain  \n",
       "count         10000.0000       10000.0000  \n",
       "mean              0.2509           0.2477  \n",
       "std               0.4336           0.4317  \n",
       "min               0.0000           0.0000  \n",
       "25%               0.0000           0.0000  \n",
       "50%               0.0000           0.0000  \n",
       "75%               1.0000           0.0000  \n",
       "max               1.0000           1.0000  "
      ]
     },
     "execution_count": 166,
     "metadata": {},
     "output_type": "execute_result"
    }
   ],
   "source": [
    "df.describe(include=['float', 'integer'])"
   ]
  },
  {
   "cell_type": "markdown",
   "metadata": {},
   "source": [
    "Фактически все столбцы - категориальные. Кроме `creditscore`, `balance` и `estimatedsalary`"
   ]
  },
  {
   "cell_type": "markdown",
   "metadata": {},
   "source": [
    "<a id=classbalance> </a>\n",
    "\n",
    "Посмотрим на соотношение классов в `exited` для всего датасета и для подмножества, когда в столбце `tenure` пропуски."
   ]
  },
  {
   "cell_type": "code",
   "execution_count": 167,
   "metadata": {},
   "outputs": [
    {
     "data": {
      "image/png": "[encoded data removed]",
      "text/plain": [
       "<Figure size 864x288 with 2 Axes>"
      ]
     },
     "metadata": {},
     "output_type": "display_data"
    }
   ],
   "source": [
    "fig, ax = plt.subplots(1,2, figsize=(12,4))\n",
    "\n",
    "sns.histplot(data=df, x='exited', stat='proportion', discrete=True, ax=ax[0])\n",
    "sns.histplot(data=df[df['tenure'].isna()], x='exited', stat='proportion', discrete=True, ax=ax[1], color = 'r')\n",
    "\n",
    "ax[0].set_title('Распределение классов в \"exited\"')\n",
    "ax[0].set_xticks([0,1])\n",
    "ax[0].set_xlabel('')\n",
    "\n",
    "ax[1].set_title('Распределение классов в \"exited\" при пропусках в \"tenure\"')\n",
    "ax[1].set_xticks([0,1])\n",
    "ax[1].set_xlabel('')\n",
    "\n",
    "plt.show()"
   ]
  },
  {
   "cell_type": "markdown",
   "metadata": {},
   "source": [
    "Интересное совпадение: распределение классов для строк с пропусками практически идентично распределению классов в целевом признаке. Т.е. просто удалив строки с пропусками мы бы практически не нарушили пропорции данных. Но их стало бы меньше. Поэтому, разумнее восстановить пропущенные значения."
   ]
  },
  {
   "cell_type": "markdown",
   "metadata": {},
   "source": [
    "### Восстановление пропусков"
   ]
  },
  {
   "cell_type": "markdown",
   "metadata": {},
   "source": [
    "Для восстановления пропусков применим метод многовариантного восстановления с помощью класса `IterativeImputer`"
   ]
  },
  {
   "cell_type": "code",
   "execution_count": 168,
   "metadata": {},
   "outputs": [],
   "source": [
    "col = df.columns"
   ]
  },
  {
   "cell_type": "code",
   "execution_count": 169,
   "metadata": {},
   "outputs": [],
   "source": [
    "imp = IterativeImputer(\n",
    "    estimator = BayesianRidge(), # модель предсказания значений\n",
    "    max_iter=20, # макс. число итераций\n",
    "    n_nearest_features=col.shape[0]-1, # число признаков, учитываемых при восстановлении значения\n",
    "    min_value=1, # мин. число возвращаемых значений\n",
    "    random_state=RND_ST)"
   ]
  },
  {
   "cell_type": "code",
   "execution_count": 170,
   "metadata": {},
   "outputs": [
    {
     "data": {
      "text/plain": [
       "IterativeImputer(add_indicator=False,\n",
       "                 estimator=BayesianRidge(alpha_1=1e-06, alpha_2=1e-06,\n",
       "                                         compute_score=False, copy_X=True,\n",
       "                                         fit_intercept=True, lambda_1=1e-06,\n",
       "                                         lambda_2=1e-06, n_iter=300,\n",
       "                                         normalize=False, tol=0.001,\n",
       "                                         verbose=False),\n",
       "                 imputation_order='ascending', initial_strategy='mean',\n",
       "                 max_iter=20, max_value=None, min_value=1, missing_values=nan,\n",
       "                 n_nearest_features=11, random_state=7777,\n",
       "                 sample_posterior=False, tol=0.001, verbose=0)"
      ]
     },
     "execution_count": 170,
     "metadata": {},
     "output_type": "execute_result"
    }
   ],
   "source": [
    "imp.fit(df[col])"
   ]
  },
  {
   "cell_type": "code",
   "execution_count": 171,
   "metadata": {},
   "outputs": [],
   "source": [
    "imp_df = pd.DataFrame(data=imp.transform(df[col]), columns=col)"
   ]
  },
  {
   "cell_type": "markdown",
   "metadata": {},
   "source": [
    "Проверка на пропуски:"
   ]
  },
  {
   "cell_type": "code",
   "execution_count": 172,
   "metadata": {},
   "outputs": [
    {
     "data": {
      "text/plain": [
       "creditscore          0\n",
       "gender               0\n",
       "age                  0\n",
       "tenure               0\n",
       "balance              0\n",
       "numofproducts        0\n",
       "hascrcard            0\n",
       "isactivemember       0\n",
       "estimatedsalary      0\n",
       "exited               0\n",
       "geography_Germany    0\n",
       "geography_Spain      0\n",
       "dtype: int64"
      ]
     },
     "execution_count": 172,
     "metadata": {},
     "output_type": "execute_result"
    }
   ],
   "source": [
    "imp_df.isna().sum()"
   ]
  },
  {
   "cell_type": "markdown",
   "metadata": {},
   "source": [
    "### Масштабирование признаков"
   ]
  },
  {
   "cell_type": "markdown",
   "metadata": {},
   "source": [
    "Разделяем датасет на тренировочные и валидационные данные `(.75, .25)`, с помощью класса `StandardScaler()` масштабируем тренировочные и валидационные признаки."
   ]
  },
  {
   "cell_type": "code",
   "execution_count": 173,
   "metadata": {},
   "outputs": [],
   "source": [
    "df_features = imp_df.drop('exited', axis=1)\n",
    "df_target = imp_df['exited']\n",
    "X_train, X_val, y_train, y_val = train_test_split(df_features, df_target, test_size=0.25, random_state=RND_ST)"
   ]
  },
  {
   "cell_type": "code",
   "execution_count": 174,
   "metadata": {},
   "outputs": [
    {
     "name": "stdout",
     "output_type": "stream",
     "text": [
      "(7500, 11)\n",
      "(2500, 11)\n"
     ]
    }
   ],
   "source": [
    "col = X_train.columns\n",
    "scaler = StandardScaler()\n",
    "\n",
    "scaler.fit(X_train[col])\n",
    "X_train[col] = scaler.transform(X_train[col])\n",
    "X_val[col] = scaler.transform(X_val[col])\n",
    "\n",
    "print(X_train.shape)\n",
    "print(X_val.shape)"
   ]
  },
  {
   "cell_type": "markdown",
   "metadata": {},
   "source": [
    "Проверяем, что все признаки в тренировочной и валидационной выборках отмасштабированы:"
   ]
  },
  {
   "cell_type": "code",
   "execution_count": 175,
   "metadata": {},
   "outputs": [
    {
     "data": {
      "text/html": [
       "<div>\n",
       "<style scoped>\n",
       "    .dataframe tbody tr th:only-of-type {\n",
       "        vertical-align: middle;\n",
       "    }\n",
       "\n",
       "    .dataframe tbody tr th {\n",
       "        vertical-align: top;\n",
       "    }\n",
       "\n",
       "    .dataframe thead th {\n",
       "        text-align: right;\n",
       "    }\n",
       "</style>\n",
       "<table border=\"1\" class=\"dataframe\">\n",
       "  <thead>\n",
       "    <tr style=\"text-align: right;\">\n",
       "      <th></th>\n",
       "      <th>creditscore</th>\n",
       "      <th>gender</th>\n",
       "      <th>age</th>\n",
       "      <th>tenure</th>\n",
       "      <th>balance</th>\n",
       "      <th>numofproducts</th>\n",
       "      <th>hascrcard</th>\n",
       "      <th>isactivemember</th>\n",
       "      <th>estimatedsalary</th>\n",
       "      <th>geography_Germany</th>\n",
       "      <th>geography_Spain</th>\n",
       "    </tr>\n",
       "  </thead>\n",
       "  <tbody>\n",
       "    <tr>\n",
       "      <td>7803</td>\n",
       "      <td>-0.3189</td>\n",
       "      <td>-1.1035</td>\n",
       "      <td>1.2535</td>\n",
       "      <td>1.1008</td>\n",
       "      <td>0.7569</td>\n",
       "      <td>-0.9057</td>\n",
       "      <td>-1.5516</td>\n",
       "      <td>-1.0303</td>\n",
       "      <td>-1.3255</td>\n",
       "      <td>1.7296</td>\n",
       "      <td>-0.5763</td>\n",
       "    </tr>\n",
       "    <tr>\n",
       "      <td>748</td>\n",
       "      <td>0.7928</td>\n",
       "      <td>0.9062</td>\n",
       "      <td>-0.0873</td>\n",
       "      <td>-1.0816</td>\n",
       "      <td>-0.2340</td>\n",
       "      <td>-0.9057</td>\n",
       "      <td>0.6445</td>\n",
       "      <td>0.9706</td>\n",
       "      <td>-0.7086</td>\n",
       "      <td>-0.5782</td>\n",
       "      <td>1.7351</td>\n",
       "    </tr>\n",
       "    <tr>\n",
       "      <td>4748</td>\n",
       "      <td>-1.1629</td>\n",
       "      <td>-1.1035</td>\n",
       "      <td>-0.1831</td>\n",
       "      <td>0.7371</td>\n",
       "      <td>1.3069</td>\n",
       "      <td>4.2558</td>\n",
       "      <td>0.6445</td>\n",
       "      <td>0.9706</td>\n",
       "      <td>0.3101</td>\n",
       "      <td>1.7296</td>\n",
       "      <td>-0.5763</td>\n",
       "    </tr>\n",
       "  </tbody>\n",
       "</table>\n",
       "</div>"
      ],
      "text/plain": [
       "      creditscore  gender     age  tenure  balance  numofproducts  hascrcard  \\\n",
       "7803      -0.3189 -1.1035  1.2535  1.1008   0.7569        -0.9057    -1.5516   \n",
       "748        0.7928  0.9062 -0.0873 -1.0816  -0.2340        -0.9057     0.6445   \n",
       "4748      -1.1629 -1.1035 -0.1831  0.7371   1.3069         4.2558     0.6445   \n",
       "\n",
       "      isactivemember  estimatedsalary  geography_Germany  geography_Spain  \n",
       "7803         -1.0303          -1.3255             1.7296          -0.5763  \n",
       "748           0.9706          -0.7086            -0.5782           1.7351  \n",
       "4748          0.9706           0.3101             1.7296          -0.5763  "
      ]
     },
     "metadata": {},
     "output_type": "display_data"
    },
    {
     "data": {
      "text/html": [
       "<div>\n",
       "<style scoped>\n",
       "    .dataframe tbody tr th:only-of-type {\n",
       "        vertical-align: middle;\n",
       "    }\n",
       "\n",
       "    .dataframe tbody tr th {\n",
       "        vertical-align: top;\n",
       "    }\n",
       "\n",
       "    .dataframe thead th {\n",
       "        text-align: right;\n",
       "    }\n",
       "</style>\n",
       "<table border=\"1\" class=\"dataframe\">\n",
       "  <thead>\n",
       "    <tr style=\"text-align: right;\">\n",
       "      <th></th>\n",
       "      <th>creditscore</th>\n",
       "      <th>gender</th>\n",
       "      <th>age</th>\n",
       "      <th>tenure</th>\n",
       "      <th>balance</th>\n",
       "      <th>numofproducts</th>\n",
       "      <th>hascrcard</th>\n",
       "      <th>isactivemember</th>\n",
       "      <th>estimatedsalary</th>\n",
       "      <th>geography_Germany</th>\n",
       "      <th>geography_Spain</th>\n",
       "    </tr>\n",
       "  </thead>\n",
       "  <tbody>\n",
       "    <tr>\n",
       "      <td>20</td>\n",
       "      <td>0.8442</td>\n",
       "      <td>0.9062</td>\n",
       "      <td>0.2000</td>\n",
       "      <td>1.1008</td>\n",
       "      <td>-1.2322</td>\n",
       "      <td>0.8148</td>\n",
       "      <td>0.6445</td>\n",
       "      <td>0.9706</td>\n",
       "      <td>1.2378</td>\n",
       "      <td>-0.5782</td>\n",
       "      <td>-0.5763</td>\n",
       "    </tr>\n",
       "    <tr>\n",
       "      <td>5242</td>\n",
       "      <td>0.0517</td>\n",
       "      <td>-1.1035</td>\n",
       "      <td>0.1042</td>\n",
       "      <td>-1.8090</td>\n",
       "      <td>0.0814</td>\n",
       "      <td>-0.9057</td>\n",
       "      <td>0.6445</td>\n",
       "      <td>0.9706</td>\n",
       "      <td>1.7246</td>\n",
       "      <td>1.7296</td>\n",
       "      <td>-0.5763</td>\n",
       "    </tr>\n",
       "    <tr>\n",
       "      <td>5859</td>\n",
       "      <td>0.7310</td>\n",
       "      <td>0.9062</td>\n",
       "      <td>-0.0873</td>\n",
       "      <td>0.7371</td>\n",
       "      <td>-1.2322</td>\n",
       "      <td>-0.9057</td>\n",
       "      <td>-1.5516</td>\n",
       "      <td>0.9706</td>\n",
       "      <td>-0.8088</td>\n",
       "      <td>-0.5782</td>\n",
       "      <td>1.7351</td>\n",
       "    </tr>\n",
       "  </tbody>\n",
       "</table>\n",
       "</div>"
      ],
      "text/plain": [
       "      creditscore  gender     age  tenure  balance  numofproducts  hascrcard  \\\n",
       "20         0.8442  0.9062  0.2000  1.1008  -1.2322         0.8148     0.6445   \n",
       "5242       0.0517 -1.1035  0.1042 -1.8090   0.0814        -0.9057     0.6445   \n",
       "5859       0.7310  0.9062 -0.0873  0.7371  -1.2322        -0.9057    -1.5516   \n",
       "\n",
       "      isactivemember  estimatedsalary  geography_Germany  geography_Spain  \n",
       "20            0.9706           1.2378            -0.5782          -0.5763  \n",
       "5242          0.9706           1.7246             1.7296          -0.5763  \n",
       "5859          0.9706          -0.8088            -0.5782           1.7351  "
      ]
     },
     "metadata": {},
     "output_type": "display_data"
    }
   ],
   "source": [
    "display(X_train.sample(3, random_state=RND_ST))\n",
    "display(X_val.sample(3, random_state=RND_ST))"
   ]
  },
  {
   "cell_type": "markdown",
   "metadata": {},
   "source": [
    "### Вывод"
   ]
  },
  {
   "cell_type": "markdown",
   "metadata": {},
   "source": [
    "Строковые данные преобразованы в цифровой формат, применяя маппинг и метод `One-Hot-Encoding` (с параметром `drop_firs=True`). Пропуски (909) в столбце `tenure` восстановлены с использованием класса `IterativeImputer`. Данные разделены на тренировочную `(7500, 11)` и валидационную `(2500, 11)` выборки, затем признаки отмасштабированы классом `StandardScaler()`."
   ]
  },
  {
   "cell_type": "markdown",
   "metadata": {},
   "source": [
    "## Исследование задачи"
   ]
  },
  {
   "cell_type": "markdown",
   "metadata": {},
   "source": [
    "### Баланс классов"
   ]
  },
  {
   "cell_type": "markdown",
   "metadata": {},
   "source": [
    "Распределение классов мы изучили в разделе [восстановление пропусков](#classbalance). Соотношение положительного `1` и отрицательного `0` классов составляет примерно **1:4**"
   ]
  },
  {
   "cell_type": "markdown",
   "metadata": {},
   "source": [
    "### Исследование моделей"
   ]
  },
  {
   "cell_type": "markdown",
   "metadata": {},
   "source": [
    "Исследуем модели без учета дисбаланса данных. Рассмотрим:\n",
    "- Логистическую регрессию\n",
    "- Метод ближайших k соседей\n",
    "- Дерево решений\n",
    "- Случайный лес\n",
    "\n",
    "Для каждой из моделей будем вычислять метрики `f1_score` с помощью `cross_val_score`, разбив тренировочные данные генератором `KFold` на `n_folds` наборов.\n",
    "\n",
    "Затем тренируем модель на тренировочной выборке и проверяем на валидационной. Вычисляем ту же метрику `f1_score` на валидационной выборке.\n",
    "\n",
    "Выводим среднее значение `f1` и стандартное отклонение `std` для кросс-валидации на тренировочных данных и значение метрик `f1` и `AUC-ROC`, полученные на валидационных данных. \n",
    "\n",
    "Оформим все действия в виде функции `model_casting`, которая будет выводить пошаговые результаты и вернет итоговые данные в виде датафрейма. Затем выведем итоговый датафрейм, отсортировав по убыванию значения `AUC-ROC`."
   ]
  },
  {
   "cell_type": "code",
   "execution_count": 176,
   "metadata": {},
   "outputs": [],
   "source": [
    "rf_n_estimators = 110 # кол-во деревьев для RandomForest\n",
    "n_neighbors = 15 # число соседей для kNN\n",
    "\n",
    "models = []\n",
    "models.append(('LogisticRegression', LogisticRegression(solver='liblinear', random_state=RND_ST)))\n",
    "models.append((' kNearestNeighbors', KNeighborsClassifier(n_neighbors=n_neighbors)))\n",
    "models.append(('      DesigionTree', DecisionTreeClassifier(random_state=RND_ST)))\n",
    "models.append(('      RandomForest', RandomForestClassifier(n_estimators=rf_n_estimators, random_state=RND_ST)))\n",
    "models.append(('     SGDClassifier', SGDClassifier(loss = 'modified_huber', n_jobs=-1, random_state=RND_ST)))     # добавлено"
   ]
  },
  {
   "cell_type": "code",
   "execution_count": 177,
   "metadata": {},
   "outputs": [],
   "source": [
    "# sorted(SCORERS.keys())"
   ]
  },
  {
   "cell_type": "code",
   "execution_count": 178,
   "metadata": {},
   "outputs": [],
   "source": [
    "def model_casting(models, X_train, X_val, y_train, y_val, n_folds = 5):\n",
    "\n",
    "    names = []\n",
    "    train_cv_scores = []\n",
    "    val_scores = []\n",
    "    val_auc_roc = []\n",
    "\n",
    "    for name, model in models:\n",
    "        \n",
    "        names.append(name)\n",
    "            \n",
    "        m_fit = model.fit(X_train, y_train)\n",
    "        m_predict = model.predict(X_val)\n",
    "        m_score = f1_score(y_val, m_predict)\n",
    "        val_scores.append(m_score)\n",
    "    \n",
    "        probabilities_val = model.predict_proba(X_val)\n",
    "        probabilities_one_val = probabilities_val[:, 1]\n",
    "        auc_roc = roc_auc_score(y_val, probabilities_one_val)\n",
    "        val_auc_roc.append(auc_roc)\n",
    "                \n",
    "        if n_folds >=2:\n",
    "            kfold = KFold(n_splits=n_folds, random_state=RND_ST)\n",
    "            cv_scores = cross_val_score(model, X_train, y_train, cv=kfold, scoring='f1')\n",
    "            train_cv_scores.append(cv_scores.mean())\n",
    "            report = ( f\"{name}: \\t F1 train CV = {round(cv_scores.mean(),4)} (std = {round(cv_scores.std(),4)}) // F1 valid = {round(m_score,4)} (AUC_ROC valid = {round(auc_roc,4)})\" )\n",
    "            print(report)\n",
    "        else:\n",
    "            report = ( f\"{name}: \\t F1 valid = {round(m_score,4)} (AUC_ROC valid = {round(auc_roc,4)})\" )\n",
    "            print(report)\n",
    "            \n",
    "    \n",
    "    if n_folds >=2:\n",
    "        scores_chart_df = pd.DataFrame( data = {'name': names, 'f1_train_CV': train_cv_scores, 'f1_val': val_scores, 'AUC-ROC_val': val_auc_roc} )\n",
    "    else:\n",
    "        scores_chart_df = pd.DataFrame( data = {'name': names, 'f1_val': val_scores, 'AUC-ROC_val': val_auc_roc} )\n",
    "    \n",
    "    return scores_chart_df"
   ]
  },
  {
   "cell_type": "code",
   "execution_count": 179,
   "metadata": {},
   "outputs": [
    {
     "name": "stdout",
     "output_type": "stream",
     "text": [
      "LogisticRegression: \t F1 train CV = 0.3121 (std = 0.0173) // F1 valid = 0.3112 (AUC_ROC valid = 0.7716)\n",
      " kNearestNeighbors: \t F1 train CV = 0.4058 (std = 0.0224) // F1 valid = 0.4372 (AUC_ROC valid = 0.8046)\n",
      "      DesigionTree: \t F1 train CV = 0.5153 (std = 0.0256) // F1 valid = 0.4801 (AUC_ROC valid = 0.6738)\n",
      "      RandomForest: \t F1 train CV = 0.5776 (std = 0.0126) // F1 valid = 0.6005 (AUC_ROC valid = 0.8503)\n",
      "     SGDClassifier: \t F1 train CV = 0.2712 (std = 0.1437) // F1 valid = 0.3892 (AUC_ROC valid = 0.7234)\n"
     ]
    },
    {
     "data": {
      "text/html": [
       "<div>\n",
       "<style scoped>\n",
       "    .dataframe tbody tr th:only-of-type {\n",
       "        vertical-align: middle;\n",
       "    }\n",
       "\n",
       "    .dataframe tbody tr th {\n",
       "        vertical-align: top;\n",
       "    }\n",
       "\n",
       "    .dataframe thead th {\n",
       "        text-align: right;\n",
       "    }\n",
       "</style>\n",
       "<table border=\"1\" class=\"dataframe\">\n",
       "  <thead>\n",
       "    <tr style=\"text-align: right;\">\n",
       "      <th></th>\n",
       "      <th>name</th>\n",
       "      <th>f1_train_CV</th>\n",
       "      <th>f1_val</th>\n",
       "      <th>AUC-ROC_val</th>\n",
       "    </tr>\n",
       "  </thead>\n",
       "  <tbody>\n",
       "    <tr>\n",
       "      <td>0</td>\n",
       "      <td>RandomForest</td>\n",
       "      <td>0.5776</td>\n",
       "      <td>0.6005</td>\n",
       "      <td>0.8503</td>\n",
       "    </tr>\n",
       "    <tr>\n",
       "      <td>1</td>\n",
       "      <td>kNearestNeighbors</td>\n",
       "      <td>0.4058</td>\n",
       "      <td>0.4372</td>\n",
       "      <td>0.8046</td>\n",
       "    </tr>\n",
       "    <tr>\n",
       "      <td>2</td>\n",
       "      <td>LogisticRegression</td>\n",
       "      <td>0.3121</td>\n",
       "      <td>0.3112</td>\n",
       "      <td>0.7716</td>\n",
       "    </tr>\n",
       "    <tr>\n",
       "      <td>3</td>\n",
       "      <td>SGDClassifier</td>\n",
       "      <td>0.2712</td>\n",
       "      <td>0.3892</td>\n",
       "      <td>0.7234</td>\n",
       "    </tr>\n",
       "    <tr>\n",
       "      <td>4</td>\n",
       "      <td>DesigionTree</td>\n",
       "      <td>0.5153</td>\n",
       "      <td>0.4801</td>\n",
       "      <td>0.6738</td>\n",
       "    </tr>\n",
       "  </tbody>\n",
       "</table>\n",
       "</div>"
      ],
      "text/plain": [
       "                 name  f1_train_CV  f1_val  AUC-ROC_val\n",
       "0        RandomForest       0.5776  0.6005       0.8503\n",
       "1   kNearestNeighbors       0.4058  0.4372       0.8046\n",
       "2  LogisticRegression       0.3121  0.3112       0.7716\n",
       "3       SGDClassifier       0.2712  0.3892       0.7234\n",
       "4        DesigionTree       0.5153  0.4801       0.6738"
      ]
     },
     "metadata": {},
     "output_type": "display_data"
    }
   ],
   "source": [
    "not_balanced_chart = model_casting(models, X_train, X_val, y_train, y_val)\n",
    "display( not_balanced_chart.sort_values(by='AUC-ROC_val', ascending=False).reset_index(drop=True) )"
   ]
  },
  {
   "cell_type": "markdown",
   "metadata": {},
   "source": [
    "### Вывод"
   ]
  },
  {
   "cell_type": "markdown",
   "metadata": {},
   "source": [
    "На несбалансированных данных (дисбаланс положительных и отрицательных целевых признаков `1 : 4`) наихудшие результаты по метрике `AUC-ROC` показала модель **решающее дерево** `(0.6738)`, чуть лучше модель **логистической регрессии**, далее модель **ближайших k соседей** и наилучший результат показала модель **случайного леса** `(0.8503)`. \n",
    "\n",
    "Также можно отметить, что модель **случайного леса** показала на валидационных данных лучший результат по метрике `f1` равный `0.6005`.\n",
    "\n",
    "Модели **ближайших k соседей** и **решающее дерево** имеют показатели по метрике `f1 (0.4372 и 0.4801)`, причем НЕ в пользу модели **ближайших k соседей**, но по метрике `AUC-ROC` метод **ближайших k соседей** показывает значительно лучший результат `0.8046` против `0.6738`."
   ]
  },
  {
   "cell_type": "markdown",
   "metadata": {},
   "source": [
    "## Борьба с дисбалансом"
   ]
  },
  {
   "cell_type": "markdown",
   "metadata": {},
   "source": [
    "Для учета дисбаланса можно выделить следующие подходы:\n",
    "- учёт дисбаланса целевых признаков путем указания значения гиперпараметра модели `class_weight='balanced'`. Этот гиперпараметр есть у моделей **логистической регрессии**,  **решающего дерева** и **случайного леса**. Для модели **ближайших k соседей** применяется гиперпараметр `weights = 'distance'`\n",
    "- применение техники `upsampling / downsampling`"
   ]
  },
  {
   "cell_type": "markdown",
   "metadata": {},
   "source": [
    "### Взвешивание классов"
   ]
  },
  {
   "cell_type": "markdown",
   "metadata": {},
   "source": [
    "Создадим новый список  моделей `models_wght`, указав гиперпараметры для учета дисбаланса классов. Применим функцию `model_casting` к моделям, но уже с взвешиванием классов."
   ]
  },
  {
   "cell_type": "code",
   "execution_count": 180,
   "metadata": {},
   "outputs": [],
   "source": [
    "models_wght = []\n",
    "models_wght.append(('LogisticRegression', LogisticRegression(solver='liblinear', class_weight='balanced', random_state=RND_ST)))\n",
    "models_wght.append((' kNearestNeighbors', KNeighborsClassifier(n_neighbors=n_neighbors, weights = 'distance')))\n",
    "models_wght.append(('      DesigionTree', DecisionTreeClassifier(class_weight='balanced', random_state=RND_ST)))\n",
    "models_wght.append(('      RandomForest', RandomForestClassifier(n_estimators=rf_n_estimators, class_weight='balanced', random_state=RND_ST)))\n",
    "models_wght.append(('     SGDClassifier', SGDClassifier(class_weight='balanced', loss = 'modified_huber', n_jobs=-1, random_state=RND_ST)))  # добавлено"
   ]
  },
  {
   "cell_type": "code",
   "execution_count": 181,
   "metadata": {},
   "outputs": [
    {
     "name": "stdout",
     "output_type": "stream",
     "text": [
      "LogisticRegression: \t F1 train CV = 0.4859 (std = 0.0141) // F1 valid = 0.5032 (AUC_ROC valid = 0.7763)\n",
      " kNearestNeighbors: \t F1 train CV = 0.4111 (std = 0.0188) // F1 valid = 0.4468 (AUC_ROC valid = 0.8076)\n",
      "      DesigionTree: \t F1 train CV = 0.508 (std = 0.0215) // F1 valid = 0.5111 (AUC_ROC valid = 0.6937)\n",
      "      RandomForest: \t F1 train CV = 0.5578 (std = 0.0169) // F1 valid = 0.5798 (AUC_ROC valid = 0.8538)\n",
      "     SGDClassifier: \t F1 train CV = 0.4333 (std = 0.027) // F1 valid = 0.3986 (AUC_ROC valid = 0.6543)\n"
     ]
    },
    {
     "data": {
      "text/html": [
       "<div>\n",
       "<style scoped>\n",
       "    .dataframe tbody tr th:only-of-type {\n",
       "        vertical-align: middle;\n",
       "    }\n",
       "\n",
       "    .dataframe tbody tr th {\n",
       "        vertical-align: top;\n",
       "    }\n",
       "\n",
       "    .dataframe thead th {\n",
       "        text-align: right;\n",
       "    }\n",
       "</style>\n",
       "<table border=\"1\" class=\"dataframe\">\n",
       "  <thead>\n",
       "    <tr style=\"text-align: right;\">\n",
       "      <th></th>\n",
       "      <th>name</th>\n",
       "      <th>f1_train_CV</th>\n",
       "      <th>f1_val</th>\n",
       "      <th>AUC-ROC_val</th>\n",
       "    </tr>\n",
       "  </thead>\n",
       "  <tbody>\n",
       "    <tr>\n",
       "      <td>0</td>\n",
       "      <td>RandomForest</td>\n",
       "      <td>0.5578</td>\n",
       "      <td>0.5798</td>\n",
       "      <td>0.8538</td>\n",
       "    </tr>\n",
       "    <tr>\n",
       "      <td>1</td>\n",
       "      <td>kNearestNeighbors</td>\n",
       "      <td>0.4111</td>\n",
       "      <td>0.4468</td>\n",
       "      <td>0.8076</td>\n",
       "    </tr>\n",
       "    <tr>\n",
       "      <td>2</td>\n",
       "      <td>LogisticRegression</td>\n",
       "      <td>0.4859</td>\n",
       "      <td>0.5032</td>\n",
       "      <td>0.7763</td>\n",
       "    </tr>\n",
       "    <tr>\n",
       "      <td>3</td>\n",
       "      <td>DesigionTree</td>\n",
       "      <td>0.5080</td>\n",
       "      <td>0.5111</td>\n",
       "      <td>0.6937</td>\n",
       "    </tr>\n",
       "    <tr>\n",
       "      <td>4</td>\n",
       "      <td>SGDClassifier</td>\n",
       "      <td>0.4333</td>\n",
       "      <td>0.3986</td>\n",
       "      <td>0.6543</td>\n",
       "    </tr>\n",
       "  </tbody>\n",
       "</table>\n",
       "</div>"
      ],
      "text/plain": [
       "                 name  f1_train_CV  f1_val  AUC-ROC_val\n",
       "0        RandomForest       0.5578  0.5798       0.8538\n",
       "1   kNearestNeighbors       0.4111  0.4468       0.8076\n",
       "2  LogisticRegression       0.4859  0.5032       0.7763\n",
       "3        DesigionTree       0.5080  0.5111       0.6937\n",
       "4       SGDClassifier       0.4333  0.3986       0.6543"
      ]
     },
     "metadata": {},
     "output_type": "display_data"
    }
   ],
   "source": [
    "weighted_chart = model_casting(models_wght, X_train, X_val, y_train, y_val)\n",
    "display( weighted_chart.sort_values(by='AUC-ROC_val', ascending=False).reset_index(drop=True) )"
   ]
  },
  {
   "cell_type": "markdown",
   "metadata": {},
   "source": [
    "Сравним, как повлияло взвешивание классов на метрики. Построим гистограммы для каждой модели для значений метрик до и после взвешивания классов."
   ]
  },
  {
   "cell_type": "code",
   "execution_count": 182,
   "metadata": {},
   "outputs": [
    {
     "data": {
      "image/png": "[encoded data removed]",
      "text/plain": [
       "<Figure size 1224x360 with 3 Axes>"
      ]
     },
     "metadata": {},
     "output_type": "display_data"
    }
   ],
   "source": [
    "fig, (ax1, ax2, ax3) = plt.subplots(1, 3, figsize=(17, 5), sharey=True)\n",
    "\n",
    "y1 = not_balanced_chart.index - .15\n",
    "y2 = not_balanced_chart.index + .15\n",
    "\n",
    "for ax, col, head in [\n",
    "    [ax1, 'f1_train_CV','f1. Кросс-валидация' ],\n",
    "    [ax2, 'f1_val', 'f1. Валидационная выборка'],\n",
    "    [ax3, 'AUC-ROC_val', 'AUC-ROC. Валидационная выборка' ] ]:\n",
    "    \n",
    "    ax.barh(y=y2, width=weighted_chart[col], height=.3, color='lightgreen', label = 'с взвешиванием')\n",
    "    ax.barh(y=y1, width=not_balanced_chart[col], height=.3, color='darkgrey', label = 'без взвешивания')\n",
    "        \n",
    "    ax.set_title(head, pad = 10, fontsize=15)\n",
    "    ax.grid(axis = 'y')\n",
    "    ax.yaxis.set_major_locator(ticker.MultipleLocator(1))\n",
    "    ax.set_yticks(range(0, 5))                                  # (0, 4) изменено на (0, 5)\n",
    "    ax.set_yticklabels(not_balanced_chart['name'], fontsize=14)\n",
    "\n",
    "ax2.legend(fontsize=12, loc='upper left', shadow=True)\n",
    "plt.show()\n"
   ]
  },
  {
   "cell_type": "markdown",
   "metadata": {},
   "source": [
    "**Вывод:** \n",
    "- применение взвешивания классов практически не повлияло на модель **случайный лес**. Можно даже заметить, что метрика `f1` немного снизилась. Значение `AUC-ROC` совсем незначительно подросло;\n",
    "- для модели **решающее дерево** метрика `f1` выросла на валидационной выборке, значение `AUC-ROC` незначительно увеличилось;\n",
    "- для модели **ближайших k соседей** взвешивание классов привело к незначительному росту метрики `f1` как в случае кросс-валидации, так и на валидационной выборке;\n",
    "- модель **логистическая регрессия** очень активно отзывается на применение взвешивания классов. Метрика `f1` выросла примерно в 1.5 раза! Однако, значение `AUC-ROC` практически не изменилось (совсем немного увеличилось, но не в таких пропорциях, как метрика `f1`)"
   ]
  },
  {
   "cell_type": "markdown",
   "metadata": {},
   "source": [
    "### Upsampling / Downsampling"
   ]
  },
  {
   "cell_type": "markdown",
   "metadata": {},
   "source": [
    "Создадим две функции для соответствующих преобразований, преобразуем данные, сохранив результаты:\n",
    "- `X_train_up` и `y_train_up` для случая увеличения выборки\n",
    "- `X_train_dwn` и `y_train_dwn` для случая уменьшения выборки"
   ]
  },
  {
   "cell_type": "code",
   "execution_count": 183,
   "metadata": {},
   "outputs": [],
   "source": [
    "def upsample(features, target, repeat):\n",
    "    \n",
    "    features_0 = features[target == 0]\n",
    "    features_1 = features[target == 1]\n",
    "    target_0 = target[target == 0]\n",
    "    target_1 = target[target == 1]\n",
    "    \n",
    "    features_upsampled = pd.concat([features_0] + [features_1] * repeat)\n",
    "    target_upsampled = pd.concat([target_0] + [target_1] * repeat)\n",
    "    features_upsampled, target_upsampled = shuffle(features_upsampled, target_upsampled, random_state=RND_ST)\n",
    "    \n",
    "    return features_upsampled, target_upsampled"
   ]
  },
  {
   "cell_type": "code",
   "execution_count": 184,
   "metadata": {},
   "outputs": [],
   "source": [
    "def downsample(features, target, fraction):\n",
    "    \n",
    "    features_0 = features[target == 0]\n",
    "    features_1 = features[target == 1]\n",
    "    target_0 = target[target == 0]\n",
    "    target_1 = target[target == 1]\n",
    "    \n",
    "    features_downsampled = pd.concat([features_0.sample(frac=fraction, random_state=RND_ST)] + [features_1])\n",
    "    target_downsampled = pd.concat([target_0.sample(frac=fraction, random_state=RND_ST)] + [target_1])\n",
    "    features_downsampled, target_downsampled = shuffle(features_downsampled, target_downsampled, random_state=RND_ST)\n",
    "    \n",
    "    return features_downsampled, target_downsampled"
   ]
  },
  {
   "cell_type": "code",
   "execution_count": 185,
   "metadata": {},
   "outputs": [],
   "source": [
    "repeat = ceil(y_train[y_train == 0].shape[0] / y_train[y_train == 1].shape[0])\n",
    "fraction = 1/repeat\n",
    "\n",
    "X_train_up, y_train_up = upsample(X_train, y_train, repeat)\n",
    "X_train_dwn, y_train_dwn = downsample(X_train, y_train, fraction)"
   ]
  },
  {
   "cell_type": "markdown",
   "metadata": {},
   "source": [
    "Выведем параметры начальной выборки и после преобразований:"
   ]
  },
  {
   "cell_type": "code",
   "execution_count": 186,
   "metadata": {},
   "outputs": [
    {
     "data": {
      "text/html": [
       "<div>\n",
       "<style scoped>\n",
       "    .dataframe tbody tr th:only-of-type {\n",
       "        vertical-align: middle;\n",
       "    }\n",
       "\n",
       "    .dataframe tbody tr th {\n",
       "        vertical-align: top;\n",
       "    }\n",
       "\n",
       "    .dataframe thead th {\n",
       "        text-align: right;\n",
       "    }\n",
       "</style>\n",
       "<table border=\"1\" class=\"dataframe\">\n",
       "  <thead>\n",
       "    <tr style=\"text-align: right;\">\n",
       "      <th></th>\n",
       "      <th>Начальная</th>\n",
       "      <th>UpSampling</th>\n",
       "      <th>DownSampling</th>\n",
       "    </tr>\n",
       "  </thead>\n",
       "  <tbody>\n",
       "    <tr>\n",
       "      <td>1</td>\n",
       "      <td>1527</td>\n",
       "      <td>6108</td>\n",
       "      <td>1527</td>\n",
       "    </tr>\n",
       "    <tr>\n",
       "      <td>0</td>\n",
       "      <td>5973</td>\n",
       "      <td>5973</td>\n",
       "      <td>1493</td>\n",
       "    </tr>\n",
       "    <tr>\n",
       "      <td>TOTAL</td>\n",
       "      <td>7500</td>\n",
       "      <td>12081</td>\n",
       "      <td>3020</td>\n",
       "    </tr>\n",
       "  </tbody>\n",
       "</table>\n",
       "</div>"
      ],
      "text/plain": [
       "       Начальная  UpSampling  DownSampling\n",
       "1           1527        6108          1527\n",
       "0           5973        5973          1493\n",
       "TOTAL       7500       12081          3020"
      ]
     },
     "execution_count": 186,
     "metadata": {},
     "output_type": "execute_result"
    }
   ],
   "source": [
    "pd.DataFrame(data={'Начальная': [ X_train[y_train==1].shape[0], X_train[y_train==0].shape[0], X_train.shape[0] ],\n",
    "                    'UpSampling': [ X_train_up[y_train_up==1].shape[0], X_train_up[y_train_up==0].shape[0], X_train_up.shape[0] ],\n",
    "                    'DownSampling': [ X_train_dwn[y_train_dwn==1].shape[0], X_train_dwn[y_train_dwn==0].shape[0], X_train_dwn.shape[0] ] },\n",
    "             index=[1, 0, 'TOTAL'])"
   ]
  },
  {
   "cell_type": "markdown",
   "metadata": {
    "scrolled": true
   },
   "source": [
    "Данные по результатам тестирования моделей (без и с взвешиванием классов) у нас сохранены в датафреймах `not_balanced_chart` и `weighted_chart`. Теперь исследуем модели из списка `models` (без гиперпараметра учета взвешивания классов) на данных после `UpSampling` и после `DownSampling`, сохраним результаты в датафреймы `upsmpl_chart` и `downsmpl_chart` и выведем диаграммы изменения метрик для всех вариантов."
   ]
  },
  {
   "cell_type": "code",
   "execution_count": 187,
   "metadata": {},
   "outputs": [
    {
     "name": "stdout",
     "output_type": "stream",
     "text": [
      "LogisticRegression: \t F1 valid = 0.5024 (AUC_ROC valid = 0.7763)\n",
      " kNearestNeighbors: \t F1 valid = 0.5197 (AUC_ROC valid = 0.7951)\n",
      "      DesigionTree: \t F1 valid = 0.5063 (AUC_ROC valid = 0.6906)\n",
      "      RandomForest: \t F1 valid = 0.613 (AUC_ROC valid = 0.8486)\n",
      "     SGDClassifier: \t F1 valid = 0.4425 (AUC_ROC valid = 0.7112)\n"
     ]
    },
    {
     "data": {
      "text/html": [
       "<div>\n",
       "<style scoped>\n",
       "    .dataframe tbody tr th:only-of-type {\n",
       "        vertical-align: middle;\n",
       "    }\n",
       "\n",
       "    .dataframe tbody tr th {\n",
       "        vertical-align: top;\n",
       "    }\n",
       "\n",
       "    .dataframe thead th {\n",
       "        text-align: right;\n",
       "    }\n",
       "</style>\n",
       "<table border=\"1\" class=\"dataframe\">\n",
       "  <thead>\n",
       "    <tr style=\"text-align: right;\">\n",
       "      <th></th>\n",
       "      <th>name</th>\n",
       "      <th>f1_val</th>\n",
       "      <th>AUC-ROC_val</th>\n",
       "    </tr>\n",
       "  </thead>\n",
       "  <tbody>\n",
       "    <tr>\n",
       "      <td>0</td>\n",
       "      <td>RandomForest</td>\n",
       "      <td>0.6130</td>\n",
       "      <td>0.8486</td>\n",
       "    </tr>\n",
       "    <tr>\n",
       "      <td>1</td>\n",
       "      <td>kNearestNeighbors</td>\n",
       "      <td>0.5197</td>\n",
       "      <td>0.7951</td>\n",
       "    </tr>\n",
       "    <tr>\n",
       "      <td>2</td>\n",
       "      <td>LogisticRegression</td>\n",
       "      <td>0.5024</td>\n",
       "      <td>0.7763</td>\n",
       "    </tr>\n",
       "    <tr>\n",
       "      <td>3</td>\n",
       "      <td>SGDClassifier</td>\n",
       "      <td>0.4425</td>\n",
       "      <td>0.7112</td>\n",
       "    </tr>\n",
       "    <tr>\n",
       "      <td>4</td>\n",
       "      <td>DesigionTree</td>\n",
       "      <td>0.5063</td>\n",
       "      <td>0.6906</td>\n",
       "    </tr>\n",
       "  </tbody>\n",
       "</table>\n",
       "</div>"
      ],
      "text/plain": [
       "                 name  f1_val  AUC-ROC_val\n",
       "0        RandomForest  0.6130       0.8486\n",
       "1   kNearestNeighbors  0.5197       0.7951\n",
       "2  LogisticRegression  0.5024       0.7763\n",
       "3       SGDClassifier  0.4425       0.7112\n",
       "4        DesigionTree  0.5063       0.6906"
      ]
     },
     "metadata": {},
     "output_type": "display_data"
    }
   ],
   "source": [
    "upsmpl_chart = model_casting(models, X_train_up, X_val, y_train_up, y_val, n_folds=0)\n",
    "display( upsmpl_chart.sort_values(by='AUC-ROC_val', ascending=False).reset_index(drop=True) )"
   ]
  },
  {
   "cell_type": "code",
   "execution_count": 188,
   "metadata": {},
   "outputs": [
    {
     "name": "stdout",
     "output_type": "stream",
     "text": [
      "LogisticRegression: \t F1 valid = 0.5079 (AUC_ROC valid = 0.7801)\n",
      " kNearestNeighbors: \t F1 valid = 0.546 (AUC_ROC valid = 0.8088)\n",
      "      DesigionTree: \t F1 valid = 0.4864 (AUC_ROC valid = 0.7008)\n",
      "      RandomForest: \t F1 valid = 0.5994 (AUC_ROC valid = 0.8524)\n",
      "     SGDClassifier: \t F1 valid = 0.4571 (AUC_ROC valid = 0.7301)\n"
     ]
    },
    {
     "data": {
      "text/html": [
       "<div>\n",
       "<style scoped>\n",
       "    .dataframe tbody tr th:only-of-type {\n",
       "        vertical-align: middle;\n",
       "    }\n",
       "\n",
       "    .dataframe tbody tr th {\n",
       "        vertical-align: top;\n",
       "    }\n",
       "\n",
       "    .dataframe thead th {\n",
       "        text-align: right;\n",
       "    }\n",
       "</style>\n",
       "<table border=\"1\" class=\"dataframe\">\n",
       "  <thead>\n",
       "    <tr style=\"text-align: right;\">\n",
       "      <th></th>\n",
       "      <th>name</th>\n",
       "      <th>f1_val</th>\n",
       "      <th>AUC-ROC_val</th>\n",
       "    </tr>\n",
       "  </thead>\n",
       "  <tbody>\n",
       "    <tr>\n",
       "      <td>0</td>\n",
       "      <td>RandomForest</td>\n",
       "      <td>0.5994</td>\n",
       "      <td>0.8524</td>\n",
       "    </tr>\n",
       "    <tr>\n",
       "      <td>1</td>\n",
       "      <td>kNearestNeighbors</td>\n",
       "      <td>0.5460</td>\n",
       "      <td>0.8088</td>\n",
       "    </tr>\n",
       "    <tr>\n",
       "      <td>2</td>\n",
       "      <td>LogisticRegression</td>\n",
       "      <td>0.5079</td>\n",
       "      <td>0.7801</td>\n",
       "    </tr>\n",
       "    <tr>\n",
       "      <td>3</td>\n",
       "      <td>SGDClassifier</td>\n",
       "      <td>0.4571</td>\n",
       "      <td>0.7301</td>\n",
       "    </tr>\n",
       "    <tr>\n",
       "      <td>4</td>\n",
       "      <td>DesigionTree</td>\n",
       "      <td>0.4864</td>\n",
       "      <td>0.7008</td>\n",
       "    </tr>\n",
       "  </tbody>\n",
       "</table>\n",
       "</div>"
      ],
      "text/plain": [
       "                 name  f1_val  AUC-ROC_val\n",
       "0        RandomForest  0.5994       0.8524\n",
       "1   kNearestNeighbors  0.5460       0.8088\n",
       "2  LogisticRegression  0.5079       0.7801\n",
       "3       SGDClassifier  0.4571       0.7301\n",
       "4        DesigionTree  0.4864       0.7008"
      ]
     },
     "metadata": {},
     "output_type": "display_data"
    }
   ],
   "source": [
    "dwnsmpl_chart = model_casting(models, X_train_dwn, X_val, y_train_dwn, y_val, n_folds=0)\n",
    "display( dwnsmpl_chart.sort_values(by='AUC-ROC_val', ascending=False).reset_index(drop=True) )"
   ]
  },
  {
   "cell_type": "code",
   "execution_count": 189,
   "metadata": {},
   "outputs": [
    {
     "data": {
      "image/png": "[encoded data removed]",
      "text/plain": [
       "<Figure size 1224x720 with 2 Axes>"
      ]
     },
     "metadata": {},
     "output_type": "display_data"
    }
   ],
   "source": [
    "fig, (ax1, ax2) = plt.subplots(1, 2, figsize=(17, 10), sharey=True)\n",
    "\n",
    "yUp = not_balanced_chart.index + .17\n",
    "yWght = not_balanced_chart.index\n",
    "y0 = not_balanced_chart.index -.17\n",
    "yDwn = not_balanced_chart.index - .34\n",
    "\n",
    "for ax, col, head in [\n",
    "    [ax1, 'f1_val', 'f1. Валидационная выборка'],\n",
    "    [ax2, 'AUC-ROC_val', 'AUC-ROC. Валидационная выборка' ] ]:\n",
    "    \n",
    "    ax.barh(y=yUp, width=upsmpl_chart[col], height=.17, color='maroon', label = 'UpSampling')\n",
    "    ax.barh(y=yWght, width=weighted_chart[col], height=.17, color='lightgreen', label = 'Weighted')\n",
    "    ax.barh(y=y0, width=not_balanced_chart[col], height=.17, color='darkgrey', label = 'Normal')\n",
    "    ax.barh(y=yDwn, width=dwnsmpl_chart[col], height=.17, color='blue', label = 'DownSampling')\n",
    "        \n",
    "    ax.set_title(head, pad = 10, fontsize=15)\n",
    "    ax.grid(axis = 'y')\n",
    "    ax.yaxis.set_major_locator(ticker.MultipleLocator(1))\n",
    "    ax.set_yticks(range(0, 5))                                   #  (0, 4) изменено на (0, 5)\n",
    "    ax.set_yticklabels(not_balanced_chart['name'], fontsize=14)\n",
    "\n",
    "ax1.legend(fontsize=13, loc='upper left', shadow=True)\n",
    "\n",
    "plt.show()"
   ]
  },
  {
   "cell_type": "markdown",
   "metadata": {},
   "source": [
    "Из диаграмм делаем очевидный вывод: наилучшие результаты показывает модель **случайный лес** без взвешивания классов (`AUC-ROC` практически не зависит от применения этого параметра) на данных `UpSampling` (на валидационной выборке только эти данные позволяют добиться `f1` больше `0.6`)\n",
    "\n",
    "Подберем параметры модели с помощью `GridSearchCV`, максимизируя метрику `f1`:"
   ]
  },
  {
   "cell_type": "code",
   "execution_count": 190,
   "metadata": {},
   "outputs": [
    {
     "name": "stdout",
     "output_type": "stream",
     "text": [
      "Оптимальное значение depth: 11\n",
      "Оптимальное значение min_sample_leaf: 3\n",
      "Оптимальное значение min_samples_split: 7\n",
      "Оптимальное значение n_estimators: 85\n",
      "Лучшее значение f1: 0.8666905275138739 \n",
      "\n",
      "Wall time: 35 s\n"
     ]
    }
   ],
   "source": [
    "%%time\n",
    "\n",
    "model_prms = {\n",
    "    'max_depth': [10, 11],\n",
    "    'min_samples_leaf': [3, 4],\n",
    "    'min_samples_split': [7, 9],\n",
    "    'n_estimators': [80, 85, 90]\n",
    "}\n",
    "\n",
    "rf_model = RandomForestClassifier(random_state=RND_ST)\n",
    "rf = GridSearchCV(rf_model, model_prms, scoring='f1', cv = 5, n_jobs = -1)\n",
    "rf.fit(X_train_up, y_train_up)\n",
    "\n",
    "print(f'Оптимальное значение depth: {rf.best_params_[\"max_depth\"]}')\n",
    "print(f'Оптимальное значение min_sample_leaf: {rf.best_params_[\"min_samples_leaf\"]}')\n",
    "print(f'Оптимальное значение min_samples_split: {rf.best_params_[\"min_samples_split\"]}')\n",
    "print(f'Оптимальное значение n_estimators: {rf.best_params_[\"n_estimators\"]}')\n",
    "print(f'Лучшее значение f1: {rf.best_score_} \\n')"
   ]
  },
  {
   "cell_type": "markdown",
   "metadata": {},
   "source": [
    "### Вывод"
   ]
  },
  {
   "cell_type": "markdown",
   "metadata": {},
   "source": [
    "Определили наилучшую по метрикам `f1` и `AUC-ROC` модель - это модель **случайного леса**. Подобрали с помощью класса `GridSearchCV` оптимальные параметры модели, максимизируя `f1`."
   ]
  },
  {
   "cell_type": "markdown",
   "metadata": {},
   "source": [
    "## Тестирование модели"
   ]
  },
  {
   "cell_type": "markdown",
   "metadata": {},
   "source": [
    "Из предыдущего раздела мы выбрали модель **случайный лес**, с помощью класса `GridSearchCV` нашли оптимальные параметры модели. Инициируем модель с оптимальными параметрами, обучим на тренировочных UpSampled данных и протестируем на валидационной выборке замерив метрики `f1` и `AUC-ROC`."
   ]
  },
  {
   "cell_type": "code",
   "execution_count": 191,
   "metadata": {},
   "outputs": [
    {
     "name": "stdout",
     "output_type": "stream",
     "text": [
      "f1 лучшей модели: 0.6309\n",
      "AUC-ROC лучшей модели: 0.8620\n"
     ]
    }
   ],
   "source": [
    "rf_best_model = RandomForestClassifier(max_depth = rf.best_params_[\"max_depth\"],\n",
    "                                       min_samples_leaf = rf.best_params_[\"min_samples_leaf\"],\n",
    "                                       min_samples_split = rf.best_params_[\"min_samples_split\"],\n",
    "                                       n_estimators = rf.best_params_[\"n_estimators\"],\n",
    "                                       n_jobs = -1,\n",
    "                                       random_state = RND_ST)\n",
    "\n",
    "rf_best_model.fit(X_train_up, y_train_up)\n",
    "y_val_predict = rf_best_model.predict(X_val)\n",
    "f1_val_best_model = f1_score(y_val, y_val_predict)\n",
    "\n",
    "proba_best_model_val = rf_best_model.predict_proba(X_val)\n",
    "proba_best_model_val_positive = proba_best_model_val[:, 1]\n",
    "auc_roc_best_model = roc_auc_score(y_val, proba_best_model_val_positive)\n",
    "\n",
    "print('f1 лучшей модели:', '{:.4f}'.format(f1_val_best_model))\n",
    "print('AUC-ROC лучшей модели:', '{:.4f}'.format(auc_roc_best_model))"
   ]
  },
  {
   "cell_type": "markdown",
   "metadata": {},
   "source": [
    "Построим **ROC** кривую \n",
    "\n",
    "*(уменьшим в 3 раза число координат для более быстрой работы, качество графика при этом не ухудшится)*"
   ]
  },
  {
   "cell_type": "code",
   "execution_count": 192,
   "metadata": {},
   "outputs": [],
   "source": [
    "fpr, tpr, thresholds = roc_curve(y_val, proba_best_model_val_positive)"
   ]
  },
  {
   "cell_type": "code",
   "execution_count": 193,
   "metadata": {},
   "outputs": [
    {
     "data": {
      "image/png": "[encoded data removed]",
      "text/plain": [
       "<Figure size 432x432 with 1 Axes>"
      ]
     },
     "metadata": {},
     "output_type": "display_data"
    }
   ],
   "source": [
    "fig, ax = plt.subplots(figsize=(6,6))\n",
    "\n",
    "sns.lineplot(x=fpr[::3], y=tpr[::3], color='red')\n",
    "sns.lineplot(x=[0, 1], y=[0, 1], color='blue', linestyle='--')\n",
    "\n",
    "ax.text(0.47, 0.52, \"random модель\", rotation=45, size=12, ha=\"center\", va=\"center\")\n",
    "ax.set_xlim([-0.015, 1])\n",
    "ax.set_ylim([0, 1.015])\n",
    "ax.set_title('ROC кривая', fontsize=16)\n",
    "ax.set_xlabel('False Positive Rate', fontsize=14)\n",
    "ax.set_ylabel('True Positive Rate', fontsize=14)\n",
    "\n",
    "plt.show()"
   ]
  },
  {
   "cell_type": "markdown",
   "metadata": {},
   "source": [
    "### Вывод"
   ]
  },
  {
   "cell_type": "markdown",
   "metadata": {},
   "source": [
    "По итогам тестирования моделей:\n",
    "- логистическая регрессия `LogisticRegression`;\n",
    "- метод ближайших k соседей `KNeighborsClassifier`;\n",
    "- решающее дерево `DecisionTreeClassifier`;\n",
    "- случайный лес `RandomForestClassifier`\n",
    "\n",
    "на несбалансированной, сбалансированной (взвешивание классов, UpSampling/DownSampling) наиболее эфективной моделью классификации оказалась модель **случайный лес** (`RandomForestClassifier`).\n",
    "\n",
    "Применив класс `GridSearchCV` с максимизацией метрики `f1` найдены оптимальные параметры модели на тренировочной UpSampling выборке при кросс-валидации `cv=5`:\n",
    "- Оптимальное значение `depth`: 11\n",
    "- Оптимальное значение `min_sample_leaf`: 3\n",
    "- Оптимальное значение `min_samples_split`: 7\n",
    "- Оптимальное значение `n_estimators`: 85\n",
    "- Лучшее значение `f1`: 0.8666905275138739\n",
    "\n",
    "На валидационной выборке модель с этими параметрами показала:\n",
    "- f1 лучшей модели: 0.6309 *( > 0.59)*\n",
    "- AUC-ROC лучшей модели: 0.8620"
   ]
  },
  {
   "cell_type": "markdown",
   "metadata": {},
   "source": [
    "## Чек-лист готовности проекта"
   ]
  },
  {
   "cell_type": "markdown",
   "metadata": {},
   "source": [
    "Поставьте 'x' в выполненных пунктах. Далее нажмите Shift+Enter."
   ]
  },
  {
   "cell_type": "markdown",
   "metadata": {},
   "source": [
    "- [x]  Jupyter Notebook открыт\n",
    "- [x]  Весь код выполняется без ошибок\n",
    "- [x]  Ячейки с кодом расположены в порядке исполнения\n",
    "- [x]  Выполнен шаг 1: данные подготовлены\n",
    "- [x]  Выполнен шаг 2: задача исследована\n",
    "    - [x]  Исследован баланс классов\n",
    "    - [x]  Изучены модели без учёта дисбаланса\n",
    "    - [x]  Написаны выводы по результатам исследования\n",
    "- [x]  Выполнен шаг 3: учтён дисбаланс\n",
    "    - [x]  Применено несколько способов борьбы с дисбалансом\n",
    "    - [x]  Написаны выводы по результатам исследования\n",
    "- [x]  Выполнен шаг 4: проведено тестирование\n",
    "- [x]  Удалось достичь *F1*-меры не менее 0.59\n",
    "- [x]  Исследована метрика *AUC-ROC*"
   ]
  }
 ],
 "metadata": {
  "ExecuteTimeLog": [
   {
    "duration": 1105,
    "start_time": "2021-12-27T12:21:47.880Z"
   },
   {
    "duration": 7280,
    "start_time": "2021-12-27T12:21:59.567Z"
   },
   {
    "duration": 468,
    "start_time": "2021-12-27T12:22:11.027Z"
   },
   {
    "duration": 1505,
    "start_time": "2021-12-27T12:22:32.028Z"
   },
   {
    "duration": 81,
    "start_time": "2021-12-27T12:23:00.514Z"
   },
   {
    "duration": 334,
    "start_time": "2021-12-27T12:24:25.370Z"
   },
   {
    "duration": 3367,
    "start_time": "2021-12-27T12:24:50.468Z"
   },
   {
    "duration": 1584,
    "start_time": "2021-12-27T12:26:10.764Z"
   },
   {
    "duration": 292,
    "start_time": "2021-12-27T12:26:15.980Z"
   },
   {
    "duration": 4,
    "start_time": "2021-12-27T12:26:37.149Z"
   },
   {
    "duration": 4,
    "start_time": "2021-12-27T12:26:45.067Z"
   },
   {
    "duration": 5138,
    "start_time": "2021-12-27T12:28:31.179Z"
   },
   {
    "duration": 5749,
    "start_time": "2021-12-27T12:29:29.565Z"
   },
   {
    "duration": 4212,
    "start_time": "2021-12-27T12:31:01.197Z"
   },
   {
    "duration": 54,
    "start_time": "2021-12-27T12:31:21.421Z"
   },
   {
    "duration": 842,
    "start_time": "2021-12-27T12:31:35.834Z"
   },
   {
    "duration": 29846,
    "start_time": "2021-12-27T12:33:28.639Z"
   },
   {
    "duration": 16394,
    "start_time": "2021-12-27T12:35:14.527Z"
   },
   {
    "duration": 4,
    "start_time": "2021-12-27T12:37:49.713Z"
   },
   {
    "duration": 11080,
    "start_time": "2021-12-27T12:37:55.779Z"
   },
   {
    "duration": 23013,
    "start_time": "2021-12-27T12:50:47.678Z"
   },
   {
    "duration": 71,
    "start_time": "2021-12-27T12:53:35.619Z"
   },
   {
    "duration": 20721,
    "start_time": "2021-12-27T12:53:50.841Z"
   },
   {
    "duration": 3966,
    "start_time": "2021-12-27T12:55:30.827Z"
   },
   {
    "duration": 2082,
    "start_time": "2021-12-27T12:59:23.973Z"
   },
   {
    "duration": 4,
    "start_time": "2021-12-27T13:03:19.447Z"
   },
   {
    "duration": 1120,
    "start_time": "2021-12-27T18:14:40.130Z"
   },
   {
    "duration": 48,
    "start_time": "2021-12-27T18:14:41.875Z"
   },
   {
    "duration": 29,
    "start_time": "2021-12-27T18:14:50.969Z"
   },
   {
    "duration": 534,
    "start_time": "2021-12-27T18:17:21.891Z"
   },
   {
    "duration": 7,
    "start_time": "2021-12-27T18:17:30.077Z"
   },
   {
    "duration": 32,
    "start_time": "2021-12-27T18:17:35.216Z"
   },
   {
    "duration": 417,
    "start_time": "2021-12-27T18:17:48.539Z"
   },
   {
    "duration": 4,
    "start_time": "2021-12-27T18:17:53.801Z"
   },
   {
    "duration": 260,
    "start_time": "2021-12-27T18:17:53.808Z"
   },
   {
    "duration": 19,
    "start_time": "2021-12-27T18:17:54.071Z"
   },
   {
    "duration": 6,
    "start_time": "2021-12-27T18:17:56.405Z"
   },
   {
    "duration": 40,
    "start_time": "2021-12-27T18:17:57.571Z"
   },
   {
    "duration": 430,
    "start_time": "2021-12-27T18:18:25.655Z"
   },
   {
    "duration": 3,
    "start_time": "2021-12-27T18:18:33.756Z"
   },
   {
    "duration": 38,
    "start_time": "2021-12-27T18:18:33.762Z"
   },
   {
    "duration": 18,
    "start_time": "2021-12-27T18:18:33.803Z"
   },
   {
    "duration": 7,
    "start_time": "2021-12-27T18:18:35.245Z"
   },
   {
    "duration": 6,
    "start_time": "2021-12-27T18:18:39.139Z"
   },
   {
    "duration": 350,
    "start_time": "2021-12-27T18:19:24.691Z"
   },
   {
    "duration": 4,
    "start_time": "2021-12-27T18:19:35.053Z"
   },
   {
    "duration": 37,
    "start_time": "2021-12-27T18:19:35.059Z"
   },
   {
    "duration": 18,
    "start_time": "2021-12-27T18:19:35.099Z"
   },
   {
    "duration": 5,
    "start_time": "2021-12-27T18:19:37.510Z"
   },
   {
    "duration": 7,
    "start_time": "2021-12-27T18:19:40.871Z"
   },
   {
    "duration": 4,
    "start_time": "2021-12-27T18:19:51.846Z"
   },
   {
    "duration": 27,
    "start_time": "2021-12-27T18:19:56.502Z"
   },
   {
    "duration": 11,
    "start_time": "2021-12-27T18:21:23.899Z"
   },
   {
    "duration": 35,
    "start_time": "2021-12-27T18:22:04.103Z"
   },
   {
    "duration": 53,
    "start_time": "2021-12-27T18:22:34.057Z"
   },
   {
    "duration": 4,
    "start_time": "2021-12-27T18:25:33.312Z"
   },
   {
    "duration": 53,
    "start_time": "2021-12-27T18:25:35.290Z"
   },
   {
    "duration": 3,
    "start_time": "2021-12-27T18:25:54.535Z"
   },
   {
    "duration": 50,
    "start_time": "2021-12-27T18:25:56.546Z"
   },
   {
    "duration": 4,
    "start_time": "2021-12-27T18:26:13.828Z"
   },
   {
    "duration": 59,
    "start_time": "2021-12-27T18:26:15.925Z"
   },
   {
    "duration": 10306,
    "start_time": "2021-12-27T18:36:10.486Z"
   },
   {
    "duration": 9755,
    "start_time": "2021-12-27T18:36:24.973Z"
   },
   {
    "duration": 9105,
    "start_time": "2021-12-27T18:36:50.822Z"
   },
   {
    "duration": 391,
    "start_time": "2021-12-27T18:37:45.699Z"
   },
   {
    "duration": 367,
    "start_time": "2021-12-27T18:38:03.303Z"
   },
   {
    "duration": 375,
    "start_time": "2021-12-27T18:38:30.164Z"
   },
   {
    "duration": 367,
    "start_time": "2021-12-27T18:39:09.829Z"
   },
   {
    "duration": 3,
    "start_time": "2021-12-27T18:40:20.220Z"
   },
   {
    "duration": 7,
    "start_time": "2021-12-27T18:40:20.226Z"
   },
   {
    "duration": 50,
    "start_time": "2021-12-27T18:40:20.236Z"
   },
   {
    "duration": 6,
    "start_time": "2021-12-27T18:40:20.289Z"
   },
   {
    "duration": 6,
    "start_time": "2021-12-27T18:40:20.297Z"
   },
   {
    "duration": 12,
    "start_time": "2021-12-27T18:40:20.305Z"
   },
   {
    "duration": 54,
    "start_time": "2021-12-27T18:40:20.320Z"
   },
   {
    "duration": 96,
    "start_time": "2021-12-27T18:40:20.377Z"
   },
   {
    "duration": 405,
    "start_time": "2021-12-27T18:40:23.056Z"
   },
   {
    "duration": 290,
    "start_time": "2021-12-27T18:40:42.158Z"
   },
   {
    "duration": 617,
    "start_time": "2021-12-27T18:41:29.231Z"
   },
   {
    "duration": 285,
    "start_time": "2021-12-27T18:41:37.925Z"
   },
   {
    "duration": 469,
    "start_time": "2021-12-27T18:43:39.538Z"
   },
   {
    "duration": 389,
    "start_time": "2021-12-27T18:43:53.994Z"
   },
   {
    "duration": 686,
    "start_time": "2021-12-27T18:44:29.749Z"
   },
   {
    "duration": 281,
    "start_time": "2021-12-27T18:44:35.396Z"
   },
   {
    "duration": 358,
    "start_time": "2021-12-27T18:47:39.823Z"
   },
   {
    "duration": 678,
    "start_time": "2021-12-27T18:47:46.912Z"
   },
   {
    "duration": 417,
    "start_time": "2021-12-27T18:49:23.858Z"
   },
   {
    "duration": 3755,
    "start_time": "2021-12-27T18:49:56.972Z"
   },
   {
    "duration": 1530,
    "start_time": "2021-12-27T18:50:11.762Z"
   },
   {
    "duration": 4,
    "start_time": "2021-12-27T18:50:20.186Z"
   },
   {
    "duration": 3258,
    "start_time": "2021-12-27T18:50:20.193Z"
   },
   {
    "duration": 4,
    "start_time": "2021-12-27T18:50:23.455Z"
   },
   {
    "duration": 70,
    "start_time": "2021-12-27T18:50:23.462Z"
   },
   {
    "duration": 6,
    "start_time": "2021-12-27T18:50:23.535Z"
   },
   {
    "duration": 15,
    "start_time": "2021-12-27T18:50:23.544Z"
   },
   {
    "duration": 16,
    "start_time": "2021-12-27T18:50:23.562Z"
   },
   {
    "duration": 29,
    "start_time": "2021-12-27T18:50:23.581Z"
   },
   {
    "duration": 69,
    "start_time": "2021-12-27T18:50:23.613Z"
   },
   {
    "duration": 565,
    "start_time": "2021-12-27T18:50:28.389Z"
   },
   {
    "duration": 411,
    "start_time": "2021-12-27T18:51:01.857Z"
   },
   {
    "duration": 1682,
    "start_time": "2021-12-27T18:51:09.878Z"
   },
   {
    "duration": 4,
    "start_time": "2021-12-27T18:51:17.281Z"
   },
   {
    "duration": 4,
    "start_time": "2021-12-27T18:51:17.289Z"
   },
   {
    "duration": 4,
    "start_time": "2021-12-27T18:51:17.305Z"
   },
   {
    "duration": 59,
    "start_time": "2021-12-27T18:51:17.312Z"
   },
   {
    "duration": 8,
    "start_time": "2021-12-27T18:51:17.375Z"
   },
   {
    "duration": 6,
    "start_time": "2021-12-27T18:51:17.385Z"
   },
   {
    "duration": 13,
    "start_time": "2021-12-27T18:51:17.394Z"
   },
   {
    "duration": 64,
    "start_time": "2021-12-27T18:51:17.409Z"
   },
   {
    "duration": 483,
    "start_time": "2021-12-27T18:51:20.881Z"
   },
   {
    "duration": 3509,
    "start_time": "2021-12-27T18:51:50.662Z"
   },
   {
    "duration": 1501,
    "start_time": "2021-12-27T18:52:21.944Z"
   },
   {
    "duration": 3,
    "start_time": "2021-12-27T18:52:29.866Z"
   },
   {
    "duration": 6,
    "start_time": "2021-12-27T18:52:29.872Z"
   },
   {
    "duration": 3,
    "start_time": "2021-12-27T18:52:29.881Z"
   },
   {
    "duration": 72,
    "start_time": "2021-12-27T18:52:29.887Z"
   },
   {
    "duration": 7,
    "start_time": "2021-12-27T18:52:29.961Z"
   },
   {
    "duration": 9,
    "start_time": "2021-12-27T18:52:29.970Z"
   },
   {
    "duration": 13,
    "start_time": "2021-12-27T18:52:29.982Z"
   },
   {
    "duration": 25,
    "start_time": "2021-12-27T18:52:29.998Z"
   },
   {
    "duration": 93,
    "start_time": "2021-12-27T18:52:30.025Z"
   },
   {
    "duration": 966,
    "start_time": "2021-12-27T18:52:36.725Z"
   },
   {
    "duration": 360,
    "start_time": "2021-12-27T18:52:42.433Z"
   },
   {
    "duration": 4342,
    "start_time": "2021-12-27T18:54:26.221Z"
   },
   {
    "duration": 1480,
    "start_time": "2021-12-27T18:54:46.019Z"
   },
   {
    "duration": 3579,
    "start_time": "2021-12-27T18:54:47.502Z"
   },
   {
    "duration": 5,
    "start_time": "2021-12-27T18:54:51.085Z"
   },
   {
    "duration": 63,
    "start_time": "2021-12-27T18:54:51.093Z"
   },
   {
    "duration": 7,
    "start_time": "2021-12-27T18:54:51.158Z"
   },
   {
    "duration": 6,
    "start_time": "2021-12-27T18:54:51.167Z"
   },
   {
    "duration": 15,
    "start_time": "2021-12-27T18:54:51.175Z"
   },
   {
    "duration": 27,
    "start_time": "2021-12-27T18:54:51.193Z"
   },
   {
    "duration": 56,
    "start_time": "2021-12-27T18:54:51.259Z"
   },
   {
    "duration": 501,
    "start_time": "2021-12-27T18:54:55.036Z"
   },
   {
    "duration": 1916,
    "start_time": "2021-12-27T18:56:35.079Z"
   },
   {
    "duration": 675,
    "start_time": "2021-12-27T18:57:07.438Z"
   },
   {
    "duration": 740,
    "start_time": "2021-12-27T18:57:18.774Z"
   },
   {
    "duration": 576,
    "start_time": "2021-12-27T18:57:23.437Z"
   },
   {
    "duration": 556,
    "start_time": "2021-12-27T18:57:40.624Z"
   },
   {
    "duration": 580,
    "start_time": "2021-12-27T18:57:47.897Z"
   },
   {
    "duration": 788,
    "start_time": "2021-12-27T18:58:51.943Z"
   },
   {
    "duration": 426,
    "start_time": "2021-12-27T18:59:04.502Z"
   },
   {
    "duration": 748,
    "start_time": "2021-12-27T18:59:10.094Z"
   },
   {
    "duration": 680,
    "start_time": "2021-12-27T18:59:15.453Z"
   },
   {
    "duration": 601,
    "start_time": "2021-12-27T18:59:32.845Z"
   },
   {
    "duration": 603,
    "start_time": "2021-12-27T18:59:37.902Z"
   },
   {
    "duration": 644,
    "start_time": "2021-12-27T18:59:41.954Z"
   },
   {
    "duration": 618,
    "start_time": "2021-12-27T19:00:05.422Z"
   },
   {
    "duration": 616,
    "start_time": "2021-12-27T19:00:11.875Z"
   },
   {
    "duration": 781,
    "start_time": "2021-12-27T19:01:23.097Z"
   },
   {
    "duration": 627,
    "start_time": "2021-12-27T19:02:24.984Z"
   },
   {
    "duration": 654,
    "start_time": "2021-12-27T19:02:41.874Z"
   },
   {
    "duration": 625,
    "start_time": "2021-12-27T19:03:06.812Z"
   },
   {
    "duration": 571,
    "start_time": "2021-12-27T19:03:40.513Z"
   },
   {
    "duration": 637,
    "start_time": "2021-12-27T19:03:44.054Z"
   },
   {
    "duration": 1028,
    "start_time": "2021-12-27T19:04:00.489Z"
   },
   {
    "duration": 954,
    "start_time": "2021-12-27T19:04:48.922Z"
   },
   {
    "duration": 944,
    "start_time": "2021-12-27T19:04:57.783Z"
   },
   {
    "duration": 983,
    "start_time": "2021-12-27T19:05:27.259Z"
   },
   {
    "duration": 8,
    "start_time": "2021-12-27T19:07:16.359Z"
   },
   {
    "duration": 1261,
    "start_time": "2021-12-27T19:08:55.114Z"
   },
   {
    "duration": 881,
    "start_time": "2021-12-27T19:09:45.433Z"
   },
   {
    "duration": 1170,
    "start_time": "2021-12-27T19:10:06.783Z"
   },
   {
    "duration": 966,
    "start_time": "2021-12-27T19:10:40.744Z"
   },
   {
    "duration": 832,
    "start_time": "2021-12-27T19:10:58.911Z"
   },
   {
    "duration": 231,
    "start_time": "2021-12-27T19:11:05.440Z"
   },
   {
    "duration": 237,
    "start_time": "2021-12-27T19:12:24.355Z"
   },
   {
    "duration": 1458,
    "start_time": "2021-12-27T19:12:34.800Z"
   },
   {
    "duration": 235,
    "start_time": "2021-12-27T19:12:41.935Z"
   },
   {
    "duration": 252,
    "start_time": "2021-12-27T19:12:51.299Z"
   },
   {
    "duration": 355,
    "start_time": "2021-12-27T19:13:13.103Z"
   },
   {
    "duration": 359,
    "start_time": "2021-12-27T19:13:22.449Z"
   },
   {
    "duration": 562,
    "start_time": "2021-12-27T19:13:54.773Z"
   },
   {
    "duration": 435,
    "start_time": "2021-12-27T19:17:00.952Z"
   },
   {
    "duration": 414,
    "start_time": "2021-12-27T19:20:02.020Z"
   },
   {
    "duration": 666,
    "start_time": "2021-12-27T19:20:16.816Z"
   },
   {
    "duration": 585,
    "start_time": "2021-12-27T19:20:41.389Z"
   },
   {
    "duration": 353,
    "start_time": "2021-12-27T19:22:30.115Z"
   },
   {
    "duration": 239,
    "start_time": "2021-12-27T19:22:35.210Z"
   },
   {
    "duration": 5,
    "start_time": "2021-12-27T19:23:04.671Z"
   },
   {
    "duration": 375,
    "start_time": "2021-12-27T19:23:30.750Z"
   },
   {
    "duration": 245,
    "start_time": "2021-12-27T19:23:44.608Z"
   },
   {
    "duration": 243,
    "start_time": "2021-12-27T19:23:51.359Z"
   },
   {
    "duration": 366,
    "start_time": "2021-12-27T19:24:02.781Z"
   },
   {
    "duration": 250,
    "start_time": "2021-12-27T19:24:09.339Z"
   },
   {
    "duration": 864,
    "start_time": "2021-12-27T19:24:44.951Z"
   },
   {
    "duration": 327,
    "start_time": "2021-12-27T19:24:50.721Z"
   },
   {
    "duration": 289,
    "start_time": "2021-12-27T19:25:13.650Z"
   },
   {
    "duration": 271,
    "start_time": "2021-12-27T19:26:00.250Z"
   },
   {
    "duration": 252,
    "start_time": "2021-12-27T19:26:05.522Z"
   },
   {
    "duration": 256,
    "start_time": "2021-12-27T19:26:15.154Z"
   },
   {
    "duration": 783,
    "start_time": "2021-12-27T19:26:44.740Z"
   },
   {
    "duration": 790,
    "start_time": "2021-12-27T19:27:02.728Z"
   },
   {
    "duration": 253,
    "start_time": "2021-12-27T19:27:07.152Z"
   },
   {
    "duration": 262,
    "start_time": "2021-12-27T19:27:40.962Z"
   },
   {
    "duration": 376,
    "start_time": "2021-12-27T19:28:02.956Z"
   },
   {
    "duration": 257,
    "start_time": "2021-12-27T19:28:16.142Z"
   },
   {
    "duration": 351,
    "start_time": "2021-12-27T19:28:20.694Z"
   },
   {
    "duration": 260,
    "start_time": "2021-12-27T19:28:39.352Z"
   },
   {
    "duration": 265,
    "start_time": "2021-12-27T19:29:08.934Z"
   },
   {
    "duration": 257,
    "start_time": "2021-12-27T19:29:24.016Z"
   },
   {
    "duration": 259,
    "start_time": "2021-12-27T19:29:34.020Z"
   },
   {
    "duration": 4,
    "start_time": "2021-12-27T19:29:54.442Z"
   },
   {
    "duration": 6,
    "start_time": "2021-12-27T19:29:54.448Z"
   },
   {
    "duration": 6,
    "start_time": "2021-12-27T19:29:54.457Z"
   },
   {
    "duration": 53,
    "start_time": "2021-12-27T19:29:54.466Z"
   },
   {
    "duration": 8,
    "start_time": "2021-12-27T19:29:54.522Z"
   },
   {
    "duration": 8,
    "start_time": "2021-12-27T19:29:54.533Z"
   },
   {
    "duration": 26,
    "start_time": "2021-12-27T19:29:54.544Z"
   },
   {
    "duration": 26,
    "start_time": "2021-12-27T19:29:54.574Z"
   },
   {
    "duration": 108,
    "start_time": "2021-12-27T19:29:54.604Z"
   },
   {
    "duration": 285,
    "start_time": "2021-12-27T19:29:54.715Z"
   },
   {
    "duration": 265,
    "start_time": "2021-12-27T19:30:11.863Z"
   },
   {
    "duration": 247,
    "start_time": "2021-12-27T19:30:28.940Z"
   },
   {
    "duration": 271,
    "start_time": "2021-12-27T19:30:44.378Z"
   },
   {
    "duration": 1439,
    "start_time": "2021-12-27T19:30:55.951Z"
   },
   {
    "duration": 4,
    "start_time": "2021-12-27T19:30:57.393Z"
   },
   {
    "duration": 4,
    "start_time": "2021-12-27T19:30:57.400Z"
   },
   {
    "duration": 72,
    "start_time": "2021-12-27T19:30:57.406Z"
   },
   {
    "duration": 6,
    "start_time": "2021-12-27T19:30:57.480Z"
   },
   {
    "duration": 5,
    "start_time": "2021-12-27T19:30:57.488Z"
   },
   {
    "duration": 13,
    "start_time": "2021-12-27T19:30:57.495Z"
   },
   {
    "duration": 54,
    "start_time": "2021-12-27T19:30:57.510Z"
   },
   {
    "duration": 57,
    "start_time": "2021-12-27T19:30:57.567Z"
   },
   {
    "duration": 284,
    "start_time": "2021-12-27T19:30:57.627Z"
   },
   {
    "duration": 257,
    "start_time": "2021-12-27T19:31:17.837Z"
   },
   {
    "duration": 256,
    "start_time": "2021-12-27T19:31:20.939Z"
   },
   {
    "duration": 242,
    "start_time": "2021-12-27T19:31:58.109Z"
   },
   {
    "duration": 10,
    "start_time": "2021-12-27T19:33:05.182Z"
   },
   {
    "duration": 10,
    "start_time": "2021-12-27T19:33:15.133Z"
   },
   {
    "duration": 14,
    "start_time": "2021-12-27T19:43:16.501Z"
   },
   {
    "duration": 17,
    "start_time": "2021-12-27T19:43:42.200Z"
   },
   {
    "duration": 4,
    "start_time": "2021-12-27T19:49:55.178Z"
   },
   {
    "duration": 6,
    "start_time": "2021-12-27T19:49:55.184Z"
   },
   {
    "duration": 5,
    "start_time": "2021-12-27T19:49:55.192Z"
   },
   {
    "duration": 4,
    "start_time": "2021-12-27T19:49:55.200Z"
   },
   {
    "duration": 54,
    "start_time": "2021-12-27T19:49:55.206Z"
   },
   {
    "duration": 6,
    "start_time": "2021-12-27T19:49:55.262Z"
   },
   {
    "duration": 5,
    "start_time": "2021-12-27T19:49:55.270Z"
   },
   {
    "duration": 16,
    "start_time": "2021-12-27T19:49:55.277Z"
   },
   {
    "duration": 66,
    "start_time": "2021-12-27T19:49:55.297Z"
   },
   {
    "duration": 47,
    "start_time": "2021-12-27T19:49:55.365Z"
   },
   {
    "duration": 10,
    "start_time": "2021-12-27T19:49:55.414Z"
   },
   {
    "duration": 246,
    "start_time": "2021-12-27T19:49:55.426Z"
   },
   {
    "duration": 3,
    "start_time": "2021-12-27T19:50:23.206Z"
   },
   {
    "duration": 7,
    "start_time": "2021-12-27T19:50:23.212Z"
   },
   {
    "duration": 8,
    "start_time": "2021-12-27T19:50:23.222Z"
   },
   {
    "duration": 11,
    "start_time": "2021-12-27T19:50:23.232Z"
   },
   {
    "duration": 52,
    "start_time": "2021-12-27T19:50:23.245Z"
   },
   {
    "duration": 6,
    "start_time": "2021-12-27T19:50:23.300Z"
   },
   {
    "duration": 10,
    "start_time": "2021-12-27T19:50:23.308Z"
   },
   {
    "duration": 16,
    "start_time": "2021-12-27T19:50:23.322Z"
   },
   {
    "duration": 26,
    "start_time": "2021-12-27T19:50:23.360Z"
   },
   {
    "duration": 49,
    "start_time": "2021-12-27T19:50:23.388Z"
   },
   {
    "duration": 11,
    "start_time": "2021-12-27T19:50:23.459Z"
   },
   {
    "duration": 274,
    "start_time": "2021-12-27T19:50:23.472Z"
   },
   {
    "duration": 97,
    "start_time": "2021-12-27T19:58:08.687Z"
   },
   {
    "duration": 701,
    "start_time": "2021-12-27T20:04:51.711Z"
   },
   {
    "duration": 556,
    "start_time": "2021-12-27T20:06:42.865Z"
   },
   {
    "duration": 1161,
    "start_time": "2021-12-27T20:06:56.197Z"
   },
   {
    "duration": 4,
    "start_time": "2021-12-27T20:07:11.438Z"
   },
   {
    "duration": 6,
    "start_time": "2021-12-27T20:07:19.631Z"
   },
   {
    "duration": 9,
    "start_time": "2021-12-27T20:10:12.657Z"
   },
   {
    "duration": 29,
    "start_time": "2021-12-27T20:10:15.887Z"
   },
   {
    "duration": 3,
    "start_time": "2021-12-27T20:10:40.579Z"
   },
   {
    "duration": 8,
    "start_time": "2021-12-27T20:10:40.585Z"
   },
   {
    "duration": 7,
    "start_time": "2021-12-27T20:10:40.596Z"
   },
   {
    "duration": 4,
    "start_time": "2021-12-27T20:10:40.606Z"
   },
   {
    "duration": 50,
    "start_time": "2021-12-27T20:10:40.613Z"
   },
   {
    "duration": 6,
    "start_time": "2021-12-27T20:10:40.666Z"
   },
   {
    "duration": 5,
    "start_time": "2021-12-27T20:10:40.675Z"
   },
   {
    "duration": 13,
    "start_time": "2021-12-27T20:10:40.683Z"
   },
   {
    "duration": 68,
    "start_time": "2021-12-27T20:10:40.700Z"
   },
   {
    "duration": 7,
    "start_time": "2021-12-27T20:10:43.245Z"
   },
   {
    "duration": 26,
    "start_time": "2021-12-27T20:10:45.091Z"
   },
   {
    "duration": 35,
    "start_time": "2021-12-27T20:10:59.588Z"
   },
   {
    "duration": 7,
    "start_time": "2021-12-27T20:11:11.182Z"
   },
   {
    "duration": 6,
    "start_time": "2021-12-27T20:11:15.216Z"
   },
   {
    "duration": 6,
    "start_time": "2021-12-27T20:11:21.925Z"
   },
   {
    "duration": 9,
    "start_time": "2021-12-27T20:11:28.735Z"
   },
   {
    "duration": 418,
    "start_time": "2021-12-27T20:11:52.639Z"
   },
   {
    "duration": 9,
    "start_time": "2021-12-27T20:12:21.861Z"
   },
   {
    "duration": 363,
    "start_time": "2021-12-27T20:14:02.679Z"
   },
   {
    "duration": 31,
    "start_time": "2021-12-27T20:15:46.158Z"
   },
   {
    "duration": 25,
    "start_time": "2021-12-27T20:16:13.528Z"
   },
   {
    "duration": 11,
    "start_time": "2021-12-27T20:16:22.500Z"
   },
   {
    "duration": 25,
    "start_time": "2021-12-27T20:16:25.217Z"
   },
   {
    "duration": 61,
    "start_time": "2021-12-27T20:17:26.840Z"
   },
   {
    "duration": 3,
    "start_time": "2021-12-27T20:17:58.116Z"
   },
   {
    "duration": 5,
    "start_time": "2021-12-27T20:17:58.122Z"
   },
   {
    "duration": 5,
    "start_time": "2021-12-27T20:17:58.129Z"
   },
   {
    "duration": 4,
    "start_time": "2021-12-27T20:17:58.137Z"
   },
   {
    "duration": 49,
    "start_time": "2021-12-27T20:17:58.143Z"
   },
   {
    "duration": 5,
    "start_time": "2021-12-27T20:17:58.196Z"
   },
   {
    "duration": 5,
    "start_time": "2021-12-27T20:17:58.204Z"
   },
   {
    "duration": 13,
    "start_time": "2021-12-27T20:17:58.211Z"
   },
   {
    "duration": 51,
    "start_time": "2021-12-27T20:17:58.226Z"
   },
   {
    "duration": 6,
    "start_time": "2021-12-27T20:17:58.280Z"
   },
   {
    "duration": 8,
    "start_time": "2021-12-27T20:17:58.288Z"
   },
   {
    "duration": 11,
    "start_time": "2021-12-27T20:17:58.298Z"
   },
   {
    "duration": 95,
    "start_time": "2021-12-27T20:17:58.311Z"
   },
   {
    "duration": 9,
    "start_time": "2021-12-27T20:17:58.410Z"
   },
   {
    "duration": 261,
    "start_time": "2021-12-27T20:17:58.421Z"
   },
   {
    "duration": 4,
    "start_time": "2021-12-27T20:18:47.964Z"
   },
   {
    "duration": 5,
    "start_time": "2021-12-27T20:18:50.422Z"
   },
   {
    "duration": 384,
    "start_time": "2021-12-27T20:20:00.571Z"
   },
   {
    "duration": 387,
    "start_time": "2021-12-27T20:25:55.068Z"
   },
   {
    "duration": 836,
    "start_time": "2021-12-27T20:31:25.028Z"
   },
   {
    "duration": 373,
    "start_time": "2021-12-27T20:31:40.562Z"
   },
   {
    "duration": 510,
    "start_time": "2021-12-27T20:33:14.925Z"
   },
   {
    "duration": 467,
    "start_time": "2021-12-27T20:35:26.452Z"
   },
   {
    "duration": 5,
    "start_time": "2021-12-27T20:36:14.949Z"
   },
   {
    "duration": 451,
    "start_time": "2021-12-27T20:36:32.879Z"
   },
   {
    "duration": 3,
    "start_time": "2021-12-27T20:36:48.950Z"
   },
   {
    "duration": 6,
    "start_time": "2021-12-27T20:36:48.955Z"
   },
   {
    "duration": 3,
    "start_time": "2021-12-27T20:36:48.964Z"
   },
   {
    "duration": 4,
    "start_time": "2021-12-27T20:36:48.970Z"
   },
   {
    "duration": 51,
    "start_time": "2021-12-27T20:36:48.976Z"
   },
   {
    "duration": 6,
    "start_time": "2021-12-27T20:36:49.029Z"
   },
   {
    "duration": 25,
    "start_time": "2021-12-27T20:36:49.037Z"
   },
   {
    "duration": 12,
    "start_time": "2021-12-27T20:36:49.065Z"
   },
   {
    "duration": 25,
    "start_time": "2021-12-27T20:36:49.081Z"
   },
   {
    "duration": 7,
    "start_time": "2021-12-27T20:36:49.108Z"
   },
   {
    "duration": 44,
    "start_time": "2021-12-27T20:36:49.117Z"
   },
   {
    "duration": 12,
    "start_time": "2021-12-27T20:36:49.163Z"
   },
   {
    "duration": 89,
    "start_time": "2021-12-27T20:36:49.177Z"
   },
   {
    "duration": 11,
    "start_time": "2021-12-27T20:36:49.269Z"
   },
   {
    "duration": 268,
    "start_time": "2021-12-27T20:36:49.282Z"
   },
   {
    "duration": 4,
    "start_time": "2021-12-27T20:36:49.560Z"
   },
   {
    "duration": 4,
    "start_time": "2021-12-27T20:36:52.605Z"
   },
   {
    "duration": 277,
    "start_time": "2021-12-27T20:36:54.982Z"
   },
   {
    "duration": 19,
    "start_time": "2021-12-27T20:37:24.163Z"
   },
   {
    "duration": 501,
    "start_time": "2021-12-27T20:37:37.303Z"
   },
   {
    "duration": 3,
    "start_time": "2021-12-27T20:37:56.552Z"
   },
   {
    "duration": 5,
    "start_time": "2021-12-27T20:37:56.558Z"
   },
   {
    "duration": 7,
    "start_time": "2021-12-27T20:37:56.566Z"
   },
   {
    "duration": 6,
    "start_time": "2021-12-27T20:37:56.576Z"
   },
   {
    "duration": 56,
    "start_time": "2021-12-27T20:37:56.585Z"
   },
   {
    "duration": 15,
    "start_time": "2021-12-27T20:37:56.644Z"
   },
   {
    "duration": 4,
    "start_time": "2021-12-27T20:37:56.661Z"
   },
   {
    "duration": 11,
    "start_time": "2021-12-27T20:37:56.668Z"
   },
   {
    "duration": 26,
    "start_time": "2021-12-27T20:37:56.683Z"
   },
   {
    "duration": 7,
    "start_time": "2021-12-27T20:37:56.712Z"
   },
   {
    "duration": 9,
    "start_time": "2021-12-27T20:37:56.760Z"
   },
   {
    "duration": 13,
    "start_time": "2021-12-27T20:37:56.771Z"
   },
   {
    "duration": 86,
    "start_time": "2021-12-27T20:37:56.786Z"
   },
   {
    "duration": 10,
    "start_time": "2021-12-27T20:37:56.874Z"
   },
   {
    "duration": 272,
    "start_time": "2021-12-27T20:37:56.887Z"
   },
   {
    "duration": 4,
    "start_time": "2021-12-27T20:37:57.161Z"
   },
   {
    "duration": 7,
    "start_time": "2021-12-27T20:37:57.168Z"
   },
   {
    "duration": 285,
    "start_time": "2021-12-27T20:37:57.177Z"
   },
   {
    "duration": 448,
    "start_time": "2021-12-27T20:37:57.467Z"
   },
   {
    "duration": 3,
    "start_time": "2021-12-27T20:38:20.440Z"
   },
   {
    "duration": 8,
    "start_time": "2021-12-27T20:38:20.446Z"
   },
   {
    "duration": 7,
    "start_time": "2021-12-27T20:38:20.456Z"
   },
   {
    "duration": 4,
    "start_time": "2021-12-27T20:38:20.466Z"
   },
   {
    "duration": 51,
    "start_time": "2021-12-27T20:38:20.472Z"
   },
   {
    "duration": 5,
    "start_time": "2021-12-27T20:38:20.525Z"
   },
   {
    "duration": 9,
    "start_time": "2021-12-27T20:38:20.532Z"
   },
   {
    "duration": 11,
    "start_time": "2021-12-27T20:38:20.559Z"
   },
   {
    "duration": 25,
    "start_time": "2021-12-27T20:38:20.574Z"
   },
   {
    "duration": 8,
    "start_time": "2021-12-27T20:38:20.601Z"
   },
   {
    "duration": 10,
    "start_time": "2021-12-27T20:38:20.611Z"
   },
   {
    "duration": 12,
    "start_time": "2021-12-27T20:38:20.660Z"
   },
   {
    "duration": 59,
    "start_time": "2021-12-27T20:38:20.675Z"
   },
   {
    "duration": 31,
    "start_time": "2021-12-27T20:38:20.736Z"
   },
   {
    "duration": 260,
    "start_time": "2021-12-27T20:38:20.769Z"
   },
   {
    "duration": 4,
    "start_time": "2021-12-27T20:38:21.032Z"
   },
   {
    "duration": 21,
    "start_time": "2021-12-27T20:38:21.038Z"
   },
   {
    "duration": 305,
    "start_time": "2021-12-27T20:38:21.062Z"
   },
   {
    "duration": 11,
    "start_time": "2021-12-27T20:38:21.459Z"
   },
   {
    "duration": 393,
    "start_time": "2021-12-27T20:38:24.928Z"
   },
   {
    "duration": 7,
    "start_time": "2021-12-27T20:38:31.648Z"
   },
   {
    "duration": 3,
    "start_time": "2021-12-27T20:39:19.553Z"
   },
   {
    "duration": 6,
    "start_time": "2021-12-27T20:39:19.558Z"
   },
   {
    "duration": 5,
    "start_time": "2021-12-27T20:39:19.567Z"
   },
   {
    "duration": 4,
    "start_time": "2021-12-27T20:39:19.575Z"
   },
   {
    "duration": 49,
    "start_time": "2021-12-27T20:39:19.581Z"
   },
   {
    "duration": 30,
    "start_time": "2021-12-27T20:39:19.632Z"
   },
   {
    "duration": 5,
    "start_time": "2021-12-27T20:39:19.665Z"
   },
   {
    "duration": 11,
    "start_time": "2021-12-27T20:39:19.673Z"
   },
   {
    "duration": 24,
    "start_time": "2021-12-27T20:39:19.687Z"
   },
   {
    "duration": 50,
    "start_time": "2021-12-27T20:39:19.713Z"
   },
   {
    "duration": 8,
    "start_time": "2021-12-27T20:39:19.766Z"
   },
   {
    "duration": 14,
    "start_time": "2021-12-27T20:39:19.776Z"
   },
   {
    "duration": 83,
    "start_time": "2021-12-27T20:39:19.792Z"
   },
   {
    "duration": 11,
    "start_time": "2021-12-27T20:39:19.877Z"
   },
   {
    "duration": 271,
    "start_time": "2021-12-27T20:39:19.891Z"
   },
   {
    "duration": 4,
    "start_time": "2021-12-27T20:39:20.164Z"
   },
   {
    "duration": 4,
    "start_time": "2021-12-27T20:39:54.772Z"
   },
   {
    "duration": 66,
    "start_time": "2021-12-27T20:39:58.201Z"
   },
   {
    "duration": 350,
    "start_time": "2021-12-27T20:40:55.924Z"
   },
   {
    "duration": 4,
    "start_time": "2021-12-27T20:43:30.480Z"
   },
   {
    "duration": 20,
    "start_time": "2021-12-27T20:43:30.487Z"
   },
   {
    "duration": 12,
    "start_time": "2021-12-27T20:43:30.510Z"
   },
   {
    "duration": 11,
    "start_time": "2021-12-27T20:43:30.525Z"
   },
   {
    "duration": 65,
    "start_time": "2021-12-27T20:43:30.539Z"
   },
   {
    "duration": 7,
    "start_time": "2021-12-27T20:43:30.607Z"
   },
   {
    "duration": 20,
    "start_time": "2021-12-27T20:43:30.616Z"
   },
   {
    "duration": 25,
    "start_time": "2021-12-27T20:43:30.638Z"
   },
   {
    "duration": 35,
    "start_time": "2021-12-27T20:43:30.667Z"
   },
   {
    "duration": 18,
    "start_time": "2021-12-27T20:43:30.705Z"
   },
   {
    "duration": 27,
    "start_time": "2021-12-27T20:43:30.727Z"
   },
   {
    "duration": 16,
    "start_time": "2021-12-27T20:43:30.757Z"
   },
   {
    "duration": 63,
    "start_time": "2021-12-27T20:43:30.775Z"
   },
   {
    "duration": 29,
    "start_time": "2021-12-27T20:43:30.840Z"
   },
   {
    "duration": 272,
    "start_time": "2021-12-27T20:43:30.871Z"
   },
   {
    "duration": 14,
    "start_time": "2021-12-27T20:43:31.146Z"
   },
   {
    "duration": 4,
    "start_time": "2021-12-27T20:43:43.661Z"
   },
   {
    "duration": 4,
    "start_time": "2021-12-27T20:43:46.812Z"
   },
   {
    "duration": 21,
    "start_time": "2021-12-27T20:43:49.286Z"
   },
   {
    "duration": 4,
    "start_time": "2021-12-27T20:47:55.255Z"
   },
   {
    "duration": 3,
    "start_time": "2021-12-27T20:47:59.836Z"
   },
   {
    "duration": 8,
    "start_time": "2021-12-27T20:47:59.842Z"
   },
   {
    "duration": 4,
    "start_time": "2021-12-27T20:47:59.854Z"
   },
   {
    "duration": 7,
    "start_time": "2021-12-27T20:47:59.860Z"
   },
   {
    "duration": 50,
    "start_time": "2021-12-27T20:47:59.869Z"
   },
   {
    "duration": 6,
    "start_time": "2021-12-27T20:47:59.921Z"
   },
   {
    "duration": 6,
    "start_time": "2021-12-27T20:47:59.929Z"
   },
   {
    "duration": 31,
    "start_time": "2021-12-27T20:47:59.937Z"
   },
   {
    "duration": 36,
    "start_time": "2021-12-27T20:47:59.972Z"
   },
   {
    "duration": 6,
    "start_time": "2021-12-27T20:48:00.011Z"
   },
   {
    "duration": 45,
    "start_time": "2021-12-27T20:48:00.019Z"
   },
   {
    "duration": 14,
    "start_time": "2021-12-27T20:48:00.066Z"
   },
   {
    "duration": 92,
    "start_time": "2021-12-27T20:48:00.082Z"
   },
   {
    "duration": 11,
    "start_time": "2021-12-27T20:48:00.176Z"
   },
   {
    "duration": 282,
    "start_time": "2021-12-27T20:48:00.190Z"
   },
   {
    "duration": 4,
    "start_time": "2021-12-27T20:48:02.780Z"
   },
   {
    "duration": 4,
    "start_time": "2021-12-27T20:48:05.068Z"
   },
   {
    "duration": 389,
    "start_time": "2021-12-27T20:48:07.751Z"
   },
   {
    "duration": 4,
    "start_time": "2021-12-27T20:50:02.045Z"
   },
   {
    "duration": 10,
    "start_time": "2021-12-27T20:50:02.053Z"
   },
   {
    "duration": 8,
    "start_time": "2021-12-27T20:50:02.067Z"
   },
   {
    "duration": 9,
    "start_time": "2021-12-27T20:50:02.079Z"
   },
   {
    "duration": 84,
    "start_time": "2021-12-27T20:50:02.091Z"
   },
   {
    "duration": 5,
    "start_time": "2021-12-27T20:50:02.178Z"
   },
   {
    "duration": 9,
    "start_time": "2021-12-27T20:50:02.186Z"
   },
   {
    "duration": 29,
    "start_time": "2021-12-27T20:50:02.198Z"
   },
   {
    "duration": 40,
    "start_time": "2021-12-27T20:50:02.230Z"
   },
   {
    "duration": 9,
    "start_time": "2021-12-27T20:50:02.273Z"
   },
   {
    "duration": 10,
    "start_time": "2021-12-27T20:50:02.285Z"
   },
   {
    "duration": 16,
    "start_time": "2021-12-27T20:50:02.298Z"
   },
   {
    "duration": 95,
    "start_time": "2021-12-27T20:50:02.317Z"
   },
   {
    "duration": 11,
    "start_time": "2021-12-27T20:50:02.415Z"
   },
   {
    "duration": 366,
    "start_time": "2021-12-27T20:50:02.429Z"
   },
   {
    "duration": 4,
    "start_time": "2021-12-27T20:50:05.197Z"
   },
   {
    "duration": 356,
    "start_time": "2021-12-27T20:50:08.557Z"
   },
   {
    "duration": 3,
    "start_time": "2021-12-27T20:50:22.037Z"
   },
   {
    "duration": 374,
    "start_time": "2021-12-27T20:50:25.564Z"
   },
   {
    "duration": 48,
    "start_time": "2021-12-27T20:50:55.262Z"
   },
   {
    "duration": 4,
    "start_time": "2021-12-27T20:51:15.162Z"
   },
   {
    "duration": 7,
    "start_time": "2021-12-27T20:51:15.169Z"
   },
   {
    "duration": 5,
    "start_time": "2021-12-27T20:51:15.179Z"
   },
   {
    "duration": 5,
    "start_time": "2021-12-27T20:51:15.186Z"
   },
   {
    "duration": 72,
    "start_time": "2021-12-27T20:51:15.193Z"
   },
   {
    "duration": 6,
    "start_time": "2021-12-27T20:51:15.267Z"
   },
   {
    "duration": 8,
    "start_time": "2021-12-27T20:51:15.275Z"
   },
   {
    "duration": 12,
    "start_time": "2021-12-27T20:51:15.285Z"
   },
   {
    "duration": 24,
    "start_time": "2021-12-27T20:51:15.300Z"
   },
   {
    "duration": 35,
    "start_time": "2021-12-27T20:51:15.327Z"
   },
   {
    "duration": 10,
    "start_time": "2021-12-27T20:51:15.364Z"
   },
   {
    "duration": 14,
    "start_time": "2021-12-27T20:51:15.376Z"
   },
   {
    "duration": 98,
    "start_time": "2021-12-27T20:51:15.392Z"
   },
   {
    "duration": 12,
    "start_time": "2021-12-27T20:51:15.493Z"
   },
   {
    "duration": 260,
    "start_time": "2021-12-27T20:51:15.516Z"
   },
   {
    "duration": 4,
    "start_time": "2021-12-27T20:51:17.660Z"
   },
   {
    "duration": 4,
    "start_time": "2021-12-27T20:51:20.291Z"
   },
   {
    "duration": 447,
    "start_time": "2021-12-27T20:51:33.494Z"
   },
   {
    "duration": 5,
    "start_time": "2021-12-27T20:51:49.080Z"
   },
   {
    "duration": 3,
    "start_time": "2021-12-27T20:51:50.955Z"
   },
   {
    "duration": 844,
    "start_time": "2021-12-27T20:51:52.845Z"
   },
   {
    "duration": 3,
    "start_time": "2021-12-27T20:54:41.302Z"
   },
   {
    "duration": 7,
    "start_time": "2021-12-27T20:54:41.308Z"
   },
   {
    "duration": 6,
    "start_time": "2021-12-27T20:54:41.318Z"
   },
   {
    "duration": 6,
    "start_time": "2021-12-27T20:54:41.327Z"
   },
   {
    "duration": 53,
    "start_time": "2021-12-27T20:54:41.336Z"
   },
   {
    "duration": 7,
    "start_time": "2021-12-27T20:54:41.392Z"
   },
   {
    "duration": 5,
    "start_time": "2021-12-27T20:54:41.402Z"
   },
   {
    "duration": 15,
    "start_time": "2021-12-27T20:54:41.411Z"
   },
   {
    "duration": 52,
    "start_time": "2021-12-27T20:54:41.430Z"
   },
   {
    "duration": 6,
    "start_time": "2021-12-27T20:54:41.485Z"
   },
   {
    "duration": 8,
    "start_time": "2021-12-27T20:54:41.493Z"
   },
   {
    "duration": 11,
    "start_time": "2021-12-27T20:54:41.503Z"
   },
   {
    "duration": 97,
    "start_time": "2021-12-27T20:54:41.516Z"
   },
   {
    "duration": 11,
    "start_time": "2021-12-27T20:54:41.615Z"
   },
   {
    "duration": 373,
    "start_time": "2021-12-27T20:54:41.628Z"
   },
   {
    "duration": 4,
    "start_time": "2021-12-27T20:54:44.108Z"
   },
   {
    "duration": 4,
    "start_time": "2021-12-27T20:54:46.290Z"
   },
   {
    "duration": 2269,
    "start_time": "2021-12-27T20:54:49.690Z"
   },
   {
    "duration": 3,
    "start_time": "2021-12-27T20:56:36.784Z"
   },
   {
    "duration": 5,
    "start_time": "2021-12-27T20:56:36.789Z"
   },
   {
    "duration": 4,
    "start_time": "2021-12-27T20:56:36.797Z"
   },
   {
    "duration": 5,
    "start_time": "2021-12-27T20:56:36.804Z"
   },
   {
    "duration": 49,
    "start_time": "2021-12-27T20:56:36.811Z"
   },
   {
    "duration": 5,
    "start_time": "2021-12-27T20:56:36.862Z"
   },
   {
    "duration": 5,
    "start_time": "2021-12-27T20:56:36.869Z"
   },
   {
    "duration": 10,
    "start_time": "2021-12-27T20:56:36.878Z"
   },
   {
    "duration": 24,
    "start_time": "2021-12-27T20:56:36.891Z"
   },
   {
    "duration": 44,
    "start_time": "2021-12-27T20:56:36.917Z"
   },
   {
    "duration": 9,
    "start_time": "2021-12-27T20:56:36.963Z"
   },
   {
    "duration": 113,
    "start_time": "2021-12-27T20:56:36.974Z"
   },
   {
    "duration": 60,
    "start_time": "2021-12-27T20:56:37.089Z"
   },
   {
    "duration": 12,
    "start_time": "2021-12-27T20:56:37.160Z"
   },
   {
    "duration": 272,
    "start_time": "2021-12-27T20:56:37.175Z"
   },
   {
    "duration": 4,
    "start_time": "2021-12-27T20:56:39.112Z"
   },
   {
    "duration": 364,
    "start_time": "2021-12-27T20:56:41.325Z"
   },
   {
    "duration": 370,
    "start_time": "2021-12-27T20:56:51.430Z"
   },
   {
    "duration": 4,
    "start_time": "2021-12-27T20:57:26.158Z"
   },
   {
    "duration": 4,
    "start_time": "2021-12-27T20:57:38.980Z"
   },
   {
    "duration": 4,
    "start_time": "2021-12-27T20:57:41.039Z"
   },
   {
    "duration": 20,
    "start_time": "2021-12-27T20:57:43.861Z"
   },
   {
    "duration": 4,
    "start_time": "2021-12-27T20:58:03.099Z"
   },
   {
    "duration": 4,
    "start_time": "2021-12-27T20:58:05.434Z"
   },
   {
    "duration": 269,
    "start_time": "2021-12-27T20:58:08.193Z"
   },
   {
    "duration": 361,
    "start_time": "2021-12-27T20:59:08.761Z"
   },
   {
    "duration": 3,
    "start_time": "2021-12-27T20:59:25.267Z"
   },
   {
    "duration": 6,
    "start_time": "2021-12-27T20:59:25.273Z"
   },
   {
    "duration": 4,
    "start_time": "2021-12-27T20:59:25.282Z"
   },
   {
    "duration": 4,
    "start_time": "2021-12-27T20:59:25.289Z"
   },
   {
    "duration": 65,
    "start_time": "2021-12-27T20:59:25.295Z"
   },
   {
    "duration": 6,
    "start_time": "2021-12-27T20:59:25.363Z"
   },
   {
    "duration": 6,
    "start_time": "2021-12-27T20:59:25.371Z"
   },
   {
    "duration": 14,
    "start_time": "2021-12-27T20:59:25.380Z"
   },
   {
    "duration": 25,
    "start_time": "2021-12-27T20:59:25.397Z"
   },
   {
    "duration": 8,
    "start_time": "2021-12-27T20:59:25.459Z"
   },
   {
    "duration": 11,
    "start_time": "2021-12-27T20:59:25.469Z"
   },
   {
    "duration": 14,
    "start_time": "2021-12-27T20:59:25.482Z"
   },
   {
    "duration": 95,
    "start_time": "2021-12-27T20:59:25.499Z"
   },
   {
    "duration": 11,
    "start_time": "2021-12-27T20:59:25.598Z"
   },
   {
    "duration": 272,
    "start_time": "2021-12-27T20:59:25.612Z"
   },
   {
    "duration": 5,
    "start_time": "2021-12-27T20:59:28.004Z"
   },
   {
    "duration": 5,
    "start_time": "2021-12-27T20:59:30.715Z"
   },
   {
    "duration": 297,
    "start_time": "2021-12-27T20:59:36.963Z"
   },
   {
    "duration": 402,
    "start_time": "2021-12-27T20:59:39.372Z"
   },
   {
    "duration": 11,
    "start_time": "2021-12-27T20:59:57.438Z"
   },
   {
    "duration": 18,
    "start_time": "2021-12-27T21:00:02.853Z"
   },
   {
    "duration": 4,
    "start_time": "2021-12-27T21:02:50.665Z"
   },
   {
    "duration": 3,
    "start_time": "2021-12-27T21:02:55.449Z"
   },
   {
    "duration": 5,
    "start_time": "2021-12-27T21:02:55.460Z"
   },
   {
    "duration": 3,
    "start_time": "2021-12-27T21:02:55.468Z"
   },
   {
    "duration": 4,
    "start_time": "2021-12-27T21:02:55.474Z"
   },
   {
    "duration": 47,
    "start_time": "2021-12-27T21:02:55.480Z"
   },
   {
    "duration": 30,
    "start_time": "2021-12-27T21:02:55.530Z"
   },
   {
    "duration": 5,
    "start_time": "2021-12-27T21:02:55.562Z"
   },
   {
    "duration": 12,
    "start_time": "2021-12-27T21:02:55.569Z"
   },
   {
    "duration": 24,
    "start_time": "2021-12-27T21:02:55.584Z"
   },
   {
    "duration": 5,
    "start_time": "2021-12-27T21:02:55.611Z"
   },
   {
    "duration": 45,
    "start_time": "2021-12-27T21:02:55.619Z"
   },
   {
    "duration": 11,
    "start_time": "2021-12-27T21:02:55.667Z"
   },
   {
    "duration": 79,
    "start_time": "2021-12-27T21:02:55.680Z"
   },
   {
    "duration": 10,
    "start_time": "2021-12-27T21:02:55.761Z"
   },
   {
    "duration": 262,
    "start_time": "2021-12-27T21:02:55.773Z"
   },
   {
    "duration": 4,
    "start_time": "2021-12-27T21:02:57.979Z"
   },
   {
    "duration": 4,
    "start_time": "2021-12-27T21:03:00.999Z"
   },
   {
    "duration": 3,
    "start_time": "2021-12-27T21:06:18.376Z"
   },
   {
    "duration": 7,
    "start_time": "2021-12-27T21:06:18.382Z"
   },
   {
    "duration": 5,
    "start_time": "2021-12-27T21:06:18.392Z"
   },
   {
    "duration": 3,
    "start_time": "2021-12-27T21:06:18.401Z"
   },
   {
    "duration": 67,
    "start_time": "2021-12-27T21:06:18.408Z"
   },
   {
    "duration": 6,
    "start_time": "2021-12-27T21:06:18.477Z"
   },
   {
    "duration": 7,
    "start_time": "2021-12-27T21:06:18.485Z"
   },
   {
    "duration": 16,
    "start_time": "2021-12-27T21:06:18.495Z"
   },
   {
    "duration": 48,
    "start_time": "2021-12-27T21:06:18.513Z"
   },
   {
    "duration": 7,
    "start_time": "2021-12-27T21:06:18.563Z"
   },
   {
    "duration": 11,
    "start_time": "2021-12-27T21:06:18.572Z"
   },
   {
    "duration": 12,
    "start_time": "2021-12-27T21:06:18.586Z"
   },
   {
    "duration": 97,
    "start_time": "2021-12-27T21:06:18.600Z"
   },
   {
    "duration": 11,
    "start_time": "2021-12-27T21:06:18.700Z"
   },
   {
    "duration": 276,
    "start_time": "2021-12-27T21:06:18.713Z"
   },
   {
    "duration": 4,
    "start_time": "2021-12-27T21:06:21.106Z"
   },
   {
    "duration": 5,
    "start_time": "2021-12-27T21:06:24.571Z"
   },
   {
    "duration": 2867,
    "start_time": "2021-12-27T21:06:27.601Z"
   },
   {
    "duration": 27,
    "start_time": "2021-12-27T21:06:43.192Z"
   },
   {
    "duration": 18,
    "start_time": "2021-12-27T21:06:46.851Z"
   },
   {
    "duration": 5,
    "start_time": "2021-12-27T21:07:32.004Z"
   },
   {
    "duration": 9,
    "start_time": "2021-12-27T21:08:50.447Z"
   },
   {
    "duration": 3,
    "start_time": "2021-12-27T21:09:36.709Z"
   },
   {
    "duration": 6,
    "start_time": "2021-12-27T21:09:36.714Z"
   },
   {
    "duration": 3,
    "start_time": "2021-12-27T21:09:36.733Z"
   },
   {
    "duration": 4,
    "start_time": "2021-12-27T21:09:36.739Z"
   },
   {
    "duration": 53,
    "start_time": "2021-12-27T21:09:36.746Z"
   },
   {
    "duration": 5,
    "start_time": "2021-12-27T21:09:36.802Z"
   },
   {
    "duration": 5,
    "start_time": "2021-12-27T21:09:36.810Z"
   },
   {
    "duration": 12,
    "start_time": "2021-12-27T21:09:36.818Z"
   },
   {
    "duration": 45,
    "start_time": "2021-12-27T21:09:36.832Z"
   },
   {
    "duration": 6,
    "start_time": "2021-12-27T21:09:36.880Z"
   },
   {
    "duration": 7,
    "start_time": "2021-12-27T21:09:36.890Z"
   },
   {
    "duration": 11,
    "start_time": "2021-12-27T21:09:36.900Z"
   },
   {
    "duration": 100,
    "start_time": "2021-12-27T21:09:36.914Z"
   },
   {
    "duration": 9,
    "start_time": "2021-12-27T21:09:37.017Z"
   },
   {
    "duration": 276,
    "start_time": "2021-12-27T21:09:37.029Z"
   },
   {
    "duration": 4,
    "start_time": "2021-12-27T21:09:37.307Z"
   },
   {
    "duration": 7,
    "start_time": "2021-12-27T21:09:37.313Z"
   },
   {
    "duration": 2839,
    "start_time": "2021-12-27T21:09:37.322Z"
   },
   {
    "duration": 25,
    "start_time": "2021-12-27T21:09:40.163Z"
   },
   {
    "duration": 6,
    "start_time": "2021-12-27T21:09:40.191Z"
   },
   {
    "duration": 3,
    "start_time": "2021-12-27T21:11:46.099Z"
   },
   {
    "duration": 5,
    "start_time": "2021-12-27T21:11:46.106Z"
   },
   {
    "duration": 4,
    "start_time": "2021-12-27T21:11:46.116Z"
   },
   {
    "duration": 5,
    "start_time": "2021-12-27T21:11:46.124Z"
   },
   {
    "duration": 51,
    "start_time": "2021-12-27T21:11:46.132Z"
   },
   {
    "duration": 6,
    "start_time": "2021-12-27T21:11:46.187Z"
   },
   {
    "duration": 6,
    "start_time": "2021-12-27T21:11:46.196Z"
   },
   {
    "duration": 12,
    "start_time": "2021-12-27T21:11:46.204Z"
   },
   {
    "duration": 54,
    "start_time": "2021-12-27T21:11:46.220Z"
   },
   {
    "duration": 7,
    "start_time": "2021-12-27T21:11:46.277Z"
   },
   {
    "duration": 15,
    "start_time": "2021-12-27T21:11:46.287Z"
   },
   {
    "duration": 54,
    "start_time": "2021-12-27T21:11:46.305Z"
   },
   {
    "duration": 104,
    "start_time": "2021-12-27T21:11:46.362Z"
   },
   {
    "duration": 16,
    "start_time": "2021-12-27T21:11:46.469Z"
   },
   {
    "duration": 296,
    "start_time": "2021-12-27T21:11:46.488Z"
   },
   {
    "duration": 3,
    "start_time": "2021-12-27T21:11:46.787Z"
   },
   {
    "duration": 6,
    "start_time": "2021-12-27T21:11:46.792Z"
   },
   {
    "duration": 1760,
    "start_time": "2021-12-27T21:11:46.800Z"
   },
   {
    "duration": 112,
    "start_time": "2021-12-27T21:11:48.563Z"
   },
   {
    "duration": 8,
    "start_time": "2021-12-27T21:11:48.759Z"
   },
   {
    "duration": 3,
    "start_time": "2021-12-27T21:12:26.149Z"
   },
   {
    "duration": 6,
    "start_time": "2021-12-27T21:12:26.156Z"
   },
   {
    "duration": 4,
    "start_time": "2021-12-27T21:12:26.165Z"
   },
   {
    "duration": 4,
    "start_time": "2021-12-27T21:12:26.172Z"
   },
   {
    "duration": 49,
    "start_time": "2021-12-27T21:12:26.178Z"
   },
   {
    "duration": 32,
    "start_time": "2021-12-27T21:12:26.229Z"
   },
   {
    "duration": 5,
    "start_time": "2021-12-27T21:12:26.263Z"
   },
   {
    "duration": 11,
    "start_time": "2021-12-27T21:12:26.272Z"
   },
   {
    "duration": 23,
    "start_time": "2021-12-27T21:12:26.285Z"
   },
   {
    "duration": 49,
    "start_time": "2021-12-27T21:12:26.311Z"
   },
   {
    "duration": 7,
    "start_time": "2021-12-27T21:12:26.363Z"
   },
   {
    "duration": 13,
    "start_time": "2021-12-27T21:12:26.372Z"
   },
   {
    "duration": 85,
    "start_time": "2021-12-27T21:12:26.387Z"
   },
   {
    "duration": 9,
    "start_time": "2021-12-27T21:12:26.475Z"
   },
   {
    "duration": 261,
    "start_time": "2021-12-27T21:12:26.486Z"
   },
   {
    "duration": 3,
    "start_time": "2021-12-27T21:12:26.749Z"
   },
   {
    "duration": 4,
    "start_time": "2021-12-27T21:12:26.758Z"
   },
   {
    "duration": 2497,
    "start_time": "2021-12-27T21:12:26.764Z"
   },
   {
    "duration": 295,
    "start_time": "2021-12-27T21:12:29.265Z"
   },
   {
    "duration": 10,
    "start_time": "2021-12-27T21:12:29.563Z"
   },
   {
    "duration": 3,
    "start_time": "2021-12-27T21:15:50.156Z"
   },
   {
    "duration": 6,
    "start_time": "2021-12-27T21:15:50.162Z"
   },
   {
    "duration": 8,
    "start_time": "2021-12-27T21:15:50.172Z"
   },
   {
    "duration": 4,
    "start_time": "2021-12-27T21:15:50.183Z"
   },
   {
    "duration": 69,
    "start_time": "2021-12-27T21:15:50.190Z"
   },
   {
    "duration": 6,
    "start_time": "2021-12-27T21:15:50.261Z"
   },
   {
    "duration": 9,
    "start_time": "2021-12-27T21:15:50.270Z"
   },
   {
    "duration": 12,
    "start_time": "2021-12-27T21:15:50.283Z"
   },
   {
    "duration": 23,
    "start_time": "2021-12-27T21:15:50.298Z"
   },
   {
    "duration": 39,
    "start_time": "2021-12-27T21:15:50.324Z"
   },
   {
    "duration": 20,
    "start_time": "2021-12-27T21:15:50.366Z"
   },
   {
    "duration": 17,
    "start_time": "2021-12-27T21:15:50.389Z"
   },
   {
    "duration": 85,
    "start_time": "2021-12-27T21:15:50.409Z"
   },
   {
    "duration": 11,
    "start_time": "2021-12-27T21:15:50.496Z"
   },
   {
    "duration": 259,
    "start_time": "2021-12-27T21:15:50.509Z"
   },
   {
    "duration": 3,
    "start_time": "2021-12-27T21:15:50.770Z"
   },
   {
    "duration": 8,
    "start_time": "2021-12-27T21:15:50.775Z"
   },
   {
    "duration": 3876,
    "start_time": "2021-12-27T21:15:50.785Z"
   },
   {
    "duration": 1603,
    "start_time": "2021-12-27T21:15:54.663Z"
   },
   {
    "duration": 7,
    "start_time": "2021-12-27T21:15:56.268Z"
   },
   {
    "duration": 4,
    "start_time": "2021-12-27T21:18:55.134Z"
   },
   {
    "duration": 8,
    "start_time": "2021-12-27T21:18:55.141Z"
   },
   {
    "duration": 5,
    "start_time": "2021-12-27T21:18:55.152Z"
   },
   {
    "duration": 7,
    "start_time": "2021-12-27T21:18:55.160Z"
   },
   {
    "duration": 60,
    "start_time": "2021-12-27T21:18:55.171Z"
   },
   {
    "duration": 8,
    "start_time": "2021-12-27T21:18:55.234Z"
   },
   {
    "duration": 14,
    "start_time": "2021-12-27T21:18:55.245Z"
   },
   {
    "duration": 13,
    "start_time": "2021-12-27T21:18:55.264Z"
   },
   {
    "duration": 24,
    "start_time": "2021-12-27T21:18:55.279Z"
   },
   {
    "duration": 6,
    "start_time": "2021-12-27T21:18:55.306Z"
   },
   {
    "duration": 46,
    "start_time": "2021-12-27T21:18:55.315Z"
   },
   {
    "duration": 11,
    "start_time": "2021-12-27T21:18:55.364Z"
   },
   {
    "duration": 84,
    "start_time": "2021-12-27T21:18:55.377Z"
   },
   {
    "duration": 10,
    "start_time": "2021-12-27T21:18:55.464Z"
   },
   {
    "duration": 283,
    "start_time": "2021-12-27T21:18:55.476Z"
   },
   {
    "duration": 4,
    "start_time": "2021-12-27T21:18:55.762Z"
   },
   {
    "duration": 5,
    "start_time": "2021-12-27T21:18:55.769Z"
   },
   {
    "duration": 288,
    "start_time": "2021-12-27T21:18:55.776Z"
   },
   {
    "duration": 99,
    "start_time": "2021-12-27T21:18:56.067Z"
   },
   {
    "duration": 98,
    "start_time": "2021-12-27T21:18:56.170Z"
   },
   {
    "duration": 3,
    "start_time": "2021-12-27T21:19:08.650Z"
   },
   {
    "duration": 5,
    "start_time": "2021-12-27T21:19:08.655Z"
   },
   {
    "duration": 10,
    "start_time": "2021-12-27T21:19:08.663Z"
   },
   {
    "duration": 4,
    "start_time": "2021-12-27T21:19:08.676Z"
   },
   {
    "duration": 58,
    "start_time": "2021-12-27T21:19:08.682Z"
   },
   {
    "duration": 20,
    "start_time": "2021-12-27T21:19:08.742Z"
   },
   {
    "duration": 16,
    "start_time": "2021-12-27T21:19:08.764Z"
   },
   {
    "duration": 13,
    "start_time": "2021-12-27T21:19:08.784Z"
   },
   {
    "duration": 24,
    "start_time": "2021-12-27T21:19:08.800Z"
   },
   {
    "duration": 34,
    "start_time": "2021-12-27T21:19:08.827Z"
   },
   {
    "duration": 11,
    "start_time": "2021-12-27T21:19:08.864Z"
   },
   {
    "duration": 11,
    "start_time": "2021-12-27T21:19:08.878Z"
   },
   {
    "duration": 95,
    "start_time": "2021-12-27T21:19:08.891Z"
   },
   {
    "duration": 9,
    "start_time": "2021-12-27T21:19:08.988Z"
   },
   {
    "duration": 274,
    "start_time": "2021-12-27T21:19:09.000Z"
   },
   {
    "duration": 4,
    "start_time": "2021-12-27T21:19:09.277Z"
   },
   {
    "duration": 8,
    "start_time": "2021-12-27T21:19:09.283Z"
   },
   {
    "duration": 278,
    "start_time": "2021-12-27T21:19:09.293Z"
   },
   {
    "duration": 17,
    "start_time": "2021-12-27T21:19:09.660Z"
   },
   {
    "duration": 82,
    "start_time": "2021-12-27T21:19:09.680Z"
   },
   {
    "duration": 11,
    "start_time": "2021-12-27T21:20:31.346Z"
   },
   {
    "duration": 3,
    "start_time": "2021-12-27T21:45:47.081Z"
   },
   {
    "duration": 7,
    "start_time": "2021-12-27T21:45:47.087Z"
   },
   {
    "duration": 6,
    "start_time": "2021-12-27T21:45:47.096Z"
   },
   {
    "duration": 5,
    "start_time": "2021-12-27T21:45:47.104Z"
   },
   {
    "duration": 55,
    "start_time": "2021-12-27T21:45:47.111Z"
   },
   {
    "duration": 5,
    "start_time": "2021-12-27T21:45:47.169Z"
   },
   {
    "duration": 5,
    "start_time": "2021-12-27T21:45:47.178Z"
   },
   {
    "duration": 12,
    "start_time": "2021-12-27T21:45:47.185Z"
   },
   {
    "duration": 63,
    "start_time": "2021-12-27T21:45:47.200Z"
   },
   {
    "duration": 7,
    "start_time": "2021-12-27T21:45:47.265Z"
   },
   {
    "duration": 11,
    "start_time": "2021-12-27T21:45:47.275Z"
   },
   {
    "duration": 24,
    "start_time": "2021-12-27T21:45:47.288Z"
   },
   {
    "duration": 12,
    "start_time": "2021-12-27T21:45:47.314Z"
   },
   {
    "duration": 90,
    "start_time": "2021-12-27T21:45:47.329Z"
   },
   {
    "duration": 13,
    "start_time": "2021-12-27T21:45:47.422Z"
   },
   {
    "duration": 255,
    "start_time": "2021-12-27T21:45:47.460Z"
   },
   {
    "duration": 3,
    "start_time": "2021-12-27T21:45:47.718Z"
   },
   {
    "duration": 113,
    "start_time": "2021-12-27T21:45:47.724Z"
   },
   {
    "duration": 11,
    "start_time": "2021-12-27T21:45:47.829Z"
   },
   {
    "duration": 10,
    "start_time": "2021-12-27T21:45:47.832Z"
   },
   {
    "duration": 9,
    "start_time": "2021-12-27T21:45:47.834Z"
   },
   {
    "duration": 3,
    "start_time": "2021-12-27T21:46:03.213Z"
   },
   {
    "duration": 8,
    "start_time": "2021-12-27T21:46:03.219Z"
   },
   {
    "duration": 4,
    "start_time": "2021-12-27T21:46:03.230Z"
   },
   {
    "duration": 5,
    "start_time": "2021-12-27T21:46:03.236Z"
   },
   {
    "duration": 53,
    "start_time": "2021-12-27T21:46:03.243Z"
   },
   {
    "duration": 6,
    "start_time": "2021-12-27T21:46:03.298Z"
   },
   {
    "duration": 7,
    "start_time": "2021-12-27T21:46:03.307Z"
   },
   {
    "duration": 11,
    "start_time": "2021-12-27T21:46:03.317Z"
   },
   {
    "duration": 52,
    "start_time": "2021-12-27T21:46:03.330Z"
   },
   {
    "duration": 6,
    "start_time": "2021-12-27T21:46:03.384Z"
   },
   {
    "duration": 7,
    "start_time": "2021-12-27T21:46:03.393Z"
   },
   {
    "duration": 12,
    "start_time": "2021-12-27T21:46:03.402Z"
   },
   {
    "duration": 47,
    "start_time": "2021-12-27T21:46:03.416Z"
   },
   {
    "duration": 59,
    "start_time": "2021-12-27T21:46:03.466Z"
   },
   {
    "duration": 36,
    "start_time": "2021-12-27T21:46:03.527Z"
   },
   {
    "duration": 266,
    "start_time": "2021-12-27T21:46:03.565Z"
   },
   {
    "duration": 3,
    "start_time": "2021-12-27T21:46:03.834Z"
   },
   {
    "duration": 360,
    "start_time": "2021-12-27T21:46:03.839Z"
   },
   {
    "duration": 8,
    "start_time": "2021-12-27T21:46:04.193Z"
   },
   {
    "duration": 7,
    "start_time": "2021-12-27T21:46:04.196Z"
   },
   {
    "duration": 6,
    "start_time": "2021-12-27T21:46:04.198Z"
   },
   {
    "duration": 4,
    "start_time": "2021-12-27T21:46:47.517Z"
   },
   {
    "duration": 3,
    "start_time": "2021-12-27T21:46:54.746Z"
   },
   {
    "duration": 6,
    "start_time": "2021-12-27T21:46:54.751Z"
   },
   {
    "duration": 4,
    "start_time": "2021-12-27T21:46:54.760Z"
   },
   {
    "duration": 4,
    "start_time": "2021-12-27T21:46:54.767Z"
   },
   {
    "duration": 50,
    "start_time": "2021-12-27T21:46:54.774Z"
   },
   {
    "duration": 32,
    "start_time": "2021-12-27T21:46:54.827Z"
   },
   {
    "duration": 6,
    "start_time": "2021-12-27T21:46:54.862Z"
   },
   {
    "duration": 11,
    "start_time": "2021-12-27T21:46:54.871Z"
   },
   {
    "duration": 23,
    "start_time": "2021-12-27T21:46:54.885Z"
   },
   {
    "duration": 6,
    "start_time": "2021-12-27T21:46:54.910Z"
   },
   {
    "duration": 43,
    "start_time": "2021-12-27T21:46:54.918Z"
   },
   {
    "duration": 12,
    "start_time": "2021-12-27T21:46:54.963Z"
   },
   {
    "duration": 10,
    "start_time": "2021-12-27T21:46:54.977Z"
   },
   {
    "duration": 178,
    "start_time": "2021-12-27T21:46:54.990Z"
   },
   {
    "duration": 9,
    "start_time": "2021-12-27T21:46:55.170Z"
   },
   {
    "duration": 267,
    "start_time": "2021-12-27T21:46:55.182Z"
   },
   {
    "duration": 3,
    "start_time": "2021-12-27T21:46:55.451Z"
   },
   {
    "duration": 13,
    "start_time": "2021-12-27T21:46:55.460Z"
   },
   {
    "duration": 284,
    "start_time": "2021-12-27T21:46:55.475Z"
   },
   {
    "duration": 14,
    "start_time": "2021-12-27T21:46:55.762Z"
   },
   {
    "duration": 101,
    "start_time": "2021-12-27T21:46:55.860Z"
   },
   {
    "duration": 352,
    "start_time": "2021-12-27T22:08:41.745Z"
   },
   {
    "duration": 6,
    "start_time": "2021-12-27T22:08:49.661Z"
   },
   {
    "duration": 3,
    "start_time": "2021-12-27T22:08:56.234Z"
   },
   {
    "duration": 5,
    "start_time": "2021-12-27T22:08:56.240Z"
   },
   {
    "duration": 5,
    "start_time": "2021-12-27T22:08:56.248Z"
   },
   {
    "duration": 25,
    "start_time": "2021-12-27T22:08:56.255Z"
   },
   {
    "duration": 56,
    "start_time": "2021-12-27T22:08:56.283Z"
   },
   {
    "duration": 7,
    "start_time": "2021-12-27T22:08:56.341Z"
   },
   {
    "duration": 6,
    "start_time": "2021-12-27T22:08:56.350Z"
   },
   {
    "duration": 27,
    "start_time": "2021-12-27T22:08:56.359Z"
   },
   {
    "duration": 34,
    "start_time": "2021-12-27T22:08:56.389Z"
   },
   {
    "duration": 10,
    "start_time": "2021-12-27T22:08:56.428Z"
   },
   {
    "duration": 24,
    "start_time": "2021-12-27T22:08:56.441Z"
   },
   {
    "duration": 22,
    "start_time": "2021-12-27T22:08:56.467Z"
   },
   {
    "duration": 11,
    "start_time": "2021-12-27T22:08:56.491Z"
   },
   {
    "duration": 88,
    "start_time": "2021-12-27T22:08:56.504Z"
   },
   {
    "duration": 10,
    "start_time": "2021-12-27T22:08:56.594Z"
   },
   {
    "duration": 273,
    "start_time": "2021-12-27T22:08:56.607Z"
   },
   {
    "duration": 4,
    "start_time": "2021-12-27T22:08:56.883Z"
   },
   {
    "duration": 6,
    "start_time": "2021-12-27T22:08:56.890Z"
   },
   {
    "duration": 279,
    "start_time": "2021-12-27T22:08:56.899Z"
   },
   {
    "duration": 90,
    "start_time": "2021-12-27T22:08:57.185Z"
   },
   {
    "duration": 192,
    "start_time": "2021-12-27T22:08:57.279Z"
   },
   {
    "duration": 369,
    "start_time": "2021-12-27T22:08:59.693Z"
   },
   {
    "duration": 9,
    "start_time": "2021-12-27T22:09:32.247Z"
   },
   {
    "duration": 7,
    "start_time": "2021-12-27T22:09:37.313Z"
   },
   {
    "duration": 3,
    "start_time": "2021-12-27T22:10:03.175Z"
   },
   {
    "duration": 7,
    "start_time": "2021-12-27T22:10:03.180Z"
   },
   {
    "duration": 6,
    "start_time": "2021-12-27T22:10:03.190Z"
   },
   {
    "duration": 5,
    "start_time": "2021-12-27T22:10:03.199Z"
   },
   {
    "duration": 60,
    "start_time": "2021-12-27T22:10:03.206Z"
   },
   {
    "duration": 6,
    "start_time": "2021-12-27T22:10:03.272Z"
   },
   {
    "duration": 10,
    "start_time": "2021-12-27T22:10:03.280Z"
   },
   {
    "duration": 11,
    "start_time": "2021-12-27T22:10:03.292Z"
   },
   {
    "duration": 25,
    "start_time": "2021-12-27T22:10:03.306Z"
   },
   {
    "duration": 8,
    "start_time": "2021-12-27T22:10:03.360Z"
   },
   {
    "duration": 16,
    "start_time": "2021-12-27T22:10:03.371Z"
   },
   {
    "duration": 14,
    "start_time": "2021-12-27T22:10:03.389Z"
   },
   {
    "duration": 11,
    "start_time": "2021-12-27T22:10:03.405Z"
   },
   {
    "duration": 93,
    "start_time": "2021-12-27T22:10:03.418Z"
   },
   {
    "duration": 10,
    "start_time": "2021-12-27T22:10:03.513Z"
   },
   {
    "duration": 294,
    "start_time": "2021-12-27T22:10:03.525Z"
   },
   {
    "duration": 4,
    "start_time": "2021-12-27T22:10:03.821Z"
   },
   {
    "duration": 8,
    "start_time": "2021-12-27T22:10:03.828Z"
   },
   {
    "duration": 143,
    "start_time": "2021-12-27T22:10:03.838Z"
   },
   {
    "duration": 14,
    "start_time": "2021-12-27T22:10:04.062Z"
   },
   {
    "duration": 113,
    "start_time": "2021-12-27T22:10:04.160Z"
   },
   {
    "duration": 847,
    "start_time": "2021-12-27T22:10:05.991Z"
   },
   {
    "duration": 1789,
    "start_time": "2021-12-27T22:11:03.956Z"
   },
   {
    "duration": 386,
    "start_time": "2021-12-27T22:11:38.189Z"
   },
   {
    "duration": 404,
    "start_time": "2021-12-27T22:11:54.022Z"
   },
   {
    "duration": 9,
    "start_time": "2021-12-27T22:12:20.756Z"
   },
   {
    "duration": 9,
    "start_time": "2021-12-27T22:13:15.624Z"
   },
   {
    "duration": 5,
    "start_time": "2021-12-27T22:13:17.697Z"
   },
   {
    "duration": 3,
    "start_time": "2021-12-27T22:15:07.376Z"
   },
   {
    "duration": 19,
    "start_time": "2021-12-27T22:17:50.851Z"
   },
   {
    "duration": 5,
    "start_time": "2021-12-27T22:18:45.493Z"
   },
   {
    "duration": 6,
    "start_time": "2021-12-27T22:18:58.835Z"
   },
   {
    "duration": 388,
    "start_time": "2021-12-27T22:20:31.749Z"
   },
   {
    "duration": 7,
    "start_time": "2021-12-27T22:21:04.509Z"
   },
   {
    "duration": 364,
    "start_time": "2021-12-27T22:21:18.434Z"
   },
   {
    "duration": 7,
    "start_time": "2021-12-27T22:21:28.997Z"
   },
   {
    "duration": 364,
    "start_time": "2021-12-27T22:21:51.926Z"
   },
   {
    "duration": 471,
    "start_time": "2021-12-27T22:22:40.156Z"
   },
   {
    "duration": 374,
    "start_time": "2021-12-27T22:23:06.698Z"
   },
   {
    "duration": 13,
    "start_time": "2021-12-27T22:23:42.982Z"
   },
   {
    "duration": 13,
    "start_time": "2021-12-27T22:23:52.211Z"
   },
   {
    "duration": 354,
    "start_time": "2021-12-27T22:24:56.309Z"
   },
   {
    "duration": 366,
    "start_time": "2021-12-27T22:25:25.233Z"
   },
   {
    "duration": 448,
    "start_time": "2021-12-27T22:25:37.157Z"
   },
   {
    "duration": 4,
    "start_time": "2021-12-27T22:25:43.879Z"
   },
   {
    "duration": 7,
    "start_time": "2021-12-27T22:25:43.885Z"
   },
   {
    "duration": 6,
    "start_time": "2021-12-27T22:25:43.894Z"
   },
   {
    "duration": 5,
    "start_time": "2021-12-27T22:25:43.902Z"
   },
   {
    "duration": 61,
    "start_time": "2021-12-27T22:25:43.909Z"
   },
   {
    "duration": 6,
    "start_time": "2021-12-27T22:25:43.972Z"
   },
   {
    "duration": 6,
    "start_time": "2021-12-27T22:25:43.980Z"
   },
   {
    "duration": 11,
    "start_time": "2021-12-27T22:25:43.990Z"
   },
   {
    "duration": 57,
    "start_time": "2021-12-27T22:25:44.003Z"
   },
   {
    "duration": 8,
    "start_time": "2021-12-27T22:25:44.063Z"
   },
   {
    "duration": 8,
    "start_time": "2021-12-27T22:25:44.073Z"
   },
   {
    "duration": 12,
    "start_time": "2021-12-27T22:25:44.083Z"
   },
   {
    "duration": 10,
    "start_time": "2021-12-27T22:25:44.097Z"
   },
   {
    "duration": 96,
    "start_time": "2021-12-27T22:25:44.110Z"
   },
   {
    "duration": 11,
    "start_time": "2021-12-27T22:25:44.208Z"
   },
   {
    "duration": 281,
    "start_time": "2021-12-27T22:25:44.221Z"
   },
   {
    "duration": 3,
    "start_time": "2021-12-27T22:25:44.505Z"
   },
   {
    "duration": 6,
    "start_time": "2021-12-27T22:25:44.510Z"
   },
   {
    "duration": 247,
    "start_time": "2021-12-27T22:25:44.518Z"
   },
   {
    "duration": 104,
    "start_time": "2021-12-27T22:25:44.768Z"
   },
   {
    "duration": 182,
    "start_time": "2021-12-27T22:25:44.876Z"
   },
   {
    "duration": 366,
    "start_time": "2021-12-27T22:25:45.062Z"
   },
   {
    "duration": 18,
    "start_time": "2021-12-27T22:25:52.519Z"
   },
   {
    "duration": 4,
    "start_time": "2021-12-27T22:27:49.762Z"
   },
   {
    "duration": 4,
    "start_time": "2021-12-27T22:30:24.103Z"
   },
   {
    "duration": 8,
    "start_time": "2021-12-27T22:30:24.115Z"
   },
   {
    "duration": 5,
    "start_time": "2021-12-27T22:30:24.126Z"
   },
   {
    "duration": 5,
    "start_time": "2021-12-27T22:30:24.135Z"
   },
   {
    "duration": 52,
    "start_time": "2021-12-27T22:30:24.143Z"
   },
   {
    "duration": 6,
    "start_time": "2021-12-27T22:30:24.197Z"
   },
   {
    "duration": 10,
    "start_time": "2021-12-27T22:30:24.207Z"
   },
   {
    "duration": 18,
    "start_time": "2021-12-27T22:30:24.219Z"
   },
   {
    "duration": 42,
    "start_time": "2021-12-27T22:30:24.241Z"
   },
   {
    "duration": 9,
    "start_time": "2021-12-27T22:30:24.286Z"
   },
   {
    "duration": 18,
    "start_time": "2021-12-27T22:30:24.298Z"
   },
   {
    "duration": 13,
    "start_time": "2021-12-27T22:30:24.318Z"
   },
   {
    "duration": 36,
    "start_time": "2021-12-27T22:30:24.333Z"
   },
   {
    "duration": 62,
    "start_time": "2021-12-27T22:30:24.371Z"
   },
   {
    "duration": 30,
    "start_time": "2021-12-27T22:30:24.435Z"
   },
   {
    "duration": 267,
    "start_time": "2021-12-27T22:30:24.468Z"
   },
   {
    "duration": 4,
    "start_time": "2021-12-27T22:30:24.738Z"
   },
   {
    "duration": 20,
    "start_time": "2021-12-27T22:30:24.744Z"
   },
   {
    "duration": 199,
    "start_time": "2021-12-27T22:30:24.766Z"
   },
   {
    "duration": 99,
    "start_time": "2021-12-27T22:30:24.968Z"
   },
   {
    "duration": 190,
    "start_time": "2021-12-27T22:30:25.071Z"
   },
   {
    "duration": 5,
    "start_time": "2021-12-27T22:30:25.264Z"
   },
   {
    "duration": 371,
    "start_time": "2021-12-27T22:30:25.272Z"
   },
   {
    "duration": 3,
    "start_time": "2021-12-27T22:30:46.722Z"
   },
   {
    "duration": 7,
    "start_time": "2021-12-27T22:30:46.729Z"
   },
   {
    "duration": 5,
    "start_time": "2021-12-27T22:30:46.740Z"
   },
   {
    "duration": 4,
    "start_time": "2021-12-27T22:30:46.748Z"
   },
   {
    "duration": 52,
    "start_time": "2021-12-27T22:30:46.754Z"
   },
   {
    "duration": 6,
    "start_time": "2021-12-27T22:30:46.808Z"
   },
   {
    "duration": 6,
    "start_time": "2021-12-27T22:30:46.817Z"
   },
   {
    "duration": 11,
    "start_time": "2021-12-27T22:30:46.827Z"
   },
   {
    "duration": 25,
    "start_time": "2021-12-27T22:30:46.861Z"
   },
   {
    "duration": 6,
    "start_time": "2021-12-27T22:30:46.889Z"
   },
   {
    "duration": 8,
    "start_time": "2021-12-27T22:30:46.898Z"
   },
   {
    "duration": 49,
    "start_time": "2021-12-27T22:30:46.909Z"
   },
   {
    "duration": 12,
    "start_time": "2021-12-27T22:30:46.961Z"
   },
   {
    "duration": 109,
    "start_time": "2021-12-27T22:30:46.976Z"
   },
   {
    "duration": 14,
    "start_time": "2021-12-27T22:30:47.088Z"
   },
   {
    "duration": 283,
    "start_time": "2021-12-27T22:30:47.105Z"
   },
   {
    "duration": 4,
    "start_time": "2021-12-27T22:30:47.390Z"
   },
   {
    "duration": 7,
    "start_time": "2021-12-27T22:30:47.396Z"
   },
   {
    "duration": 359,
    "start_time": "2021-12-27T22:30:47.405Z"
   },
   {
    "duration": 97,
    "start_time": "2021-12-27T22:30:47.767Z"
   },
   {
    "duration": 191,
    "start_time": "2021-12-27T22:30:47.867Z"
   },
   {
    "duration": 5,
    "start_time": "2021-12-27T22:30:48.061Z"
   },
   {
    "duration": 9,
    "start_time": "2021-12-27T22:30:48.072Z"
   },
   {
    "duration": 4,
    "start_time": "2021-12-27T22:31:43.869Z"
   },
   {
    "duration": 5,
    "start_time": "2021-12-27T22:31:48.195Z"
   },
   {
    "duration": 5,
    "start_time": "2021-12-27T22:31:57.376Z"
   },
   {
    "duration": 350,
    "start_time": "2021-12-27T22:33:37.395Z"
   },
   {
    "duration": 426,
    "start_time": "2021-12-27T22:33:49.183Z"
   },
   {
    "duration": 3,
    "start_time": "2021-12-27T22:34:44.322Z"
   },
   {
    "duration": 5,
    "start_time": "2021-12-27T22:34:44.328Z"
   },
   {
    "duration": 5,
    "start_time": "2021-12-27T22:34:44.336Z"
   },
   {
    "duration": 4,
    "start_time": "2021-12-27T22:34:44.344Z"
   },
   {
    "duration": 49,
    "start_time": "2021-12-27T22:34:44.351Z"
   },
   {
    "duration": 5,
    "start_time": "2021-12-27T22:34:44.404Z"
   },
   {
    "duration": 5,
    "start_time": "2021-12-27T22:34:44.412Z"
   },
   {
    "duration": 11,
    "start_time": "2021-12-27T22:34:44.420Z"
   },
   {
    "duration": 25,
    "start_time": "2021-12-27T22:34:44.460Z"
   },
   {
    "duration": 9,
    "start_time": "2021-12-27T22:34:44.487Z"
   },
   {
    "duration": 9,
    "start_time": "2021-12-27T22:34:44.498Z"
   },
   {
    "duration": 12,
    "start_time": "2021-12-27T22:34:44.509Z"
   },
   {
    "duration": 44,
    "start_time": "2021-12-27T22:34:44.523Z"
   },
   {
    "duration": 57,
    "start_time": "2021-12-27T22:34:44.571Z"
   },
   {
    "duration": 36,
    "start_time": "2021-12-27T22:34:44.631Z"
   },
   {
    "duration": 263,
    "start_time": "2021-12-27T22:34:44.669Z"
   },
   {
    "duration": 3,
    "start_time": "2021-12-27T22:34:44.935Z"
   },
   {
    "duration": 19,
    "start_time": "2021-12-27T22:34:44.941Z"
   },
   {
    "duration": 299,
    "start_time": "2021-12-27T22:34:44.962Z"
   },
   {
    "duration": 102,
    "start_time": "2021-12-27T22:34:45.265Z"
   },
   {
    "duration": 195,
    "start_time": "2021-12-27T22:34:45.370Z"
   },
   {
    "duration": 5,
    "start_time": "2021-12-27T22:34:45.567Z"
   },
   {
    "duration": 9,
    "start_time": "2021-12-27T22:34:45.575Z"
   },
   {
    "duration": 3,
    "start_time": "2021-12-27T22:34:45.586Z"
   },
   {
    "duration": 4,
    "start_time": "2021-12-27T22:34:48.452Z"
   },
   {
    "duration": 376,
    "start_time": "2021-12-27T22:34:50.872Z"
   },
   {
    "duration": 18,
    "start_time": "2021-12-27T22:35:26.938Z"
   },
   {
    "duration": 7,
    "start_time": "2021-12-27T22:35:43.325Z"
   },
   {
    "duration": 3,
    "start_time": "2021-12-27T22:36:57.967Z"
   },
   {
    "duration": 21,
    "start_time": "2021-12-27T22:36:57.973Z"
   },
   {
    "duration": 17,
    "start_time": "2021-12-27T22:36:57.997Z"
   },
   {
    "duration": 9,
    "start_time": "2021-12-27T22:36:58.016Z"
   },
   {
    "duration": 57,
    "start_time": "2021-12-27T22:36:58.027Z"
   },
   {
    "duration": 6,
    "start_time": "2021-12-27T22:36:58.086Z"
   },
   {
    "duration": 11,
    "start_time": "2021-12-27T22:36:58.094Z"
   },
   {
    "duration": 35,
    "start_time": "2021-12-27T22:36:58.107Z"
   },
   {
    "duration": 22,
    "start_time": "2021-12-27T22:36:58.146Z"
   },
   {
    "duration": 6,
    "start_time": "2021-12-27T22:36:58.171Z"
   },
   {
    "duration": 8,
    "start_time": "2021-12-27T22:36:58.180Z"
   },
   {
    "duration": 14,
    "start_time": "2021-12-27T22:36:58.191Z"
   },
   {
    "duration": 56,
    "start_time": "2021-12-27T22:36:58.208Z"
   },
   {
    "duration": 60,
    "start_time": "2021-12-27T22:36:58.267Z"
   },
   {
    "duration": 35,
    "start_time": "2021-12-27T22:36:58.330Z"
   },
   {
    "duration": 266,
    "start_time": "2021-12-27T22:36:58.368Z"
   },
   {
    "duration": 4,
    "start_time": "2021-12-27T22:36:58.636Z"
   },
   {
    "duration": 19,
    "start_time": "2021-12-27T22:36:58.642Z"
   },
   {
    "duration": 298,
    "start_time": "2021-12-27T22:36:58.663Z"
   },
   {
    "duration": 107,
    "start_time": "2021-12-27T22:36:58.965Z"
   },
   {
    "duration": 185,
    "start_time": "2021-12-27T22:36:59.075Z"
   },
   {
    "duration": 6,
    "start_time": "2021-12-27T22:36:59.262Z"
   },
   {
    "duration": 8,
    "start_time": "2021-12-27T22:36:59.271Z"
   },
   {
    "duration": 7,
    "start_time": "2021-12-27T22:36:59.281Z"
   },
   {
    "duration": 4,
    "start_time": "2021-12-27T22:37:01.997Z"
   },
   {
    "duration": 17,
    "start_time": "2021-12-27T22:37:04.138Z"
   },
   {
    "duration": 17,
    "start_time": "2021-12-27T22:37:17.353Z"
   },
   {
    "duration": 4,
    "start_time": "2021-12-27T22:38:06.733Z"
   },
   {
    "duration": 6,
    "start_time": "2021-12-27T22:38:06.739Z"
   },
   {
    "duration": 6,
    "start_time": "2021-12-27T22:38:06.748Z"
   },
   {
    "duration": 4,
    "start_time": "2021-12-27T22:38:06.757Z"
   },
   {
    "duration": 56,
    "start_time": "2021-12-27T22:38:06.764Z"
   },
   {
    "duration": 6,
    "start_time": "2021-12-27T22:38:06.822Z"
   },
   {
    "duration": 5,
    "start_time": "2021-12-27T22:38:06.831Z"
   },
   {
    "duration": 26,
    "start_time": "2021-12-27T22:38:06.839Z"
   },
   {
    "duration": 23,
    "start_time": "2021-12-27T22:38:06.867Z"
   },
   {
    "duration": 7,
    "start_time": "2021-12-27T22:38:06.893Z"
   },
   {
    "duration": 8,
    "start_time": "2021-12-27T22:38:06.902Z"
   },
   {
    "duration": 53,
    "start_time": "2021-12-27T22:38:06.912Z"
   },
   {
    "duration": 11,
    "start_time": "2021-12-27T22:38:06.967Z"
   },
   {
    "duration": 79,
    "start_time": "2021-12-27T22:38:06.980Z"
   },
   {
    "duration": 11,
    "start_time": "2021-12-27T22:38:07.061Z"
   },
   {
    "duration": 260,
    "start_time": "2021-12-27T22:38:07.074Z"
   },
   {
    "duration": 3,
    "start_time": "2021-12-27T22:38:07.336Z"
   },
   {
    "duration": 17,
    "start_time": "2021-12-27T22:38:07.343Z"
   },
   {
    "duration": 299,
    "start_time": "2021-12-27T22:38:07.363Z"
   },
   {
    "duration": 102,
    "start_time": "2021-12-27T22:38:07.669Z"
   },
   {
    "duration": 185,
    "start_time": "2021-12-27T22:38:07.774Z"
   },
   {
    "duration": 12,
    "start_time": "2021-12-27T22:38:07.962Z"
   },
   {
    "duration": 19,
    "start_time": "2021-12-27T22:38:07.977Z"
   },
   {
    "duration": 18,
    "start_time": "2021-12-27T22:38:38.217Z"
   },
   {
    "duration": 18,
    "start_time": "2021-12-27T22:38:59.614Z"
   },
   {
    "duration": 375,
    "start_time": "2021-12-27T22:40:47.096Z"
   },
   {
    "duration": 4,
    "start_time": "2021-12-27T22:40:57.989Z"
   },
   {
    "duration": 6,
    "start_time": "2021-12-27T22:40:58.001Z"
   },
   {
    "duration": 6,
    "start_time": "2021-12-27T22:40:58.009Z"
   },
   {
    "duration": 4,
    "start_time": "2021-12-27T22:40:58.018Z"
   },
   {
    "duration": 49,
    "start_time": "2021-12-27T22:40:58.025Z"
   },
   {
    "duration": 6,
    "start_time": "2021-12-27T22:40:58.076Z"
   },
   {
    "duration": 8,
    "start_time": "2021-12-27T22:40:58.085Z"
   },
   {
    "duration": 12,
    "start_time": "2021-12-27T22:40:58.096Z"
   },
   {
    "duration": 52,
    "start_time": "2021-12-27T22:40:58.110Z"
   },
   {
    "duration": 8,
    "start_time": "2021-12-27T22:40:58.167Z"
   },
   {
    "duration": 11,
    "start_time": "2021-12-27T22:40:58.178Z"
   },
   {
    "duration": 12,
    "start_time": "2021-12-27T22:40:58.191Z"
   },
   {
    "duration": 59,
    "start_time": "2021-12-27T22:40:58.206Z"
   },
   {
    "duration": 68,
    "start_time": "2021-12-27T22:40:58.268Z"
   },
   {
    "duration": 22,
    "start_time": "2021-12-27T22:40:58.339Z"
   },
   {
    "duration": 265,
    "start_time": "2021-12-27T22:40:58.363Z"
   },
   {
    "duration": 4,
    "start_time": "2021-12-27T22:40:58.631Z"
   },
   {
    "duration": 4,
    "start_time": "2021-12-27T22:40:58.637Z"
   },
   {
    "duration": 410,
    "start_time": "2021-12-27T22:40:58.659Z"
   },
   {
    "duration": 100,
    "start_time": "2021-12-27T22:40:59.073Z"
   },
   {
    "duration": 185,
    "start_time": "2021-12-27T22:40:59.176Z"
   },
   {
    "duration": 3,
    "start_time": "2021-12-27T22:51:25.284Z"
   },
   {
    "duration": 3459,
    "start_time": "2021-12-28T12:44:23.950Z"
   },
   {
    "duration": 4,
    "start_time": "2021-12-28T12:44:47.481Z"
   },
   {
    "duration": 1184,
    "start_time": "2021-12-28T12:44:47.487Z"
   },
   {
    "duration": 3,
    "start_time": "2021-12-28T12:44:48.674Z"
   },
   {
    "duration": 5,
    "start_time": "2021-12-28T12:44:48.679Z"
   },
   {
    "duration": 44,
    "start_time": "2021-12-28T12:44:48.685Z"
   },
   {
    "duration": 5,
    "start_time": "2021-12-28T12:44:48.731Z"
   },
   {
    "duration": 8,
    "start_time": "2021-12-28T12:44:48.737Z"
   },
   {
    "duration": 20,
    "start_time": "2021-12-28T12:44:48.746Z"
   },
   {
    "duration": 15,
    "start_time": "2021-12-28T12:44:48.769Z"
   },
   {
    "duration": 5,
    "start_time": "2021-12-28T12:44:48.785Z"
   },
   {
    "duration": 9,
    "start_time": "2021-12-28T12:44:48.791Z"
   },
   {
    "duration": 11,
    "start_time": "2021-12-28T12:44:48.802Z"
   },
   {
    "duration": 6,
    "start_time": "2021-12-28T12:44:48.814Z"
   },
   {
    "duration": 50,
    "start_time": "2021-12-28T12:44:48.821Z"
   },
   {
    "duration": 7,
    "start_time": "2021-12-28T12:44:48.873Z"
   },
   {
    "duration": 166,
    "start_time": "2021-12-28T12:44:48.882Z"
   },
   {
    "duration": 2,
    "start_time": "2021-12-28T12:44:49.050Z"
   },
   {
    "duration": 10,
    "start_time": "2021-12-28T12:44:49.054Z"
   },
   {
    "duration": 387,
    "start_time": "2021-12-28T12:44:49.066Z"
   },
   {
    "duration": 90,
    "start_time": "2021-12-28T12:44:49.455Z"
   },
   {
    "duration": 120,
    "start_time": "2021-12-28T12:44:49.547Z"
   },
   {
    "duration": 7,
    "start_time": "2021-12-28T12:44:49.669Z"
   },
   {
    "duration": 65,
    "start_time": "2021-12-28T12:44:49.677Z"
   },
   {
    "duration": 315,
    "start_time": "2021-12-28T12:45:36.279Z"
   },
   {
    "duration": 350,
    "start_time": "2021-12-28T12:45:45.769Z"
   },
   {
    "duration": 440,
    "start_time": "2021-12-28T12:45:53.958Z"
   },
   {
    "duration": 1171,
    "start_time": "2021-12-28T12:46:14.431Z"
   },
   {
    "duration": 1450,
    "start_time": "2021-12-28T12:47:43.582Z"
   },
   {
    "duration": 982,
    "start_time": "2021-12-28T12:48:19.695Z"
   },
   {
    "duration": 254,
    "start_time": "2021-12-28T12:48:46.078Z"
   },
   {
    "duration": 926,
    "start_time": "2021-12-28T12:49:01.293Z"
   },
   {
    "duration": 392,
    "start_time": "2021-12-28T12:50:04.425Z"
   },
   {
    "duration": 853,
    "start_time": "2021-12-28T12:50:24.856Z"
   },
   {
    "duration": 6,
    "start_time": "2021-12-28T12:50:42.815Z"
   },
   {
    "duration": 5,
    "start_time": "2021-12-28T12:51:04.491Z"
   },
   {
    "duration": 420,
    "start_time": "2021-12-28T12:51:31.763Z"
   },
   {
    "duration": 725,
    "start_time": "2021-12-28T12:52:21.233Z"
   },
   {
    "duration": 360,
    "start_time": "2021-12-28T12:53:45.983Z"
   },
   {
    "duration": 474,
    "start_time": "2021-12-28T12:55:07.181Z"
   },
   {
    "duration": 552,
    "start_time": "2021-12-28T12:55:30.680Z"
   },
   {
    "duration": 746,
    "start_time": "2021-12-28T12:56:11.760Z"
   },
   {
    "duration": 5,
    "start_time": "2021-12-28T12:57:08.992Z"
   },
   {
    "duration": 4,
    "start_time": "2021-12-28T12:57:14.125Z"
   },
   {
    "duration": 432,
    "start_time": "2021-12-28T12:57:18.839Z"
   },
   {
    "duration": 443,
    "start_time": "2021-12-28T12:57:36.792Z"
   },
   {
    "duration": 352,
    "start_time": "2021-12-28T12:58:05.635Z"
   },
   {
    "duration": 684,
    "start_time": "2021-12-28T12:59:18.675Z"
   },
   {
    "duration": 444,
    "start_time": "2021-12-28T12:59:24.853Z"
   },
   {
    "duration": 441,
    "start_time": "2021-12-28T13:00:29.600Z"
   },
   {
    "duration": 406,
    "start_time": "2021-12-28T13:00:43.682Z"
   },
   {
    "duration": 390,
    "start_time": "2021-12-28T13:01:03.481Z"
   },
   {
    "duration": 366,
    "start_time": "2021-12-28T13:02:43.351Z"
   },
   {
    "duration": 679,
    "start_time": "2021-12-28T13:04:43.816Z"
   },
   {
    "duration": 398,
    "start_time": "2021-12-28T13:04:59.853Z"
   },
   {
    "duration": 382,
    "start_time": "2021-12-28T13:05:21.316Z"
   },
   {
    "duration": 596,
    "start_time": "2021-12-28T13:05:43.909Z"
   },
   {
    "duration": 608,
    "start_time": "2021-12-28T13:05:56.287Z"
   },
   {
    "duration": 430,
    "start_time": "2021-12-28T13:06:11.861Z"
   },
   {
    "duration": 368,
    "start_time": "2021-12-28T13:06:48.160Z"
   },
   {
    "duration": 682,
    "start_time": "2021-12-28T13:08:00.082Z"
   },
   {
    "duration": 121,
    "start_time": "2021-12-28T13:08:21.789Z"
   },
   {
    "duration": 593,
    "start_time": "2021-12-28T13:08:27.113Z"
   },
   {
    "duration": 534,
    "start_time": "2021-12-28T13:09:44.368Z"
   },
   {
    "duration": 82,
    "start_time": "2021-12-28T13:09:57.390Z"
   },
   {
    "duration": 112,
    "start_time": "2021-12-28T13:11:01.919Z"
   },
   {
    "duration": 90,
    "start_time": "2021-12-28T13:11:08.766Z"
   },
   {
    "duration": 77,
    "start_time": "2021-12-28T13:12:19.804Z"
   },
   {
    "duration": 660,
    "start_time": "2021-12-28T13:12:24.172Z"
   },
   {
    "duration": 737,
    "start_time": "2021-12-28T13:12:33.136Z"
   },
   {
    "duration": 658,
    "start_time": "2021-12-28T13:12:37.387Z"
   },
   {
    "duration": 5,
    "start_time": "2021-12-28T13:13:57.441Z"
   },
   {
    "duration": 7,
    "start_time": "2021-12-28T13:14:10.748Z"
   },
   {
    "duration": 775,
    "start_time": "2021-12-28T13:14:23.767Z"
   },
   {
    "duration": 9,
    "start_time": "2021-12-28T13:14:47.073Z"
   },
   {
    "duration": 649,
    "start_time": "2021-12-28T13:15:31.564Z"
   },
   {
    "duration": 776,
    "start_time": "2021-12-28T13:16:11.323Z"
   },
   {
    "duration": 722,
    "start_time": "2021-12-28T13:17:00.686Z"
   },
   {
    "duration": 471,
    "start_time": "2021-12-28T13:18:33.888Z"
   },
   {
    "duration": 816,
    "start_time": "2021-12-28T13:22:03.948Z"
   },
   {
    "duration": 532,
    "start_time": "2021-12-28T13:22:27.021Z"
   },
   {
    "duration": 6,
    "start_time": "2021-12-28T13:22:54.316Z"
   },
   {
    "duration": 110,
    "start_time": "2021-12-28T13:23:18.545Z"
   },
   {
    "duration": 94,
    "start_time": "2021-12-28T13:23:24.972Z"
   },
   {
    "duration": 799,
    "start_time": "2021-12-28T13:23:44.849Z"
   },
   {
    "duration": 1402,
    "start_time": "2021-12-28T13:25:14.970Z"
   },
   {
    "duration": 430,
    "start_time": "2021-12-28T13:27:45.593Z"
   },
   {
    "duration": 360,
    "start_time": "2021-12-28T13:27:54.968Z"
   },
   {
    "duration": 749,
    "start_time": "2021-12-28T13:28:18.607Z"
   },
   {
    "duration": 376,
    "start_time": "2021-12-28T13:28:33.512Z"
   },
   {
    "duration": 526,
    "start_time": "2021-12-28T13:29:10.325Z"
   },
   {
    "duration": 356,
    "start_time": "2021-12-28T13:29:18.014Z"
   },
   {
    "duration": 392,
    "start_time": "2021-12-28T13:30:16.798Z"
   },
   {
    "duration": 708,
    "start_time": "2021-12-28T13:30:26.071Z"
   },
   {
    "duration": 665,
    "start_time": "2021-12-28T13:30:36.951Z"
   },
   {
    "duration": 672,
    "start_time": "2021-12-28T13:30:43.481Z"
   },
   {
    "duration": 738,
    "start_time": "2021-12-28T13:31:09.303Z"
   },
   {
    "duration": 361,
    "start_time": "2021-12-28T13:31:58.082Z"
   },
   {
    "duration": 636,
    "start_time": "2021-12-28T13:32:26.628Z"
   },
   {
    "duration": 629,
    "start_time": "2021-12-28T13:32:42.478Z"
   },
   {
    "duration": 625,
    "start_time": "2021-12-28T13:33:20.268Z"
   },
   {
    "duration": 548,
    "start_time": "2021-12-28T13:34:38.762Z"
   },
   {
    "duration": 572,
    "start_time": "2021-12-28T13:34:56.637Z"
   },
   {
    "duration": 542,
    "start_time": "2021-12-28T13:35:39.400Z"
   },
   {
    "duration": 846,
    "start_time": "2021-12-28T13:36:27.689Z"
   },
   {
    "duration": 591,
    "start_time": "2021-12-28T13:36:41.779Z"
   },
   {
    "duration": 617,
    "start_time": "2021-12-28T13:37:09.168Z"
   },
   {
    "duration": 581,
    "start_time": "2021-12-28T13:37:34.215Z"
   },
   {
    "duration": 574,
    "start_time": "2021-12-28T13:37:52.236Z"
   },
   {
    "duration": 574,
    "start_time": "2021-12-28T13:38:11.133Z"
   },
   {
    "duration": 638,
    "start_time": "2021-12-28T13:38:18.394Z"
   },
   {
    "duration": 671,
    "start_time": "2021-12-28T13:38:31.885Z"
   },
   {
    "duration": 684,
    "start_time": "2021-12-28T13:39:28.001Z"
   },
   {
    "duration": 388,
    "start_time": "2021-12-28T13:39:35.399Z"
   },
   {
    "duration": 350,
    "start_time": "2021-12-28T13:39:55.523Z"
   },
   {
    "duration": 194,
    "start_time": "2021-12-28T13:40:32.790Z"
   },
   {
    "duration": 366,
    "start_time": "2021-12-28T13:40:55.158Z"
   },
   {
    "duration": 913,
    "start_time": "2021-12-28T13:41:17.847Z"
   },
   {
    "duration": 751,
    "start_time": "2021-12-28T13:41:45.395Z"
   },
   {
    "duration": 363,
    "start_time": "2021-12-28T13:42:09.443Z"
   },
   {
    "duration": 2399,
    "start_time": "2021-12-28T13:42:26.383Z"
   },
   {
    "duration": 2361,
    "start_time": "2021-12-28T13:42:46.419Z"
   },
   {
    "duration": 1151,
    "start_time": "2021-12-28T13:42:48.782Z"
   },
   {
    "duration": 3,
    "start_time": "2021-12-28T13:42:49.935Z"
   },
   {
    "duration": 7,
    "start_time": "2021-12-28T13:42:49.940Z"
   },
   {
    "duration": 43,
    "start_time": "2021-12-28T13:42:49.949Z"
   },
   {
    "duration": 4,
    "start_time": "2021-12-28T13:42:49.994Z"
   },
   {
    "duration": 6,
    "start_time": "2021-12-28T13:42:49.999Z"
   },
   {
    "duration": 13,
    "start_time": "2021-12-28T13:42:50.007Z"
   },
   {
    "duration": 19,
    "start_time": "2021-12-28T13:42:50.021Z"
   },
   {
    "duration": 4,
    "start_time": "2021-12-28T13:42:50.042Z"
   },
   {
    "duration": 16,
    "start_time": "2021-12-28T13:42:50.048Z"
   },
   {
    "duration": 11,
    "start_time": "2021-12-28T13:42:50.066Z"
   },
   {
    "duration": 6,
    "start_time": "2021-12-28T13:42:50.079Z"
   },
   {
    "duration": 37,
    "start_time": "2021-12-28T13:42:50.087Z"
   },
   {
    "duration": 18,
    "start_time": "2021-12-28T13:42:50.126Z"
   },
   {
    "duration": 12,
    "start_time": "2021-12-28T13:42:55.218Z"
   },
   {
    "duration": 371,
    "start_time": "2021-12-28T13:42:57.169Z"
   },
   {
    "duration": 2506,
    "start_time": "2021-12-28T13:44:16.836Z"
   },
   {
    "duration": 560,
    "start_time": "2021-12-28T13:44:37.006Z"
   },
   {
    "duration": 633,
    "start_time": "2021-12-28T13:45:09.754Z"
   },
   {
    "duration": 1079,
    "start_time": "2021-12-28T13:45:17.927Z"
   },
   {
    "duration": 459,
    "start_time": "2021-12-28T13:46:55.024Z"
   },
   {
    "duration": 472,
    "start_time": "2021-12-28T13:47:52.829Z"
   },
   {
    "duration": 541,
    "start_time": "2021-12-28T13:48:02.644Z"
   },
   {
    "duration": 487,
    "start_time": "2021-12-28T13:49:45.619Z"
   },
   {
    "duration": 4,
    "start_time": "2021-12-28T13:50:28.837Z"
   },
   {
    "duration": 410,
    "start_time": "2021-12-28T13:50:57.641Z"
   },
   {
    "duration": 299,
    "start_time": "2021-12-28T13:51:08.686Z"
   },
   {
    "duration": 787,
    "start_time": "2021-12-28T13:51:41.290Z"
   },
   {
    "duration": 837,
    "start_time": "2021-12-28T13:52:00.106Z"
   },
   {
    "duration": 396,
    "start_time": "2021-12-28T13:52:09.894Z"
   },
   {
    "duration": 743,
    "start_time": "2021-12-28T13:52:58.128Z"
   },
   {
    "duration": 308,
    "start_time": "2021-12-28T13:53:24.606Z"
   },
   {
    "duration": 304,
    "start_time": "2021-12-28T13:55:23.056Z"
   },
   {
    "duration": 761,
    "start_time": "2021-12-28T13:55:36.416Z"
   },
   {
    "duration": 663,
    "start_time": "2021-12-28T13:55:41.757Z"
   },
   {
    "duration": 313,
    "start_time": "2021-12-28T13:55:45.333Z"
   },
   {
    "duration": 308,
    "start_time": "2021-12-28T13:55:51.503Z"
   },
   {
    "duration": 334,
    "start_time": "2021-12-28T13:55:59.978Z"
   },
   {
    "duration": 663,
    "start_time": "2021-12-28T13:59:34.650Z"
   },
   {
    "duration": 693,
    "start_time": "2021-12-28T13:59:44.626Z"
   },
   {
    "duration": 838,
    "start_time": "2021-12-28T13:59:59.238Z"
   },
   {
    "duration": 1646,
    "start_time": "2021-12-28T14:00:16.541Z"
   },
   {
    "duration": 1241,
    "start_time": "2021-12-28T14:00:41.565Z"
   },
   {
    "duration": 276,
    "start_time": "2021-12-28T14:01:08.840Z"
   },
   {
    "duration": 1256,
    "start_time": "2021-12-28T14:01:17.871Z"
   },
   {
    "duration": 1349,
    "start_time": "2021-12-28T14:01:31.554Z"
   },
   {
    "duration": 1010,
    "start_time": "2021-12-28T14:03:28.203Z"
   },
   {
    "duration": 1263,
    "start_time": "2021-12-28T14:04:15.048Z"
   },
   {
    "duration": 1269,
    "start_time": "2021-12-28T14:06:49.816Z"
   },
   {
    "duration": 828,
    "start_time": "2021-12-28T14:07:02.342Z"
   },
   {
    "duration": 559,
    "start_time": "2021-12-28T14:07:16.300Z"
   },
   {
    "duration": 784,
    "start_time": "2021-12-28T14:07:40.805Z"
   },
   {
    "duration": 665,
    "start_time": "2021-12-28T14:08:09.020Z"
   },
   {
    "duration": 290,
    "start_time": "2021-12-28T14:11:00.550Z"
   },
   {
    "duration": 282,
    "start_time": "2021-12-28T14:11:41.007Z"
   },
   {
    "duration": 272,
    "start_time": "2021-12-28T14:12:12.060Z"
   },
   {
    "duration": 268,
    "start_time": "2021-12-28T14:12:30.648Z"
   },
   {
    "duration": 778,
    "start_time": "2021-12-28T14:12:35.949Z"
   },
   {
    "duration": 301,
    "start_time": "2021-12-28T14:13:01.023Z"
   },
   {
    "duration": 1035,
    "start_time": "2021-12-28T14:13:09.068Z"
   },
   {
    "duration": 986,
    "start_time": "2021-12-28T14:13:37.828Z"
   },
   {
    "duration": 1047,
    "start_time": "2021-12-28T14:13:43.980Z"
   },
   {
    "duration": 512,
    "start_time": "2021-12-28T14:14:15.816Z"
   },
   {
    "duration": 1006,
    "start_time": "2021-12-28T14:14:54.679Z"
   },
   {
    "duration": 453,
    "start_time": "2021-12-28T14:15:16.381Z"
   },
   {
    "duration": 142,
    "start_time": "2021-12-28T14:15:22.916Z"
   },
   {
    "duration": 326,
    "start_time": "2021-12-28T14:15:46.629Z"
   },
   {
    "duration": 315,
    "start_time": "2021-12-28T14:15:51.050Z"
   },
   {
    "duration": 690,
    "start_time": "2021-12-28T14:15:55.999Z"
   },
   {
    "duration": 317,
    "start_time": "2021-12-28T14:16:01.927Z"
   },
   {
    "duration": 314,
    "start_time": "2021-12-28T14:16:07.439Z"
   },
   {
    "duration": 431,
    "start_time": "2021-12-28T14:17:04.333Z"
   },
   {
    "duration": 133,
    "start_time": "2021-12-28T14:17:09.324Z"
   },
   {
    "duration": 479,
    "start_time": "2021-12-28T14:17:31.233Z"
   },
   {
    "duration": 275,
    "start_time": "2021-12-28T14:18:08.894Z"
   },
   {
    "duration": 566,
    "start_time": "2021-12-28T14:19:19.789Z"
   },
   {
    "duration": 688,
    "start_time": "2021-12-28T14:19:26.277Z"
   },
   {
    "duration": 6,
    "start_time": "2021-12-28T14:19:48.288Z"
   },
   {
    "duration": 606,
    "start_time": "2021-12-28T14:20:00.213Z"
   },
   {
    "duration": 552,
    "start_time": "2021-12-28T14:20:47.347Z"
   },
   {
    "duration": 80,
    "start_time": "2021-12-28T14:21:29.755Z"
   },
   {
    "duration": 137,
    "start_time": "2021-12-28T14:21:39.001Z"
   },
   {
    "duration": 242,
    "start_time": "2021-12-28T14:21:56.558Z"
   },
   {
    "duration": 507,
    "start_time": "2021-12-28T14:22:18.372Z"
   },
   {
    "duration": 459,
    "start_time": "2021-12-28T14:22:48.509Z"
   },
   {
    "duration": 131,
    "start_time": "2021-12-28T14:22:54.383Z"
   },
   {
    "duration": 132,
    "start_time": "2021-12-28T14:28:35.176Z"
   },
   {
    "duration": 457,
    "start_time": "2021-12-28T14:29:26.594Z"
   },
   {
    "duration": 468,
    "start_time": "2021-12-28T14:30:14.382Z"
   },
   {
    "duration": 468,
    "start_time": "2021-12-28T14:30:20.789Z"
   },
   {
    "duration": 297,
    "start_time": "2021-12-28T14:30:32.252Z"
   },
   {
    "duration": 220,
    "start_time": "2021-12-28T14:31:11.051Z"
   },
   {
    "duration": 646,
    "start_time": "2021-12-28T14:34:45.018Z"
   },
   {
    "duration": 688,
    "start_time": "2021-12-28T14:34:54.854Z"
   },
   {
    "duration": 271,
    "start_time": "2021-12-28T14:35:39.128Z"
   },
   {
    "duration": 276,
    "start_time": "2021-12-28T14:35:52.763Z"
   },
   {
    "duration": 306,
    "start_time": "2021-12-28T14:35:57.964Z"
   },
   {
    "duration": 307,
    "start_time": "2021-12-28T14:36:15.054Z"
   },
   {
    "duration": 305,
    "start_time": "2021-12-28T14:37:10.031Z"
   },
   {
    "duration": 3,
    "start_time": "2021-12-28T14:38:43.442Z"
   },
   {
    "duration": 11,
    "start_time": "2021-12-28T14:38:43.447Z"
   },
   {
    "duration": 4,
    "start_time": "2021-12-28T14:38:43.460Z"
   },
   {
    "duration": 40,
    "start_time": "2021-12-28T14:38:43.466Z"
   },
   {
    "duration": 4,
    "start_time": "2021-12-28T14:38:43.508Z"
   },
   {
    "duration": 8,
    "start_time": "2021-12-28T14:38:43.513Z"
   },
   {
    "duration": 19,
    "start_time": "2021-12-28T14:38:43.522Z"
   },
   {
    "duration": 15,
    "start_time": "2021-12-28T14:38:43.543Z"
   },
   {
    "duration": 4,
    "start_time": "2021-12-28T14:38:43.562Z"
   },
   {
    "duration": 10,
    "start_time": "2021-12-28T14:38:43.568Z"
   },
   {
    "duration": 11,
    "start_time": "2021-12-28T14:38:43.580Z"
   },
   {
    "duration": 7,
    "start_time": "2021-12-28T14:38:43.592Z"
   },
   {
    "duration": 59,
    "start_time": "2021-12-28T14:38:43.600Z"
   },
   {
    "duration": 316,
    "start_time": "2021-12-28T14:38:43.661Z"
   },
   {
    "duration": 3,
    "start_time": "2021-12-28T14:38:43.978Z"
   },
   {
    "duration": 9,
    "start_time": "2021-12-28T14:38:43.982Z"
   },
   {
    "duration": 252,
    "start_time": "2021-12-28T14:38:43.993Z"
   },
   {
    "duration": 99,
    "start_time": "2021-12-28T14:38:44.247Z"
   },
   {
    "duration": 99,
    "start_time": "2021-12-28T14:38:44.348Z"
   },
   {
    "duration": 97,
    "start_time": "2021-12-28T14:38:44.450Z"
   },
   {
    "duration": 13,
    "start_time": "2021-12-28T14:38:44.548Z"
   },
   {
    "duration": 2854,
    "start_time": "2021-12-28T14:40:00.115Z"
   },
   {
    "duration": 1070,
    "start_time": "2021-12-28T14:40:08.531Z"
   },
   {
    "duration": 2602,
    "start_time": "2021-12-28T14:40:15.609Z"
   },
   {
    "duration": 5,
    "start_time": "2021-12-28T14:40:35.423Z"
   },
   {
    "duration": 258,
    "start_time": "2021-12-28T14:41:28.041Z"
   },
   {
    "duration": 136,
    "start_time": "2021-12-28T14:41:40.193Z"
   },
   {
    "duration": 252,
    "start_time": "2021-12-28T14:42:00.328Z"
   },
   {
    "duration": 2322,
    "start_time": "2021-12-28T14:43:09.621Z"
   },
   {
    "duration": 1205,
    "start_time": "2021-12-28T14:43:11.945Z"
   },
   {
    "duration": 3,
    "start_time": "2021-12-28T14:43:13.152Z"
   },
   {
    "duration": 8,
    "start_time": "2021-12-28T14:43:13.157Z"
   },
   {
    "duration": 46,
    "start_time": "2021-12-28T14:43:13.166Z"
   },
   {
    "duration": 4,
    "start_time": "2021-12-28T14:43:13.213Z"
   },
   {
    "duration": 6,
    "start_time": "2021-12-28T14:43:13.219Z"
   },
   {
    "duration": 10,
    "start_time": "2021-12-28T14:43:13.227Z"
   },
   {
    "duration": 16,
    "start_time": "2021-12-28T14:43:13.241Z"
   },
   {
    "duration": 6,
    "start_time": "2021-12-28T14:43:13.259Z"
   },
   {
    "duration": 7,
    "start_time": "2021-12-28T14:43:13.266Z"
   },
   {
    "duration": 10,
    "start_time": "2021-12-28T14:43:13.275Z"
   },
   {
    "duration": 8,
    "start_time": "2021-12-28T14:43:13.287Z"
   },
   {
    "duration": 57,
    "start_time": "2021-12-28T14:43:13.297Z"
   },
   {
    "duration": 152,
    "start_time": "2021-12-28T14:43:13.356Z"
   },
   {
    "duration": 335,
    "start_time": "2021-12-28T14:43:13.509Z"
   },
   {
    "duration": 2,
    "start_time": "2021-12-28T14:43:13.845Z"
   },
   {
    "duration": 7,
    "start_time": "2021-12-28T14:43:13.849Z"
   },
   {
    "duration": 293,
    "start_time": "2021-12-28T14:43:13.857Z"
   },
   {
    "duration": 101,
    "start_time": "2021-12-28T14:43:14.243Z"
   },
   {
    "duration": 102,
    "start_time": "2021-12-28T14:43:14.347Z"
   },
   {
    "duration": 12,
    "start_time": "2021-12-28T14:43:14.450Z"
   },
   {
    "duration": 78,
    "start_time": "2021-12-28T14:43:14.465Z"
   },
   {
    "duration": 2,
    "start_time": "2021-12-28T14:46:40.856Z"
   },
   {
    "duration": 623,
    "start_time": "2021-12-28T14:49:12.026Z"
   },
   {
    "duration": 345,
    "start_time": "2021-12-28T14:50:36.868Z"
   },
   {
    "duration": 1019,
    "start_time": "2021-12-28T14:50:46.735Z"
   },
   {
    "duration": 909,
    "start_time": "2021-12-28T14:50:55.385Z"
   },
   {
    "duration": 714,
    "start_time": "2021-12-28T14:53:05.016Z"
   },
   {
    "duration": 686,
    "start_time": "2021-12-28T14:55:37.354Z"
   },
   {
    "duration": 721,
    "start_time": "2021-12-28T14:56:00.604Z"
   },
   {
    "duration": 1267,
    "start_time": "2021-12-28T14:57:24.300Z"
   },
   {
    "duration": 1179,
    "start_time": "2021-12-28T14:57:55.226Z"
   },
   {
    "duration": 2138,
    "start_time": "2021-12-28T14:58:22.982Z"
   },
   {
    "duration": 5728,
    "start_time": "2021-12-28T14:59:38.333Z"
   },
   {
    "duration": 1317,
    "start_time": "2021-12-28T15:00:05.159Z"
   },
   {
    "duration": 1307,
    "start_time": "2021-12-28T15:03:26.402Z"
   },
   {
    "duration": 1252,
    "start_time": "2021-12-28T15:04:08.324Z"
   },
   {
    "duration": 1389,
    "start_time": "2021-12-28T15:06:00.467Z"
   },
   {
    "duration": 5,
    "start_time": "2021-12-28T15:06:11.064Z"
   },
   {
    "duration": 1209,
    "start_time": "2021-12-28T15:06:28.771Z"
   },
   {
    "duration": 1296,
    "start_time": "2021-12-28T15:07:29.881Z"
   },
   {
    "duration": 1201,
    "start_time": "2021-12-28T15:07:53.312Z"
   },
   {
    "duration": 616,
    "start_time": "2021-12-28T15:14:58.725Z"
   },
   {
    "duration": 472,
    "start_time": "2021-12-28T15:15:18.221Z"
   },
   {
    "duration": 450,
    "start_time": "2021-12-28T15:16:55.868Z"
   },
   {
    "duration": 294,
    "start_time": "2021-12-28T15:17:24.711Z"
   },
   {
    "duration": 291,
    "start_time": "2021-12-28T15:17:53.267Z"
   },
   {
    "duration": 257,
    "start_time": "2021-12-28T15:18:14.718Z"
   },
   {
    "duration": 240,
    "start_time": "2021-12-28T15:19:24.347Z"
   },
   {
    "duration": 474,
    "start_time": "2021-12-28T15:21:52.145Z"
   },
   {
    "duration": 480,
    "start_time": "2021-12-28T15:24:13.311Z"
   },
   {
    "duration": 518,
    "start_time": "2021-12-28T15:24:22.450Z"
   },
   {
    "duration": 486,
    "start_time": "2021-12-28T15:25:05.404Z"
   },
   {
    "duration": 609,
    "start_time": "2021-12-28T15:25:08.855Z"
   },
   {
    "duration": 470,
    "start_time": "2021-12-28T15:25:12.367Z"
   },
   {
    "duration": 464,
    "start_time": "2021-12-28T15:25:16.000Z"
   },
   {
    "duration": 464,
    "start_time": "2021-12-28T15:26:06.772Z"
   },
   {
    "duration": 483,
    "start_time": "2021-12-28T15:26:13.365Z"
   },
   {
    "duration": 690,
    "start_time": "2021-12-28T15:28:07.224Z"
   },
   {
    "duration": 562,
    "start_time": "2021-12-28T15:28:16.200Z"
   },
   {
    "duration": 457,
    "start_time": "2021-12-28T15:31:27.899Z"
   },
   {
    "duration": 559,
    "start_time": "2021-12-28T15:31:51.664Z"
   },
   {
    "duration": 476,
    "start_time": "2021-12-28T15:32:13.638Z"
   },
   {
    "duration": 386,
    "start_time": "2021-12-28T15:37:46.779Z"
   },
   {
    "duration": 323,
    "start_time": "2021-12-28T15:38:03.968Z"
   },
   {
    "duration": 335,
    "start_time": "2021-12-28T15:39:05.459Z"
   },
   {
    "duration": 337,
    "start_time": "2021-12-28T15:39:34.588Z"
   },
   {
    "duration": 323,
    "start_time": "2021-12-28T15:39:46.520Z"
   },
   {
    "duration": 532,
    "start_time": "2021-12-28T15:40:19.396Z"
   },
   {
    "duration": 337,
    "start_time": "2021-12-28T15:40:48.094Z"
   },
   {
    "duration": 430,
    "start_time": "2021-12-28T15:41:07.593Z"
   },
   {
    "duration": 348,
    "start_time": "2021-12-28T15:41:18.684Z"
   },
   {
    "duration": 344,
    "start_time": "2021-12-28T15:41:31.656Z"
   },
   {
    "duration": 594,
    "start_time": "2021-12-28T15:42:03.918Z"
   },
   {
    "duration": 562,
    "start_time": "2021-12-28T15:42:11.789Z"
   },
   {
    "duration": 595,
    "start_time": "2021-12-28T15:42:22.639Z"
   },
   {
    "duration": 361,
    "start_time": "2021-12-28T15:42:34.479Z"
   },
   {
    "duration": 334,
    "start_time": "2021-12-28T15:42:39.229Z"
   },
   {
    "duration": 343,
    "start_time": "2021-12-28T15:42:45.048Z"
   },
   {
    "duration": 438,
    "start_time": "2021-12-28T15:42:53.649Z"
   },
   {
    "duration": 427,
    "start_time": "2021-12-28T15:42:58.988Z"
   },
   {
    "duration": 2,
    "start_time": "2021-12-28T16:02:40.016Z"
   },
   {
    "duration": 10,
    "start_time": "2021-12-28T16:02:40.020Z"
   },
   {
    "duration": 10,
    "start_time": "2021-12-28T16:02:40.031Z"
   },
   {
    "duration": 5,
    "start_time": "2021-12-28T16:02:40.043Z"
   },
   {
    "duration": 43,
    "start_time": "2021-12-28T16:02:40.050Z"
   },
   {
    "duration": 4,
    "start_time": "2021-12-28T16:02:40.095Z"
   },
   {
    "duration": 6,
    "start_time": "2021-12-28T16:02:40.100Z"
   },
   {
    "duration": 9,
    "start_time": "2021-12-28T16:02:40.108Z"
   },
   {
    "duration": 14,
    "start_time": "2021-12-28T16:02:40.119Z"
   },
   {
    "duration": 7,
    "start_time": "2021-12-28T16:02:40.134Z"
   },
   {
    "duration": 10,
    "start_time": "2021-12-28T16:02:40.142Z"
   },
   {
    "duration": 14,
    "start_time": "2021-12-28T16:02:40.154Z"
   },
   {
    "duration": 6,
    "start_time": "2021-12-28T16:02:40.169Z"
   },
   {
    "duration": 36,
    "start_time": "2021-12-28T16:02:40.176Z"
   },
   {
    "duration": 416,
    "start_time": "2021-12-28T16:02:40.214Z"
   },
   {
    "duration": 313,
    "start_time": "2021-12-28T16:02:40.631Z"
   },
   {
    "duration": 2,
    "start_time": "2021-12-28T16:02:40.946Z"
   },
   {
    "duration": 6,
    "start_time": "2021-12-28T16:02:40.950Z"
   },
   {
    "duration": 286,
    "start_time": "2021-12-28T16:02:40.957Z"
   },
   {
    "duration": 101,
    "start_time": "2021-12-28T16:02:41.245Z"
   },
   {
    "duration": 92,
    "start_time": "2021-12-28T16:02:41.349Z"
   },
   {
    "duration": 105,
    "start_time": "2021-12-28T16:02:41.444Z"
   },
   {
    "duration": 16,
    "start_time": "2021-12-28T16:02:41.551Z"
   },
   {
    "duration": 484,
    "start_time": "2021-12-28T16:04:08.971Z"
   },
   {
    "duration": 473,
    "start_time": "2021-12-28T16:05:08.938Z"
   },
   {
    "duration": 5,
    "start_time": "2021-12-28T16:05:50.959Z"
   },
   {
    "duration": 521,
    "start_time": "2021-12-28T16:06:13.741Z"
   },
   {
    "duration": 719,
    "start_time": "2021-12-28T16:07:21.792Z"
   },
   {
    "duration": 8,
    "start_time": "2021-12-28T16:08:27.074Z"
   },
   {
    "duration": 834,
    "start_time": "2021-12-28T16:08:47.841Z"
   },
   {
    "duration": 417,
    "start_time": "2021-12-28T16:08:52.559Z"
   },
   {
    "duration": 275,
    "start_time": "2021-12-28T16:11:28.970Z"
   },
   {
    "duration": 2,
    "start_time": "2021-12-28T16:11:43.672Z"
   },
   {
    "duration": 1151,
    "start_time": "2021-12-28T16:11:43.681Z"
   },
   {
    "duration": 2,
    "start_time": "2021-12-28T16:11:44.834Z"
   },
   {
    "duration": 5,
    "start_time": "2021-12-28T16:11:44.838Z"
   },
   {
    "duration": 46,
    "start_time": "2021-12-28T16:11:44.845Z"
   },
   {
    "duration": 4,
    "start_time": "2021-12-28T16:11:44.892Z"
   },
   {
    "duration": 6,
    "start_time": "2021-12-28T16:11:44.897Z"
   },
   {
    "duration": 10,
    "start_time": "2021-12-28T16:11:44.905Z"
   },
   {
    "duration": 16,
    "start_time": "2021-12-28T16:11:44.916Z"
   },
   {
    "duration": 8,
    "start_time": "2021-12-28T16:11:44.934Z"
   },
   {
    "duration": 5,
    "start_time": "2021-12-28T16:11:44.943Z"
   },
   {
    "duration": 8,
    "start_time": "2021-12-28T16:11:44.950Z"
   },
   {
    "duration": 8,
    "start_time": "2021-12-28T16:11:44.960Z"
   },
   {
    "duration": 43,
    "start_time": "2021-12-28T16:11:44.969Z"
   },
   {
    "duration": 5,
    "start_time": "2021-12-28T16:11:45.014Z"
   },
   {
    "duration": 25,
    "start_time": "2021-12-28T16:11:45.021Z"
   },
   {
    "duration": 534,
    "start_time": "2021-12-28T16:11:45.048Z"
   },
   {
    "duration": 494,
    "start_time": "2021-12-28T16:13:57.519Z"
   },
   {
    "duration": 643,
    "start_time": "2021-12-28T16:14:43.275Z"
   },
   {
    "duration": 3,
    "start_time": "2021-12-28T16:18:29.745Z"
   },
   {
    "duration": 1210,
    "start_time": "2021-12-28T16:18:29.750Z"
   },
   {
    "duration": 3,
    "start_time": "2021-12-28T16:18:30.962Z"
   },
   {
    "duration": 9,
    "start_time": "2021-12-28T16:18:30.967Z"
   },
   {
    "duration": 49,
    "start_time": "2021-12-28T16:18:30.978Z"
   },
   {
    "duration": 5,
    "start_time": "2021-12-28T16:18:31.029Z"
   },
   {
    "duration": 19,
    "start_time": "2021-12-28T16:18:31.035Z"
   },
   {
    "duration": 15,
    "start_time": "2021-12-28T16:18:31.056Z"
   },
   {
    "duration": 16,
    "start_time": "2021-12-28T16:18:31.073Z"
   },
   {
    "duration": 7,
    "start_time": "2021-12-28T16:18:31.091Z"
   },
   {
    "duration": 9,
    "start_time": "2021-12-28T16:18:31.100Z"
   },
   {
    "duration": 11,
    "start_time": "2021-12-28T16:18:31.111Z"
   },
   {
    "duration": 7,
    "start_time": "2021-12-28T16:18:31.123Z"
   },
   {
    "duration": 44,
    "start_time": "2021-12-28T16:18:31.132Z"
   },
   {
    "duration": 6,
    "start_time": "2021-12-28T16:18:31.177Z"
   },
   {
    "duration": 24,
    "start_time": "2021-12-28T16:18:31.184Z"
   },
   {
    "duration": 637,
    "start_time": "2021-12-28T16:18:31.210Z"
   },
   {
    "duration": 539,
    "start_time": "2021-12-28T16:18:44.385Z"
   },
   {
    "duration": 604,
    "start_time": "2021-12-28T16:18:56.851Z"
   },
   {
    "duration": 574,
    "start_time": "2021-12-28T16:19:03.410Z"
   },
   {
    "duration": 532,
    "start_time": "2021-12-28T16:19:12.157Z"
   },
   {
    "duration": 449,
    "start_time": "2021-12-28T16:20:25.716Z"
   },
   {
    "duration": 458,
    "start_time": "2021-12-28T16:20:59.153Z"
   },
   {
    "duration": 731,
    "start_time": "2021-12-28T16:21:56.497Z"
   },
   {
    "duration": 761,
    "start_time": "2021-12-28T16:22:03.655Z"
   },
   {
    "duration": 442,
    "start_time": "2021-12-28T16:22:11.327Z"
   },
   {
    "duration": 458,
    "start_time": "2021-12-28T16:25:46.104Z"
   },
   {
    "duration": 565,
    "start_time": "2021-12-28T16:26:03.837Z"
   },
   {
    "duration": 543,
    "start_time": "2021-12-28T16:26:14.190Z"
   },
   {
    "duration": 590,
    "start_time": "2021-12-28T16:26:34.645Z"
   },
   {
    "duration": 3,
    "start_time": "2021-12-28T16:55:38.450Z"
   },
   {
    "duration": 10,
    "start_time": "2021-12-28T16:55:38.455Z"
   },
   {
    "duration": 5,
    "start_time": "2021-12-28T16:55:38.467Z"
   },
   {
    "duration": 7,
    "start_time": "2021-12-28T16:55:38.474Z"
   },
   {
    "duration": 58,
    "start_time": "2021-12-28T16:55:38.483Z"
   },
   {
    "duration": 4,
    "start_time": "2021-12-28T16:55:38.543Z"
   },
   {
    "duration": 7,
    "start_time": "2021-12-28T16:55:38.550Z"
   },
   {
    "duration": 15,
    "start_time": "2021-12-28T16:55:38.559Z"
   },
   {
    "duration": 17,
    "start_time": "2021-12-28T16:55:38.576Z"
   },
   {
    "duration": 9,
    "start_time": "2021-12-28T16:55:38.595Z"
   },
   {
    "duration": 15,
    "start_time": "2021-12-28T16:55:38.606Z"
   },
   {
    "duration": 27,
    "start_time": "2021-12-28T16:55:38.623Z"
   },
   {
    "duration": 13,
    "start_time": "2021-12-28T16:55:38.652Z"
   },
   {
    "duration": 49,
    "start_time": "2021-12-28T16:55:38.667Z"
   },
   {
    "duration": 5,
    "start_time": "2021-12-28T16:55:38.718Z"
   },
   {
    "duration": 13,
    "start_time": "2021-12-28T16:55:38.724Z"
   },
   {
    "duration": 649,
    "start_time": "2021-12-28T16:55:38.739Z"
   },
   {
    "duration": 600,
    "start_time": "2021-12-28T16:57:25.636Z"
   },
   {
    "duration": 473,
    "start_time": "2021-12-28T16:57:40.992Z"
   },
   {
    "duration": 707,
    "start_time": "2021-12-28T16:57:59.380Z"
   },
   {
    "duration": 565,
    "start_time": "2021-12-28T16:58:22.519Z"
   },
   {
    "duration": 371,
    "start_time": "2021-12-28T16:58:55.724Z"
   },
   {
    "duration": 470,
    "start_time": "2021-12-28T16:59:07.271Z"
   },
   {
    "duration": 362,
    "start_time": "2021-12-28T16:59:13.988Z"
   },
   {
    "duration": 371,
    "start_time": "2021-12-28T16:59:40.555Z"
   },
   {
    "duration": 365,
    "start_time": "2021-12-28T16:59:46.596Z"
   },
   {
    "duration": 453,
    "start_time": "2021-12-28T16:59:58.824Z"
   },
   {
    "duration": 694,
    "start_time": "2021-12-28T17:00:21.787Z"
   },
   {
    "duration": 716,
    "start_time": "2021-12-28T17:00:32.901Z"
   },
   {
    "duration": 412,
    "start_time": "2021-12-28T17:00:51.821Z"
   },
   {
    "duration": 476,
    "start_time": "2021-12-28T17:01:06.972Z"
   },
   {
    "duration": 535,
    "start_time": "2021-12-28T17:01:14.549Z"
   },
   {
    "duration": 381,
    "start_time": "2021-12-28T17:01:20.842Z"
   },
   {
    "duration": 374,
    "start_time": "2021-12-28T17:01:39.487Z"
   },
   {
    "duration": 551,
    "start_time": "2021-12-28T17:01:44.134Z"
   },
   {
    "duration": 557,
    "start_time": "2021-12-28T17:01:48.044Z"
   },
   {
    "duration": 683,
    "start_time": "2021-12-28T17:02:20.832Z"
   },
   {
    "duration": 805,
    "start_time": "2021-12-28T17:02:28.816Z"
   },
   {
    "duration": 481,
    "start_time": "2021-12-28T17:03:11.179Z"
   },
   {
    "duration": 466,
    "start_time": "2021-12-28T17:03:22.623Z"
   },
   {
    "duration": 3,
    "start_time": "2021-12-28T17:03:48.351Z"
   },
   {
    "duration": 1166,
    "start_time": "2021-12-28T17:03:48.357Z"
   },
   {
    "duration": 3,
    "start_time": "2021-12-28T17:03:49.525Z"
   },
   {
    "duration": 11,
    "start_time": "2021-12-28T17:03:49.530Z"
   },
   {
    "duration": 45,
    "start_time": "2021-12-28T17:03:49.543Z"
   },
   {
    "duration": 5,
    "start_time": "2021-12-28T17:03:49.590Z"
   },
   {
    "duration": 11,
    "start_time": "2021-12-28T17:03:49.597Z"
   },
   {
    "duration": 14,
    "start_time": "2021-12-28T17:03:49.609Z"
   },
   {
    "duration": 17,
    "start_time": "2021-12-28T17:03:49.626Z"
   },
   {
    "duration": 15,
    "start_time": "2021-12-28T17:03:49.645Z"
   },
   {
    "duration": 7,
    "start_time": "2021-12-28T17:03:49.662Z"
   },
   {
    "duration": 13,
    "start_time": "2021-12-28T17:03:49.671Z"
   },
   {
    "duration": 10,
    "start_time": "2021-12-28T17:03:49.685Z"
   },
   {
    "duration": 36,
    "start_time": "2021-12-28T17:03:49.696Z"
   },
   {
    "duration": 5,
    "start_time": "2021-12-28T17:03:49.741Z"
   },
   {
    "duration": 9,
    "start_time": "2021-12-28T17:03:49.748Z"
   },
   {
    "duration": 799,
    "start_time": "2021-12-28T17:03:49.759Z"
   },
   {
    "duration": 452,
    "start_time": "2021-12-28T17:04:10.993Z"
   },
   {
    "duration": 3,
    "start_time": "2021-12-28T17:04:50.866Z"
   },
   {
    "duration": 1147,
    "start_time": "2021-12-28T17:04:50.871Z"
   },
   {
    "duration": 3,
    "start_time": "2021-12-28T17:04:52.020Z"
   },
   {
    "duration": 13,
    "start_time": "2021-12-28T17:04:52.025Z"
   },
   {
    "duration": 65,
    "start_time": "2021-12-28T17:04:52.040Z"
   },
   {
    "duration": 5,
    "start_time": "2021-12-28T17:04:52.107Z"
   },
   {
    "duration": 12,
    "start_time": "2021-12-28T17:04:52.114Z"
   },
   {
    "duration": 10,
    "start_time": "2021-12-28T17:04:52.129Z"
   },
   {
    "duration": 16,
    "start_time": "2021-12-28T17:04:52.141Z"
   },
   {
    "duration": 8,
    "start_time": "2021-12-28T17:04:52.159Z"
   },
   {
    "duration": 13,
    "start_time": "2021-12-28T17:04:52.169Z"
   },
   {
    "duration": 13,
    "start_time": "2021-12-28T17:04:52.184Z"
   },
   {
    "duration": 16,
    "start_time": "2021-12-28T17:04:52.199Z"
   },
   {
    "duration": 46,
    "start_time": "2021-12-28T17:04:52.217Z"
   },
   {
    "duration": 5,
    "start_time": "2021-12-28T17:04:52.265Z"
   },
   {
    "duration": 11,
    "start_time": "2021-12-28T17:04:52.272Z"
   },
   {
    "duration": 499,
    "start_time": "2021-12-28T17:04:52.285Z"
   },
   {
    "duration": 825,
    "start_time": "2021-12-28T17:05:20.333Z"
   },
   {
    "duration": 776,
    "start_time": "2021-12-28T17:05:41.690Z"
   },
   {
    "duration": 420,
    "start_time": "2021-12-28T17:05:58.328Z"
   },
   {
    "duration": 811,
    "start_time": "2021-12-28T17:07:31.549Z"
   },
   {
    "duration": 345,
    "start_time": "2021-12-28T17:07:42.765Z"
   },
   {
    "duration": 336,
    "start_time": "2021-12-28T17:07:58.909Z"
   },
   {
    "duration": 498,
    "start_time": "2021-12-28T17:08:44.681Z"
   },
   {
    "duration": 2,
    "start_time": "2021-12-28T17:09:58.761Z"
   },
   {
    "duration": 11,
    "start_time": "2021-12-28T17:09:58.765Z"
   },
   {
    "duration": 5,
    "start_time": "2021-12-28T17:09:58.778Z"
   },
   {
    "duration": 5,
    "start_time": "2021-12-28T17:09:58.785Z"
   },
   {
    "duration": 37,
    "start_time": "2021-12-28T17:09:58.791Z"
   },
   {
    "duration": 4,
    "start_time": "2021-12-28T17:09:58.829Z"
   },
   {
    "duration": 6,
    "start_time": "2021-12-28T17:09:58.834Z"
   },
   {
    "duration": 8,
    "start_time": "2021-12-28T17:09:58.841Z"
   },
   {
    "duration": 14,
    "start_time": "2021-12-28T17:09:58.851Z"
   },
   {
    "duration": 8,
    "start_time": "2021-12-28T17:09:58.867Z"
   },
   {
    "duration": 10,
    "start_time": "2021-12-28T17:09:58.876Z"
   },
   {
    "duration": 10,
    "start_time": "2021-12-28T17:09:58.887Z"
   },
   {
    "duration": 9,
    "start_time": "2021-12-28T17:09:58.899Z"
   },
   {
    "duration": 41,
    "start_time": "2021-12-28T17:09:58.910Z"
   },
   {
    "duration": 3,
    "start_time": "2021-12-28T17:09:58.953Z"
   },
   {
    "duration": 336,
    "start_time": "2021-12-28T17:09:58.958Z"
   },
   {
    "duration": 2,
    "start_time": "2021-12-28T17:10:47.726Z"
   },
   {
    "duration": 14,
    "start_time": "2021-12-28T17:10:47.730Z"
   },
   {
    "duration": 6,
    "start_time": "2021-12-28T17:10:47.746Z"
   },
   {
    "duration": 5,
    "start_time": "2021-12-28T17:10:47.754Z"
   },
   {
    "duration": 38,
    "start_time": "2021-12-28T17:10:47.760Z"
   },
   {
    "duration": 3,
    "start_time": "2021-12-28T17:10:47.800Z"
   },
   {
    "duration": 7,
    "start_time": "2021-12-28T17:10:47.805Z"
   },
   {
    "duration": 11,
    "start_time": "2021-12-28T17:10:47.814Z"
   },
   {
    "duration": 20,
    "start_time": "2021-12-28T17:10:47.826Z"
   },
   {
    "duration": 10,
    "start_time": "2021-12-28T17:10:47.848Z"
   },
   {
    "duration": 13,
    "start_time": "2021-12-28T17:10:47.859Z"
   },
   {
    "duration": 13,
    "start_time": "2021-12-28T17:10:47.873Z"
   },
   {
    "duration": 87,
    "start_time": "2021-12-28T17:10:47.887Z"
   },
   {
    "duration": 35,
    "start_time": "2021-12-28T17:10:47.975Z"
   },
   {
    "duration": 343,
    "start_time": "2021-12-28T17:10:48.011Z"
   },
   {
    "duration": 611,
    "start_time": "2021-12-28T17:12:16.854Z"
   },
   {
    "duration": 923,
    "start_time": "2021-12-28T17:13:09.037Z"
   },
   {
    "duration": 1129,
    "start_time": "2021-12-28T17:14:16.333Z"
   },
   {
    "duration": 1313,
    "start_time": "2021-12-28T17:14:26.737Z"
   },
   {
    "duration": 1180,
    "start_time": "2021-12-28T17:14:41.764Z"
   },
   {
    "duration": 1198,
    "start_time": "2021-12-28T17:14:54.486Z"
   },
   {
    "duration": 940,
    "start_time": "2021-12-28T17:15:15.509Z"
   },
   {
    "duration": 930,
    "start_time": "2021-12-28T17:15:52.241Z"
   },
   {
    "duration": 1087,
    "start_time": "2021-12-28T17:15:57.017Z"
   },
   {
    "duration": 840,
    "start_time": "2021-12-28T17:17:13.392Z"
   },
   {
    "duration": 1059,
    "start_time": "2021-12-28T17:18:05.068Z"
   },
   {
    "duration": 1361,
    "start_time": "2021-12-28T17:18:16.735Z"
   },
   {
    "duration": 1651,
    "start_time": "2021-12-28T17:19:01.843Z"
   },
   {
    "duration": 1938,
    "start_time": "2021-12-28T17:19:35.073Z"
   },
   {
    "duration": 1661,
    "start_time": "2021-12-28T17:19:42.041Z"
   },
   {
    "duration": 1753,
    "start_time": "2021-12-28T17:22:07.188Z"
   },
   {
    "duration": 1892,
    "start_time": "2021-12-28T17:23:09.127Z"
   },
   {
    "duration": 1844,
    "start_time": "2021-12-28T17:23:47.254Z"
   },
   {
    "duration": 1642,
    "start_time": "2021-12-28T17:23:57.482Z"
   },
   {
    "duration": 1877,
    "start_time": "2021-12-28T17:26:14.082Z"
   },
   {
    "duration": 78,
    "start_time": "2021-12-28T17:29:52.491Z"
   },
   {
    "duration": 1242,
    "start_time": "2021-12-28T17:29:58.366Z"
   },
   {
    "duration": 370,
    "start_time": "2021-12-28T17:32:04.521Z"
   },
   {
    "duration": 20361,
    "start_time": "2021-12-28T17:32:25.242Z"
   },
   {
    "duration": 13296,
    "start_time": "2021-12-28T17:32:53.907Z"
   },
   {
    "duration": 11633,
    "start_time": "2021-12-28T17:35:42.846Z"
   },
   {
    "duration": 11901,
    "start_time": "2021-12-28T17:36:46.815Z"
   },
   {
    "duration": 12499,
    "start_time": "2021-12-28T17:37:58.509Z"
   },
   {
    "duration": 267,
    "start_time": "2021-12-28T17:39:31.200Z"
   },
   {
    "duration": 12200,
    "start_time": "2021-12-28T17:40:25.537Z"
   },
   {
    "duration": 267,
    "start_time": "2021-12-28T17:40:51.997Z"
   },
   {
    "duration": 11630,
    "start_time": "2021-12-28T17:41:01.399Z"
   },
   {
    "duration": 11942,
    "start_time": "2021-12-28T17:41:13.299Z"
   },
   {
    "duration": 105,
    "start_time": "2021-12-28T17:43:54.944Z"
   },
   {
    "duration": 2,
    "start_time": "2021-12-28T17:49:29.819Z"
   },
   {
    "duration": 5,
    "start_time": "2021-12-28T17:49:29.823Z"
   },
   {
    "duration": 5,
    "start_time": "2021-12-28T17:49:29.830Z"
   },
   {
    "duration": 4,
    "start_time": "2021-12-28T17:49:29.836Z"
   },
   {
    "duration": 36,
    "start_time": "2021-12-28T17:49:29.842Z"
   },
   {
    "duration": 4,
    "start_time": "2021-12-28T17:49:29.880Z"
   },
   {
    "duration": 5,
    "start_time": "2021-12-28T17:49:29.886Z"
   },
   {
    "duration": 9,
    "start_time": "2021-12-28T17:49:29.893Z"
   },
   {
    "duration": 17,
    "start_time": "2021-12-28T17:49:29.904Z"
   },
   {
    "duration": 4,
    "start_time": "2021-12-28T17:49:29.922Z"
   },
   {
    "duration": 13,
    "start_time": "2021-12-28T17:49:29.928Z"
   },
   {
    "duration": 17,
    "start_time": "2021-12-28T17:49:29.942Z"
   },
   {
    "duration": 80,
    "start_time": "2021-12-28T17:51:54.122Z"
   },
   {
    "duration": 3,
    "start_time": "2021-12-28T17:57:33.429Z"
   },
   {
    "duration": 7,
    "start_time": "2021-12-28T17:57:33.434Z"
   },
   {
    "duration": 10,
    "start_time": "2021-12-28T17:57:33.443Z"
   },
   {
    "duration": 11,
    "start_time": "2021-12-28T17:57:33.455Z"
   },
   {
    "duration": 38,
    "start_time": "2021-12-28T17:57:33.467Z"
   },
   {
    "duration": 4,
    "start_time": "2021-12-28T17:57:33.507Z"
   },
   {
    "duration": 5,
    "start_time": "2021-12-28T17:57:33.512Z"
   },
   {
    "duration": 9,
    "start_time": "2021-12-28T17:57:33.520Z"
   },
   {
    "duration": 24,
    "start_time": "2021-12-28T17:57:33.531Z"
   },
   {
    "duration": 8,
    "start_time": "2021-12-28T17:57:33.557Z"
   },
   {
    "duration": 10,
    "start_time": "2021-12-28T17:57:33.567Z"
   },
   {
    "duration": 10,
    "start_time": "2021-12-28T17:57:33.579Z"
   },
   {
    "duration": 8,
    "start_time": "2021-12-28T17:57:33.591Z"
   },
   {
    "duration": 62,
    "start_time": "2021-12-28T17:57:33.601Z"
   },
   {
    "duration": 345,
    "start_time": "2021-12-28T17:57:33.665Z"
   },
   {
    "duration": 3,
    "start_time": "2021-12-28T17:57:34.012Z"
   },
   {
    "duration": 21,
    "start_time": "2021-12-28T17:57:34.017Z"
   },
   {
    "duration": 311,
    "start_time": "2021-12-28T17:57:34.040Z"
   },
   {
    "duration": 102,
    "start_time": "2021-12-28T17:57:34.443Z"
   },
   {
    "duration": 194,
    "start_time": "2021-12-28T17:57:34.548Z"
   },
   {
    "duration": 7,
    "start_time": "2021-12-28T17:57:34.744Z"
   },
   {
    "duration": 12,
    "start_time": "2021-12-28T17:57:34.752Z"
   },
   {
    "duration": 12,
    "start_time": "2021-12-28T17:58:53.498Z"
   },
   {
    "duration": 17,
    "start_time": "2021-12-28T18:00:03.971Z"
   },
   {
    "duration": 10,
    "start_time": "2021-12-28T18:00:12.311Z"
   },
   {
    "duration": 16,
    "start_time": "2021-12-28T18:00:39.695Z"
   },
   {
    "duration": 17,
    "start_time": "2021-12-28T18:00:54.442Z"
   },
   {
    "duration": 332,
    "start_time": "2021-12-28T18:09:10.660Z"
   },
   {
    "duration": 3,
    "start_time": "2021-12-28T18:40:54.077Z"
   },
   {
    "duration": 4,
    "start_time": "2021-12-28T19:33:31.894Z"
   },
   {
    "duration": 4,
    "start_time": "2021-12-28T19:38:44.029Z"
   },
   {
    "duration": 5,
    "start_time": "2021-12-28T19:58:42.155Z"
   },
   {
    "duration": 245,
    "start_time": "2021-12-28T20:00:13.558Z"
   },
   {
    "duration": 4,
    "start_time": "2021-12-28T20:00:50.069Z"
   },
   {
    "duration": 3,
    "start_time": "2021-12-28T20:00:56.328Z"
   },
   {
    "duration": 675,
    "start_time": "2021-12-28T20:01:02.107Z"
   },
   {
    "duration": 278,
    "start_time": "2021-12-28T20:01:38.407Z"
   },
   {
    "duration": 4,
    "start_time": "2021-12-28T20:02:14.675Z"
   },
   {
    "duration": 4,
    "start_time": "2021-12-28T20:02:26.062Z"
   },
   {
    "duration": 3,
    "start_time": "2021-12-28T20:02:35.983Z"
   },
   {
    "duration": 7954,
    "start_time": "2021-12-28T20:02:42.511Z"
   },
   {
    "duration": 4,
    "start_time": "2021-12-28T20:04:30.373Z"
   },
   {
    "duration": 7911,
    "start_time": "2021-12-28T20:04:32.865Z"
   },
   {
    "duration": 4,
    "start_time": "2021-12-28T20:07:03.331Z"
   },
   {
    "duration": 7433,
    "start_time": "2021-12-28T20:07:06.786Z"
   },
   {
    "duration": 5,
    "start_time": "2021-12-28T20:08:46.466Z"
   },
   {
    "duration": 9356,
    "start_time": "2021-12-28T20:08:51.112Z"
   },
   {
    "duration": 9764,
    "start_time": "2021-12-28T20:10:00.348Z"
   },
   {
    "duration": 4,
    "start_time": "2021-12-28T20:10:39.485Z"
   },
   {
    "duration": 9245,
    "start_time": "2021-12-28T20:10:42.821Z"
   },
   {
    "duration": 4,
    "start_time": "2021-12-28T20:13:13.911Z"
   },
   {
    "duration": 9432,
    "start_time": "2021-12-28T20:13:17.469Z"
   },
   {
    "duration": 9319,
    "start_time": "2021-12-28T20:13:45.276Z"
   },
   {
    "duration": 4,
    "start_time": "2021-12-28T20:14:40.983Z"
   },
   {
    "duration": 9585,
    "start_time": "2021-12-28T20:14:43.498Z"
   },
   {
    "duration": 6,
    "start_time": "2021-12-28T20:16:00.243Z"
   },
   {
    "duration": 10184,
    "start_time": "2021-12-28T20:16:03.379Z"
   },
   {
    "duration": 9901,
    "start_time": "2021-12-28T20:16:37.914Z"
   },
   {
    "duration": 4,
    "start_time": "2021-12-28T20:17:06.632Z"
   },
   {
    "duration": 9905,
    "start_time": "2021-12-28T20:17:09.272Z"
   },
   {
    "duration": 3,
    "start_time": "2021-12-28T20:17:32.619Z"
   },
   {
    "duration": 4,
    "start_time": "2021-12-28T20:25:23.596Z"
   },
   {
    "duration": 4,
    "start_time": "2021-12-28T20:25:50.407Z"
   },
   {
    "duration": 5,
    "start_time": "2021-12-28T20:26:26.800Z"
   },
   {
    "duration": 9945,
    "start_time": "2021-12-28T20:29:57.943Z"
   },
   {
    "duration": 5,
    "start_time": "2021-12-28T20:30:32.170Z"
   },
   {
    "duration": 9369,
    "start_time": "2021-12-28T20:31:39.707Z"
   },
   {
    "duration": 5,
    "start_time": "2021-12-28T20:31:51.786Z"
   },
   {
    "duration": 83,
    "start_time": "2021-12-28T20:36:29.668Z"
   },
   {
    "duration": 9425,
    "start_time": "2021-12-28T20:37:21.508Z"
   },
   {
    "duration": 9033,
    "start_time": "2021-12-28T20:38:42.375Z"
   },
   {
    "duration": 5,
    "start_time": "2021-12-28T20:39:27.816Z"
   },
   {
    "duration": 85,
    "start_time": "2021-12-28T20:40:49.338Z"
   },
   {
    "duration": 9306,
    "start_time": "2021-12-28T20:41:14.052Z"
   },
   {
    "duration": 464,
    "start_time": "2021-12-28T20:41:44.345Z"
   },
   {
    "duration": 419,
    "start_time": "2021-12-28T20:42:12.612Z"
   },
   {
    "duration": 9196,
    "start_time": "2021-12-28T20:42:40.684Z"
   },
   {
    "duration": 9527,
    "start_time": "2021-12-28T20:43:03.688Z"
   },
   {
    "duration": 14187,
    "start_time": "2021-12-28T20:49:22.770Z"
   },
   {
    "duration": 479,
    "start_time": "2021-12-28T20:50:24.441Z"
   },
   {
    "duration": 9694,
    "start_time": "2021-12-28T20:50:33.038Z"
   },
   {
    "duration": 97,
    "start_time": "2021-12-28T20:51:13.677Z"
   },
   {
    "duration": 4,
    "start_time": "2021-12-28T20:53:44.235Z"
   },
   {
    "duration": 9447,
    "start_time": "2021-12-28T20:53:46.699Z"
   },
   {
    "duration": 4,
    "start_time": "2021-12-28T20:54:35.087Z"
   },
   {
    "duration": 9484,
    "start_time": "2021-12-28T20:56:38.957Z"
   },
   {
    "duration": 4,
    "start_time": "2021-12-28T20:56:51.634Z"
   },
   {
    "duration": 4,
    "start_time": "2021-12-28T20:56:54.270Z"
   },
   {
    "duration": 5,
    "start_time": "2021-12-28T20:56:56.187Z"
   },
   {
    "duration": 4,
    "start_time": "2021-12-28T20:59:57.532Z"
   },
   {
    "duration": 8,
    "start_time": "2021-12-28T21:00:04.627Z"
   },
   {
    "duration": 5,
    "start_time": "2021-12-28T21:01:13.454Z"
   },
   {
    "duration": 9426,
    "start_time": "2021-12-28T21:01:15.859Z"
   },
   {
    "duration": 9828,
    "start_time": "2021-12-28T21:01:50.491Z"
   },
   {
    "duration": 5,
    "start_time": "2021-12-28T21:02:51.147Z"
   },
   {
    "duration": 9763,
    "start_time": "2021-12-28T21:02:56.972Z"
   },
   {
    "duration": 9331,
    "start_time": "2021-12-28T21:04:35.252Z"
   },
   {
    "duration": 8183,
    "start_time": "2021-12-28T21:12:28.875Z"
   },
   {
    "duration": 8537,
    "start_time": "2021-12-28T21:15:58.585Z"
   },
   {
    "duration": 9579,
    "start_time": "2021-12-28T21:16:56.882Z"
   },
   {
    "duration": 8152,
    "start_time": "2021-12-28T21:17:19.833Z"
   },
   {
    "duration": 8327,
    "start_time": "2021-12-28T21:44:26.835Z"
   },
   {
    "duration": 257,
    "start_time": "2021-12-28T21:45:13.718Z"
   },
   {
    "duration": 4,
    "start_time": "2021-12-28T21:45:31.381Z"
   },
   {
    "duration": 8167,
    "start_time": "2021-12-28T21:45:44.784Z"
   },
   {
    "duration": 8064,
    "start_time": "2021-12-28T21:46:20.798Z"
   },
   {
    "duration": 373,
    "start_time": "2021-12-28T21:48:47.038Z"
   },
   {
    "duration": 331,
    "start_time": "2021-12-28T21:48:57.514Z"
   },
   {
    "duration": 3,
    "start_time": "2021-12-28T21:49:24.562Z"
   },
   {
    "duration": 11,
    "start_time": "2021-12-28T21:49:24.567Z"
   },
   {
    "duration": 5,
    "start_time": "2021-12-28T21:49:24.580Z"
   },
   {
    "duration": 4,
    "start_time": "2021-12-28T21:49:24.587Z"
   },
   {
    "duration": 39,
    "start_time": "2021-12-28T21:49:24.593Z"
   },
   {
    "duration": 4,
    "start_time": "2021-12-28T21:49:24.634Z"
   },
   {
    "duration": 12,
    "start_time": "2021-12-28T21:49:24.639Z"
   },
   {
    "duration": 11,
    "start_time": "2021-12-28T21:49:24.653Z"
   },
   {
    "duration": 17,
    "start_time": "2021-12-28T21:49:24.666Z"
   },
   {
    "duration": 7,
    "start_time": "2021-12-28T21:49:24.685Z"
   },
   {
    "duration": 14,
    "start_time": "2021-12-28T21:49:24.694Z"
   },
   {
    "duration": 13,
    "start_time": "2021-12-28T21:49:24.710Z"
   },
   {
    "duration": 16,
    "start_time": "2021-12-28T21:49:24.725Z"
   },
   {
    "duration": 37,
    "start_time": "2021-12-28T21:49:24.743Z"
   },
   {
    "duration": 340,
    "start_time": "2021-12-28T21:49:24.783Z"
   },
   {
    "duration": 3,
    "start_time": "2021-12-28T21:49:25.125Z"
   },
   {
    "duration": 13,
    "start_time": "2021-12-28T21:49:25.130Z"
   },
   {
    "duration": 198,
    "start_time": "2021-12-28T21:49:25.145Z"
   },
   {
    "duration": 101,
    "start_time": "2021-12-28T21:49:25.345Z"
   },
   {
    "duration": 97,
    "start_time": "2021-12-28T21:49:25.448Z"
   },
   {
    "duration": 100,
    "start_time": "2021-12-28T21:49:25.547Z"
   },
   {
    "duration": 15,
    "start_time": "2021-12-28T21:49:25.648Z"
   },
   {
    "duration": 17,
    "start_time": "2021-12-28T21:49:25.666Z"
   },
   {
    "duration": 4,
    "start_time": "2021-12-28T21:49:25.684Z"
   },
   {
    "duration": 8300,
    "start_time": "2021-12-28T21:49:25.689Z"
   },
   {
    "duration": 2,
    "start_time": "2021-12-28T21:50:13.445Z"
   },
   {
    "duration": 8,
    "start_time": "2021-12-28T21:50:13.449Z"
   },
   {
    "duration": 7,
    "start_time": "2021-12-28T21:50:13.459Z"
   },
   {
    "duration": 8,
    "start_time": "2021-12-28T21:50:13.468Z"
   },
   {
    "duration": 40,
    "start_time": "2021-12-28T21:50:13.477Z"
   },
   {
    "duration": 4,
    "start_time": "2021-12-28T21:50:13.519Z"
   },
   {
    "duration": 16,
    "start_time": "2021-12-28T21:50:13.525Z"
   },
   {
    "duration": 9,
    "start_time": "2021-12-28T21:50:13.543Z"
   },
   {
    "duration": 16,
    "start_time": "2021-12-28T21:50:13.554Z"
   },
   {
    "duration": 9,
    "start_time": "2021-12-28T21:50:13.572Z"
   },
   {
    "duration": 16,
    "start_time": "2021-12-28T21:50:13.583Z"
   },
   {
    "duration": 30,
    "start_time": "2021-12-28T21:50:13.601Z"
   },
   {
    "duration": 8,
    "start_time": "2021-12-28T21:50:13.633Z"
   },
   {
    "duration": 40,
    "start_time": "2021-12-28T21:50:13.643Z"
   },
   {
    "duration": 361,
    "start_time": "2021-12-28T21:50:13.685Z"
   },
   {
    "duration": 2,
    "start_time": "2021-12-28T21:50:14.048Z"
   },
   {
    "duration": 10,
    "start_time": "2021-12-28T21:50:14.052Z"
   },
   {
    "duration": 184,
    "start_time": "2021-12-28T21:50:14.064Z"
   },
   {
    "duration": 100,
    "start_time": "2021-12-28T21:50:14.250Z"
   },
   {
    "duration": 95,
    "start_time": "2021-12-28T21:50:14.352Z"
   },
   {
    "duration": 100,
    "start_time": "2021-12-28T21:50:14.450Z"
   },
   {
    "duration": 12,
    "start_time": "2021-12-28T21:50:14.552Z"
   },
   {
    "duration": 15,
    "start_time": "2021-12-28T21:50:14.567Z"
   },
   {
    "duration": 4,
    "start_time": "2021-12-28T21:50:14.584Z"
   },
   {
    "duration": 6,
    "start_time": "2021-12-28T21:50:14.589Z"
   },
   {
    "duration": 8018,
    "start_time": "2021-12-28T21:50:14.597Z"
   },
   {
    "duration": 2,
    "start_time": "2021-12-28T21:50:39.896Z"
   },
   {
    "duration": 9,
    "start_time": "2021-12-28T21:50:39.900Z"
   },
   {
    "duration": 9,
    "start_time": "2021-12-28T21:50:39.911Z"
   },
   {
    "duration": 5,
    "start_time": "2021-12-28T21:50:39.921Z"
   },
   {
    "duration": 41,
    "start_time": "2021-12-28T21:50:39.928Z"
   },
   {
    "duration": 5,
    "start_time": "2021-12-28T21:50:39.971Z"
   },
   {
    "duration": 9,
    "start_time": "2021-12-28T21:50:39.978Z"
   },
   {
    "duration": 8,
    "start_time": "2021-12-28T21:50:39.990Z"
   },
   {
    "duration": 25,
    "start_time": "2021-12-28T21:50:40.000Z"
   },
   {
    "duration": 7,
    "start_time": "2021-12-28T21:50:40.026Z"
   },
   {
    "duration": 10,
    "start_time": "2021-12-28T21:50:40.035Z"
   },
   {
    "duration": 10,
    "start_time": "2021-12-28T21:50:40.046Z"
   },
   {
    "duration": 6,
    "start_time": "2021-12-28T21:50:40.058Z"
   },
   {
    "duration": 36,
    "start_time": "2021-12-28T21:50:40.066Z"
   },
   {
    "duration": 360,
    "start_time": "2021-12-28T21:50:40.104Z"
   },
   {
    "duration": 3,
    "start_time": "2021-12-28T21:50:40.466Z"
   },
   {
    "duration": 6,
    "start_time": "2021-12-28T21:50:40.470Z"
   },
   {
    "duration": 273,
    "start_time": "2021-12-28T21:50:40.478Z"
   },
   {
    "duration": 102,
    "start_time": "2021-12-28T21:50:40.842Z"
   },
   {
    "duration": 104,
    "start_time": "2021-12-28T21:50:40.946Z"
   },
   {
    "duration": 92,
    "start_time": "2021-12-28T21:50:41.053Z"
   },
   {
    "duration": 13,
    "start_time": "2021-12-28T21:50:41.147Z"
   },
   {
    "duration": 14,
    "start_time": "2021-12-28T21:50:41.163Z"
   },
   {
    "duration": 3,
    "start_time": "2021-12-28T21:50:41.179Z"
   },
   {
    "duration": 7,
    "start_time": "2021-12-28T21:50:41.184Z"
   },
   {
    "duration": 7763,
    "start_time": "2021-12-28T21:50:41.192Z"
   },
   {
    "duration": 3,
    "start_time": "2021-12-28T21:51:12.120Z"
   },
   {
    "duration": 8,
    "start_time": "2021-12-28T21:51:12.125Z"
   },
   {
    "duration": 9,
    "start_time": "2021-12-28T21:51:12.135Z"
   },
   {
    "duration": 9,
    "start_time": "2021-12-28T21:51:12.146Z"
   },
   {
    "duration": 43,
    "start_time": "2021-12-28T21:51:12.156Z"
   },
   {
    "duration": 4,
    "start_time": "2021-12-28T21:51:12.201Z"
   },
   {
    "duration": 7,
    "start_time": "2021-12-28T21:51:12.207Z"
   },
   {
    "duration": 10,
    "start_time": "2021-12-28T21:51:12.216Z"
   },
   {
    "duration": 20,
    "start_time": "2021-12-28T21:51:12.229Z"
   },
   {
    "duration": 5,
    "start_time": "2021-12-28T21:51:12.251Z"
   },
   {
    "duration": 10,
    "start_time": "2021-12-28T21:51:12.257Z"
   },
   {
    "duration": 15,
    "start_time": "2021-12-28T21:51:12.269Z"
   },
   {
    "duration": 7,
    "start_time": "2021-12-28T21:51:12.286Z"
   },
   {
    "duration": 37,
    "start_time": "2021-12-28T21:51:12.294Z"
   },
   {
    "duration": 329,
    "start_time": "2021-12-28T21:51:12.341Z"
   },
   {
    "duration": 3,
    "start_time": "2021-12-28T21:51:12.671Z"
   },
   {
    "duration": 5,
    "start_time": "2021-12-28T21:51:12.676Z"
   },
   {
    "duration": 163,
    "start_time": "2021-12-28T21:51:12.682Z"
   },
   {
    "duration": 128,
    "start_time": "2021-12-28T21:51:12.847Z"
   },
   {
    "duration": 171,
    "start_time": "2021-12-28T21:51:12.977Z"
   },
   {
    "duration": 7,
    "start_time": "2021-12-28T21:51:13.150Z"
   },
   {
    "duration": 13,
    "start_time": "2021-12-28T21:51:13.159Z"
   },
   {
    "duration": 16,
    "start_time": "2021-12-28T21:51:13.174Z"
   },
   {
    "duration": 3,
    "start_time": "2021-12-28T21:51:13.192Z"
   },
   {
    "duration": 7,
    "start_time": "2021-12-28T21:51:13.197Z"
   },
   {
    "duration": 7952,
    "start_time": "2021-12-28T21:51:13.206Z"
   },
   {
    "duration": 2,
    "start_time": "2021-12-28T21:51:39.785Z"
   },
   {
    "duration": 6,
    "start_time": "2021-12-28T21:51:39.789Z"
   },
   {
    "duration": 9,
    "start_time": "2021-12-28T21:51:39.796Z"
   },
   {
    "duration": 6,
    "start_time": "2021-12-28T21:51:39.807Z"
   },
   {
    "duration": 40,
    "start_time": "2021-12-28T21:51:39.814Z"
   },
   {
    "duration": 5,
    "start_time": "2021-12-28T21:51:39.856Z"
   },
   {
    "duration": 10,
    "start_time": "2021-12-28T21:51:39.862Z"
   },
   {
    "duration": 10,
    "start_time": "2021-12-28T21:51:39.874Z"
   },
   {
    "duration": 19,
    "start_time": "2021-12-28T21:51:39.887Z"
   },
   {
    "duration": 7,
    "start_time": "2021-12-28T21:51:39.908Z"
   },
   {
    "duration": 25,
    "start_time": "2021-12-28T21:51:39.917Z"
   },
   {
    "duration": 14,
    "start_time": "2021-12-28T21:51:39.944Z"
   },
   {
    "duration": 11,
    "start_time": "2021-12-28T21:51:39.960Z"
   },
   {
    "duration": 39,
    "start_time": "2021-12-28T21:51:39.973Z"
   },
   {
    "duration": 499,
    "start_time": "2021-12-28T21:51:40.014Z"
   },
   {
    "duration": 3,
    "start_time": "2021-12-28T21:51:40.514Z"
   },
   {
    "duration": 7,
    "start_time": "2021-12-28T21:51:40.519Z"
   },
   {
    "duration": 225,
    "start_time": "2021-12-28T21:51:40.527Z"
   },
   {
    "duration": 102,
    "start_time": "2021-12-28T21:51:40.843Z"
   },
   {
    "duration": 197,
    "start_time": "2021-12-28T21:51:40.948Z"
   },
   {
    "duration": 8,
    "start_time": "2021-12-28T21:51:41.147Z"
   },
   {
    "duration": 11,
    "start_time": "2021-12-28T21:51:41.156Z"
   },
   {
    "duration": 16,
    "start_time": "2021-12-28T21:51:41.169Z"
   },
   {
    "duration": 3,
    "start_time": "2021-12-28T21:51:41.187Z"
   },
   {
    "duration": 4,
    "start_time": "2021-12-28T21:51:41.192Z"
   },
   {
    "duration": 8515,
    "start_time": "2021-12-28T21:51:41.198Z"
   },
   {
    "duration": 3,
    "start_time": "2021-12-28T21:52:06.924Z"
   },
   {
    "duration": 12,
    "start_time": "2021-12-28T21:52:06.930Z"
   },
   {
    "duration": 26,
    "start_time": "2021-12-28T21:52:06.945Z"
   },
   {
    "duration": 15,
    "start_time": "2021-12-28T21:52:06.974Z"
   },
   {
    "duration": 50,
    "start_time": "2021-12-28T21:52:06.991Z"
   },
   {
    "duration": 6,
    "start_time": "2021-12-28T21:52:07.043Z"
   },
   {
    "duration": 16,
    "start_time": "2021-12-28T21:52:07.051Z"
   },
   {
    "duration": 27,
    "start_time": "2021-12-28T21:52:07.070Z"
   },
   {
    "duration": 21,
    "start_time": "2021-12-28T21:52:07.099Z"
   },
   {
    "duration": 20,
    "start_time": "2021-12-28T21:52:07.122Z"
   },
   {
    "duration": 25,
    "start_time": "2021-12-28T21:52:07.144Z"
   },
   {
    "duration": 21,
    "start_time": "2021-12-28T21:52:07.170Z"
   },
   {
    "duration": 24,
    "start_time": "2021-12-28T21:52:07.193Z"
   },
   {
    "duration": 48,
    "start_time": "2021-12-28T21:52:07.219Z"
   },
   {
    "duration": 362,
    "start_time": "2021-12-28T21:52:07.269Z"
   },
   {
    "duration": 7,
    "start_time": "2021-12-28T21:52:07.634Z"
   },
   {
    "duration": 5,
    "start_time": "2021-12-28T21:52:07.644Z"
   },
   {
    "duration": 392,
    "start_time": "2021-12-28T21:52:07.650Z"
   },
   {
    "duration": 99,
    "start_time": "2021-12-28T21:52:08.044Z"
   },
   {
    "duration": 9,
    "start_time": "2021-12-28T21:52:08.145Z"
   },
   {
    "duration": 11,
    "start_time": "2021-12-28T21:52:08.241Z"
   },
   {
    "duration": 19,
    "start_time": "2021-12-28T21:52:08.254Z"
   },
   {
    "duration": 17,
    "start_time": "2021-12-28T21:52:08.275Z"
   },
   {
    "duration": 6,
    "start_time": "2021-12-28T21:52:08.294Z"
   },
   {
    "duration": 8,
    "start_time": "2021-12-28T21:52:08.302Z"
   },
   {
    "duration": 8136,
    "start_time": "2021-12-28T21:52:08.312Z"
   },
   {
    "duration": 8268,
    "start_time": "2021-12-28T22:00:24.595Z"
   },
   {
    "duration": 4,
    "start_time": "2021-12-28T22:01:38.510Z"
   },
   {
    "duration": 8228,
    "start_time": "2021-12-28T22:01:42.665Z"
   },
   {
    "duration": 4,
    "start_time": "2021-12-28T22:02:36.469Z"
   },
   {
    "duration": 6238,
    "start_time": "2021-12-28T22:02:40.411Z"
   },
   {
    "duration": 4,
    "start_time": "2021-12-28T22:12:11.349Z"
   },
   {
    "duration": 12,
    "start_time": "2021-12-28T22:12:11.355Z"
   },
   {
    "duration": 6,
    "start_time": "2021-12-28T22:12:11.370Z"
   },
   {
    "duration": 4,
    "start_time": "2021-12-28T22:12:11.378Z"
   },
   {
    "duration": 43,
    "start_time": "2021-12-28T22:12:11.384Z"
   },
   {
    "duration": 14,
    "start_time": "2021-12-28T22:12:11.429Z"
   },
   {
    "duration": 10,
    "start_time": "2021-12-28T22:12:11.446Z"
   },
   {
    "duration": 11,
    "start_time": "2021-12-28T22:12:11.459Z"
   },
   {
    "duration": 18,
    "start_time": "2021-12-28T22:12:11.472Z"
   },
   {
    "duration": 11,
    "start_time": "2021-12-28T22:12:11.491Z"
   },
   {
    "duration": 10,
    "start_time": "2021-12-28T22:12:11.504Z"
   },
   {
    "duration": 40,
    "start_time": "2021-12-28T22:12:11.516Z"
   },
   {
    "duration": 16,
    "start_time": "2021-12-28T22:12:11.558Z"
   },
   {
    "duration": 38,
    "start_time": "2021-12-28T22:12:11.576Z"
   },
   {
    "duration": 412,
    "start_time": "2021-12-28T22:12:11.616Z"
   },
   {
    "duration": 2,
    "start_time": "2021-12-28T22:12:12.029Z"
   },
   {
    "duration": 9,
    "start_time": "2021-12-28T22:12:12.033Z"
   },
   {
    "duration": 496,
    "start_time": "2021-12-28T22:12:12.045Z"
   },
   {
    "duration": 98,
    "start_time": "2021-12-28T22:12:12.545Z"
   },
   {
    "duration": 109,
    "start_time": "2021-12-28T22:12:12.646Z"
   },
   {
    "duration": 23,
    "start_time": "2021-12-28T22:12:12.758Z"
   },
   {
    "duration": 24,
    "start_time": "2021-12-28T22:12:12.783Z"
   },
   {
    "duration": 22,
    "start_time": "2021-12-28T22:12:12.810Z"
   },
   {
    "duration": 4,
    "start_time": "2021-12-28T22:12:12.833Z"
   },
   {
    "duration": 27,
    "start_time": "2021-12-28T22:12:12.839Z"
   },
   {
    "duration": 7066,
    "start_time": "2021-12-28T22:12:12.868Z"
   },
   {
    "duration": 4,
    "start_time": "2021-12-28T22:12:49.054Z"
   },
   {
    "duration": 7,
    "start_time": "2021-12-28T22:12:49.060Z"
   },
   {
    "duration": 9,
    "start_time": "2021-12-28T22:12:49.069Z"
   },
   {
    "duration": 6,
    "start_time": "2021-12-28T22:12:49.081Z"
   },
   {
    "duration": 37,
    "start_time": "2021-12-28T22:12:49.089Z"
   },
   {
    "duration": 5,
    "start_time": "2021-12-28T22:12:49.128Z"
   },
   {
    "duration": 3,
    "start_time": "2021-12-28T22:12:49.141Z"
   },
   {
    "duration": 23,
    "start_time": "2021-12-28T22:12:49.149Z"
   },
   {
    "duration": 15,
    "start_time": "2021-12-28T22:12:49.174Z"
   },
   {
    "duration": 6,
    "start_time": "2021-12-28T22:12:49.191Z"
   },
   {
    "duration": 12,
    "start_time": "2021-12-28T22:12:49.199Z"
   },
   {
    "duration": 11,
    "start_time": "2021-12-28T22:12:49.213Z"
   },
   {
    "duration": 22,
    "start_time": "2021-12-28T22:12:49.226Z"
   },
   {
    "duration": 42,
    "start_time": "2021-12-28T22:12:49.251Z"
   },
   {
    "duration": 357,
    "start_time": "2021-12-28T22:12:49.294Z"
   },
   {
    "duration": 3,
    "start_time": "2021-12-28T22:12:49.654Z"
   },
   {
    "duration": 9,
    "start_time": "2021-12-28T22:12:49.660Z"
   },
   {
    "duration": 572,
    "start_time": "2021-12-28T22:12:49.671Z"
   },
   {
    "duration": 103,
    "start_time": "2021-12-28T22:12:50.246Z"
   },
   {
    "duration": 102,
    "start_time": "2021-12-28T22:12:50.353Z"
   },
   {
    "duration": 12,
    "start_time": "2021-12-28T22:12:50.457Z"
   },
   {
    "duration": 16,
    "start_time": "2021-12-28T22:12:50.471Z"
   },
   {
    "duration": 16,
    "start_time": "2021-12-28T22:12:50.490Z"
   },
   {
    "duration": 6,
    "start_time": "2021-12-28T22:12:50.508Z"
   },
   {
    "duration": 4,
    "start_time": "2021-12-28T22:12:50.515Z"
   },
   {
    "duration": 6685,
    "start_time": "2021-12-28T22:12:50.521Z"
   },
   {
    "duration": 4,
    "start_time": "2021-12-28T22:14:38.238Z"
   },
   {
    "duration": 12,
    "start_time": "2021-12-28T22:14:38.245Z"
   },
   {
    "duration": 11,
    "start_time": "2021-12-28T22:14:38.259Z"
   },
   {
    "duration": 5,
    "start_time": "2021-12-28T22:14:38.272Z"
   },
   {
    "duration": 38,
    "start_time": "2021-12-28T22:14:38.279Z"
   },
   {
    "duration": 4,
    "start_time": "2021-12-28T22:14:38.319Z"
   },
   {
    "duration": 17,
    "start_time": "2021-12-28T22:14:38.324Z"
   },
   {
    "duration": 15,
    "start_time": "2021-12-28T22:14:38.343Z"
   },
   {
    "duration": 19,
    "start_time": "2021-12-28T22:14:38.362Z"
   },
   {
    "duration": 6,
    "start_time": "2021-12-28T22:14:38.383Z"
   },
   {
    "duration": 8,
    "start_time": "2021-12-28T22:14:38.390Z"
   },
   {
    "duration": 17,
    "start_time": "2021-12-28T22:14:38.400Z"
   },
   {
    "duration": 26,
    "start_time": "2021-12-28T22:14:38.419Z"
   },
   {
    "duration": 43,
    "start_time": "2021-12-28T22:14:38.447Z"
   },
   {
    "duration": 380,
    "start_time": "2021-12-28T22:14:38.491Z"
   },
   {
    "duration": 2,
    "start_time": "2021-12-28T22:14:38.873Z"
   },
   {
    "duration": 9,
    "start_time": "2021-12-28T22:14:38.876Z"
   },
   {
    "duration": 357,
    "start_time": "2021-12-28T22:14:38.886Z"
   },
   {
    "duration": 99,
    "start_time": "2021-12-28T22:14:39.245Z"
   },
   {
    "duration": 104,
    "start_time": "2021-12-28T22:14:39.347Z"
   },
   {
    "duration": 13,
    "start_time": "2021-12-28T22:14:39.453Z"
   },
   {
    "duration": 12,
    "start_time": "2021-12-28T22:14:39.468Z"
   },
   {
    "duration": 15,
    "start_time": "2021-12-28T22:14:39.481Z"
   },
   {
    "duration": 3,
    "start_time": "2021-12-28T22:14:39.498Z"
   },
   {
    "duration": 10,
    "start_time": "2021-12-28T22:14:39.503Z"
   },
   {
    "duration": 6576,
    "start_time": "2021-12-28T22:14:39.515Z"
   },
   {
    "duration": 2,
    "start_time": "2022-01-02T10:35:56.864Z"
   },
   {
    "duration": 1206,
    "start_time": "2022-01-02T10:35:56.869Z"
   },
   {
    "duration": 311,
    "start_time": "2022-01-02T10:35:58.076Z"
   },
   {
    "duration": 225,
    "start_time": "2022-01-02T10:35:58.165Z"
   },
   {
    "duration": 221,
    "start_time": "2022-01-02T10:35:58.170Z"
   },
   {
    "duration": 201,
    "start_time": "2022-01-02T10:35:58.191Z"
   },
   {
    "duration": 197,
    "start_time": "2022-01-02T10:35:58.196Z"
   },
   {
    "duration": 194,
    "start_time": "2022-01-02T10:35:58.199Z"
   },
   {
    "duration": 188,
    "start_time": "2022-01-02T10:35:58.206Z"
   },
   {
    "duration": 185,
    "start_time": "2022-01-02T10:35:58.210Z"
   },
   {
    "duration": 183,
    "start_time": "2022-01-02T10:35:58.213Z"
   },
   {
    "duration": 181,
    "start_time": "2022-01-02T10:35:58.216Z"
   },
   {
    "duration": 177,
    "start_time": "2022-01-02T10:35:58.221Z"
   },
   {
    "duration": 174,
    "start_time": "2022-01-02T10:35:58.225Z"
   },
   {
    "duration": 171,
    "start_time": "2022-01-02T10:35:58.229Z"
   },
   {
    "duration": 166,
    "start_time": "2022-01-02T10:35:58.234Z"
   },
   {
    "duration": 163,
    "start_time": "2022-01-02T10:35:58.238Z"
   },
   {
    "duration": 160,
    "start_time": "2022-01-02T10:35:58.242Z"
   },
   {
    "duration": 156,
    "start_time": "2022-01-02T10:35:58.247Z"
   },
   {
    "duration": 153,
    "start_time": "2022-01-02T10:35:58.251Z"
   },
   {
    "duration": 151,
    "start_time": "2022-01-02T10:35:58.254Z"
   },
   {
    "duration": 149,
    "start_time": "2022-01-02T10:35:58.257Z"
   },
   {
    "duration": 146,
    "start_time": "2022-01-02T10:35:58.261Z"
   },
   {
    "duration": 143,
    "start_time": "2022-01-02T10:35:58.265Z"
   },
   {
    "duration": 141,
    "start_time": "2022-01-02T10:35:58.268Z"
   },
   {
    "duration": 139,
    "start_time": "2022-01-02T10:35:58.271Z"
   },
   {
    "duration": 3600,
    "start_time": "2022-01-02T10:36:36.251Z"
   },
   {
    "duration": 3,
    "start_time": "2022-01-02T10:37:04.949Z"
   },
   {
    "duration": 1199,
    "start_time": "2022-01-02T10:37:04.954Z"
   },
   {
    "duration": 4,
    "start_time": "2022-01-02T10:37:06.155Z"
   },
   {
    "duration": 28,
    "start_time": "2022-01-02T10:37:06.162Z"
   },
   {
    "duration": 56,
    "start_time": "2022-01-02T10:37:06.191Z"
   },
   {
    "duration": 6,
    "start_time": "2022-01-02T10:37:06.249Z"
   },
   {
    "duration": 20,
    "start_time": "2022-01-02T10:37:06.257Z"
   },
   {
    "duration": 19,
    "start_time": "2022-01-02T10:37:06.279Z"
   },
   {
    "duration": 31,
    "start_time": "2022-01-02T10:37:06.301Z"
   },
   {
    "duration": 23,
    "start_time": "2022-01-02T10:37:06.334Z"
   },
   {
    "duration": 24,
    "start_time": "2022-01-02T10:37:06.359Z"
   },
   {
    "duration": 28,
    "start_time": "2022-01-02T10:37:06.384Z"
   },
   {
    "duration": 11,
    "start_time": "2022-01-02T10:37:06.414Z"
   },
   {
    "duration": 50,
    "start_time": "2022-01-02T10:37:06.427Z"
   },
   {
    "duration": 306,
    "start_time": "2022-01-02T10:37:06.479Z"
   },
   {
    "duration": 2,
    "start_time": "2022-01-02T10:37:06.788Z"
   },
   {
    "duration": 22,
    "start_time": "2022-01-02T10:37:06.792Z"
   },
   {
    "duration": 136,
    "start_time": "2022-01-02T10:37:06.815Z"
   },
   {
    "duration": 106,
    "start_time": "2022-01-02T10:37:07.042Z"
   },
   {
    "duration": 195,
    "start_time": "2022-01-02T10:37:07.150Z"
   },
   {
    "duration": 30,
    "start_time": "2022-01-02T10:37:07.347Z"
   },
   {
    "duration": 34,
    "start_time": "2022-01-02T10:37:07.378Z"
   },
   {
    "duration": 25,
    "start_time": "2022-01-02T10:37:07.414Z"
   },
   {
    "duration": 57,
    "start_time": "2022-01-02T10:37:07.442Z"
   },
   {
    "duration": 145,
    "start_time": "2022-01-02T10:37:07.502Z"
   },
   {
    "duration": 7593,
    "start_time": "2022-01-02T10:37:07.649Z"
   },
   {
    "duration": 2,
    "start_time": "2022-01-02T10:37:36.424Z"
   },
   {
    "duration": 6,
    "start_time": "2022-01-02T10:37:36.428Z"
   },
   {
    "duration": 8,
    "start_time": "2022-01-02T10:37:36.436Z"
   },
   {
    "duration": 6,
    "start_time": "2022-01-02T10:37:36.446Z"
   },
   {
    "duration": 43,
    "start_time": "2022-01-02T10:37:36.453Z"
   },
   {
    "duration": 4,
    "start_time": "2022-01-02T10:37:36.498Z"
   },
   {
    "duration": 12,
    "start_time": "2022-01-02T10:37:36.503Z"
   },
   {
    "duration": 12,
    "start_time": "2022-01-02T10:37:36.517Z"
   },
   {
    "duration": 22,
    "start_time": "2022-01-02T10:37:36.531Z"
   },
   {
    "duration": 7,
    "start_time": "2022-01-02T10:37:36.555Z"
   },
   {
    "duration": 12,
    "start_time": "2022-01-02T10:37:36.563Z"
   },
   {
    "duration": 12,
    "start_time": "2022-01-02T10:37:36.576Z"
   },
   {
    "duration": 6,
    "start_time": "2022-01-02T10:37:36.590Z"
   },
   {
    "duration": 53,
    "start_time": "2022-01-02T10:37:36.598Z"
   },
   {
    "duration": 321,
    "start_time": "2022-01-02T10:37:36.652Z"
   },
   {
    "duration": 2,
    "start_time": "2022-01-02T10:37:36.975Z"
   },
   {
    "duration": 5,
    "start_time": "2022-01-02T10:37:36.978Z"
   },
   {
    "duration": 360,
    "start_time": "2022-01-02T10:37:36.984Z"
   },
   {
    "duration": 102,
    "start_time": "2022-01-02T10:37:37.346Z"
   },
   {
    "duration": 6,
    "start_time": "2022-01-02T10:37:37.450Z"
   },
   {
    "duration": 92,
    "start_time": "2022-01-02T10:37:37.457Z"
   },
   {
    "duration": 106,
    "start_time": "2022-01-02T10:37:37.551Z"
   },
   {
    "duration": 15,
    "start_time": "2022-01-02T10:37:37.659Z"
   },
   {
    "duration": 4,
    "start_time": "2022-01-02T10:37:37.676Z"
   },
   {
    "duration": 5,
    "start_time": "2022-01-02T10:37:37.681Z"
   },
   {
    "duration": 7877,
    "start_time": "2022-01-02T10:37:37.688Z"
   },
   {
    "duration": 3,
    "start_time": "2022-01-02T10:40:12.774Z"
   },
   {
    "duration": 9,
    "start_time": "2022-01-02T10:40:12.778Z"
   },
   {
    "duration": 5,
    "start_time": "2022-01-02T10:40:12.789Z"
   },
   {
    "duration": 6,
    "start_time": "2022-01-02T10:40:12.795Z"
   },
   {
    "duration": 38,
    "start_time": "2022-01-02T10:40:12.802Z"
   },
   {
    "duration": 4,
    "start_time": "2022-01-02T10:40:12.841Z"
   },
   {
    "duration": 5,
    "start_time": "2022-01-02T10:40:12.847Z"
   },
   {
    "duration": 8,
    "start_time": "2022-01-02T10:40:12.853Z"
   },
   {
    "duration": 15,
    "start_time": "2022-01-02T10:40:12.863Z"
   },
   {
    "duration": 9,
    "start_time": "2022-01-02T10:40:12.879Z"
   },
   {
    "duration": 10,
    "start_time": "2022-01-02T10:40:12.890Z"
   },
   {
    "duration": 13,
    "start_time": "2022-01-02T10:40:12.901Z"
   },
   {
    "duration": 15,
    "start_time": "2022-01-02T10:40:12.915Z"
   },
   {
    "duration": 43,
    "start_time": "2022-01-02T10:40:12.931Z"
   },
   {
    "duration": 375,
    "start_time": "2022-01-02T10:40:12.975Z"
   },
   {
    "duration": 2,
    "start_time": "2022-01-02T10:40:13.352Z"
   },
   {
    "duration": 5,
    "start_time": "2022-01-02T10:40:13.355Z"
   },
   {
    "duration": 281,
    "start_time": "2022-01-02T10:40:13.362Z"
   },
   {
    "duration": 101,
    "start_time": "2022-01-02T10:40:13.647Z"
   },
   {
    "duration": 96,
    "start_time": "2022-01-02T10:40:13.751Z"
   },
   {
    "duration": 103,
    "start_time": "2022-01-02T10:40:13.849Z"
   },
   {
    "duration": 11,
    "start_time": "2022-01-02T10:40:13.953Z"
   },
   {
    "duration": 15,
    "start_time": "2022-01-02T10:40:13.966Z"
   },
   {
    "duration": 4,
    "start_time": "2022-01-02T10:40:13.983Z"
   },
   {
    "duration": 8,
    "start_time": "2022-01-02T10:40:13.989Z"
   },
   {
    "duration": 8143,
    "start_time": "2022-01-02T10:40:13.999Z"
   },
   {
    "duration": 3,
    "start_time": "2022-01-02T10:40:52.354Z"
   },
   {
    "duration": 6,
    "start_time": "2022-01-02T10:40:52.358Z"
   },
   {
    "duration": 9,
    "start_time": "2022-01-02T10:40:52.366Z"
   },
   {
    "duration": 5,
    "start_time": "2022-01-02T10:40:52.376Z"
   },
   {
    "duration": 38,
    "start_time": "2022-01-02T10:40:52.382Z"
   },
   {
    "duration": 4,
    "start_time": "2022-01-02T10:40:52.421Z"
   },
   {
    "duration": 6,
    "start_time": "2022-01-02T10:40:52.426Z"
   },
   {
    "duration": 12,
    "start_time": "2022-01-02T10:40:52.433Z"
   },
   {
    "duration": 15,
    "start_time": "2022-01-02T10:40:52.447Z"
   },
   {
    "duration": 8,
    "start_time": "2022-01-02T10:40:52.464Z"
   },
   {
    "duration": 10,
    "start_time": "2022-01-02T10:40:52.474Z"
   },
   {
    "duration": 13,
    "start_time": "2022-01-02T10:40:52.485Z"
   },
   {
    "duration": 7,
    "start_time": "2022-01-02T10:40:52.500Z"
   },
   {
    "duration": 47,
    "start_time": "2022-01-02T10:40:52.509Z"
   },
   {
    "duration": 307,
    "start_time": "2022-01-02T10:40:52.557Z"
   },
   {
    "duration": 3,
    "start_time": "2022-01-02T10:40:52.865Z"
   },
   {
    "duration": 6,
    "start_time": "2022-01-02T10:40:52.869Z"
   },
   {
    "duration": 271,
    "start_time": "2022-01-02T10:40:52.876Z"
   },
   {
    "duration": 100,
    "start_time": "2022-01-02T10:40:53.150Z"
   },
   {
    "duration": 195,
    "start_time": "2022-01-02T10:40:53.252Z"
   },
   {
    "duration": 7,
    "start_time": "2022-01-02T10:40:53.449Z"
   },
   {
    "duration": 15,
    "start_time": "2022-01-02T10:40:53.457Z"
   },
   {
    "duration": 13,
    "start_time": "2022-01-02T10:40:53.474Z"
   },
   {
    "duration": 4,
    "start_time": "2022-01-02T10:40:53.488Z"
   },
   {
    "duration": 4,
    "start_time": "2022-01-02T10:40:53.493Z"
   },
   {
    "duration": 11243,
    "start_time": "2022-01-02T10:40:53.498Z"
   },
   {
    "duration": 3,
    "start_time": "2022-01-02T10:41:19.088Z"
   },
   {
    "duration": 7,
    "start_time": "2022-01-02T10:41:19.092Z"
   },
   {
    "duration": 6,
    "start_time": "2022-01-02T10:41:19.101Z"
   },
   {
    "duration": 6,
    "start_time": "2022-01-02T10:41:19.109Z"
   },
   {
    "duration": 40,
    "start_time": "2022-01-02T10:41:19.117Z"
   },
   {
    "duration": 4,
    "start_time": "2022-01-02T10:41:19.158Z"
   },
   {
    "duration": 5,
    "start_time": "2022-01-02T10:41:19.163Z"
   },
   {
    "duration": 13,
    "start_time": "2022-01-02T10:41:19.169Z"
   },
   {
    "duration": 19,
    "start_time": "2022-01-02T10:41:19.184Z"
   },
   {
    "duration": 7,
    "start_time": "2022-01-02T10:41:19.205Z"
   },
   {
    "duration": 10,
    "start_time": "2022-01-02T10:41:19.214Z"
   },
   {
    "duration": 18,
    "start_time": "2022-01-02T10:41:19.226Z"
   },
   {
    "duration": 7,
    "start_time": "2022-01-02T10:41:19.246Z"
   },
   {
    "duration": 36,
    "start_time": "2022-01-02T10:41:19.254Z"
   },
   {
    "duration": 331,
    "start_time": "2022-01-02T10:41:19.292Z"
   },
   {
    "duration": 3,
    "start_time": "2022-01-02T10:41:19.626Z"
   },
   {
    "duration": 12,
    "start_time": "2022-01-02T10:41:19.630Z"
   },
   {
    "duration": 301,
    "start_time": "2022-01-02T10:41:19.644Z"
   },
   {
    "duration": 100,
    "start_time": "2022-01-02T10:41:19.947Z"
   },
   {
    "duration": 195,
    "start_time": "2022-01-02T10:41:20.050Z"
   },
   {
    "duration": 10,
    "start_time": "2022-01-02T10:41:20.247Z"
   },
   {
    "duration": 11,
    "start_time": "2022-01-02T10:41:20.259Z"
   },
   {
    "duration": 14,
    "start_time": "2022-01-02T10:41:20.271Z"
   },
   {
    "duration": 3,
    "start_time": "2022-01-02T10:41:20.287Z"
   },
   {
    "duration": 6,
    "start_time": "2022-01-02T10:41:20.292Z"
   },
   {
    "duration": 8077,
    "start_time": "2022-01-02T10:41:20.300Z"
   },
   {
    "duration": 8041,
    "start_time": "2022-01-02T10:47:36.855Z"
   },
   {
    "duration": 4,
    "start_time": "2022-01-02T11:15:40.520Z"
   },
   {
    "duration": 80,
    "start_time": "2022-01-02T11:23:02.055Z"
   },
   {
    "duration": 8504,
    "start_time": "2022-01-02T11:24:26.196Z"
   },
   {
    "duration": 8448,
    "start_time": "2022-01-02T11:24:53.539Z"
   },
   {
    "duration": 8617,
    "start_time": "2022-01-02T11:25:12.695Z"
   },
   {
    "duration": 8129,
    "start_time": "2022-01-02T11:26:16.527Z"
   },
   {
    "duration": 8059,
    "start_time": "2022-01-02T11:27:08.397Z"
   },
   {
    "duration": 8121,
    "start_time": "2022-01-02T11:27:41.564Z"
   },
   {
    "duration": 4,
    "start_time": "2022-01-02T11:29:35.318Z"
   },
   {
    "duration": 8723,
    "start_time": "2022-01-02T11:29:39.975Z"
   },
   {
    "duration": 4,
    "start_time": "2022-01-02T11:30:15.720Z"
   },
   {
    "duration": 8503,
    "start_time": "2022-01-02T11:30:18.476Z"
   },
   {
    "duration": 8,
    "start_time": "2022-01-02T11:30:46.125Z"
   },
   {
    "duration": 8993,
    "start_time": "2022-01-02T11:32:52.723Z"
   },
   {
    "duration": 9606,
    "start_time": "2022-01-02T11:33:11.669Z"
   },
   {
    "duration": 9912,
    "start_time": "2022-01-02T11:38:59.212Z"
   },
   {
    "duration": 4,
    "start_time": "2022-01-02T11:43:01.544Z"
   },
   {
    "duration": 7794,
    "start_time": "2022-01-02T11:43:07.135Z"
   },
   {
    "duration": 4,
    "start_time": "2022-01-02T11:43:31.168Z"
   },
   {
    "duration": 9566,
    "start_time": "2022-01-02T11:43:34.854Z"
   },
   {
    "duration": 4,
    "start_time": "2022-01-02T11:44:14.088Z"
   },
   {
    "duration": 8894,
    "start_time": "2022-01-02T11:44:18.140Z"
   },
   {
    "duration": 4,
    "start_time": "2022-01-02T11:44:37.702Z"
   },
   {
    "duration": 8275,
    "start_time": "2022-01-02T11:44:41.540Z"
   },
   {
    "duration": 4,
    "start_time": "2022-01-02T11:57:12.727Z"
   },
   {
    "duration": 8875,
    "start_time": "2022-01-02T11:57:17.176Z"
   },
   {
    "duration": 4,
    "start_time": "2022-01-02T12:12:53.132Z"
   },
   {
    "duration": 80,
    "start_time": "2022-01-02T12:13:02.596Z"
   },
   {
    "duration": 7,
    "start_time": "2022-01-02T12:13:13.739Z"
   },
   {
    "duration": 8794,
    "start_time": "2022-01-02T12:13:16.738Z"
   },
   {
    "duration": 6,
    "start_time": "2022-01-02T12:13:58.873Z"
   },
   {
    "duration": 9175,
    "start_time": "2022-01-02T12:14:02.309Z"
   },
   {
    "duration": 3,
    "start_time": "2022-01-02T12:19:05.333Z"
   },
   {
    "duration": 8,
    "start_time": "2022-01-02T12:19:05.338Z"
   },
   {
    "duration": 14,
    "start_time": "2022-01-02T12:19:05.348Z"
   },
   {
    "duration": 5,
    "start_time": "2022-01-02T12:19:05.364Z"
   },
   {
    "duration": 41,
    "start_time": "2022-01-02T12:19:05.371Z"
   },
   {
    "duration": 4,
    "start_time": "2022-01-02T12:19:05.414Z"
   },
   {
    "duration": 7,
    "start_time": "2022-01-02T12:19:05.420Z"
   },
   {
    "duration": 12,
    "start_time": "2022-01-02T12:19:05.429Z"
   },
   {
    "duration": 16,
    "start_time": "2022-01-02T12:19:05.444Z"
   },
   {
    "duration": 9,
    "start_time": "2022-01-02T12:19:05.461Z"
   },
   {
    "duration": 10,
    "start_time": "2022-01-02T12:19:05.472Z"
   },
   {
    "duration": 17,
    "start_time": "2022-01-02T12:19:05.484Z"
   },
   {
    "duration": 7,
    "start_time": "2022-01-02T12:19:05.503Z"
   },
   {
    "duration": 54,
    "start_time": "2022-01-02T12:19:05.512Z"
   },
   {
    "duration": 345,
    "start_time": "2022-01-02T12:19:05.568Z"
   },
   {
    "duration": 3,
    "start_time": "2022-01-02T12:19:05.914Z"
   },
   {
    "duration": 6,
    "start_time": "2022-01-02T12:19:05.918Z"
   },
   {
    "duration": 122,
    "start_time": "2022-01-02T12:19:05.926Z"
   },
   {
    "duration": 100,
    "start_time": "2022-01-02T12:19:06.049Z"
   },
   {
    "duration": 97,
    "start_time": "2022-01-02T12:19:06.151Z"
   },
   {
    "duration": 101,
    "start_time": "2022-01-02T12:19:06.250Z"
   },
   {
    "duration": 16,
    "start_time": "2022-01-02T12:19:06.353Z"
   },
   {
    "duration": 20,
    "start_time": "2022-01-02T12:19:06.370Z"
   },
   {
    "duration": 13,
    "start_time": "2022-01-02T12:19:06.392Z"
   },
   {
    "duration": 8,
    "start_time": "2022-01-02T12:19:06.406Z"
   },
   {
    "duration": 8,
    "start_time": "2022-01-02T12:19:06.416Z"
   },
   {
    "duration": 8561,
    "start_time": "2022-01-02T12:19:06.426Z"
   },
   {
    "duration": 6,
    "start_time": "2022-01-02T12:19:40.168Z"
   },
   {
    "duration": 8627,
    "start_time": "2022-01-02T12:19:42.173Z"
   },
   {
    "duration": 8,
    "start_time": "2022-01-02T12:20:12.135Z"
   },
   {
    "duration": 8404,
    "start_time": "2022-01-02T12:21:01.808Z"
   },
   {
    "duration": 6,
    "start_time": "2022-01-02T12:22:18.573Z"
   },
   {
    "duration": 8924,
    "start_time": "2022-01-02T12:22:21.468Z"
   },
   {
    "duration": 4,
    "start_time": "2022-01-02T12:23:54.787Z"
   },
   {
    "duration": 6,
    "start_time": "2022-01-02T12:23:58.523Z"
   },
   {
    "duration": 10443,
    "start_time": "2022-01-02T12:24:01.393Z"
   },
   {
    "duration": 5,
    "start_time": "2022-01-02T12:24:33.668Z"
   },
   {
    "duration": 9162,
    "start_time": "2022-01-02T12:24:39.672Z"
   },
   {
    "duration": 4,
    "start_time": "2022-01-02T12:25:24.091Z"
   },
   {
    "duration": 8273,
    "start_time": "2022-01-02T12:25:27.445Z"
   },
   {
    "duration": 4,
    "start_time": "2022-01-02T12:26:19.016Z"
   },
   {
    "duration": 8443,
    "start_time": "2022-01-02T12:26:22.939Z"
   },
   {
    "duration": 4,
    "start_time": "2022-01-02T12:26:46.115Z"
   },
   {
    "duration": 8194,
    "start_time": "2022-01-02T12:26:49.495Z"
   },
   {
    "duration": 5,
    "start_time": "2022-01-02T12:27:37.376Z"
   },
   {
    "duration": 8556,
    "start_time": "2022-01-02T12:27:42.966Z"
   },
   {
    "duration": 4,
    "start_time": "2022-01-02T12:28:19.655Z"
   },
   {
    "duration": 8703,
    "start_time": "2022-01-02T12:28:23.339Z"
   },
   {
    "duration": 22308,
    "start_time": "2022-01-03T11:36:12.811Z"
   },
   {
    "duration": 3,
    "start_time": "2022-01-03T11:37:20.946Z"
   },
   {
    "duration": 1152,
    "start_time": "2022-01-03T11:37:20.951Z"
   },
   {
    "duration": 4,
    "start_time": "2022-01-03T11:37:22.105Z"
   },
   {
    "duration": 5,
    "start_time": "2022-01-03T11:37:22.111Z"
   },
   {
    "duration": 45,
    "start_time": "2022-01-03T11:37:22.118Z"
   },
   {
    "duration": 5,
    "start_time": "2022-01-03T11:37:22.165Z"
   },
   {
    "duration": 6,
    "start_time": "2022-01-03T11:37:22.172Z"
   },
   {
    "duration": 14,
    "start_time": "2022-01-03T11:37:22.179Z"
   },
   {
    "duration": 16,
    "start_time": "2022-01-03T11:37:22.196Z"
   },
   {
    "duration": 5,
    "start_time": "2022-01-03T11:37:22.214Z"
   },
   {
    "duration": 7,
    "start_time": "2022-01-03T11:37:22.221Z"
   },
   {
    "duration": 9,
    "start_time": "2022-01-03T11:37:22.229Z"
   },
   {
    "duration": 8,
    "start_time": "2022-01-03T11:37:22.240Z"
   },
   {
    "duration": 78,
    "start_time": "2022-01-03T11:37:22.249Z"
   },
   {
    "duration": 374,
    "start_time": "2022-01-03T11:37:22.329Z"
   },
   {
    "duration": 2,
    "start_time": "2022-01-03T11:37:22.705Z"
   },
   {
    "duration": 8,
    "start_time": "2022-01-03T11:37:22.709Z"
   },
   {
    "duration": 275,
    "start_time": "2022-01-03T11:37:22.718Z"
   },
   {
    "duration": 197,
    "start_time": "2022-01-03T11:37:22.995Z"
   },
   {
    "duration": 7,
    "start_time": "2022-01-03T11:37:23.194Z"
   },
   {
    "duration": 92,
    "start_time": "2022-01-03T11:37:23.204Z"
   },
   {
    "duration": 15,
    "start_time": "2022-01-03T11:37:23.298Z"
   },
   {
    "duration": 16,
    "start_time": "2022-01-03T11:37:23.314Z"
   },
   {
    "duration": 3,
    "start_time": "2022-01-03T11:37:23.332Z"
   },
   {
    "duration": 8,
    "start_time": "2022-01-03T11:37:23.337Z"
   },
   {
    "duration": 6,
    "start_time": "2022-01-03T11:37:23.346Z"
   },
   {
    "duration": 9089,
    "start_time": "2022-01-03T11:37:23.355Z"
   },
   {
    "duration": 4,
    "start_time": "2022-01-03T11:46:45.982Z"
   },
   {
    "duration": 8840,
    "start_time": "2022-01-03T11:46:55.653Z"
   },
   {
    "duration": 4,
    "start_time": "2022-01-03T11:48:45.872Z"
   },
   {
    "duration": 8366,
    "start_time": "2022-01-03T11:48:48.997Z"
   },
   {
    "duration": 4,
    "start_time": "2022-01-03T11:49:10.184Z"
   },
   {
    "duration": 8707,
    "start_time": "2022-01-03T11:49:13.559Z"
   },
   {
    "duration": 3,
    "start_time": "2022-01-03T12:56:52.719Z"
   },
   {
    "duration": 4,
    "start_time": "2022-01-03T12:56:52.728Z"
   },
   {
    "duration": 3,
    "start_time": "2022-01-03T12:56:52.760Z"
   },
   {
    "duration": 5,
    "start_time": "2022-01-03T12:56:52.765Z"
   },
   {
    "duration": 40,
    "start_time": "2022-01-03T12:56:52.772Z"
   },
   {
    "duration": 3,
    "start_time": "2022-01-03T12:56:52.814Z"
   },
   {
    "duration": 6,
    "start_time": "2022-01-03T12:56:52.819Z"
   },
   {
    "duration": 11,
    "start_time": "2022-01-03T12:56:52.827Z"
   },
   {
    "duration": 19,
    "start_time": "2022-01-03T12:56:52.840Z"
   },
   {
    "duration": 31,
    "start_time": "2022-01-03T12:56:52.861Z"
   },
   {
    "duration": 5,
    "start_time": "2022-01-03T12:56:52.894Z"
   },
   {
    "duration": 9,
    "start_time": "2022-01-03T12:56:52.901Z"
   },
   {
    "duration": 6,
    "start_time": "2022-01-03T12:56:52.912Z"
   },
   {
    "duration": 73,
    "start_time": "2022-01-03T12:56:52.920Z"
   },
   {
    "duration": 386,
    "start_time": "2022-01-03T12:56:52.996Z"
   },
   {
    "duration": 3,
    "start_time": "2022-01-03T12:56:53.391Z"
   },
   {
    "duration": 12,
    "start_time": "2022-01-03T12:56:53.396Z"
   },
   {
    "duration": 284,
    "start_time": "2022-01-03T12:56:53.409Z"
   },
   {
    "duration": 101,
    "start_time": "2022-01-03T12:56:53.695Z"
   },
   {
    "duration": 91,
    "start_time": "2022-01-03T12:56:53.802Z"
   },
   {
    "duration": 99,
    "start_time": "2022-01-03T12:56:53.896Z"
   },
   {
    "duration": 15,
    "start_time": "2022-01-03T12:56:53.997Z"
   },
   {
    "duration": 16,
    "start_time": "2022-01-03T12:56:54.014Z"
   },
   {
    "duration": 5,
    "start_time": "2022-01-03T12:56:54.032Z"
   },
   {
    "duration": 8,
    "start_time": "2022-01-03T12:56:54.038Z"
   },
   {
    "duration": 6,
    "start_time": "2022-01-03T12:56:54.048Z"
   },
   {
    "duration": 8860,
    "start_time": "2022-01-03T12:56:54.056Z"
   },
   {
    "duration": 4,
    "start_time": "2022-01-03T12:57:02.918Z"
   },
   {
    "duration": 8641,
    "start_time": "2022-01-03T12:57:02.924Z"
   },
   {
    "duration": 5,
    "start_time": "2022-01-03T13:11:01.375Z"
   },
   {
    "duration": 3,
    "start_time": "2022-01-03T13:14:59.803Z"
   },
   {
    "duration": 3,
    "start_time": "2022-01-03T13:16:25.115Z"
   },
   {
    "duration": 1097,
    "start_time": "2022-01-03T13:16:25.120Z"
   },
   {
    "duration": 4,
    "start_time": "2022-01-03T13:16:26.219Z"
   },
   {
    "duration": 4,
    "start_time": "2022-01-03T13:16:26.225Z"
   },
   {
    "duration": 41,
    "start_time": "2022-01-03T13:16:26.230Z"
   },
   {
    "duration": 4,
    "start_time": "2022-01-03T13:16:26.273Z"
   },
   {
    "duration": 5,
    "start_time": "2022-01-03T13:16:26.279Z"
   },
   {
    "duration": 7,
    "start_time": "2022-01-03T13:16:26.291Z"
   },
   {
    "duration": 15,
    "start_time": "2022-01-03T13:16:26.301Z"
   },
   {
    "duration": 5,
    "start_time": "2022-01-03T13:16:26.318Z"
   },
   {
    "duration": 6,
    "start_time": "2022-01-03T13:16:26.325Z"
   },
   {
    "duration": 7,
    "start_time": "2022-01-03T13:16:26.333Z"
   },
   {
    "duration": 6,
    "start_time": "2022-01-03T13:16:26.342Z"
   },
   {
    "duration": 74,
    "start_time": "2022-01-03T13:16:26.350Z"
   },
   {
    "duration": 370,
    "start_time": "2022-01-03T13:16:26.426Z"
   },
   {
    "duration": 2,
    "start_time": "2022-01-03T13:16:26.798Z"
   },
   {
    "duration": 6,
    "start_time": "2022-01-03T13:16:26.802Z"
   },
   {
    "duration": 284,
    "start_time": "2022-01-03T13:16:26.809Z"
   },
   {
    "duration": 10,
    "start_time": "2022-01-03T13:16:27.094Z"
   },
   {
    "duration": 86,
    "start_time": "2022-01-03T13:16:27.106Z"
   },
   {
    "duration": 99,
    "start_time": "2022-01-03T13:16:27.195Z"
   },
   {
    "duration": 13,
    "start_time": "2022-01-03T13:16:27.296Z"
   },
   {
    "duration": 15,
    "start_time": "2022-01-03T13:16:27.310Z"
   },
   {
    "duration": 5,
    "start_time": "2022-01-03T13:16:27.326Z"
   },
   {
    "duration": 5,
    "start_time": "2022-01-03T13:16:27.332Z"
   },
   {
    "duration": 7,
    "start_time": "2022-01-03T13:16:27.338Z"
   },
   {
    "duration": 9208,
    "start_time": "2022-01-03T13:16:27.349Z"
   },
   {
    "duration": 4,
    "start_time": "2022-01-03T13:16:36.559Z"
   },
   {
    "duration": 8788,
    "start_time": "2022-01-03T13:16:36.565Z"
   },
   {
    "duration": 4,
    "start_time": "2022-01-03T13:16:45.354Z"
   },
   {
    "duration": 21,
    "start_time": "2022-01-03T13:16:45.359Z"
   },
   {
    "duration": 5,
    "start_time": "2022-01-03T13:19:08.217Z"
   },
   {
    "duration": 4,
    "start_time": "2022-01-03T13:19:17.346Z"
   },
   {
    "duration": 588,
    "start_time": "2022-01-03T13:19:50.838Z"
   },
   {
    "duration": 195,
    "start_time": "2022-01-03T13:20:21.000Z"
   },
   {
    "duration": 4,
    "start_time": "2022-01-03T13:21:03.163Z"
   },
   {
    "duration": 5,
    "start_time": "2022-01-03T13:21:10.371Z"
   },
   {
    "duration": 4,
    "start_time": "2022-01-03T13:21:18.563Z"
   },
   {
    "duration": 12,
    "start_time": "2022-01-03T13:21:30.343Z"
   },
   {
    "duration": 4,
    "start_time": "2022-01-03T13:21:41.761Z"
   },
   {
    "duration": 4,
    "start_time": "2022-01-03T13:22:11.675Z"
   },
   {
    "duration": 3,
    "start_time": "2022-01-03T17:09:02.228Z"
   },
   {
    "duration": 1181,
    "start_time": "2022-01-03T17:09:02.233Z"
   },
   {
    "duration": 276,
    "start_time": "2022-01-03T17:09:03.416Z"
   },
   {
    "duration": 464,
    "start_time": "2022-01-03T17:09:03.231Z"
   },
   {
    "duration": 460,
    "start_time": "2022-01-03T17:09:03.236Z"
   },
   {
    "duration": 450,
    "start_time": "2022-01-03T17:09:03.247Z"
   },
   {
    "duration": 447,
    "start_time": "2022-01-03T17:09:03.251Z"
   },
   {
    "duration": 445,
    "start_time": "2022-01-03T17:09:03.254Z"
   },
   {
    "duration": 443,
    "start_time": "2022-01-03T17:09:03.257Z"
   },
   {
    "duration": 440,
    "start_time": "2022-01-03T17:09:03.261Z"
   },
   {
    "duration": 438,
    "start_time": "2022-01-03T17:09:03.264Z"
   },
   {
    "duration": 433,
    "start_time": "2022-01-03T17:09:03.270Z"
   },
   {
    "duration": 430,
    "start_time": "2022-01-03T17:09:03.274Z"
   },
   {
    "duration": 428,
    "start_time": "2022-01-03T17:09:03.277Z"
   },
   {
    "duration": 425,
    "start_time": "2022-01-03T17:09:03.281Z"
   },
   {
    "duration": 422,
    "start_time": "2022-01-03T17:09:03.285Z"
   },
   {
    "duration": 420,
    "start_time": "2022-01-03T17:09:03.288Z"
   },
   {
    "duration": 418,
    "start_time": "2022-01-03T17:09:03.291Z"
   },
   {
    "duration": 415,
    "start_time": "2022-01-03T17:09:03.295Z"
   },
   {
    "duration": 411,
    "start_time": "2022-01-03T17:09:03.300Z"
   },
   {
    "duration": 408,
    "start_time": "2022-01-03T17:09:03.304Z"
   },
   {
    "duration": 404,
    "start_time": "2022-01-03T17:09:03.309Z"
   },
   {
    "duration": 402,
    "start_time": "2022-01-03T17:09:03.312Z"
   },
   {
    "duration": 398,
    "start_time": "2022-01-03T17:09:03.317Z"
   },
   {
    "duration": 395,
    "start_time": "2022-01-03T17:09:03.321Z"
   },
   {
    "duration": 394,
    "start_time": "2022-01-03T17:09:03.323Z"
   },
   {
    "duration": 383,
    "start_time": "2022-01-03T17:09:03.335Z"
   },
   {
    "duration": 380,
    "start_time": "2022-01-03T17:09:03.339Z"
   },
   {
    "duration": 378,
    "start_time": "2022-01-03T17:09:03.342Z"
   },
   {
    "duration": 375,
    "start_time": "2022-01-03T17:09:03.345Z"
   },
   {
    "duration": 374,
    "start_time": "2022-01-03T17:09:03.348Z"
   },
   {
    "duration": 373,
    "start_time": "2022-01-03T17:09:03.350Z"
   },
   {
    "duration": 371,
    "start_time": "2022-01-03T17:09:03.353Z"
   },
   {
    "duration": 368,
    "start_time": "2022-01-03T17:09:03.356Z"
   },
   {
    "duration": 38470,
    "start_time": "2022-01-03T17:09:26.284Z"
   },
   {
    "duration": 3,
    "start_time": "2022-01-03T17:10:28.203Z"
   },
   {
    "duration": 1124,
    "start_time": "2022-01-03T17:10:28.208Z"
   },
   {
    "duration": 4,
    "start_time": "2022-01-03T17:10:29.334Z"
   },
   {
    "duration": 9,
    "start_time": "2022-01-03T17:10:29.340Z"
   },
   {
    "duration": 47,
    "start_time": "2022-01-03T17:10:29.350Z"
   },
   {
    "duration": 4,
    "start_time": "2022-01-03T17:10:29.399Z"
   },
   {
    "duration": 5,
    "start_time": "2022-01-03T17:10:29.405Z"
   },
   {
    "duration": 10,
    "start_time": "2022-01-03T17:10:29.412Z"
   },
   {
    "duration": 16,
    "start_time": "2022-01-03T17:10:29.423Z"
   },
   {
    "duration": 4,
    "start_time": "2022-01-03T17:10:29.441Z"
   },
   {
    "duration": 8,
    "start_time": "2022-01-03T17:10:29.447Z"
   },
   {
    "duration": 11,
    "start_time": "2022-01-03T17:10:29.456Z"
   },
   {
    "duration": 7,
    "start_time": "2022-01-03T17:10:29.491Z"
   },
   {
    "duration": 39,
    "start_time": "2022-01-03T17:10:29.500Z"
   },
   {
    "duration": 377,
    "start_time": "2022-01-03T17:10:29.541Z"
   },
   {
    "duration": 2,
    "start_time": "2022-01-03T17:10:29.920Z"
   },
   {
    "duration": 6,
    "start_time": "2022-01-03T17:10:29.924Z"
   },
   {
    "duration": 268,
    "start_time": "2022-01-03T17:10:29.931Z"
   },
   {
    "duration": 93,
    "start_time": "2022-01-03T17:10:30.202Z"
   },
   {
    "duration": 96,
    "start_time": "2022-01-03T17:10:30.298Z"
   },
   {
    "duration": 97,
    "start_time": "2022-01-03T17:10:30.397Z"
   },
   {
    "duration": 16,
    "start_time": "2022-01-03T17:10:30.496Z"
   },
   {
    "duration": 19,
    "start_time": "2022-01-03T17:10:30.513Z"
   },
   {
    "duration": 4,
    "start_time": "2022-01-03T17:10:30.534Z"
   },
   {
    "duration": 9,
    "start_time": "2022-01-03T17:10:30.539Z"
   },
   {
    "duration": 6,
    "start_time": "2022-01-03T17:10:30.549Z"
   },
   {
    "duration": 8899,
    "start_time": "2022-01-03T17:10:30.556Z"
   },
   {
    "duration": 3,
    "start_time": "2022-01-03T17:10:39.457Z"
   },
   {
    "duration": 8659,
    "start_time": "2022-01-03T17:10:39.461Z"
   },
   {
    "duration": 4,
    "start_time": "2022-01-03T17:10:48.122Z"
   },
   {
    "duration": 7,
    "start_time": "2022-01-03T17:10:48.127Z"
   },
   {
    "duration": 6,
    "start_time": "2022-01-03T17:10:48.136Z"
   },
   {
    "duration": 12,
    "start_time": "2022-01-03T17:10:48.144Z"
   },
   {
    "duration": 4,
    "start_time": "2022-01-03T17:10:48.157Z"
   },
   {
    "duration": 4,
    "start_time": "2022-01-03T17:16:34.942Z"
   },
   {
    "duration": 8648,
    "start_time": "2022-01-03T17:16:37.775Z"
   },
   {
    "duration": 65,
    "start_time": "2022-01-03T17:19:22.279Z"
   },
   {
    "duration": 340,
    "start_time": "2022-01-03T17:19:27.292Z"
   },
   {
    "duration": 174,
    "start_time": "2022-01-03T17:19:57.665Z"
   },
   {
    "duration": 177,
    "start_time": "2022-01-03T17:21:47.505Z"
   },
   {
    "duration": 4,
    "start_time": "2022-01-03T17:22:11.092Z"
   },
   {
    "duration": 8,
    "start_time": "2022-01-03T17:22:17.378Z"
   },
   {
    "duration": 4,
    "start_time": "2022-01-03T17:22:36.671Z"
   },
   {
    "duration": 10,
    "start_time": "2022-01-03T17:22:38.654Z"
   },
   {
    "duration": 5,
    "start_time": "2022-01-03T17:23:14.286Z"
   },
   {
    "duration": 8,
    "start_time": "2022-01-03T17:23:16.131Z"
   },
   {
    "duration": 5,
    "start_time": "2022-01-03T17:25:57.251Z"
   },
   {
    "duration": 9,
    "start_time": "2022-01-03T17:25:59.344Z"
   },
   {
    "duration": 6,
    "start_time": "2022-01-03T17:27:29.434Z"
   },
   {
    "duration": 8,
    "start_time": "2022-01-03T17:27:34.739Z"
   },
   {
    "duration": 5,
    "start_time": "2022-01-03T17:29:43.438Z"
   },
   {
    "duration": 8,
    "start_time": "2022-01-03T17:29:45.584Z"
   },
   {
    "duration": 5,
    "start_time": "2022-01-03T17:31:58.661Z"
   },
   {
    "duration": 8,
    "start_time": "2022-01-03T17:32:00.653Z"
   },
   {
    "duration": 5,
    "start_time": "2022-01-03T17:32:11.037Z"
   },
   {
    "duration": 8,
    "start_time": "2022-01-03T17:32:13.243Z"
   },
   {
    "duration": 710,
    "start_time": "2022-01-03T18:01:44.586Z"
   },
   {
    "duration": 796,
    "start_time": "2022-01-03T18:03:03.866Z"
   },
   {
    "duration": 341,
    "start_time": "2022-01-03T18:03:42.788Z"
   },
   {
    "duration": 440,
    "start_time": "2022-01-03T18:04:03.836Z"
   },
   {
    "duration": 848,
    "start_time": "2022-01-03T18:04:41.081Z"
   },
   {
    "duration": 832,
    "start_time": "2022-01-03T18:06:22.055Z"
   },
   {
    "duration": 509,
    "start_time": "2022-01-03T18:10:10.225Z"
   },
   {
    "duration": 424,
    "start_time": "2022-01-03T18:10:53.259Z"
   },
   {
    "duration": 537,
    "start_time": "2022-01-03T18:11:24.967Z"
   },
   {
    "duration": 623,
    "start_time": "2022-01-03T18:11:39.509Z"
   },
   {
    "duration": 502,
    "start_time": "2022-01-03T18:11:52.131Z"
   },
   {
    "duration": 813,
    "start_time": "2022-01-03T18:12:47.518Z"
   },
   {
    "duration": 625,
    "start_time": "2022-01-03T18:13:14.388Z"
   },
   {
    "duration": 369,
    "start_time": "2022-01-03T18:13:34.997Z"
   },
   {
    "duration": 520,
    "start_time": "2022-01-03T18:13:45.192Z"
   },
   {
    "duration": 525,
    "start_time": "2022-01-03T18:13:50.173Z"
   },
   {
    "duration": 503,
    "start_time": "2022-01-03T18:13:58.775Z"
   },
   {
    "duration": 629,
    "start_time": "2022-01-03T18:15:09.778Z"
   },
   {
    "duration": 726,
    "start_time": "2022-01-03T18:15:45.731Z"
   },
   {
    "duration": 4,
    "start_time": "2022-01-03T18:16:03.465Z"
   },
   {
    "duration": 4,
    "start_time": "2022-01-03T18:16:18.342Z"
   },
   {
    "duration": 636,
    "start_time": "2022-01-03T18:17:23.501Z"
   },
   {
    "duration": 624,
    "start_time": "2022-01-03T18:19:24.805Z"
   },
   {
    "duration": 643,
    "start_time": "2022-01-03T18:19:33.768Z"
   },
   {
    "duration": 647,
    "start_time": "2022-01-03T18:19:39.837Z"
   },
   {
    "duration": 832,
    "start_time": "2022-01-03T18:19:50.190Z"
   },
   {
    "duration": 682,
    "start_time": "2022-01-03T18:19:59.634Z"
   },
   {
    "duration": 428,
    "start_time": "2022-01-03T18:20:16.931Z"
   },
   {
    "duration": 446,
    "start_time": "2022-01-03T18:20:26.731Z"
   },
   {
    "duration": 434,
    "start_time": "2022-01-03T18:20:34.751Z"
   },
   {
    "duration": 824,
    "start_time": "2022-01-03T18:22:18.101Z"
   },
   {
    "duration": 438,
    "start_time": "2022-01-03T18:22:28.030Z"
   },
   {
    "duration": 446,
    "start_time": "2022-01-03T18:22:56.828Z"
   },
   {
    "duration": 432,
    "start_time": "2022-01-03T18:23:04.875Z"
   },
   {
    "duration": 857,
    "start_time": "2022-01-03T18:26:05.128Z"
   },
   {
    "duration": 1019,
    "start_time": "2022-01-03T18:27:01.655Z"
   },
   {
    "duration": 659,
    "start_time": "2022-01-03T18:27:37.934Z"
   },
   {
    "duration": 696,
    "start_time": "2022-01-03T18:28:10.970Z"
   },
   {
    "duration": 702,
    "start_time": "2022-01-03T18:28:26.121Z"
   },
   {
    "duration": 797,
    "start_time": "2022-01-03T18:28:37.231Z"
   },
   {
    "duration": 690,
    "start_time": "2022-01-03T18:28:46.623Z"
   },
   {
    "duration": 689,
    "start_time": "2022-01-03T18:29:36.676Z"
   },
   {
    "duration": 62,
    "start_time": "2022-01-03T18:31:25.530Z"
   },
   {
    "duration": 717,
    "start_time": "2022-01-03T18:31:32.517Z"
   },
   {
    "duration": 724,
    "start_time": "2022-01-03T18:33:45.448Z"
   },
   {
    "duration": 807,
    "start_time": "2022-01-03T18:33:54.690Z"
   },
   {
    "duration": 728,
    "start_time": "2022-01-03T18:34:06.039Z"
   },
   {
    "duration": 849,
    "start_time": "2022-01-03T18:34:12.442Z"
   },
   {
    "duration": 954,
    "start_time": "2022-01-03T18:34:16.568Z"
   },
   {
    "duration": 772,
    "start_time": "2022-01-03T18:34:34.868Z"
   },
   {
    "duration": 823,
    "start_time": "2022-01-03T18:35:18.919Z"
   },
   {
    "duration": 827,
    "start_time": "2022-01-03T18:38:03.618Z"
   },
   {
    "duration": 865,
    "start_time": "2022-01-03T18:38:17.878Z"
   },
   {
    "duration": 793,
    "start_time": "2022-01-03T18:38:56.598Z"
   },
   {
    "duration": 847,
    "start_time": "2022-01-03T18:39:14.240Z"
   },
   {
    "duration": 1053,
    "start_time": "2022-01-03T18:40:14.313Z"
   },
   {
    "duration": 4,
    "start_time": "2022-01-03T18:42:02.850Z"
   },
   {
    "duration": 727,
    "start_time": "2022-01-03T18:42:50.513Z"
   },
   {
    "duration": 730,
    "start_time": "2022-01-03T18:44:44.589Z"
   },
   {
    "duration": 687,
    "start_time": "2022-01-03T18:45:11.347Z"
   },
   {
    "duration": 680,
    "start_time": "2022-01-03T18:45:28.676Z"
   },
   {
    "duration": 697,
    "start_time": "2022-01-03T18:46:00.667Z"
   },
   {
    "duration": 694,
    "start_time": "2022-01-03T18:46:58.682Z"
   },
   {
    "duration": 5,
    "start_time": "2022-01-03T18:47:45.177Z"
   },
   {
    "duration": 963,
    "start_time": "2022-01-03T18:48:09.451Z"
   },
   {
    "duration": 888,
    "start_time": "2022-01-03T18:50:38.731Z"
   },
   {
    "duration": 899,
    "start_time": "2022-01-03T18:50:49.462Z"
   },
   {
    "duration": 721,
    "start_time": "2022-01-03T18:51:14.131Z"
   },
   {
    "duration": 713,
    "start_time": "2022-01-03T18:51:22.447Z"
   },
   {
    "duration": 473,
    "start_time": "2022-01-03T18:51:44.420Z"
   },
   {
    "duration": 723,
    "start_time": "2022-01-03T18:52:01.232Z"
   },
   {
    "duration": 530,
    "start_time": "2022-01-03T18:54:17.604Z"
   },
   {
    "duration": 522,
    "start_time": "2022-01-03T18:55:09.012Z"
   },
   {
    "duration": 522,
    "start_time": "2022-01-03T18:55:34.640Z"
   },
   {
    "duration": 518,
    "start_time": "2022-01-03T18:55:45.463Z"
   },
   {
    "duration": 553,
    "start_time": "2022-01-03T18:55:51.528Z"
   },
   {
    "duration": 519,
    "start_time": "2022-01-03T18:56:10.933Z"
   },
   {
    "duration": 518,
    "start_time": "2022-01-03T18:56:21.735Z"
   },
   {
    "duration": 545,
    "start_time": "2022-01-03T18:56:40.474Z"
   },
   {
    "duration": 845,
    "start_time": "2022-01-03T18:57:20.705Z"
   },
   {
    "duration": 644,
    "start_time": "2022-01-03T19:05:07.977Z"
   },
   {
    "duration": 623,
    "start_time": "2022-01-03T19:07:36.579Z"
   },
   {
    "duration": 659,
    "start_time": "2022-01-03T19:08:43.653Z"
   },
   {
    "duration": 636,
    "start_time": "2022-01-03T19:09:01.908Z"
   },
   {
    "duration": 673,
    "start_time": "2022-01-03T19:09:19.597Z"
   },
   {
    "duration": 947,
    "start_time": "2022-01-03T19:10:59.027Z"
   },
   {
    "duration": 1285,
    "start_time": "2022-01-03T19:11:07.461Z"
   },
   {
    "duration": 636,
    "start_time": "2022-01-03T19:11:12.936Z"
   },
   {
    "duration": 949,
    "start_time": "2022-01-03T19:13:39.753Z"
   },
   {
    "duration": 938,
    "start_time": "2022-01-03T19:14:18.086Z"
   },
   {
    "duration": 945,
    "start_time": "2022-01-03T19:17:29.978Z"
   },
   {
    "duration": 880,
    "start_time": "2022-01-03T19:18:00.840Z"
   },
   {
    "duration": 836,
    "start_time": "2022-01-03T19:18:16.466Z"
   },
   {
    "duration": 1150,
    "start_time": "2022-01-03T19:22:17.387Z"
   },
   {
    "duration": 921,
    "start_time": "2022-01-03T19:22:40.332Z"
   },
   {
    "duration": 887,
    "start_time": "2022-01-03T19:22:58.621Z"
   },
   {
    "duration": 905,
    "start_time": "2022-01-03T19:23:17.800Z"
   },
   {
    "duration": 884,
    "start_time": "2022-01-03T19:23:31.854Z"
   },
   {
    "duration": 878,
    "start_time": "2022-01-03T19:24:37.233Z"
   },
   {
    "duration": 894,
    "start_time": "2022-01-03T19:24:51.449Z"
   },
   {
    "duration": 878,
    "start_time": "2022-01-03T19:26:36.824Z"
   },
   {
    "duration": 876,
    "start_time": "2022-01-03T19:27:28.449Z"
   },
   {
    "duration": 3,
    "start_time": "2022-01-03T19:28:15.148Z"
   },
   {
    "duration": 6,
    "start_time": "2022-01-03T19:28:15.153Z"
   },
   {
    "duration": 5,
    "start_time": "2022-01-03T19:28:15.162Z"
   },
   {
    "duration": 4,
    "start_time": "2022-01-03T19:28:15.169Z"
   },
   {
    "duration": 39,
    "start_time": "2022-01-03T19:28:15.175Z"
   },
   {
    "duration": 5,
    "start_time": "2022-01-03T19:28:15.216Z"
   },
   {
    "duration": 6,
    "start_time": "2022-01-03T19:28:15.222Z"
   },
   {
    "duration": 9,
    "start_time": "2022-01-03T19:28:15.230Z"
   },
   {
    "duration": 16,
    "start_time": "2022-01-03T19:28:15.243Z"
   },
   {
    "duration": 5,
    "start_time": "2022-01-03T19:28:15.292Z"
   },
   {
    "duration": 7,
    "start_time": "2022-01-03T19:28:15.299Z"
   },
   {
    "duration": 8,
    "start_time": "2022-01-03T19:28:15.308Z"
   },
   {
    "duration": 8,
    "start_time": "2022-01-03T19:28:15.318Z"
   },
   {
    "duration": 71,
    "start_time": "2022-01-03T19:28:15.328Z"
   },
   {
    "duration": 386,
    "start_time": "2022-01-03T19:28:15.401Z"
   },
   {
    "duration": 3,
    "start_time": "2022-01-03T19:28:15.791Z"
   },
   {
    "duration": 15,
    "start_time": "2022-01-03T19:28:15.797Z"
   },
   {
    "duration": 278,
    "start_time": "2022-01-03T19:28:15.814Z"
   },
   {
    "duration": 17,
    "start_time": "2022-01-03T19:28:16.094Z"
   },
   {
    "duration": 7,
    "start_time": "2022-01-03T19:28:16.193Z"
   },
   {
    "duration": 8,
    "start_time": "2022-01-03T19:28:16.292Z"
   },
   {
    "duration": 13,
    "start_time": "2022-01-03T19:28:16.301Z"
   },
   {
    "duration": 16,
    "start_time": "2022-01-03T19:28:16.316Z"
   },
   {
    "duration": 3,
    "start_time": "2022-01-03T19:28:16.334Z"
   },
   {
    "duration": 5,
    "start_time": "2022-01-03T19:28:16.339Z"
   },
   {
    "duration": 6,
    "start_time": "2022-01-03T19:28:16.345Z"
   },
   {
    "duration": 8975,
    "start_time": "2022-01-03T19:28:16.354Z"
   },
   {
    "duration": 4,
    "start_time": "2022-01-03T19:28:25.331Z"
   },
   {
    "duration": 8373,
    "start_time": "2022-01-03T19:28:25.337Z"
   },
   {
    "duration": 4,
    "start_time": "2022-01-03T19:28:33.712Z"
   },
   {
    "duration": 10,
    "start_time": "2022-01-03T19:28:33.718Z"
   },
   {
    "duration": 865,
    "start_time": "2022-01-03T19:28:41.841Z"
   },
   {
    "duration": 848,
    "start_time": "2022-01-03T19:29:46.907Z"
   },
   {
    "duration": 1152,
    "start_time": "2022-01-03T19:30:39.422Z"
   },
   {
    "duration": 860,
    "start_time": "2022-01-03T19:30:51.664Z"
   },
   {
    "duration": 890,
    "start_time": "2022-01-03T19:32:06.184Z"
   },
   {
    "duration": 837,
    "start_time": "2022-01-03T19:32:12.029Z"
   },
   {
    "duration": 840,
    "start_time": "2022-01-03T19:32:34.243Z"
   },
   {
    "duration": 836,
    "start_time": "2022-01-03T19:34:23.372Z"
   },
   {
    "duration": 869,
    "start_time": "2022-01-03T19:35:17.013Z"
   },
   {
    "duration": 918,
    "start_time": "2022-01-03T19:35:34.960Z"
   },
   {
    "duration": 953,
    "start_time": "2022-01-03T19:35:58.113Z"
   },
   {
    "duration": 836,
    "start_time": "2022-01-03T19:36:47.513Z"
   },
   {
    "duration": 832,
    "start_time": "2022-01-03T19:37:55.441Z"
   },
   {
    "duration": 836,
    "start_time": "2022-01-03T19:38:06.332Z"
   },
   {
    "duration": 1214,
    "start_time": "2022-01-03T19:38:17.419Z"
   },
   {
    "duration": 892,
    "start_time": "2022-01-03T19:38:56.636Z"
   },
   {
    "duration": 861,
    "start_time": "2022-01-03T19:39:39.462Z"
   },
   {
    "duration": 870,
    "start_time": "2022-01-03T19:40:00.495Z"
   },
   {
    "duration": 849,
    "start_time": "2022-01-03T19:40:16.555Z"
   },
   {
    "duration": 877,
    "start_time": "2022-01-03T19:41:18.118Z"
   },
   {
    "duration": 848,
    "start_time": "2022-01-03T19:41:26.492Z"
   },
   {
    "duration": 834,
    "start_time": "2022-01-03T19:42:52.864Z"
   },
   {
    "duration": 825,
    "start_time": "2022-01-03T19:43:10.548Z"
   },
   {
    "duration": 841,
    "start_time": "2022-01-03T19:43:18.480Z"
   },
   {
    "duration": 839,
    "start_time": "2022-01-03T19:43:26.712Z"
   },
   {
    "duration": 825,
    "start_time": "2022-01-03T20:18:13.512Z"
   },
   {
    "duration": 866,
    "start_time": "2022-01-03T20:18:31.793Z"
   },
   {
    "duration": 1139,
    "start_time": "2022-01-03T20:18:37.819Z"
   },
   {
    "duration": 849,
    "start_time": "2022-01-03T20:18:54.773Z"
   },
   {
    "duration": 863,
    "start_time": "2022-01-03T20:19:02.000Z"
   },
   {
    "duration": 3,
    "start_time": "2022-01-03T20:21:15.408Z"
   },
   {
    "duration": 6,
    "start_time": "2022-01-03T20:21:15.412Z"
   },
   {
    "duration": 5,
    "start_time": "2022-01-03T20:21:15.420Z"
   },
   {
    "duration": 4,
    "start_time": "2022-01-03T20:21:15.427Z"
   },
   {
    "duration": 37,
    "start_time": "2022-01-03T20:21:15.433Z"
   },
   {
    "duration": 5,
    "start_time": "2022-01-03T20:21:15.472Z"
   },
   {
    "duration": 13,
    "start_time": "2022-01-03T20:21:15.480Z"
   },
   {
    "duration": 10,
    "start_time": "2022-01-03T20:21:15.495Z"
   },
   {
    "duration": 17,
    "start_time": "2022-01-03T20:21:15.507Z"
   },
   {
    "duration": 6,
    "start_time": "2022-01-03T20:21:15.526Z"
   },
   {
    "duration": 5,
    "start_time": "2022-01-03T20:21:15.534Z"
   },
   {
    "duration": 8,
    "start_time": "2022-01-03T20:21:15.541Z"
   },
   {
    "duration": 43,
    "start_time": "2022-01-03T20:21:15.550Z"
   },
   {
    "duration": 41,
    "start_time": "2022-01-03T20:21:15.594Z"
   },
   {
    "duration": 359,
    "start_time": "2022-01-03T20:21:15.637Z"
   },
   {
    "duration": 2,
    "start_time": "2022-01-03T20:21:15.998Z"
   },
   {
    "duration": 5,
    "start_time": "2022-01-03T20:21:16.002Z"
   },
   {
    "duration": 292,
    "start_time": "2022-01-03T20:21:16.008Z"
   },
   {
    "duration": 189,
    "start_time": "2022-01-03T20:21:16.302Z"
   },
   {
    "duration": 93,
    "start_time": "2022-01-03T20:21:16.500Z"
   },
   {
    "duration": 11,
    "start_time": "2022-01-03T20:21:16.595Z"
   },
   {
    "duration": 11,
    "start_time": "2022-01-03T20:21:16.608Z"
   },
   {
    "duration": 14,
    "start_time": "2022-01-03T20:21:16.621Z"
   },
   {
    "duration": 4,
    "start_time": "2022-01-03T20:21:16.636Z"
   },
   {
    "duration": 4,
    "start_time": "2022-01-03T20:21:16.642Z"
   },
   {
    "duration": 5,
    "start_time": "2022-01-03T20:21:16.648Z"
   },
   {
    "duration": 8964,
    "start_time": "2022-01-03T20:21:16.655Z"
   },
   {
    "duration": 4,
    "start_time": "2022-01-03T20:21:25.620Z"
   },
   {
    "duration": 8333,
    "start_time": "2022-01-03T20:21:25.626Z"
   },
   {
    "duration": 4,
    "start_time": "2022-01-03T20:21:33.961Z"
   },
   {
    "duration": 848,
    "start_time": "2022-01-03T20:21:33.967Z"
   },
   {
    "duration": 3,
    "start_time": "2022-01-03T20:22:08.315Z"
   },
   {
    "duration": 6,
    "start_time": "2022-01-03T20:22:08.320Z"
   },
   {
    "duration": 8,
    "start_time": "2022-01-03T20:22:08.328Z"
   },
   {
    "duration": 5,
    "start_time": "2022-01-03T20:22:08.337Z"
   },
   {
    "duration": 41,
    "start_time": "2022-01-03T20:22:08.343Z"
   },
   {
    "duration": 4,
    "start_time": "2022-01-03T20:22:08.386Z"
   },
   {
    "duration": 5,
    "start_time": "2022-01-03T20:22:08.392Z"
   },
   {
    "duration": 10,
    "start_time": "2022-01-03T20:22:08.398Z"
   },
   {
    "duration": 17,
    "start_time": "2022-01-03T20:22:08.411Z"
   },
   {
    "duration": 4,
    "start_time": "2022-01-03T20:22:08.430Z"
   },
   {
    "duration": 6,
    "start_time": "2022-01-03T20:22:08.436Z"
   },
   {
    "duration": 8,
    "start_time": "2022-01-03T20:22:08.444Z"
   },
   {
    "duration": 39,
    "start_time": "2022-01-03T20:22:08.453Z"
   },
   {
    "duration": 42,
    "start_time": "2022-01-03T20:22:08.493Z"
   },
   {
    "duration": 380,
    "start_time": "2022-01-03T20:22:08.537Z"
   },
   {
    "duration": 3,
    "start_time": "2022-01-03T20:22:08.919Z"
   },
   {
    "duration": 4,
    "start_time": "2022-01-03T20:22:08.925Z"
   },
   {
    "duration": 259,
    "start_time": "2022-01-03T20:22:08.931Z"
   },
   {
    "duration": 103,
    "start_time": "2022-01-03T20:22:09.193Z"
   },
   {
    "duration": 92,
    "start_time": "2022-01-03T20:22:09.302Z"
   },
   {
    "duration": 96,
    "start_time": "2022-01-03T20:22:09.401Z"
   },
   {
    "duration": 13,
    "start_time": "2022-01-03T20:22:09.499Z"
   },
   {
    "duration": 16,
    "start_time": "2022-01-03T20:22:09.513Z"
   },
   {
    "duration": 4,
    "start_time": "2022-01-03T20:22:09.530Z"
   },
   {
    "duration": 7,
    "start_time": "2022-01-03T20:22:09.536Z"
   },
   {
    "duration": 6,
    "start_time": "2022-01-03T20:22:09.544Z"
   },
   {
    "duration": 8964,
    "start_time": "2022-01-03T20:22:09.553Z"
   },
   {
    "duration": 3,
    "start_time": "2022-01-03T20:22:58.201Z"
   },
   {
    "duration": 6,
    "start_time": "2022-01-03T20:22:58.206Z"
   },
   {
    "duration": 6,
    "start_time": "2022-01-03T20:22:58.214Z"
   },
   {
    "duration": 4,
    "start_time": "2022-01-03T20:22:58.222Z"
   },
   {
    "duration": 39,
    "start_time": "2022-01-03T20:22:58.227Z"
   },
   {
    "duration": 23,
    "start_time": "2022-01-03T20:22:58.268Z"
   },
   {
    "duration": 9,
    "start_time": "2022-01-03T20:22:58.293Z"
   },
   {
    "duration": 8,
    "start_time": "2022-01-03T20:22:58.304Z"
   },
   {
    "duration": 21,
    "start_time": "2022-01-03T20:22:58.314Z"
   },
   {
    "duration": 4,
    "start_time": "2022-01-03T20:22:58.337Z"
   },
   {
    "duration": 9,
    "start_time": "2022-01-03T20:22:58.342Z"
   },
   {
    "duration": 9,
    "start_time": "2022-01-03T20:22:58.353Z"
   },
   {
    "duration": 7,
    "start_time": "2022-01-03T20:22:58.363Z"
   },
   {
    "duration": 39,
    "start_time": "2022-01-03T20:22:58.392Z"
   },
   {
    "duration": 375,
    "start_time": "2022-01-03T20:22:58.433Z"
   },
   {
    "duration": 2,
    "start_time": "2022-01-03T20:22:58.810Z"
   },
   {
    "duration": 5,
    "start_time": "2022-01-03T20:22:58.814Z"
   },
   {
    "duration": 173,
    "start_time": "2022-01-03T20:22:58.820Z"
   },
   {
    "duration": 103,
    "start_time": "2022-01-03T20:22:58.995Z"
   },
   {
    "duration": 92,
    "start_time": "2022-01-03T20:22:59.101Z"
   },
   {
    "duration": 97,
    "start_time": "2022-01-03T20:22:59.196Z"
   },
   {
    "duration": 12,
    "start_time": "2022-01-03T20:22:59.294Z"
   },
   {
    "duration": 16,
    "start_time": "2022-01-03T20:22:59.309Z"
   },
   {
    "duration": 6,
    "start_time": "2022-01-03T20:22:59.326Z"
   },
   {
    "duration": 7,
    "start_time": "2022-01-03T20:22:59.333Z"
   },
   {
    "duration": 6,
    "start_time": "2022-01-03T20:22:59.342Z"
   },
   {
    "duration": 9167,
    "start_time": "2022-01-03T20:22:59.350Z"
   },
   {
    "duration": 4,
    "start_time": "2022-01-03T20:23:08.519Z"
   },
   {
    "duration": 8590,
    "start_time": "2022-01-03T20:23:08.525Z"
   },
   {
    "duration": 5,
    "start_time": "2022-01-03T20:23:17.116Z"
   },
   {
    "duration": 856,
    "start_time": "2022-01-03T20:23:17.122Z"
   },
   {
    "duration": 3,
    "start_time": "2022-01-03T20:39:44.834Z"
   },
   {
    "duration": 5,
    "start_time": "2022-01-03T20:39:44.839Z"
   },
   {
    "duration": 10,
    "start_time": "2022-01-03T20:39:44.845Z"
   },
   {
    "duration": 5,
    "start_time": "2022-01-03T20:39:44.857Z"
   },
   {
    "duration": 45,
    "start_time": "2022-01-03T20:39:44.864Z"
   },
   {
    "duration": 5,
    "start_time": "2022-01-03T20:39:44.910Z"
   },
   {
    "duration": 9,
    "start_time": "2022-01-03T20:39:44.917Z"
   },
   {
    "duration": 8,
    "start_time": "2022-01-03T20:39:44.929Z"
   },
   {
    "duration": 51,
    "start_time": "2022-01-03T20:39:44.940Z"
   },
   {
    "duration": 6,
    "start_time": "2022-01-03T20:39:44.993Z"
   },
   {
    "duration": 18,
    "start_time": "2022-01-03T20:39:45.000Z"
   },
   {
    "duration": 13,
    "start_time": "2022-01-03T20:39:45.020Z"
   },
   {
    "duration": 7,
    "start_time": "2022-01-03T20:39:45.035Z"
   },
   {
    "duration": 51,
    "start_time": "2022-01-03T20:39:45.044Z"
   },
   {
    "duration": 378,
    "start_time": "2022-01-03T20:39:45.096Z"
   },
   {
    "duration": 3,
    "start_time": "2022-01-03T20:39:45.476Z"
   },
   {
    "duration": 12,
    "start_time": "2022-01-03T20:39:45.480Z"
   },
   {
    "duration": 298,
    "start_time": "2022-01-03T20:39:45.494Z"
   },
   {
    "duration": 102,
    "start_time": "2022-01-03T20:39:45.794Z"
   },
   {
    "duration": 97,
    "start_time": "2022-01-03T20:39:45.898Z"
   },
   {
    "duration": 95,
    "start_time": "2022-01-03T20:39:45.998Z"
   },
   {
    "duration": 13,
    "start_time": "2022-01-03T20:39:46.096Z"
   },
   {
    "duration": 15,
    "start_time": "2022-01-03T20:39:46.111Z"
   },
   {
    "duration": 3,
    "start_time": "2022-01-03T20:39:46.128Z"
   },
   {
    "duration": 7,
    "start_time": "2022-01-03T20:39:46.133Z"
   },
   {
    "duration": 6,
    "start_time": "2022-01-03T20:39:46.141Z"
   },
   {
    "duration": 9381,
    "start_time": "2022-01-03T20:39:46.148Z"
   },
   {
    "duration": 5,
    "start_time": "2022-01-03T20:39:55.530Z"
   },
   {
    "duration": 9039,
    "start_time": "2022-01-03T20:39:55.537Z"
   },
   {
    "duration": 13,
    "start_time": "2022-01-03T20:40:04.578Z"
   },
   {
    "duration": 877,
    "start_time": "2022-01-03T20:40:04.593Z"
   },
   {
    "duration": 4,
    "start_time": "2022-01-03T20:40:05.472Z"
   },
   {
    "duration": 17,
    "start_time": "2022-01-03T20:40:05.478Z"
   },
   {
    "duration": 8,
    "start_time": "2022-01-03T20:40:05.496Z"
   },
   {
    "duration": 13,
    "start_time": "2022-01-03T20:40:05.505Z"
   },
   {
    "duration": 9,
    "start_time": "2022-01-03T20:40:05.520Z"
   },
   {
    "duration": 18,
    "start_time": "2022-01-03T20:42:23.489Z"
   },
   {
    "duration": 5,
    "start_time": "2022-01-03T20:42:44.711Z"
   },
   {
    "duration": 62,
    "start_time": "2022-01-03T20:52:42.321Z"
   },
   {
    "duration": 49,
    "start_time": "2022-01-03T20:53:22.188Z"
   },
   {
    "duration": 41,
    "start_time": "2022-01-03T20:54:01.772Z"
   },
   {
    "duration": 15,
    "start_time": "2022-01-03T20:54:44.843Z"
   },
   {
    "duration": 16,
    "start_time": "2022-01-03T20:59:19.607Z"
   },
   {
    "duration": 13596,
    "start_time": "2022-01-03T22:41:46.157Z"
   },
   {
    "duration": 13543,
    "start_time": "2022-01-03T22:42:15.170Z"
   },
   {
    "duration": 13758,
    "start_time": "2022-01-03T22:43:23.756Z"
   },
   {
    "duration": 4290,
    "start_time": "2022-01-03T22:46:47.470Z"
   },
   {
    "duration": 873,
    "start_time": "2022-01-03T22:59:37.203Z"
   },
   {
    "duration": 958,
    "start_time": "2022-01-03T22:59:57.355Z"
   },
   {
    "duration": 916,
    "start_time": "2022-01-03T23:00:01.569Z"
   },
   {
    "duration": 1198,
    "start_time": "2022-01-03T23:00:54.550Z"
   },
   {
    "duration": 864,
    "start_time": "2022-01-03T23:01:38.795Z"
   },
   {
    "duration": 890,
    "start_time": "2022-01-03T23:03:06.195Z"
   },
   {
    "duration": 932,
    "start_time": "2022-01-03T23:06:02.096Z"
   },
   {
    "duration": 1077,
    "start_time": "2022-01-03T23:10:31.674Z"
   },
   {
    "duration": 872,
    "start_time": "2022-01-03T23:11:06.011Z"
   },
   {
    "duration": 953,
    "start_time": "2022-01-03T23:12:08.508Z"
   },
   {
    "duration": 874,
    "start_time": "2022-01-03T23:14:43.070Z"
   },
   {
    "duration": 876,
    "start_time": "2022-01-03T23:15:40.882Z"
   },
   {
    "duration": 1015,
    "start_time": "2022-01-03T23:16:05.483Z"
   },
   {
    "duration": 862,
    "start_time": "2022-01-03T23:16:14.822Z"
   },
   {
    "duration": 856,
    "start_time": "2022-01-03T23:16:41.237Z"
   },
   {
    "duration": 1182,
    "start_time": "2022-01-03T23:17:31.520Z"
   },
   {
    "duration": 880,
    "start_time": "2022-01-03T23:17:50.142Z"
   },
   {
    "duration": 1077,
    "start_time": "2022-01-03T23:18:37.274Z"
   },
   {
    "duration": 958,
    "start_time": "2022-01-03T23:19:06.312Z"
   },
   {
    "duration": 871,
    "start_time": "2022-01-03T23:19:14.992Z"
   },
   {
    "duration": 868,
    "start_time": "2022-01-03T23:19:33.317Z"
   },
   {
    "duration": 864,
    "start_time": "2022-01-03T23:19:48.607Z"
   },
   {
    "duration": 1025,
    "start_time": "2022-01-03T23:19:52.963Z"
   },
   {
    "duration": 1056,
    "start_time": "2022-01-03T23:20:00.458Z"
   },
   {
    "duration": 1170,
    "start_time": "2022-01-03T23:20:12.124Z"
   },
   {
    "duration": 1035,
    "start_time": "2022-01-03T23:20:25.358Z"
   },
   {
    "duration": 889,
    "start_time": "2022-01-03T23:22:23.569Z"
   },
   {
    "duration": 864,
    "start_time": "2022-01-03T23:22:38.243Z"
   },
   {
    "duration": 1210,
    "start_time": "2022-01-03T23:22:49.669Z"
   },
   {
    "duration": 918,
    "start_time": "2022-01-03T23:24:29.570Z"
   },
   {
    "duration": 877,
    "start_time": "2022-01-03T23:24:41.073Z"
   },
   {
    "duration": 951,
    "start_time": "2022-01-03T23:24:54.567Z"
   },
   {
    "duration": 903,
    "start_time": "2022-01-03T23:25:32.616Z"
   },
   {
    "duration": 877,
    "start_time": "2022-01-03T23:25:53.130Z"
   },
   {
    "duration": 852,
    "start_time": "2022-01-03T23:26:11.862Z"
   },
   {
    "duration": 864,
    "start_time": "2022-01-03T23:27:41.151Z"
   },
   {
    "duration": 889,
    "start_time": "2022-01-03T23:30:24.066Z"
   },
   {
    "duration": 866,
    "start_time": "2022-01-03T23:35:22.518Z"
   },
   {
    "duration": 852,
    "start_time": "2022-01-03T23:35:34.542Z"
   },
   {
    "duration": 4,
    "start_time": "2022-01-03T23:38:11.197Z"
   },
   {
    "duration": 959,
    "start_time": "2022-01-03T23:38:17.022Z"
   },
   {
    "duration": 1237,
    "start_time": "2022-01-03T23:39:13.144Z"
   },
   {
    "duration": 895,
    "start_time": "2022-01-03T23:41:52.109Z"
   },
   {
    "duration": 882,
    "start_time": "2022-01-03T23:42:13.743Z"
   },
   {
    "duration": 896,
    "start_time": "2022-01-03T23:42:27.421Z"
   },
   {
    "duration": 913,
    "start_time": "2022-01-03T23:43:06.589Z"
   },
   {
    "duration": 871,
    "start_time": "2022-01-03T23:46:01.867Z"
   },
   {
    "duration": 885,
    "start_time": "2022-01-03T23:47:24.686Z"
   },
   {
    "duration": 787,
    "start_time": "2022-01-03T23:51:55.301Z"
   },
   {
    "duration": 748,
    "start_time": "2022-01-03T23:52:20.254Z"
   },
   {
    "duration": 681,
    "start_time": "2022-01-03T23:52:27.223Z"
   },
   {
    "duration": 790,
    "start_time": "2022-01-03T23:52:41.199Z"
   },
   {
    "duration": 1079,
    "start_time": "2022-01-03T23:52:57.631Z"
   },
   {
    "duration": 754,
    "start_time": "2022-01-03T23:53:13.069Z"
   },
   {
    "duration": 929,
    "start_time": "2022-01-03T23:53:41.962Z"
   },
   {
    "duration": 942,
    "start_time": "2022-01-03T23:53:50.660Z"
   },
   {
    "duration": 928,
    "start_time": "2022-01-03T23:54:04.396Z"
   },
   {
    "duration": 753,
    "start_time": "2022-01-03T23:54:24.385Z"
   },
   {
    "duration": 845,
    "start_time": "2022-01-03T23:55:04.984Z"
   },
   {
    "duration": 807,
    "start_time": "2022-01-03T23:55:10.828Z"
   },
   {
    "duration": 815,
    "start_time": "2022-01-03T23:55:23.634Z"
   },
   {
    "duration": 787,
    "start_time": "2022-01-03T23:55:33.040Z"
   },
   {
    "duration": 826,
    "start_time": "2022-01-03T23:55:39.334Z"
   },
   {
    "duration": 880,
    "start_time": "2022-01-03T23:55:49.984Z"
   },
   {
    "duration": 1181,
    "start_time": "2022-01-03T23:55:56.596Z"
   },
   {
    "duration": 898,
    "start_time": "2022-01-03T23:56:04.588Z"
   },
   {
    "duration": 892,
    "start_time": "2022-01-03T23:56:18.780Z"
   },
   {
    "duration": 901,
    "start_time": "2022-01-03T23:56:29.041Z"
   },
   {
    "duration": 932,
    "start_time": "2022-01-03T23:56:39.438Z"
   },
   {
    "duration": 895,
    "start_time": "2022-01-03T23:56:49.991Z"
   },
   {
    "duration": 842,
    "start_time": "2022-01-03T23:56:57.056Z"
   },
   {
    "duration": 820,
    "start_time": "2022-01-03T23:57:06.748Z"
   },
   {
    "duration": 798,
    "start_time": "2022-01-03T23:57:17.353Z"
   },
   {
    "duration": 796,
    "start_time": "2022-01-03T23:57:29.484Z"
   },
   {
    "duration": 1142,
    "start_time": "2022-01-03T23:57:42.497Z"
   },
   {
    "duration": 813,
    "start_time": "2022-01-03T23:57:52.847Z"
   },
   {
    "duration": 870,
    "start_time": "2022-01-03T23:58:05.917Z"
   },
   {
    "duration": 716,
    "start_time": "2022-01-03T23:58:20.611Z"
   },
   {
    "duration": 689,
    "start_time": "2022-01-03T23:58:27.958Z"
   },
   {
    "duration": 711,
    "start_time": "2022-01-03T23:58:37.171Z"
   },
   {
    "duration": 704,
    "start_time": "2022-01-03T23:58:48.853Z"
   },
   {
    "duration": 704,
    "start_time": "2022-01-03T23:59:03.090Z"
   },
   {
    "duration": 795,
    "start_time": "2022-01-03T23:59:25.362Z"
   },
   {
    "duration": 781,
    "start_time": "2022-01-03T23:59:42.386Z"
   },
   {
    "duration": 808,
    "start_time": "2022-01-04T00:00:21.583Z"
   },
   {
    "duration": 3,
    "start_time": "2022-01-04T00:08:29.223Z"
   },
   {
    "duration": 6,
    "start_time": "2022-01-04T00:08:29.231Z"
   },
   {
    "duration": 7,
    "start_time": "2022-01-04T00:08:29.239Z"
   },
   {
    "duration": 4,
    "start_time": "2022-01-04T00:08:29.249Z"
   },
   {
    "duration": 35,
    "start_time": "2022-01-04T00:08:29.255Z"
   },
   {
    "duration": 5,
    "start_time": "2022-01-04T00:08:29.293Z"
   },
   {
    "duration": 4,
    "start_time": "2022-01-04T00:08:29.300Z"
   },
   {
    "duration": 9,
    "start_time": "2022-01-04T00:08:29.306Z"
   },
   {
    "duration": 17,
    "start_time": "2022-01-04T00:08:29.317Z"
   },
   {
    "duration": 5,
    "start_time": "2022-01-04T00:08:29.338Z"
   },
   {
    "duration": 47,
    "start_time": "2022-01-04T00:08:29.346Z"
   },
   {
    "duration": 10,
    "start_time": "2022-01-04T00:08:29.395Z"
   },
   {
    "duration": 10,
    "start_time": "2022-01-04T00:08:29.406Z"
   },
   {
    "duration": 42,
    "start_time": "2022-01-04T00:08:29.418Z"
   },
   {
    "duration": 381,
    "start_time": "2022-01-04T00:08:29.462Z"
   },
   {
    "duration": 3,
    "start_time": "2022-01-04T00:08:29.845Z"
   },
   {
    "duration": 5,
    "start_time": "2022-01-04T00:08:29.849Z"
   },
   {
    "duration": 138,
    "start_time": "2022-01-04T00:08:29.857Z"
   },
   {
    "duration": 100,
    "start_time": "2022-01-04T00:08:29.998Z"
   },
   {
    "duration": 93,
    "start_time": "2022-01-04T00:08:30.100Z"
   },
   {
    "duration": 97,
    "start_time": "2022-01-04T00:08:30.195Z"
   },
   {
    "duration": 13,
    "start_time": "2022-01-04T00:08:30.294Z"
   },
   {
    "duration": 20,
    "start_time": "2022-01-04T00:08:30.309Z"
   },
   {
    "duration": 6,
    "start_time": "2022-01-04T00:08:30.331Z"
   },
   {
    "duration": 17,
    "start_time": "2022-01-04T00:08:30.338Z"
   },
   {
    "duration": 10,
    "start_time": "2022-01-04T00:08:30.358Z"
   },
   {
    "duration": 8868,
    "start_time": "2022-01-04T00:08:30.369Z"
   },
   {
    "duration": 4,
    "start_time": "2022-01-04T00:08:39.241Z"
   },
   {
    "duration": 8729,
    "start_time": "2022-01-04T00:08:39.247Z"
   },
   {
    "duration": 5,
    "start_time": "2022-01-04T00:08:47.978Z"
   },
   {
    "duration": 1030,
    "start_time": "2022-01-04T00:08:47.991Z"
   },
   {
    "duration": 4,
    "start_time": "2022-01-04T00:08:49.022Z"
   },
   {
    "duration": 7,
    "start_time": "2022-01-04T00:08:49.028Z"
   },
   {
    "duration": 18,
    "start_time": "2022-01-04T00:08:49.036Z"
   },
   {
    "duration": 14,
    "start_time": "2022-01-04T00:08:49.055Z"
   },
   {
    "duration": 13506,
    "start_time": "2022-01-04T00:08:49.071Z"
   },
   {
    "duration": 3929,
    "start_time": "2022-01-04T00:09:02.579Z"
   },
   {
    "duration": 843,
    "start_time": "2022-01-04T00:09:06.509Z"
   },
   {
    "duration": 859,
    "start_time": "2022-01-04T00:11:37.924Z"
   },
   {
    "duration": 874,
    "start_time": "2022-01-04T00:11:48.076Z"
   },
   {
    "duration": 790,
    "start_time": "2022-01-04T00:11:58.771Z"
   },
   {
    "duration": 803,
    "start_time": "2022-01-04T00:12:06.068Z"
   },
   {
    "duration": 829,
    "start_time": "2022-01-04T00:12:15.353Z"
   },
   {
    "duration": 786,
    "start_time": "2022-01-04T00:12:21.326Z"
   },
   {
    "duration": 888,
    "start_time": "2022-01-04T00:12:30.763Z"
   },
   {
    "duration": 790,
    "start_time": "2022-01-04T00:12:41.422Z"
   },
   {
    "duration": 4,
    "start_time": "2022-01-04T00:15:26.598Z"
   },
   {
    "duration": 8290,
    "start_time": "2022-01-04T00:15:31.481Z"
   },
   {
    "duration": 5,
    "start_time": "2022-01-04T00:16:15.624Z"
   },
   {
    "duration": 7,
    "start_time": "2022-01-04T00:16:20.160Z"
   },
   {
    "duration": 8864,
    "start_time": "2022-01-04T00:16:22.727Z"
   },
   {
    "duration": 3,
    "start_time": "2022-01-04T00:16:58.318Z"
   },
   {
    "duration": 6,
    "start_time": "2022-01-04T00:16:58.323Z"
   },
   {
    "duration": 7,
    "start_time": "2022-01-04T00:16:58.330Z"
   },
   {
    "duration": 4,
    "start_time": "2022-01-04T00:16:58.339Z"
   },
   {
    "duration": 36,
    "start_time": "2022-01-04T00:16:58.344Z"
   },
   {
    "duration": 4,
    "start_time": "2022-01-04T00:16:58.381Z"
   },
   {
    "duration": 7,
    "start_time": "2022-01-04T00:16:58.386Z"
   },
   {
    "duration": 8,
    "start_time": "2022-01-04T00:16:58.395Z"
   },
   {
    "duration": 15,
    "start_time": "2022-01-04T00:16:58.406Z"
   },
   {
    "duration": 4,
    "start_time": "2022-01-04T00:16:58.423Z"
   },
   {
    "duration": 7,
    "start_time": "2022-01-04T00:16:58.429Z"
   },
   {
    "duration": 7,
    "start_time": "2022-01-04T00:16:58.437Z"
   },
   {
    "duration": 6,
    "start_time": "2022-01-04T00:16:58.446Z"
   },
   {
    "duration": 64,
    "start_time": "2022-01-04T00:16:58.454Z"
   },
   {
    "duration": 362,
    "start_time": "2022-01-04T00:16:58.519Z"
   },
   {
    "duration": 2,
    "start_time": "2022-01-04T00:16:58.883Z"
   },
   {
    "duration": 6,
    "start_time": "2022-01-04T00:16:58.890Z"
   },
   {
    "duration": 395,
    "start_time": "2022-01-04T00:16:58.898Z"
   },
   {
    "duration": 10,
    "start_time": "2022-01-04T00:16:59.294Z"
   },
   {
    "duration": 99,
    "start_time": "2022-01-04T00:16:59.393Z"
   },
   {
    "duration": 8,
    "start_time": "2022-01-04T00:16:59.494Z"
   },
   {
    "duration": 12,
    "start_time": "2022-01-04T00:16:59.505Z"
   },
   {
    "duration": 15,
    "start_time": "2022-01-04T00:16:59.518Z"
   },
   {
    "duration": 4,
    "start_time": "2022-01-04T00:16:59.535Z"
   },
   {
    "duration": 6,
    "start_time": "2022-01-04T00:16:59.541Z"
   },
   {
    "duration": 42,
    "start_time": "2022-01-04T00:16:59.549Z"
   },
   {
    "duration": 8905,
    "start_time": "2022-01-04T00:16:59.593Z"
   },
   {
    "duration": 4,
    "start_time": "2022-01-04T00:17:08.500Z"
   },
   {
    "duration": 8376,
    "start_time": "2022-01-04T00:17:08.506Z"
   },
   {
    "duration": 668,
    "start_time": "2022-01-04T00:20:07.035Z"
   },
   {
    "duration": 3,
    "start_time": "2022-01-04T00:20:38.432Z"
   },
   {
    "duration": 5,
    "start_time": "2022-01-04T00:20:38.438Z"
   },
   {
    "duration": 7,
    "start_time": "2022-01-04T00:20:38.444Z"
   },
   {
    "duration": 4,
    "start_time": "2022-01-04T00:20:38.453Z"
   },
   {
    "duration": 38,
    "start_time": "2022-01-04T00:20:38.458Z"
   },
   {
    "duration": 4,
    "start_time": "2022-01-04T00:20:38.498Z"
   },
   {
    "duration": 5,
    "start_time": "2022-01-04T00:20:38.504Z"
   },
   {
    "duration": 10,
    "start_time": "2022-01-04T00:20:38.511Z"
   },
   {
    "duration": 358,
    "start_time": "2022-01-04T00:20:38.523Z"
   },
   {
    "duration": 5,
    "start_time": "2022-01-04T00:20:38.890Z"
   },
   {
    "duration": 7,
    "start_time": "2022-01-04T00:20:38.897Z"
   },
   {
    "duration": 10,
    "start_time": "2022-01-04T00:20:38.905Z"
   },
   {
    "duration": 7,
    "start_time": "2022-01-04T00:20:38.917Z"
   },
   {
    "duration": 39,
    "start_time": "2022-01-04T00:20:38.925Z"
   },
   {
    "duration": 379,
    "start_time": "2022-01-04T00:20:38.966Z"
   },
   {
    "duration": 2,
    "start_time": "2022-01-04T00:20:39.347Z"
   },
   {
    "duration": 9,
    "start_time": "2022-01-04T00:20:39.351Z"
   },
   {
    "duration": 332,
    "start_time": "2022-01-04T00:20:39.363Z"
   },
   {
    "duration": 193,
    "start_time": "2022-01-04T00:20:39.698Z"
   },
   {
    "duration": 98,
    "start_time": "2022-01-04T00:20:39.895Z"
   },
   {
    "duration": 8,
    "start_time": "2022-01-04T00:20:39.994Z"
   },
   {
    "duration": 17,
    "start_time": "2022-01-04T00:20:40.004Z"
   },
   {
    "duration": 15,
    "start_time": "2022-01-04T00:20:40.023Z"
   },
   {
    "duration": 4,
    "start_time": "2022-01-04T00:20:40.040Z"
   },
   {
    "duration": 9,
    "start_time": "2022-01-04T00:20:40.046Z"
   },
   {
    "duration": 6,
    "start_time": "2022-01-04T00:20:40.056Z"
   },
   {
    "duration": 9089,
    "start_time": "2022-01-04T00:20:40.091Z"
   },
   {
    "duration": 10,
    "start_time": "2022-01-04T00:20:49.182Z"
   },
   {
    "duration": 8461,
    "start_time": "2022-01-04T00:20:49.193Z"
   },
   {
    "duration": 674,
    "start_time": "2022-01-04T00:20:57.656Z"
   },
   {
    "duration": 3,
    "start_time": "2022-01-04T00:20:58.332Z"
   },
   {
    "duration": 33,
    "start_time": "2022-01-04T00:20:58.336Z"
   },
   {
    "duration": 31,
    "start_time": "2022-01-04T00:20:58.371Z"
   },
   {
    "duration": 13,
    "start_time": "2022-01-04T00:20:58.404Z"
   },
   {
    "duration": 13184,
    "start_time": "2022-01-04T00:20:58.418Z"
   },
   {
    "duration": 3958,
    "start_time": "2022-01-04T00:21:11.604Z"
   },
   {
    "duration": 841,
    "start_time": "2022-01-04T00:21:15.564Z"
   },
   {
    "duration": 829,
    "start_time": "2022-01-04T00:23:10.920Z"
   },
   {
    "duration": 681,
    "start_time": "2022-01-04T00:23:22.956Z"
   },
   {
    "duration": 4389,
    "start_time": "2022-01-04T13:16:30.518Z"
   },
   {
    "duration": 4,
    "start_time": "2022-01-04T13:17:00.900Z"
   },
   {
    "duration": 1560,
    "start_time": "2022-01-04T13:17:00.906Z"
   },
   {
    "duration": 5,
    "start_time": "2022-01-04T13:17:02.469Z"
   },
   {
    "duration": 7,
    "start_time": "2022-01-04T13:17:02.478Z"
   },
   {
    "duration": 57,
    "start_time": "2022-01-04T13:17:02.488Z"
   },
   {
    "duration": 6,
    "start_time": "2022-01-04T13:17:02.548Z"
   },
   {
    "duration": 4,
    "start_time": "2022-01-04T13:17:02.567Z"
   },
   {
    "duration": 16,
    "start_time": "2022-01-04T13:17:02.575Z"
   },
   {
    "duration": 26,
    "start_time": "2022-01-04T13:17:02.594Z"
   },
   {
    "duration": 7,
    "start_time": "2022-01-04T13:17:02.623Z"
   },
   {
    "duration": 9,
    "start_time": "2022-01-04T13:17:02.668Z"
   },
   {
    "duration": 37,
    "start_time": "2022-01-04T13:17:02.680Z"
   },
   {
    "duration": 20,
    "start_time": "2022-01-04T13:17:02.720Z"
   },
   {
    "duration": 72,
    "start_time": "2022-01-04T13:17:02.743Z"
   },
   {
    "duration": 586,
    "start_time": "2022-01-04T13:17:02.817Z"
   },
   {
    "duration": 4,
    "start_time": "2022-01-04T13:17:03.406Z"
   },
   {
    "duration": 8,
    "start_time": "2022-01-04T13:17:03.413Z"
   },
   {
    "duration": 345,
    "start_time": "2022-01-04T13:17:03.424Z"
   },
   {
    "duration": 103,
    "start_time": "2022-01-04T13:17:03.773Z"
   },
   {
    "duration": 187,
    "start_time": "2022-01-04T13:17:03.880Z"
   },
   {
    "duration": 11,
    "start_time": "2022-01-04T13:17:04.070Z"
   },
   {
    "duration": 18,
    "start_time": "2022-01-04T13:17:04.083Z"
   },
   {
    "duration": 65,
    "start_time": "2022-01-04T13:17:04.106Z"
   },
   {
    "duration": 5,
    "start_time": "2022-01-04T13:17:04.173Z"
   },
   {
    "duration": 7,
    "start_time": "2022-01-04T13:17:04.181Z"
   },
   {
    "duration": 9,
    "start_time": "2022-01-04T13:17:04.190Z"
   },
   {
    "duration": 14113,
    "start_time": "2022-01-04T13:17:04.202Z"
   },
   {
    "duration": 6,
    "start_time": "2022-01-04T13:17:18.317Z"
   },
   {
    "duration": 12923,
    "start_time": "2022-01-04T13:17:18.325Z"
   },
   {
    "duration": 1436,
    "start_time": "2022-01-04T13:17:31.252Z"
   },
   {
    "duration": 1565,
    "start_time": "2022-01-04T13:17:31.126Z"
   },
   {
    "duration": 1563,
    "start_time": "2022-01-04T13:17:31.129Z"
   },
   {
    "duration": 1556,
    "start_time": "2022-01-04T13:17:31.138Z"
   },
   {
    "duration": 1553,
    "start_time": "2022-01-04T13:17:31.142Z"
   },
   {
    "duration": 1551,
    "start_time": "2022-01-04T13:17:31.145Z"
   },
   {
    "duration": 1548,
    "start_time": "2022-01-04T13:17:31.149Z"
   },
   {
    "duration": 1547,
    "start_time": "2022-01-04T13:17:31.152Z"
   },
   {
    "duration": 1151,
    "start_time": "2022-01-04T13:18:32.122Z"
   },
   {
    "duration": 4,
    "start_time": "2022-01-04T13:18:45.582Z"
   },
   {
    "duration": 13,
    "start_time": "2022-01-04T13:18:45.588Z"
   },
   {
    "duration": 16,
    "start_time": "2022-01-04T13:18:45.604Z"
   },
   {
    "duration": 14,
    "start_time": "2022-01-04T13:18:45.623Z"
   },
   {
    "duration": 54,
    "start_time": "2022-01-04T13:18:45.639Z"
   },
   {
    "duration": 7,
    "start_time": "2022-01-04T13:18:45.695Z"
   },
   {
    "duration": 6,
    "start_time": "2022-01-04T13:18:45.705Z"
   },
   {
    "duration": 13,
    "start_time": "2022-01-04T13:18:45.714Z"
   },
   {
    "duration": 25,
    "start_time": "2022-01-04T13:18:45.766Z"
   },
   {
    "duration": 7,
    "start_time": "2022-01-04T13:18:45.793Z"
   },
   {
    "duration": 10,
    "start_time": "2022-01-04T13:18:45.802Z"
   },
   {
    "duration": 13,
    "start_time": "2022-01-04T13:18:45.814Z"
   },
   {
    "duration": 43,
    "start_time": "2022-01-04T13:18:45.829Z"
   },
   {
    "duration": 59,
    "start_time": "2022-01-04T13:18:45.874Z"
   },
   {
    "duration": 608,
    "start_time": "2022-01-04T13:18:45.936Z"
   },
   {
    "duration": 4,
    "start_time": "2022-01-04T13:18:46.546Z"
   },
   {
    "duration": 5,
    "start_time": "2022-01-04T13:18:46.568Z"
   },
   {
    "duration": 392,
    "start_time": "2022-01-04T13:18:46.575Z"
   },
   {
    "duration": 14,
    "start_time": "2022-01-04T13:18:46.972Z"
   },
   {
    "duration": 97,
    "start_time": "2022-01-04T13:18:47.075Z"
   },
   {
    "duration": 10,
    "start_time": "2022-01-04T13:18:47.174Z"
   },
   {
    "duration": 19,
    "start_time": "2022-01-04T13:18:47.186Z"
   },
   {
    "duration": 61,
    "start_time": "2022-01-04T13:18:47.208Z"
   },
   {
    "duration": 6,
    "start_time": "2022-01-04T13:18:47.271Z"
   },
   {
    "duration": 7,
    "start_time": "2022-01-04T13:18:47.280Z"
   },
   {
    "duration": 10,
    "start_time": "2022-01-04T13:18:47.289Z"
   },
   {
    "duration": 14262,
    "start_time": "2022-01-04T13:18:47.301Z"
   },
   {
    "duration": 9,
    "start_time": "2022-01-04T13:19:01.568Z"
   },
   {
    "duration": 13564,
    "start_time": "2022-01-04T13:19:01.580Z"
   },
   {
    "duration": 1141,
    "start_time": "2022-01-04T13:19:15.146Z"
   },
   {
    "duration": 6,
    "start_time": "2022-01-04T13:19:16.290Z"
   },
   {
    "duration": 10,
    "start_time": "2022-01-04T13:19:16.299Z"
   },
   {
    "duration": 56,
    "start_time": "2022-01-04T13:19:16.312Z"
   },
   {
    "duration": 24,
    "start_time": "2022-01-04T13:19:16.370Z"
   },
   {
    "duration": 21082,
    "start_time": "2022-01-04T13:19:16.397Z"
   },
   {
    "duration": 6192,
    "start_time": "2022-01-04T13:19:37.483Z"
   },
   {
    "duration": 1553,
    "start_time": "2022-01-04T13:19:43.677Z"
   },
   {
    "duration": 1453,
    "start_time": "2022-01-04T13:20:12.999Z"
   },
   {
    "duration": 3,
    "start_time": "2022-01-04T13:20:38.564Z"
   },
   {
    "duration": 10,
    "start_time": "2022-01-04T13:20:38.571Z"
   },
   {
    "duration": 10,
    "start_time": "2022-01-04T13:20:38.586Z"
   },
   {
    "duration": 8,
    "start_time": "2022-01-04T13:20:38.599Z"
   },
   {
    "duration": 93,
    "start_time": "2022-01-04T13:20:38.609Z"
   },
   {
    "duration": 8,
    "start_time": "2022-01-04T13:20:38.704Z"
   },
   {
    "duration": 7,
    "start_time": "2022-01-04T13:20:38.717Z"
   },
   {
    "duration": 46,
    "start_time": "2022-01-04T13:20:38.727Z"
   },
   {
    "duration": 26,
    "start_time": "2022-01-04T13:20:38.777Z"
   },
   {
    "duration": 9,
    "start_time": "2022-01-04T13:20:38.806Z"
   },
   {
    "duration": 12,
    "start_time": "2022-01-04T13:20:38.818Z"
   },
   {
    "duration": 15,
    "start_time": "2022-01-04T13:20:38.868Z"
   },
   {
    "duration": 11,
    "start_time": "2022-01-04T13:20:38.886Z"
   },
   {
    "duration": 86,
    "start_time": "2022-01-04T13:20:38.899Z"
   },
   {
    "duration": 615,
    "start_time": "2022-01-04T13:20:38.987Z"
   },
   {
    "duration": 3,
    "start_time": "2022-01-04T13:20:39.604Z"
   },
   {
    "duration": 10,
    "start_time": "2022-01-04T13:20:39.610Z"
   },
   {
    "duration": 248,
    "start_time": "2022-01-04T13:20:39.622Z"
   },
   {
    "duration": 13,
    "start_time": "2022-01-04T13:20:39.875Z"
   },
   {
    "duration": 184,
    "start_time": "2022-01-04T13:20:39.893Z"
   },
   {
    "duration": 10,
    "start_time": "2022-01-04T13:20:40.081Z"
   },
   {
    "duration": 23,
    "start_time": "2022-01-04T13:20:40.094Z"
   },
   {
    "duration": 57,
    "start_time": "2022-01-04T13:20:40.119Z"
   },
   {
    "duration": 7,
    "start_time": "2022-01-04T13:20:40.178Z"
   },
   {
    "duration": 17,
    "start_time": "2022-01-04T13:20:40.187Z"
   },
   {
    "duration": 10,
    "start_time": "2022-01-04T13:20:40.207Z"
   },
   {
    "duration": 14768,
    "start_time": "2022-01-04T13:20:40.219Z"
   },
   {
    "duration": 5,
    "start_time": "2022-01-04T13:20:54.990Z"
   },
   {
    "duration": 13990,
    "start_time": "2022-01-04T13:20:54.997Z"
   },
   {
    "duration": 1281,
    "start_time": "2022-01-04T13:21:08.991Z"
   },
   {
    "duration": 8,
    "start_time": "2022-01-04T13:21:10.275Z"
   },
   {
    "duration": 11,
    "start_time": "2022-01-04T13:21:10.286Z"
   },
   {
    "duration": 31,
    "start_time": "2022-01-04T13:21:10.300Z"
   },
   {
    "duration": 55,
    "start_time": "2022-01-04T13:21:10.333Z"
   },
   {
    "duration": 21178,
    "start_time": "2022-01-04T13:21:10.390Z"
   },
   {
    "duration": 6271,
    "start_time": "2022-01-04T13:21:31.571Z"
   },
   {
    "duration": 1364,
    "start_time": "2022-01-04T13:21:37.844Z"
   },
   {
    "duration": 10,
    "start_time": "2022-01-04T13:30:26.502Z"
   },
   {
    "duration": 455,
    "start_time": "2022-01-04T13:30:39.269Z"
   },
   {
    "duration": 4,
    "start_time": "2022-01-04T13:36:00.964Z"
   },
   {
    "duration": 1559,
    "start_time": "2022-01-04T13:36:00.971Z"
   },
   {
    "duration": 5,
    "start_time": "2022-01-04T13:36:02.533Z"
   },
   {
    "duration": 8,
    "start_time": "2022-01-04T13:36:02.541Z"
   },
   {
    "duration": 68,
    "start_time": "2022-01-04T13:36:02.552Z"
   },
   {
    "duration": 6,
    "start_time": "2022-01-04T13:36:02.622Z"
   },
   {
    "duration": 10,
    "start_time": "2022-01-04T13:36:02.631Z"
   },
   {
    "duration": 28,
    "start_time": "2022-01-04T13:36:02.644Z"
   },
   {
    "duration": 26,
    "start_time": "2022-01-04T13:36:02.675Z"
   },
   {
    "duration": 9,
    "start_time": "2022-01-04T13:36:02.703Z"
   },
   {
    "duration": 19,
    "start_time": "2022-01-04T13:36:02.714Z"
   },
   {
    "duration": 39,
    "start_time": "2022-01-04T13:36:02.735Z"
   },
   {
    "duration": 10,
    "start_time": "2022-01-04T13:36:02.776Z"
   },
   {
    "duration": 80,
    "start_time": "2022-01-04T13:36:02.789Z"
   },
   {
    "duration": 609,
    "start_time": "2022-01-04T13:36:02.872Z"
   },
   {
    "duration": 3,
    "start_time": "2022-01-04T13:36:03.484Z"
   },
   {
    "duration": 10,
    "start_time": "2022-01-04T13:36:03.490Z"
   },
   {
    "duration": 364,
    "start_time": "2022-01-04T13:36:03.503Z"
   },
   {
    "duration": 14,
    "start_time": "2022-01-04T13:36:03.870Z"
   },
   {
    "duration": 82,
    "start_time": "2022-01-04T13:36:03.887Z"
   },
   {
    "duration": 101,
    "start_time": "2022-01-04T13:36:03.973Z"
   },
   {
    "duration": 19,
    "start_time": "2022-01-04T13:36:04.076Z"
   },
   {
    "duration": 27,
    "start_time": "2022-01-04T13:36:04.099Z"
   },
   {
    "duration": 43,
    "start_time": "2022-01-04T13:36:04.128Z"
   },
   {
    "duration": 13,
    "start_time": "2022-01-04T13:36:04.173Z"
   },
   {
    "duration": 10,
    "start_time": "2022-01-04T13:36:04.188Z"
   },
   {
    "duration": 14311,
    "start_time": "2022-01-04T13:36:04.200Z"
   },
   {
    "duration": 5,
    "start_time": "2022-01-04T13:36:18.514Z"
   },
   {
    "duration": 13595,
    "start_time": "2022-01-04T13:36:18.522Z"
   },
   {
    "duration": 1096,
    "start_time": "2022-01-04T13:36:32.120Z"
   },
   {
    "duration": 5,
    "start_time": "2022-01-04T13:36:33.219Z"
   },
   {
    "duration": 11,
    "start_time": "2022-01-04T13:36:33.226Z"
   },
   {
    "duration": 44,
    "start_time": "2022-01-04T13:36:33.240Z"
   },
   {
    "duration": 113,
    "start_time": "2022-01-04T13:36:33.286Z"
   },
   {
    "duration": 20666,
    "start_time": "2022-01-04T13:36:33.401Z"
   },
   {
    "duration": 6268,
    "start_time": "2022-01-04T13:36:54.069Z"
   },
   {
    "duration": 1363,
    "start_time": "2022-01-04T13:37:00.340Z"
   },
   {
    "duration": 97435,
    "start_time": "2022-01-04T13:37:57.135Z"
   },
   {
    "duration": 149281,
    "start_time": "2022-01-04T13:41:37.945Z"
   },
   {
    "duration": 6097,
    "start_time": "2022-01-04T13:46:08.674Z"
   },
   {
    "duration": 6118,
    "start_time": "2022-01-04T13:46:25.622Z"
   },
   {
    "duration": 60088,
    "start_time": "2022-01-04T13:46:44.807Z"
   },
   {
    "duration": 177577,
    "start_time": "2022-01-04T13:48:53.171Z"
   },
   {
    "duration": 53866,
    "start_time": "2022-01-04T13:52:37.153Z"
   },
   {
    "duration": 9,
    "start_time": "2022-01-04T13:55:26.281Z"
   },
   {
    "duration": 11149,
    "start_time": "2022-01-04T13:55:29.329Z"
   },
   {
    "duration": 10,
    "start_time": "2022-01-04T13:56:02.243Z"
   },
   {
    "duration": 16331,
    "start_time": "2022-01-04T13:56:05.041Z"
   },
   {
    "duration": 10460,
    "start_time": "2022-01-04T13:57:12.576Z"
   },
   {
    "duration": 16546,
    "start_time": "2022-01-04T13:57:52.532Z"
   },
   {
    "duration": 5119,
    "start_time": "2022-01-04T13:58:17.888Z"
   },
   {
    "duration": 1742,
    "start_time": "2022-01-04T13:58:38.180Z"
   },
   {
    "duration": 104771,
    "start_time": "2022-01-04T13:58:57.209Z"
   },
   {
    "duration": 119450,
    "start_time": "2022-01-04T14:01:45.138Z"
   },
   {
    "duration": 168333,
    "start_time": "2022-01-04T14:04:56.593Z"
   },
   {
    "duration": 38239,
    "start_time": "2022-01-04T14:08:42.841Z"
   },
   {
    "duration": 57466,
    "start_time": "2022-01-04T14:09:54.529Z"
   },
   {
    "duration": 57206,
    "start_time": "2022-01-04T14:11:09.670Z"
   },
   {
    "duration": 69295,
    "start_time": "2022-01-04T14:12:41.265Z"
   },
   {
    "duration": 58524,
    "start_time": "2022-01-04T14:14:26.456Z"
   },
   {
    "duration": 49530,
    "start_time": "2022-01-04T14:16:08.851Z"
   },
   {
    "duration": 57130,
    "start_time": "2022-01-04T14:17:25.770Z"
   },
   {
    "duration": 53453,
    "start_time": "2022-01-04T14:18:42.024Z"
   },
   {
    "duration": 50595,
    "start_time": "2022-01-04T14:20:08.281Z"
   },
   {
    "duration": 36396,
    "start_time": "2022-01-04T14:21:25.816Z"
   },
   {
    "duration": 674,
    "start_time": "2022-01-04T14:29:21.858Z"
   },
   {
    "duration": 1434,
    "start_time": "2022-01-04T14:31:14.064Z"
   },
   {
    "duration": 1445,
    "start_time": "2022-01-04T14:31:55.302Z"
   },
   {
    "duration": 40291,
    "start_time": "2022-01-04T14:32:52.094Z"
   },
   {
    "duration": 44600,
    "start_time": "2022-01-04T14:33:52.647Z"
   },
   {
    "duration": 1773,
    "start_time": "2022-01-04T14:34:45.529Z"
   },
   {
    "duration": 43856,
    "start_time": "2022-01-04T14:35:00.039Z"
   },
   {
    "duration": 1897,
    "start_time": "2022-01-04T14:35:51.063Z"
   },
   {
    "duration": 41772,
    "start_time": "2022-01-04T14:36:10.583Z"
   },
   {
    "duration": 1696,
    "start_time": "2022-01-04T14:36:59.746Z"
   },
   {
    "duration": 34955,
    "start_time": "2022-01-04T14:37:28.915Z"
   },
   {
    "duration": 1319,
    "start_time": "2022-01-04T14:38:10.711Z"
   },
   {
    "duration": 20984,
    "start_time": "2022-01-04T14:38:39.785Z"
   },
   {
    "duration": 1281,
    "start_time": "2022-01-04T14:39:10.119Z"
   },
   {
    "duration": 33140,
    "start_time": "2022-01-04T14:39:23.950Z"
   },
   {
    "duration": 1424,
    "start_time": "2022-01-04T14:40:04.796Z"
   },
   {
    "duration": 35718,
    "start_time": "2022-01-04T14:40:21.735Z"
   },
   {
    "duration": 1476,
    "start_time": "2022-01-04T14:41:02.791Z"
   },
   {
    "duration": 41064,
    "start_time": "2022-01-04T14:41:37.740Z"
   },
   {
    "duration": 1213,
    "start_time": "2022-01-04T14:43:18.159Z"
   },
   {
    "duration": 56529,
    "start_time": "2022-01-04T14:43:36.816Z"
   },
   {
    "duration": 1906,
    "start_time": "2022-01-04T14:44:40.014Z"
   },
   {
    "duration": 50653,
    "start_time": "2022-01-04T14:45:01.316Z"
   },
   {
    "duration": 1285,
    "start_time": "2022-01-04T14:45:57.516Z"
   },
   {
    "duration": 78123,
    "start_time": "2022-01-04T14:46:33.363Z"
   },
   {
    "duration": 2557,
    "start_time": "2022-01-04T14:47:58.043Z"
   },
   {
    "duration": 33365,
    "start_time": "2022-01-04T14:48:36.503Z"
   },
   {
    "duration": 1235,
    "start_time": "2022-01-04T14:49:15.932Z"
   },
   {
    "duration": 38123,
    "start_time": "2022-01-04T14:49:47.291Z"
   },
   {
    "duration": 1796,
    "start_time": "2022-01-04T14:50:39.050Z"
   },
   {
    "duration": 42988,
    "start_time": "2022-01-04T14:51:19.839Z"
   },
   {
    "duration": 1615,
    "start_time": "2022-01-04T14:53:45.665Z"
   },
   {
    "duration": 2720,
    "start_time": "2022-01-04T14:58:06.761Z"
   },
   {
    "duration": 1660,
    "start_time": "2022-01-04T14:58:34.026Z"
   },
   {
    "duration": 2048,
    "start_time": "2022-01-04T14:58:47.468Z"
   },
   {
    "duration": 1699,
    "start_time": "2022-01-04T14:59:04.219Z"
   },
   {
    "duration": 1706,
    "start_time": "2022-01-04T14:59:40.192Z"
   },
   {
    "duration": 9,
    "start_time": "2022-01-04T15:02:00.266Z"
   },
   {
    "duration": 1507,
    "start_time": "2022-01-04T15:02:09.519Z"
   },
   {
    "duration": 712,
    "start_time": "2022-01-04T15:02:41.025Z"
   },
   {
    "duration": 927,
    "start_time": "2022-01-04T15:05:00.463Z"
   },
   {
    "duration": 8,
    "start_time": "2022-01-04T15:05:15.122Z"
   },
   {
    "duration": 1646,
    "start_time": "2022-01-04T15:05:18.853Z"
   },
   {
    "duration": 9,
    "start_time": "2022-01-04T15:06:00.598Z"
   },
   {
    "duration": 1637,
    "start_time": "2022-01-04T15:06:06.173Z"
   },
   {
    "duration": 10,
    "start_time": "2022-01-04T15:06:16.136Z"
   },
   {
    "duration": 1548,
    "start_time": "2022-01-04T15:06:18.378Z"
   },
   {
    "duration": 9,
    "start_time": "2022-01-04T15:07:04.568Z"
   },
   {
    "duration": 1520,
    "start_time": "2022-01-04T15:07:06.712Z"
   },
   {
    "duration": 89,
    "start_time": "2022-01-04T15:08:45.720Z"
   },
   {
    "duration": 10,
    "start_time": "2022-01-04T15:09:02.332Z"
   },
   {
    "duration": 1570,
    "start_time": "2022-01-04T15:09:06.305Z"
   },
   {
    "duration": 9,
    "start_time": "2022-01-04T15:10:14.365Z"
   },
   {
    "duration": 11202,
    "start_time": "2022-01-04T15:10:16.635Z"
   },
   {
    "duration": 43098,
    "start_time": "2022-01-04T15:11:53.532Z"
   },
   {
    "duration": 1682,
    "start_time": "2022-01-04T15:12:46.350Z"
   },
   {
    "duration": 46647,
    "start_time": "2022-01-04T15:13:05.145Z"
   },
   {
    "duration": 1746,
    "start_time": "2022-01-04T15:13:58.596Z"
   },
   {
    "duration": 43153,
    "start_time": "2022-01-04T15:14:33.593Z"
   },
   {
    "duration": 1694,
    "start_time": "2022-01-04T15:15:25.917Z"
   },
   {
    "duration": 43743,
    "start_time": "2022-01-04T15:16:12.515Z"
   },
   {
    "duration": 1394,
    "start_time": "2022-01-04T15:17:06.202Z"
   },
   {
    "duration": 34676,
    "start_time": "2022-01-04T15:17:36.346Z"
   },
   {
    "duration": 1442,
    "start_time": "2022-01-04T15:18:20.533Z"
   },
   {
    "duration": 1515,
    "start_time": "2022-01-04T15:18:54.766Z"
   },
   {
    "duration": 34666,
    "start_time": "2022-01-04T15:19:08.931Z"
   },
   {
    "duration": 1578,
    "start_time": "2022-01-04T15:19:52.281Z"
   },
   {
    "duration": 34901,
    "start_time": "2022-01-04T15:20:53.715Z"
   },
   {
    "duration": 1521,
    "start_time": "2022-01-04T15:21:41.160Z"
   },
   {
    "duration": 37191,
    "start_time": "2022-01-04T15:21:59.151Z"
   },
   {
    "duration": 1722,
    "start_time": "2022-01-04T15:22:42.760Z"
   },
   {
    "duration": 37308,
    "start_time": "2022-01-04T15:23:01.935Z"
   },
   {
    "duration": 1633,
    "start_time": "2022-01-04T15:23:46.248Z"
   },
   {
    "duration": 37876,
    "start_time": "2022-01-04T15:24:17.867Z"
   },
   {
    "duration": 1689,
    "start_time": "2022-01-04T15:25:05.127Z"
   },
   {
    "duration": 37471,
    "start_time": "2022-01-04T15:25:22.517Z"
   },
   {
    "duration": 1463,
    "start_time": "2022-01-04T15:26:08.497Z"
   },
   {
    "duration": 35059,
    "start_time": "2022-01-04T15:26:21.329Z"
   },
   {
    "duration": 1426,
    "start_time": "2022-01-04T15:27:00.855Z"
   },
   {
    "duration": 35842,
    "start_time": "2022-01-04T15:27:30.697Z"
   },
   {
    "duration": 1323,
    "start_time": "2022-01-04T15:28:13.318Z"
   },
   {
    "duration": 36618,
    "start_time": "2022-01-04T15:28:38.966Z"
   },
   {
    "duration": 1759,
    "start_time": "2022-01-04T15:29:22.526Z"
   },
   {
    "duration": 34426,
    "start_time": "2022-01-04T15:29:46.846Z"
   },
   {
    "duration": 1422,
    "start_time": "2022-01-04T15:30:26.974Z"
   },
   {
    "duration": 7761,
    "start_time": "2022-01-04T15:35:14.994Z"
   },
   {
    "duration": 7710,
    "start_time": "2022-01-04T15:35:37.289Z"
   },
   {
    "duration": 8584,
    "start_time": "2022-01-04T15:35:52.144Z"
   },
   {
    "duration": 8170,
    "start_time": "2022-01-04T15:36:47.765Z"
   },
   {
    "duration": 7732,
    "start_time": "2022-01-04T15:39:08.760Z"
   },
   {
    "duration": 7994,
    "start_time": "2022-01-04T15:39:36.588Z"
   },
   {
    "duration": 7924,
    "start_time": "2022-01-04T15:40:01.469Z"
   },
   {
    "duration": 8271,
    "start_time": "2022-01-04T15:40:21.345Z"
   },
   {
    "duration": 7711,
    "start_time": "2022-01-04T15:40:49.653Z"
   },
   {
    "duration": 7729,
    "start_time": "2022-01-04T15:41:09.657Z"
   },
   {
    "duration": 7487,
    "start_time": "2022-01-04T15:41:32.065Z"
   },
   {
    "duration": 7697,
    "start_time": "2022-01-04T15:41:52.758Z"
   },
   {
    "duration": 7954,
    "start_time": "2022-01-04T15:42:13.569Z"
   },
   {
    "duration": 8899,
    "start_time": "2022-01-04T15:42:37.610Z"
   },
   {
    "duration": 8222,
    "start_time": "2022-01-04T15:43:03.702Z"
   },
   {
    "duration": 8066,
    "start_time": "2022-01-04T15:43:42.490Z"
   },
   {
    "duration": 7881,
    "start_time": "2022-01-04T15:44:23.900Z"
   },
   {
    "duration": 7666,
    "start_time": "2022-01-04T15:45:48.310Z"
   },
   {
    "duration": 7707,
    "start_time": "2022-01-04T15:46:12.827Z"
   },
   {
    "duration": 7880,
    "start_time": "2022-01-04T15:47:35.536Z"
   },
   {
    "duration": 7692,
    "start_time": "2022-01-04T15:48:10.164Z"
   },
   {
    "duration": 7977,
    "start_time": "2022-01-04T15:48:29.452Z"
   },
   {
    "duration": 7885,
    "start_time": "2022-01-04T15:49:00.575Z"
   },
   {
    "duration": 7739,
    "start_time": "2022-01-04T15:49:20.801Z"
   },
   {
    "duration": 7705,
    "start_time": "2022-01-04T15:50:47.614Z"
   },
   {
    "duration": 7962,
    "start_time": "2022-01-04T15:51:08.130Z"
   },
   {
    "duration": 4755,
    "start_time": "2022-01-04T19:08:21.804Z"
   },
   {
    "duration": 4,
    "start_time": "2022-01-04T19:08:57.859Z"
   },
   {
    "duration": 1531,
    "start_time": "2022-01-04T19:08:57.866Z"
   },
   {
    "duration": 5,
    "start_time": "2022-01-04T19:08:59.401Z"
   },
   {
    "duration": 6,
    "start_time": "2022-01-04T19:08:59.409Z"
   },
   {
    "duration": 60,
    "start_time": "2022-01-04T19:08:59.418Z"
   },
   {
    "duration": 6,
    "start_time": "2022-01-04T19:08:59.480Z"
   },
   {
    "duration": 17,
    "start_time": "2022-01-04T19:08:59.488Z"
   },
   {
    "duration": 13,
    "start_time": "2022-01-04T19:08:59.507Z"
   },
   {
    "duration": 40,
    "start_time": "2022-01-04T19:08:59.524Z"
   },
   {
    "duration": 6,
    "start_time": "2022-01-04T19:08:59.568Z"
   },
   {
    "duration": 10,
    "start_time": "2022-01-04T19:08:59.576Z"
   },
   {
    "duration": 11,
    "start_time": "2022-01-04T19:08:59.588Z"
   },
   {
    "duration": 10,
    "start_time": "2022-01-04T19:08:59.601Z"
   },
   {
    "duration": 101,
    "start_time": "2022-01-04T19:08:59.613Z"
   },
   {
    "duration": 737,
    "start_time": "2022-01-04T19:08:59.716Z"
   },
   {
    "duration": 11,
    "start_time": "2022-01-04T19:09:00.460Z"
   },
   {
    "duration": 12,
    "start_time": "2022-01-04T19:09:00.478Z"
   },
   {
    "duration": 272,
    "start_time": "2022-01-04T19:09:00.494Z"
   },
   {
    "duration": 98,
    "start_time": "2022-01-04T19:09:00.769Z"
   },
   {
    "duration": 188,
    "start_time": "2022-01-04T19:09:00.871Z"
   },
   {
    "duration": 16,
    "start_time": "2022-01-04T19:09:01.062Z"
   },
   {
    "duration": 29,
    "start_time": "2022-01-04T19:09:01.081Z"
   },
   {
    "duration": 46,
    "start_time": "2022-01-04T19:09:01.113Z"
   },
   {
    "duration": 5,
    "start_time": "2022-01-04T19:09:01.163Z"
   },
   {
    "duration": 14,
    "start_time": "2022-01-04T19:09:01.171Z"
   },
   {
    "duration": 11,
    "start_time": "2022-01-04T19:09:01.188Z"
   },
   {
    "duration": 10759,
    "start_time": "2022-01-04T19:09:01.204Z"
   },
   {
    "duration": 6,
    "start_time": "2022-01-04T19:09:11.966Z"
   },
   {
    "duration": 9871,
    "start_time": "2022-01-04T19:09:11.974Z"
   },
   {
    "duration": 1093,
    "start_time": "2022-01-04T19:09:21.848Z"
   },
   {
    "duration": 5,
    "start_time": "2022-01-04T19:09:22.944Z"
   },
   {
    "duration": 10,
    "start_time": "2022-01-04T19:09:22.951Z"
   },
   {
    "duration": 25,
    "start_time": "2022-01-04T19:09:22.964Z"
   },
   {
    "duration": 112,
    "start_time": "2022-01-04T19:09:22.991Z"
   },
   {
    "duration": 15797,
    "start_time": "2022-01-04T19:09:23.106Z"
   },
   {
    "duration": 4633,
    "start_time": "2022-01-04T19:09:38.905Z"
   },
   {
    "duration": 1361,
    "start_time": "2022-01-04T19:09:43.541Z"
   },
   {
    "duration": 33370,
    "start_time": "2022-01-04T19:09:44.904Z"
   },
   {
    "duration": 1402,
    "start_time": "2022-01-04T19:10:18.277Z"
   },
   {
    "duration": 6,
    "start_time": "2022-01-04T19:10:19.682Z"
   },
   {
    "duration": 10078,
    "start_time": "2022-01-04T19:10:19.690Z"
   },
   {
    "duration": 122,
    "start_time": "2022-01-04T19:22:32.059Z"
   },
   {
    "duration": 169595,
    "start_time": "2022-01-04T19:24:30.522Z"
   },
   {
    "duration": 2864,
    "start_time": "2022-01-04T19:28:42.213Z"
   },
   {
    "duration": 35786,
    "start_time": "2022-01-04T19:29:24.814Z"
   },
   {
    "duration": 1351,
    "start_time": "2022-01-04T19:31:13.854Z"
   },
   {
    "duration": 68410,
    "start_time": "2022-01-04T19:32:54.373Z"
   },
   {
    "duration": 1356,
    "start_time": "2022-01-04T19:34:16.792Z"
   },
   {
    "duration": 78430,
    "start_time": "2022-01-04T19:34:42.220Z"
   },
   {
    "duration": 1947,
    "start_time": "2022-01-04T19:36:23.029Z"
   },
   {
    "duration": 128096,
    "start_time": "2022-01-04T19:36:48.867Z"
   },
   {
    "duration": 2930,
    "start_time": "2022-01-04T19:39:06.309Z"
   },
   {
    "duration": 128413,
    "start_time": "2022-01-04T19:40:11.741Z"
   },
   {
    "duration": 1446,
    "start_time": "2022-01-04T19:42:32.257Z"
   },
   {
    "duration": 52415,
    "start_time": "2022-01-04T19:43:18.904Z"
   },
   {
    "duration": 1481,
    "start_time": "2022-01-04T19:45:37.338Z"
   },
   {
    "duration": 48215,
    "start_time": "2022-01-04T19:45:55.475Z"
   },
   {
    "duration": 1334,
    "start_time": "2022-01-04T19:47:21.984Z"
   },
   {
    "duration": 49932,
    "start_time": "2022-01-04T19:47:45.222Z"
   },
   {
    "duration": 1393,
    "start_time": "2022-01-04T19:48:55.063Z"
   },
   {
    "duration": 133921,
    "start_time": "2022-01-04T19:49:20.480Z"
   },
   {
    "duration": 1569,
    "start_time": "2022-01-04T19:51:44.799Z"
   },
   {
    "duration": 6,
    "start_time": "2022-01-04T19:51:49.468Z"
   },
   {
    "duration": 7705,
    "start_time": "2022-01-04T19:51:53.215Z"
   },
   {
    "duration": 5,
    "start_time": "2022-01-04T19:52:18.875Z"
   },
   {
    "duration": 6,
    "start_time": "2022-01-04T19:52:27.978Z"
   },
   {
    "duration": 6,
    "start_time": "2022-01-04T19:52:50.491Z"
   },
   {
    "duration": 5,
    "start_time": "2022-01-04T19:53:26.971Z"
   },
   {
    "duration": 511,
    "start_time": "2022-01-04T19:53:42.641Z"
   },
   {
    "duration": 5,
    "start_time": "2022-01-04T19:53:47.617Z"
   },
   {
    "duration": 14,
    "start_time": "2022-01-04T19:54:14.621Z"
   },
   {
    "duration": 524,
    "start_time": "2022-01-04T19:54:17.713Z"
   },
   {
    "duration": 466,
    "start_time": "2022-01-04T19:54:33.718Z"
   },
   {
    "duration": 565,
    "start_time": "2022-01-04T19:54:46.284Z"
   },
   {
    "duration": 127,
    "start_time": "2022-01-04T20:03:25.260Z"
   },
   {
    "duration": 468,
    "start_time": "2022-01-04T20:04:53.120Z"
   },
   {
    "duration": 465,
    "start_time": "2022-01-04T20:04:59.265Z"
   },
   {
    "duration": 464,
    "start_time": "2022-01-04T20:05:12.369Z"
   },
   {
    "duration": 458,
    "start_time": "2022-01-04T20:05:22.889Z"
   },
   {
    "duration": 486,
    "start_time": "2022-01-04T20:05:30.640Z"
   },
   {
    "duration": 884,
    "start_time": "2022-01-04T20:09:59.552Z"
   },
   {
    "duration": 971,
    "start_time": "2022-01-04T20:10:12.743Z"
   },
   {
    "duration": 499,
    "start_time": "2022-01-04T20:11:41.818Z"
   },
   {
    "duration": 497,
    "start_time": "2022-01-04T20:12:11.470Z"
   },
   {
    "duration": 539,
    "start_time": "2022-01-04T20:13:09.553Z"
   },
   {
    "duration": 501,
    "start_time": "2022-01-04T20:13:39.000Z"
   },
   {
    "duration": 512,
    "start_time": "2022-01-04T20:13:48.472Z"
   },
   {
    "duration": 131053,
    "start_time": "2022-01-04T20:23:09.018Z"
   },
   {
    "duration": 128323,
    "start_time": "2022-01-04T20:27:09.408Z"
   },
   {
    "duration": 135906,
    "start_time": "2022-01-04T20:30:16.805Z"
   },
   {
    "duration": 133,
    "start_time": "2022-01-04T20:32:52.748Z"
   },
   {
    "duration": 131967,
    "start_time": "2022-01-04T20:33:01.410Z"
   },
   {
    "duration": 3632,
    "start_time": "2022-01-04T20:46:15.589Z"
   },
   {
    "duration": 4,
    "start_time": "2022-01-04T20:46:39.257Z"
   },
   {
    "duration": 1533,
    "start_time": "2022-01-04T20:46:39.263Z"
   },
   {
    "duration": 5,
    "start_time": "2022-01-04T20:46:40.799Z"
   },
   {
    "duration": 5,
    "start_time": "2022-01-04T20:46:40.807Z"
   },
   {
    "duration": 65,
    "start_time": "2022-01-04T20:46:40.814Z"
   },
   {
    "duration": 5,
    "start_time": "2022-01-04T20:46:40.882Z"
   },
   {
    "duration": 5,
    "start_time": "2022-01-04T20:46:40.890Z"
   },
   {
    "duration": 10,
    "start_time": "2022-01-04T20:46:40.898Z"
   },
   {
    "duration": 54,
    "start_time": "2022-01-04T20:46:40.911Z"
   },
   {
    "duration": 7,
    "start_time": "2022-01-04T20:46:40.967Z"
   },
   {
    "duration": 11,
    "start_time": "2022-01-04T20:46:40.976Z"
   },
   {
    "duration": 15,
    "start_time": "2022-01-04T20:46:40.989Z"
   },
   {
    "duration": 54,
    "start_time": "2022-01-04T20:46:41.007Z"
   },
   {
    "duration": 98,
    "start_time": "2022-01-04T20:46:41.064Z"
   },
   {
    "duration": 611,
    "start_time": "2022-01-04T20:46:41.165Z"
   },
   {
    "duration": 4,
    "start_time": "2022-01-04T20:46:41.778Z"
   },
   {
    "duration": 6,
    "start_time": "2022-01-04T20:46:41.784Z"
   },
   {
    "duration": 370,
    "start_time": "2022-01-04T20:46:41.792Z"
   },
   {
    "duration": 97,
    "start_time": "2022-01-04T20:46:42.166Z"
   },
   {
    "duration": 98,
    "start_time": "2022-01-04T20:46:42.267Z"
   },
   {
    "duration": 14,
    "start_time": "2022-01-04T20:46:42.368Z"
   },
   {
    "duration": 93,
    "start_time": "2022-01-04T20:46:42.385Z"
   },
   {
    "duration": 27,
    "start_time": "2022-01-04T20:46:42.484Z"
   },
   {
    "duration": 44,
    "start_time": "2022-01-04T20:46:42.515Z"
   },
   {
    "duration": 20,
    "start_time": "2022-01-04T20:46:42.562Z"
   },
   {
    "duration": 12,
    "start_time": "2022-01-04T20:46:42.584Z"
   },
   {
    "duration": 10463,
    "start_time": "2022-01-04T20:46:42.598Z"
   },
   {
    "duration": 7,
    "start_time": "2022-01-04T20:46:53.064Z"
   },
   {
    "duration": 10119,
    "start_time": "2022-01-04T20:46:53.074Z"
   },
   {
    "duration": 1096,
    "start_time": "2022-01-04T20:47:03.196Z"
   },
   {
    "duration": 5,
    "start_time": "2022-01-04T20:47:04.295Z"
   },
   {
    "duration": 9,
    "start_time": "2022-01-04T20:47:04.303Z"
   },
   {
    "duration": 48,
    "start_time": "2022-01-04T20:47:04.315Z"
   },
   {
    "duration": 94,
    "start_time": "2022-01-04T20:47:04.366Z"
   },
   {
    "duration": 15183,
    "start_time": "2022-01-04T20:47:04.463Z"
   },
   {
    "duration": 4617,
    "start_time": "2022-01-04T20:47:19.648Z"
   },
   {
    "duration": 1323,
    "start_time": "2022-01-04T20:47:24.269Z"
   },
   {
    "duration": 126851,
    "start_time": "2022-01-04T20:47:25.595Z"
   },
   {
    "duration": 1345,
    "start_time": "2022-01-04T20:49:32.448Z"
   },
   {
    "duration": 5,
    "start_time": "2022-01-04T20:49:33.796Z"
   },
   {
    "duration": 714,
    "start_time": "2022-01-04T20:49:33.804Z"
   },
   {
    "duration": 4,
    "start_time": "2022-01-04T21:07:12.795Z"
   },
   {
    "duration": 10,
    "start_time": "2022-01-04T21:07:12.802Z"
   },
   {
    "duration": 7,
    "start_time": "2022-01-04T21:07:12.817Z"
   },
   {
    "duration": 5,
    "start_time": "2022-01-04T21:07:12.827Z"
   },
   {
    "duration": 62,
    "start_time": "2022-01-04T21:07:12.835Z"
   },
   {
    "duration": 6,
    "start_time": "2022-01-04T21:07:12.900Z"
   },
   {
    "duration": 6,
    "start_time": "2022-01-04T21:07:12.909Z"
   },
   {
    "duration": 47,
    "start_time": "2022-01-04T21:07:12.918Z"
   },
   {
    "duration": 28,
    "start_time": "2022-01-04T21:07:12.971Z"
   },
   {
    "duration": 11,
    "start_time": "2022-01-04T21:07:13.002Z"
   },
   {
    "duration": 46,
    "start_time": "2022-01-04T21:07:13.015Z"
   },
   {
    "duration": 12,
    "start_time": "2022-01-04T21:07:13.064Z"
   },
   {
    "duration": 11,
    "start_time": "2022-01-04T21:07:13.079Z"
   },
   {
    "duration": 106,
    "start_time": "2022-01-04T21:07:13.093Z"
   },
   {
    "duration": 583,
    "start_time": "2022-01-04T21:07:13.202Z"
   },
   {
    "duration": 4,
    "start_time": "2022-01-04T21:07:13.789Z"
   },
   {
    "duration": 6,
    "start_time": "2022-01-04T21:07:13.796Z"
   },
   {
    "duration": 457,
    "start_time": "2022-01-04T21:07:13.805Z"
   },
   {
    "duration": 103,
    "start_time": "2022-01-04T21:07:14.265Z"
   },
   {
    "duration": 189,
    "start_time": "2022-01-04T21:07:14.372Z"
   },
   {
    "duration": 10,
    "start_time": "2022-01-04T21:07:14.564Z"
   },
   {
    "duration": 20,
    "start_time": "2022-01-04T21:07:14.577Z"
   },
   {
    "duration": 61,
    "start_time": "2022-01-04T21:07:14.599Z"
   },
   {
    "duration": 6,
    "start_time": "2022-01-04T21:07:14.662Z"
   },
   {
    "duration": 8,
    "start_time": "2022-01-04T21:07:14.671Z"
   },
   {
    "duration": 9,
    "start_time": "2022-01-04T21:07:14.681Z"
   },
   {
    "duration": 10382,
    "start_time": "2022-01-04T21:07:14.695Z"
   },
   {
    "duration": 6,
    "start_time": "2022-01-04T21:07:25.080Z"
   },
   {
    "duration": 10150,
    "start_time": "2022-01-04T21:07:25.089Z"
   },
   {
    "duration": 1306,
    "start_time": "2022-01-04T21:07:35.242Z"
   },
   {
    "duration": 9,
    "start_time": "2022-01-04T21:07:36.551Z"
   },
   {
    "duration": 9,
    "start_time": "2022-01-04T21:07:36.563Z"
   },
   {
    "duration": 25,
    "start_time": "2022-01-04T21:07:36.574Z"
   },
   {
    "duration": 22,
    "start_time": "2022-01-04T21:07:36.602Z"
   },
   {
    "duration": 15806,
    "start_time": "2022-01-04T21:07:36.627Z"
   },
   {
    "duration": 4555,
    "start_time": "2022-01-04T21:07:52.436Z"
   },
   {
    "duration": 1419,
    "start_time": "2022-01-04T21:07:56.994Z"
   },
   {
    "duration": 128581,
    "start_time": "2022-01-04T21:07:58.415Z"
   },
   {
    "duration": 1569,
    "start_time": "2022-01-04T21:10:06.998Z"
   },
   {
    "duration": 5,
    "start_time": "2022-01-04T21:10:08.570Z"
   },
   {
    "duration": 528,
    "start_time": "2022-01-04T21:10:08.577Z"
   },
   {
    "duration": 190,
    "start_time": "2022-01-05T10:41:54.255Z"
   },
   {
    "duration": 4826,
    "start_time": "2022-01-05T10:49:58.459Z"
   },
   {
    "duration": 5,
    "start_time": "2022-01-05T10:50:35.463Z"
   },
   {
    "duration": 1633,
    "start_time": "2022-01-05T10:50:35.471Z"
   },
   {
    "duration": 6,
    "start_time": "2022-01-05T10:50:37.107Z"
   },
   {
    "duration": 4,
    "start_time": "2022-01-05T10:50:37.116Z"
   },
   {
    "duration": 65,
    "start_time": "2022-01-05T10:50:37.123Z"
   },
   {
    "duration": 6,
    "start_time": "2022-01-05T10:50:37.190Z"
   },
   {
    "duration": 7,
    "start_time": "2022-01-05T10:50:37.198Z"
   },
   {
    "duration": 11,
    "start_time": "2022-01-05T10:50:37.209Z"
   },
   {
    "duration": 53,
    "start_time": "2022-01-05T10:50:37.223Z"
   },
   {
    "duration": 7,
    "start_time": "2022-01-05T10:50:37.279Z"
   },
   {
    "duration": 8,
    "start_time": "2022-01-05T10:50:37.288Z"
   },
   {
    "duration": 11,
    "start_time": "2022-01-05T10:50:37.299Z"
   },
   {
    "duration": 47,
    "start_time": "2022-01-05T10:50:37.312Z"
   },
   {
    "duration": 62,
    "start_time": "2022-01-05T10:50:37.362Z"
   },
   {
    "duration": 575,
    "start_time": "2022-01-05T10:50:37.426Z"
   },
   {
    "duration": 3,
    "start_time": "2022-01-05T10:50:38.004Z"
   },
   {
    "duration": 9,
    "start_time": "2022-01-05T10:50:38.009Z"
   },
   {
    "duration": 241,
    "start_time": "2022-01-05T10:50:38.020Z"
   },
   {
    "duration": 13,
    "start_time": "2022-01-05T10:50:38.264Z"
   },
   {
    "duration": 85,
    "start_time": "2022-01-05T10:50:38.280Z"
   },
   {
    "duration": 12,
    "start_time": "2022-01-05T10:50:38.459Z"
   },
   {
    "duration": 25,
    "start_time": "2022-01-05T10:50:38.473Z"
   },
   {
    "duration": 22,
    "start_time": "2022-01-05T10:50:38.503Z"
   },
   {
    "duration": 33,
    "start_time": "2022-01-05T10:50:38.528Z"
   },
   {
    "duration": 18,
    "start_time": "2022-01-05T10:50:38.564Z"
   },
   {
    "duration": 15,
    "start_time": "2022-01-05T10:50:38.585Z"
   },
   {
    "duration": 10344,
    "start_time": "2022-01-05T10:50:38.603Z"
   },
   {
    "duration": 6,
    "start_time": "2022-01-05T10:51:17.386Z"
   },
   {
    "duration": 9878,
    "start_time": "2022-01-05T10:51:22.160Z"
   },
   {
    "duration": 1047,
    "start_time": "2022-01-05T10:51:41.732Z"
   },
   {
    "duration": 6,
    "start_time": "2022-01-05T10:51:53.240Z"
   },
   {
    "duration": 6,
    "start_time": "2022-01-05T10:51:57.022Z"
   },
   {
    "duration": 25,
    "start_time": "2022-01-05T10:52:01.054Z"
   },
   {
    "duration": 81,
    "start_time": "2022-01-05T10:52:04.064Z"
   },
   {
    "duration": 3432,
    "start_time": "2022-01-05T10:52:38.961Z"
   },
   {
    "duration": 1636,
    "start_time": "2022-01-05T10:52:55.525Z"
   },
   {
    "duration": 1062,
    "start_time": "2022-01-05T11:01:17.214Z"
   },
   {
    "duration": 1168,
    "start_time": "2022-01-05T11:17:40.578Z"
   },
   {
    "duration": 128942,
    "start_time": "2022-01-05T11:17:48.320Z"
   },
   {
    "duration": 1343,
    "start_time": "2022-01-05T11:21:19.670Z"
   },
   {
    "duration": 6,
    "start_time": "2022-01-05T11:21:24.963Z"
   },
   {
    "duration": 501,
    "start_time": "2022-01-05T11:21:28.258Z"
   },
   {
    "duration": 3,
    "start_time": "2022-01-05T11:27:20.180Z"
   },
   {
    "duration": 10,
    "start_time": "2022-01-05T11:27:20.187Z"
   },
   {
    "duration": 9,
    "start_time": "2022-01-05T11:27:20.201Z"
   },
   {
    "duration": 5,
    "start_time": "2022-01-05T11:27:20.213Z"
   },
   {
    "duration": 66,
    "start_time": "2022-01-05T11:27:20.221Z"
   },
   {
    "duration": 6,
    "start_time": "2022-01-05T11:27:20.289Z"
   },
   {
    "duration": 6,
    "start_time": "2022-01-05T11:27:20.298Z"
   },
   {
    "duration": 11,
    "start_time": "2022-01-05T11:27:20.307Z"
   },
   {
    "duration": 25,
    "start_time": "2022-01-05T11:27:20.360Z"
   },
   {
    "duration": 7,
    "start_time": "2022-01-05T11:27:20.388Z"
   },
   {
    "duration": 17,
    "start_time": "2022-01-05T11:27:20.397Z"
   },
   {
    "duration": 14,
    "start_time": "2022-01-05T11:27:20.417Z"
   },
   {
    "duration": 11,
    "start_time": "2022-01-05T11:27:20.461Z"
   },
   {
    "duration": 57,
    "start_time": "2022-01-05T11:27:20.475Z"
   },
   {
    "duration": 582,
    "start_time": "2022-01-05T11:27:20.534Z"
   },
   {
    "duration": 4,
    "start_time": "2022-01-05T11:27:21.118Z"
   },
   {
    "duration": 7,
    "start_time": "2022-01-05T11:27:21.124Z"
   },
   {
    "duration": 330,
    "start_time": "2022-01-05T11:27:21.133Z"
   },
   {
    "duration": 97,
    "start_time": "2022-01-05T11:27:21.470Z"
   },
   {
    "duration": 90,
    "start_time": "2022-01-05T11:27:21.573Z"
   },
   {
    "duration": 103,
    "start_time": "2022-01-05T11:27:21.669Z"
   },
   {
    "duration": 20,
    "start_time": "2022-01-05T11:27:21.774Z"
   },
   {
    "duration": 25,
    "start_time": "2022-01-05T11:27:21.796Z"
   },
   {
    "duration": 39,
    "start_time": "2022-01-05T11:27:21.823Z"
   },
   {
    "duration": 10,
    "start_time": "2022-01-05T11:27:21.864Z"
   },
   {
    "duration": 9,
    "start_time": "2022-01-05T11:27:21.876Z"
   },
   {
    "duration": 10672,
    "start_time": "2022-01-05T11:27:21.888Z"
   },
   {
    "duration": 8,
    "start_time": "2022-01-05T11:27:32.563Z"
   },
   {
    "duration": 9747,
    "start_time": "2022-01-05T11:27:32.573Z"
   },
   {
    "duration": 1091,
    "start_time": "2022-01-05T11:27:42.322Z"
   },
   {
    "duration": 6,
    "start_time": "2022-01-05T11:27:43.415Z"
   },
   {
    "duration": 8,
    "start_time": "2022-01-05T11:27:43.423Z"
   },
   {
    "duration": 43,
    "start_time": "2022-01-05T11:27:43.434Z"
   },
   {
    "duration": 20,
    "start_time": "2022-01-05T11:27:43.480Z"
   },
   {
    "duration": 3507,
    "start_time": "2022-01-05T11:27:43.502Z"
   },
   {
    "duration": 1451,
    "start_time": "2022-01-05T11:27:47.012Z"
   },
   {
    "duration": 1159,
    "start_time": "2022-01-05T11:27:48.465Z"
   },
   {
    "duration": 131017,
    "start_time": "2022-01-05T11:27:49.626Z"
   },
   {
    "duration": 1485,
    "start_time": "2022-01-05T11:30:00.646Z"
   },
   {
    "duration": 5,
    "start_time": "2022-01-05T11:30:02.133Z"
   },
   {
    "duration": 528,
    "start_time": "2022-01-05T11:30:02.140Z"
   },
   {
    "duration": 1054,
    "start_time": "2022-01-05T11:31:32.219Z"
   }
  ],
  "kernelspec": {
   "display_name": "Python 3",
   "language": "python",
   "name": "python3"
  },
  "language_info": {
   "codemirror_mode": {
    "name": "ipython",
    "version": 3
   },
   "file_extension": ".py",
   "mimetype": "text/x-python",
   "name": "python",
   "nbconvert_exporter": "python",
   "pygments_lexer": "ipython3",
   "version": "3.7.11"
  },
  "toc": {
   "base_numbering": 1,
   "nav_menu": {},
   "number_sections": true,
   "sideBar": true,
   "skip_h1_title": true,
   "title_cell": "Содержание",
   "title_sidebar": "Contents",
   "toc_cell": true,
   "toc_position": {
    "height": "calc(100% - 180px)",
    "left": "10px",
    "top": "150px",
    "width": "264.6px"
   },
   "toc_section_display": true,
   "toc_window_display": false
  }
 },
 "nbformat": 4,
 "nbformat_minor": 2
}
